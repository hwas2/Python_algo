{
  "cells": [
    {
      "cell_type": "markdown",
      "metadata": {
        "id": "view-in-github",
        "colab_type": "text"
      },
      "source": [
        "<a href=\"https://colab.research.google.com/github/hwas2/Python_study/blob/master/5%EC%9D%BC%EC%B0%A8.ipynb\" target=\"_parent\"><img src=\"https://colab.research.google.com/assets/colab-badge.svg\" alt=\"Open In Colab\"/></a>"
      ]
    },
    {
      "cell_type": "markdown",
      "id": "d9f8b7b9",
      "metadata": {
        "id": "d9f8b7b9"
      },
      "source": [
        "함수 안에서 함수 밖의 변수를 변경하는 방법(첫번째)"
      ]
    },
    {
      "cell_type": "code",
      "execution_count": null,
      "id": "97ea29cb",
      "metadata": {
        "id": "97ea29cb"
      },
      "outputs": [],
      "source": [
        "a=1\n",
        "def vartest(b):\n",
        "    b=b+1\n",
        "    return b"
      ]
    },
    {
      "cell_type": "code",
      "execution_count": null,
      "id": "ad42f9c2",
      "metadata": {
        "id": "ad42f9c2",
        "outputId": "305513da-39da-4ecb-fbf0-86e44e481541"
      },
      "outputs": [
        {
          "data": {
            "text/plain": [
              "2"
            ]
          },
          "execution_count": 2,
          "metadata": {},
          "output_type": "execute_result"
        }
      ],
      "source": [
        "vartest(1)"
      ]
    },
    {
      "cell_type": "code",
      "execution_count": null,
      "id": "1ed6f6ec",
      "metadata": {
        "id": "1ed6f6ec",
        "outputId": "75e75b8d-79e8-4160-af00-994e88b10e83"
      },
      "outputs": [
        {
          "name": "stdout",
          "output_type": "stream",
          "text": [
            "2\n"
          ]
        }
      ],
      "source": [
        "a=vartest(1) #함수에서 나온 결과값으로 기존에 만든 전역 변수를 변경\n",
        "print(a)"
      ]
    },
    {
      "cell_type": "code",
      "execution_count": null,
      "id": "3fa8a69d",
      "metadata": {
        "id": "3fa8a69d",
        "outputId": "1b91f8c2-5312-42b5-9f78-1a02f99061c1"
      },
      "outputs": [
        {
          "name": "stdout",
          "output_type": "stream",
          "text": [
            "1\n",
            "2\n"
          ]
        }
      ],
      "source": [
        "a=1\n",
        "def vartest(a):\n",
        "    a=a+1\n",
        "    return a\n",
        "vartest(a)\n",
        "print(a)\n",
        "a=vartest(a)\n",
        "print(a)"
      ]
    },
    {
      "cell_type": "markdown",
      "id": "47c713ce",
      "metadata": {
        "id": "47c713ce"
      },
      "source": [
        "함수 안에서 함수 밖의 변수를 변경하는 방법(두번째 global)\n",
        "- 함수는 독립적으로 존재하는 것이 좋기 때문에 global은 사용하지 않는 편이 좋다"
      ]
    },
    {
      "cell_type": "code",
      "execution_count": null,
      "id": "f69b1c2c",
      "metadata": {
        "id": "f69b1c2c",
        "outputId": "2afe0214-a5ba-489e-9240-88ee351973ec"
      },
      "outputs": [
        {
          "name": "stdout",
          "output_type": "stream",
          "text": [
            "2\n"
          ]
        }
      ],
      "source": [
        "a=1\n",
        "def vartest():\n",
        "    global a\n",
        "    a=a+1\n",
        "vartest()\n",
        "print(a)"
      ]
    },
    {
      "cell_type": "markdown",
      "id": "60c7fa83",
      "metadata": {
        "id": "60c7fa83"
      },
      "source": [
        "함수 lambda\n",
        "- 람다 : 간단한 함수를 쉽게 선언하는 방법\n",
        "- 형식\n",
        " - lambda <매개변수>:<리턴값>"
      ]
    },
    {
      "cell_type": "markdown",
      "id": "131d5904",
      "metadata": {
        "id": "131d5904"
      },
      "source": [
        "함수 만들기(람다 사용X)"
      ]
    },
    {
      "cell_type": "code",
      "execution_count": null,
      "id": "4d70d9d4",
      "metadata": {
        "id": "4d70d9d4",
        "outputId": "70257126-e07f-4495-9fa0-fca9b3508e11"
      },
      "outputs": [
        {
          "name": "stdout",
          "output_type": "stream",
          "text": [
            "7\n"
          ]
        }
      ],
      "source": [
        "def sum(a,b):\n",
        "    return a+b\n",
        "print(sum(3,4))"
      ]
    },
    {
      "cell_type": "markdown",
      "id": "8d4d4357",
      "metadata": {
        "id": "8d4d4357"
      },
      "source": [
        "함수 만들기(람다 사용)"
      ]
    },
    {
      "cell_type": "code",
      "execution_count": null,
      "id": "efef456d",
      "metadata": {
        "id": "efef456d",
        "outputId": "67c9024a-3eaa-4a57-84e6-6df0ff68e9f6"
      },
      "outputs": [
        {
          "name": "stdout",
          "output_type": "stream",
          "text": [
            "7\n"
          ]
        }
      ],
      "source": [
        "sum=lambda a,b:a+b\n",
        "print(sum(3,4))"
      ]
    },
    {
      "cell_type": "markdown",
      "id": "4dde6747",
      "metadata": {
        "id": "4dde6747"
      },
      "source": [
        "람다를 이용해 리스트 내에 함수 만들기(함수명이 없음)"
      ]
    },
    {
      "cell_type": "code",
      "execution_count": null,
      "id": "c4032442",
      "metadata": {
        "id": "c4032442",
        "outputId": "248b7aee-f907-4c78-cf0a-78d723007c4b"
      },
      "outputs": [
        {
          "name": "stdout",
          "output_type": "stream",
          "text": [
            "[<function <lambda> at 0x000001F1799EC160>, <function <lambda> at 0x000001F1799EC670>]\n"
          ]
        }
      ],
      "source": [
        "myList=[lambda a,b:a+b, lambda a,b:a*b]\n",
        "print(myList)"
      ]
    },
    {
      "cell_type": "code",
      "execution_count": null,
      "id": "f0d87060",
      "metadata": {
        "id": "f0d87060",
        "outputId": "83261ee6-f673-44b5-8808-d45bcf4781eb"
      },
      "outputs": [
        {
          "name": "stdout",
          "output_type": "stream",
          "text": [
            "7\n",
            "12\n"
          ]
        }
      ],
      "source": [
        "print(myList[0](3,4))\n",
        "print(myList[1](3,4))"
      ]
    },
    {
      "cell_type": "markdown",
      "id": "9ae16778",
      "metadata": {
        "id": "9ae16778"
      },
      "source": [
        "- 람다를 이용하여 리스트 안에 함수를 만들 경우 함수명 필요X\n",
        "- 함수를 호출해서 사용하는 것이기 때문에 결과값이 리스트에 저장X\n",
        "\n",
        "#간단한 함수 생성 시 주로 사용"
      ]
    },
    {
      "cell_type": "markdown",
      "id": "0f544aa2",
      "metadata": {
        "id": "0f544aa2"
      },
      "source": [
        "# 파일 입출력"
      ]
    },
    {
      "cell_type": "markdown",
      "id": "52855738",
      "metadata": {
        "id": "52855738"
      },
      "source": [
        "파일 생성하기 예제"
      ]
    },
    {
      "cell_type": "code",
      "execution_count": null,
      "id": "26aed1d9",
      "metadata": {
        "id": "26aed1d9"
      },
      "outputs": [],
      "source": [
        "f=open(\"새파일.txt\", \"w\")\n",
        "f.close()\n",
        "#파이썬 폴더에 txt파일 생성됨"
      ]
    },
    {
      "cell_type": "markdown",
      "id": "87ddf75b",
      "metadata": {
        "id": "87ddf75b"
      },
      "source": [
        "파일 생성 후 내용 넣기 예제"
      ]
    },
    {
      "cell_type": "code",
      "execution_count": null,
      "id": "34823f03",
      "metadata": {
        "id": "34823f03"
      },
      "outputs": [],
      "source": [
        "f=open(\"새파일.txt\",\"w\")\n",
        "for i in range(1,11):\n",
        "    data=\"%d번째 줄입니다.\\n\" %i\n",
        "    f.write(data)\n",
        "f.close()"
      ]
    },
    {
      "cell_type": "markdown",
      "id": "8f8f4d1b",
      "metadata": {
        "id": "8f8f4d1b"
      },
      "source": [
        "readline() 함수를 사용하여 파일 첫번째 줄 읽기"
      ]
    },
    {
      "cell_type": "code",
      "execution_count": null,
      "id": "1d160296",
      "metadata": {
        "id": "1d160296",
        "outputId": "a571e040-3442-4b30-8b93-81e4e6204010"
      },
      "outputs": [
        {
          "name": "stdout",
          "output_type": "stream",
          "text": [
            "1번째 줄입니다.\n",
            "\n"
          ]
        }
      ],
      "source": [
        "f=open(\"새파일.txt\",\"r\")\n",
        "line=f.readline()\n",
        "print(line)\n",
        "f.close()"
      ]
    },
    {
      "cell_type": "markdown",
      "id": "6a4363a7",
      "metadata": {
        "id": "6a4363a7"
      },
      "source": [
        "폴더가 없을 경우 폴더를 생성하면서 파일을 만드는 방법"
      ]
    },
    {
      "cell_type": "code",
      "execution_count": null,
      "id": "65591501",
      "metadata": {
        "id": "65591501"
      },
      "outputs": [],
      "source": [
        "import os\n",
        "\n",
        "out_dir=\"새폴더\"\n",
        "if out_dir not in os.listdir():\n",
        "    os.mkdir(out_dir)\n",
        "    \n",
        "f=open(\"새폴더/새파일.txt\",\"w\")\n",
        "for i in range(1,11):\n",
        "    data=\"%d번째 줄입니다.\\n\" %i\n",
        "    f.write(data)\n",
        "f.close()    "
      ]
    },
    {
      "cell_type": "markdown",
      "id": "493f8c2e",
      "metadata": {
        "id": "493f8c2e"
      },
      "source": [
        "파일의 모든 내용 읽기 예제"
      ]
    },
    {
      "cell_type": "code",
      "execution_count": null,
      "id": "6a19686c",
      "metadata": {
        "id": "6a19686c",
        "outputId": "394df668-6bf5-4214-94e5-11ecc1c9dafa"
      },
      "outputs": [
        {
          "name": "stdout",
          "output_type": "stream",
          "text": [
            "1번째 줄입니다.\n",
            "\n",
            "2번째 줄입니다.\n",
            "\n",
            "3번째 줄입니다.\n",
            "\n",
            "4번째 줄입니다.\n",
            "\n",
            "5번째 줄입니다.\n",
            "\n",
            "6번째 줄입니다.\n",
            "\n",
            "7번째 줄입니다.\n",
            "\n",
            "8번째 줄입니다.\n",
            "\n",
            "9번째 줄입니다.\n",
            "\n",
            "10번째 줄입니다.\n",
            "\n"
          ]
        }
      ],
      "source": [
        "f=open(\"새파일.txt\",\"r\")\n",
        "while True:\n",
        "    line=f.readline()\n",
        "    if not line: break\n",
        "    print(line)\n",
        "f.close()"
      ]
    },
    {
      "cell_type": "code",
      "execution_count": null,
      "id": "fd03192a",
      "metadata": {
        "id": "fd03192a",
        "outputId": "cce2d76a-7736-4319-db8f-69f588179b24"
      },
      "outputs": [
        {
          "name": "stdout",
          "output_type": "stream",
          "text": [
            "1번째 줄입니다.\n",
            "\n",
            "2번째 줄입니다.\n",
            "\n",
            "3번째 줄입니다.\n",
            "\n",
            "4번째 줄입니다.\n",
            "\n",
            "5번째 줄입니다.\n",
            "\n",
            "6번째 줄입니다.\n",
            "\n",
            "7번째 줄입니다.\n",
            "\n",
            "8번째 줄입니다.\n",
            "\n",
            "9번째 줄입니다.\n",
            "\n",
            "10번째 줄입니다.\n",
            "\n"
          ]
        }
      ],
      "source": [
        "f=open(\"새파일.txt\",\"r\")\n",
        "lines=f.readlines()\n",
        "for line in lines:\n",
        "    print(line)\n",
        "f.close()"
      ]
    },
    {
      "cell_type": "markdown",
      "id": "07a1cadd",
      "metadata": {
        "id": "07a1cadd"
      },
      "source": [
        "- readline()함수는 호출될 때 파일에서 한 줄을 반환\n",
        "- readlines() 함수는 호출될 때 각 요소가 파일의 한줄인 목록 형식으로 파일의 모든 줄을 반환"
      ]
    },
    {
      "cell_type": "code",
      "execution_count": null,
      "id": "3276b892",
      "metadata": {
        "id": "3276b892",
        "outputId": "c2fe5662-3bd4-4217-ad0b-e242118c0509"
      },
      "outputs": [
        {
          "name": "stdout",
          "output_type": "stream",
          "text": [
            "['1번째 줄입니다.\\n', '2번째 줄입니다.\\n', '3번째 줄입니다.\\n', '4번째 줄입니다.\\n', '5번째 줄입니다.\\n', '6번째 줄입니다.\\n', '7번째 줄입니다.\\n', '8번째 줄입니다.\\n', '9번째 줄입니다.\\n', '10번째 줄입니다.\\n']\n",
            "1번째 줄입니다.\n",
            "\n",
            "2번째 줄입니다.\n",
            "\n",
            "3번째 줄입니다.\n",
            "\n",
            "4번째 줄입니다.\n",
            "\n",
            "5번째 줄입니다.\n",
            "\n",
            "6번째 줄입니다.\n",
            "\n",
            "7번째 줄입니다.\n",
            "\n",
            "8번째 줄입니다.\n",
            "\n",
            "9번째 줄입니다.\n",
            "\n",
            "10번째 줄입니다.\n",
            "\n"
          ]
        }
      ],
      "source": [
        "f=open(\"새파일.txt\",\"r\")\n",
        "lines=f.readlines()\n",
        "print(lines)\n",
        "for line in lines:\n",
        "    print(line)\n",
        "f.close()"
      ]
    },
    {
      "cell_type": "markdown",
      "id": "0c61d66d",
      "metadata": {
        "id": "0c61d66d"
      },
      "source": [
        "- 파이썬에서 데이터를 만들어서 파일에 쓸 경우 만들어진 최종 데이터를 파일에 씀\n",
        "- 다시 파일을 읽을 경우 파이썬에 맞춰 파일의 데이터가 보여지게 됨"
      ]
    },
    {
      "cell_type": "code",
      "execution_count": null,
      "id": "21adb9be",
      "metadata": {
        "id": "21adb9be",
        "outputId": "958178ef-a0b9-4648-93e8-1f8442791773"
      },
      "outputs": [
        {
          "name": "stdout",
          "output_type": "stream",
          "text": [
            "1번째 줄입니다.\n",
            "2번째 줄입니다.\n",
            "3번째 줄입니다.\n",
            "4번째 줄입니다.\n",
            "5번째 줄입니다.\n",
            "6번째 줄입니다.\n",
            "7번째 줄입니다.\n",
            "8번째 줄입니다.\n",
            "9번째 줄입니다.\n",
            "10번째 줄입니다.\n",
            "\n",
            "<class 'str'>\n"
          ]
        }
      ],
      "source": [
        "f=open(\"새파일.txt\",\"r\")\n",
        "data=f.read()\n",
        "print(data)\n",
        "print(type(data))\n",
        "f.close()"
      ]
    },
    {
      "cell_type": "markdown",
      "id": "446721a2",
      "metadata": {
        "id": "446721a2"
      },
      "source": [
        "- readline() 함수는 파일의 한 줄 관련 함수\n",
        " - 한 줄 읽고 나서 포인터가 다음 줄로 이동\n",
        "- readlines() 함수는 파일 내용 전체를 가져와 리스트로 반환\n",
        " - 각 줄은 문자열 형태로 리스트의 요소로 저장\n",
        "- read() 함수는 파일 내용 전체를 하나의 문자열로 반환"
      ]
    },
    {
      "cell_type": "markdown",
      "id": "5f5eb717",
      "metadata": {
        "id": "5f5eb717"
      },
      "source": [
        "파일 내용 추가하기 예제"
      ]
    },
    {
      "cell_type": "code",
      "execution_count": null,
      "id": "547e4d5a",
      "metadata": {
        "id": "547e4d5a"
      },
      "outputs": [],
      "source": [
        "f=open(\"새파일.txt\",\"a\")\n",
        "for i in range(11,20):\n",
        "    data = \"%d번째 줄입니다.\\n\" %i\n",
        "    f.write(data)\n",
        "f.close()"
      ]
    },
    {
      "cell_type": "code",
      "execution_count": null,
      "id": "7c289bbd",
      "metadata": {
        "id": "7c289bbd",
        "outputId": "e5d2cf69-8731-45b8-e3fd-45f13d6b1a13"
      },
      "outputs": [
        {
          "name": "stdout",
          "output_type": "stream",
          "text": [
            "1번째 줄입니다.\n",
            "2번째 줄입니다.\n",
            "3번째 줄입니다.\n",
            "4번째 줄입니다.\n",
            "5번째 줄입니다.\n",
            "6번째 줄입니다.\n",
            "7번째 줄입니다.\n",
            "8번째 줄입니다.\n",
            "9번째 줄입니다.\n",
            "10번째 줄입니다.\n",
            "11번째 줄입니다.12번째 줄입니다.13번째 줄입니다.14번째 줄입니다.15번째 줄입니다.16번째 줄입니다.17번째 줄입니다.18번째 줄입니다.19번째 줄입니다.11번째 줄입니다.\n",
            "12번째 줄입니다.\n",
            "13번째 줄입니다.\n",
            "14번째 줄입니다.\n",
            "15번째 줄입니다.\n",
            "16번째 줄입니다.\n",
            "17번째 줄입니다.\n",
            "18번째 줄입니다.\n",
            "19번째 줄입니다.\n",
            "11번째 줄입니다.\n",
            "12번째 줄입니다.\n",
            "13번째 줄입니다.\n",
            "14번째 줄입니다.\n",
            "15번째 줄입니다.\n",
            "16번째 줄입니다.\n",
            "17번째 줄입니다.\n",
            "18번째 줄입니다.\n",
            "19번째 줄입니다.\n",
            "\n"
          ]
        }
      ],
      "source": [
        "f=open(\"새파일.txt\",\"r\")\n",
        "data=f.read()\n",
        "print(data)\n",
        "f.close()"
      ]
    },
    {
      "cell_type": "markdown",
      "id": "a585879c",
      "metadata": {
        "id": "a585879c"
      },
      "source": [
        "with 문을 사용하여 파일 생성하기 예제"
      ]
    },
    {
      "cell_type": "code",
      "execution_count": null,
      "id": "b91ea415",
      "metadata": {
        "id": "b91ea415",
        "outputId": "4dcd4571-fc29-4191-9719-48c606410337"
      },
      "outputs": [
        {
          "name": "stdout",
          "output_type": "stream",
          "text": [
            "Life is too short, you need python\n"
          ]
        }
      ],
      "source": [
        "with open(\"foo.txt\",\"w\") as f:\n",
        "    f.write(\"Life is too short, you need python\")\n",
        "with open(\"foo.txt\",\"r\") as f:\n",
        "    data=f.read()\n",
        "    print(data)"
      ]
    },
    {
      "cell_type": "markdown",
      "id": "f27b91f0",
      "metadata": {
        "id": "f27b91f0"
      },
      "source": [
        "파일 라인 지우기 예제"
      ]
    },
    {
      "cell_type": "code",
      "execution_count": null,
      "id": "7dabf61b",
      "metadata": {
        "id": "7dabf61b"
      },
      "outputs": [],
      "source": [
        "f=open(\"새파일.txt\",\"r\")\n",
        "\n",
        "lines = f.readlines()\n",
        "f.close()\n",
        "\n",
        "del lines[10:]\n",
        "\n",
        "new_file=open(\"새파일_변경.txt\",\"w\")\n",
        "\n",
        "for line in lines:\n",
        "    new_file.write(line)\n",
        "    \n",
        "new_file.close()"
      ]
    },
    {
      "cell_type": "code",
      "execution_count": null,
      "id": "e1991d04",
      "metadata": {
        "id": "e1991d04",
        "outputId": "93b38180-f741-4c12-8bb8-bdce173bb420"
      },
      "outputs": [
        {
          "name": "stdout",
          "output_type": "stream",
          "text": [
            "1번째 줄입니다.\n",
            "2번째 줄입니다.\n",
            "3번째 줄입니다.\n",
            "4번째 줄입니다.\n",
            "5번째 줄입니다.\n",
            "6번째 줄입니다.\n",
            "7번째 줄입니다.\n",
            "8번째 줄입니다.\n",
            "9번째 줄입니다.\n",
            "10번째 줄입니다.\n",
            "\n"
          ]
        }
      ],
      "source": [
        "with open(\"새파일_변경.txt\",\"r\") as f:\n",
        "    data=f.read()\n",
        "    print(data)"
      ]
    },
    {
      "cell_type": "code",
      "execution_count": null,
      "id": "5139a5dc",
      "metadata": {
        "id": "5139a5dc",
        "outputId": "a45d75b9-e46f-47fc-f61a-3aeae49d7da7"
      },
      "outputs": [
        {
          "name": "stdout",
          "output_type": "stream",
          "text": [
            "1번째 줄입니다.\n",
            "2번째 줄입니다.\n",
            "3번째 줄입니다.\n",
            "4번째 줄입니다.\n",
            "5번째 줄입니다.\n",
            "6번째 줄입니다.\n",
            "7번째 줄입니다.\n",
            "8번째 줄입니다.\n",
            "9번째 줄입니다.\n",
            "10번째 줄입니다.\n",
            "11번째 줄입니다.12번째 줄입니다.13번째 줄입니다.14번째 줄입니다.15번째 줄입니다.16번째 줄입니다.17번째 줄입니다.18번째 줄입니다.19번째 줄입니다.11번째 줄입니다.\n",
            "12번째 줄입니다.\n",
            "13번째 줄입니다.\n",
            "14번째 줄입니다.\n",
            "15번째 줄입니다.\n",
            "16번째 줄입니다.\n",
            "17번째 줄입니다.\n",
            "18번째 줄입니다.\n",
            "19번째 줄입니다.\n",
            "11번째 줄입니다.\n",
            "12번째 줄입니다.\n",
            "13번째 줄입니다.\n",
            "14번째 줄입니다.\n",
            "15번째 줄입니다.\n",
            "16번째 줄입니다.\n",
            "17번째 줄입니다.\n",
            "18번째 줄입니다.\n",
            "19번째 줄입니다.\n",
            "\n"
          ]
        }
      ],
      "source": [
        "with open(\"새파일.txt\",\"r\") as f:\n",
        "    data=f.read()\n",
        "    print(data)"
      ]
    },
    {
      "cell_type": "markdown",
      "id": "1139aeaa",
      "metadata": {
        "id": "1139aeaa"
      },
      "source": [
        "# 클래스"
      ]
    },
    {
      "cell_type": "markdown",
      "id": "e833baf8",
      "metadata": {
        "id": "e833baf8"
      },
      "source": [
        "객체(object)\n",
        "- 파이썬에서는 객체(object)라는 단위로 메모리 위의 정보를 관리\n",
        "- 일단 메모리에 올라가면 객체"
      ]
    },
    {
      "cell_type": "code",
      "execution_count": null,
      "id": "5cc98599",
      "metadata": {
        "id": "5cc98599",
        "outputId": "4a77c3f9-03c9-46b2-d8f3-e93adba7b000"
      },
      "outputs": [
        {
          "name": "stdout",
          "output_type": "stream",
          "text": [
            "123\n"
          ]
        }
      ],
      "source": [
        "a=123\n",
        "print(a)"
      ]
    },
    {
      "cell_type": "code",
      "execution_count": null,
      "id": "3128d3e8",
      "metadata": {
        "id": "3128d3e8",
        "outputId": "6c75bf55-401a-4252-aa03-874b320bcc70"
      },
      "outputs": [
        {
          "name": "stdout",
          "output_type": "stream",
          "text": [
            "2136559081648\n"
          ]
        }
      ],
      "source": [
        "print(id(a))"
      ]
    },
    {
      "cell_type": "markdown",
      "id": "7ba84afc",
      "metadata": {
        "id": "7ba84afc"
      },
      "source": [
        "클래스(class)\n",
        "- 객체들의 집합"
      ]
    },
    {
      "cell_type": "markdown",
      "id": "872305d3",
      "metadata": {
        "id": "872305d3"
      },
      "source": [
        "클래스를 사용하는 이유(클래스 사용 전)"
      ]
    },
    {
      "cell_type": "code",
      "execution_count": null,
      "id": "11ab8789",
      "metadata": {
        "scrolled": true,
        "id": "11ab8789",
        "outputId": "76a0acd9-9603-44f1-a148-f5966b60682f"
      },
      "outputs": [
        {
          "name": "stdout",
          "output_type": "stream",
          "text": [
            "3\n",
            "7\n"
          ]
        }
      ],
      "source": [
        "result=0\n",
        "\n",
        "def add(num):\n",
        "    global result\n",
        "    result=num+result\n",
        "    return result\n",
        "print(add(3))\n",
        "print(add(4))"
      ]
    },
    {
      "cell_type": "code",
      "execution_count": null,
      "id": "e9cd2fd7",
      "metadata": {
        "id": "e9cd2fd7",
        "outputId": "6e1b6080-c4c6-4b59-cb89-f0d59e306153"
      },
      "outputs": [
        {
          "name": "stdout",
          "output_type": "stream",
          "text": [
            "3\n"
          ]
        }
      ],
      "source": [
        "result2=0\n",
        "\n",
        "def add2(num):\n",
        "    global result2\n",
        "    result2=num+result2\n",
        "    return result2\n",
        "print(add2(3))"
      ]
    },
    {
      "cell_type": "markdown",
      "id": "9fd617f1",
      "metadata": {
        "id": "9fd617f1"
      },
      "source": [
        "**138page 6번째 줄 글자 깨짐 -> 각**"
      ]
    },
    {
      "cell_type": "code",
      "execution_count": null,
      "id": "c2406adf",
      "metadata": {
        "id": "c2406adf"
      },
      "outputs": [],
      "source": [
        "result=0\n",
        "result2=0\n",
        "def add(num):\n",
        "    global result\n",
        "    result=num+result\n",
        "    return result\n",
        "def add2(num):\n",
        "    global result2\n",
        "    result2=num+result2\n",
        "    return result2"
      ]
    },
    {
      "cell_type": "markdown",
      "id": "1455c1e1",
      "metadata": {
        "id": "1455c1e1"
      },
      "source": [
        "- 더하기 계산이 필요할 때마다 새로운 함수를 생성해야 함\n",
        "\n",
        " - 코드를 재실행 할 때마다 함수들이 서로 형향을 받음\n",
        " - 결과값 초기화에 문제가 발생"
      ]
    },
    {
      "cell_type": "markdown",
      "id": "49070c7c",
      "metadata": {
        "id": "49070c7c"
      },
      "source": [
        "클래스 생성 이유\n",
        "- 클래스를 사용하여 객체를 만들 경우 서로의 객체에 영향을 미치지 않음\n",
        "- 코드가 짧아짐"
      ]
    },
    {
      "cell_type": "code",
      "execution_count": null,
      "id": "a163fb8a",
      "metadata": {
        "id": "a163fb8a"
      },
      "outputs": [],
      "source": [
        "class Calculator:\n",
        "    def __init__(self):\n",
        "        self.result=0\n",
        "        \n",
        "    def add(self, num):\n",
        "        self.result=num+self.result\n",
        "        return self.result"
      ]
    },
    {
      "cell_type": "code",
      "execution_count": null,
      "id": "29c96429",
      "metadata": {
        "id": "29c96429"
      },
      "outputs": [],
      "source": [
        "cal1=Calculator()\n",
        "cal2=Calculator()\n",
        "#같은 class를 쓰는 다른 객체"
      ]
    },
    {
      "cell_type": "code",
      "execution_count": null,
      "id": "30aef953",
      "metadata": {
        "id": "30aef953",
        "outputId": "12da7aa6-9fdc-4656-a360-b2bf92b046dd"
      },
      "outputs": [
        {
          "name": "stdout",
          "output_type": "stream",
          "text": [
            "3\n",
            "7\n",
            "3\n"
          ]
        }
      ],
      "source": [
        "print(cal1.add(3))\n",
        "print(cal1.add(4))\n",
        "print(cal2.add(3))\n",
        "#함수를 사용하는 경우와 달리 간단"
      ]
    },
    {
      "cell_type": "code",
      "execution_count": null,
      "id": "310501dd",
      "metadata": {
        "id": "310501dd",
        "outputId": "f8537837-2e11-43a0-f14a-7621d03427f2"
      },
      "outputs": [
        {
          "name": "stdout",
          "output_type": "stream",
          "text": [
            "2136658684416\n",
            "2136656862656\n"
          ]
        }
      ],
      "source": [
        "print(id(cal1))\n",
        "print(id(cal2))"
      ]
    },
    {
      "cell_type": "markdown",
      "id": "eabb8709",
      "metadata": {
        "id": "eabb8709"
      },
      "source": [
        "클래서 생성 예제"
      ]
    },
    {
      "cell_type": "code",
      "execution_count": null,
      "id": "2452369c",
      "metadata": {
        "id": "2452369c",
        "outputId": "5e1ce836-eb49-414f-d0ea-1d675aa5accd"
      },
      "outputs": [
        {
          "name": "stdout",
          "output_type": "stream",
          "text": [
            "<class '__main__.Cookie'>\n"
          ]
        }
      ],
      "source": [
        "class Cookie:\n",
        "    pass\n",
        "a=Cookie()\n",
        "b=Cookie()\n",
        "print(type(a))"
      ]
    },
    {
      "cell_type": "markdown",
      "id": "12191420",
      "metadata": {
        "id": "12191420"
      },
      "source": [
        "**144page 6번째 줄 글자 깨짐 -> -**"
      ]
    },
    {
      "cell_type": "markdown",
      "id": "3b763d8c",
      "metadata": {
        "id": "3b763d8c"
      },
      "source": [
        "사칙연산 클래스 만들기 예제\n",
        "- 빈 클래스 생성 후 어떤 용도로 사용하고 어떤 코드를 넣을 것인지 생각해보는 것이 좋음"
      ]
    },
    {
      "cell_type": "code",
      "execution_count": null,
      "id": "dcc79fe1",
      "metadata": {
        "id": "dcc79fe1"
      },
      "outputs": [],
      "source": [
        "class FourCal:\n",
        "    pass"
      ]
    },
    {
      "cell_type": "code",
      "execution_count": null,
      "id": "c3643905",
      "metadata": {
        "id": "c3643905"
      },
      "outputs": [],
      "source": [
        "class FourCal:\n",
        "    def setdata(self, first, second): #메서드의 매개함수\n",
        "        self.first=first              #메서드의 수행문\n",
        "        self.second=second            #메서드의 수행문\n",
        "a=FourCal()\n",
        "# FourCal(). setdata(3,4) 맞지 않는 코드, 객체를 지정해서 호출해야 함\n",
        "a.setdata(4,2)"
      ]
    },
    {
      "cell_type": "markdown",
      "id": "fdebd205",
      "metadata": {
        "id": "fdebd205"
      },
      "source": [
        "self\n",
        "- 인스턴스 자기 자신을 가리키고, 우선적으로 self라고 지정해 놓는 것\n",
        "\n",
        "a=FourCal()\n",
        "1. a.setdata(4,2)\n",
        "2. FourCal.setdata(a,4,2) a직접 명시"
      ]
    },
    {
      "cell_type": "code",
      "execution_count": null,
      "id": "60e9aa16",
      "metadata": {
        "id": "60e9aa16"
      },
      "outputs": [],
      "source": [
        "b=FourCal()\n",
        "FourCal.setdata(b,7,5)"
      ]
    },
    {
      "cell_type": "markdown",
      "id": "f51e8271",
      "metadata": {
        "id": "f51e8271"
      },
      "source": [
        "- 7 == 매개변수 first == self.first == b.first\n",
        "- 5 == 매개변수 second == self.second == b.second"
      ]
    },
    {
      "cell_type": "markdown",
      "id": "cb216cbe",
      "metadata": {
        "id": "cb216cbe"
      },
      "source": [
        "각 객체에 객체 변수 생성 확인"
      ]
    },
    {
      "cell_type": "code",
      "execution_count": null,
      "id": "387d9a0c",
      "metadata": {
        "id": "387d9a0c",
        "outputId": "b4af2f7f-48e7-47a6-95af-1ac2c42e26bc"
      },
      "outputs": [
        {
          "name": "stdout",
          "output_type": "stream",
          "text": [
            "4\n",
            "7\n"
          ]
        }
      ],
      "source": [
        "a=FourCal()\n",
        "b=FourCal()\n",
        "a.setdata(4,2)\n",
        "print(a.first)\n",
        "b.setdata(3,7)\n",
        "print(b.second)"
      ]
    },
    {
      "cell_type": "markdown",
      "id": "171149aa",
      "metadata": {
        "id": "171149aa"
      },
      "source": [
        "사칙연산 클래스에 더하기 기능 추가하기 예제"
      ]
    },
    {
      "cell_type": "code",
      "execution_count": null,
      "id": "4f0e811c",
      "metadata": {
        "id": "4f0e811c",
        "outputId": "3ce30087-ad5a-4cf4-af14-5665ecfb255f"
      },
      "outputs": [
        {
          "name": "stdout",
          "output_type": "stream",
          "text": [
            "6\n"
          ]
        }
      ],
      "source": [
        "class FourCal:\n",
        "    def setdata(self, first, second): #메서드의 매개함수\n",
        "        self.first=first              #메서드의 수행문\n",
        "        self.second=second            #메서드의 수행문\n",
        "    def add(self):\n",
        "        result=self.first+self.second\n",
        "        return result\n",
        "a=FourCal()\n",
        "a.setdata(4,2)\n",
        "print(a.add())"
      ]
    },
    {
      "cell_type": "markdown",
      "id": "61a1b303",
      "metadata": {
        "id": "61a1b303"
      },
      "source": [
        "사칙연산 클래스에 곱하기, 빼기, 나누기 기능 추가"
      ]
    },
    {
      "cell_type": "code",
      "execution_count": null,
      "id": "e2bb3cc3",
      "metadata": {
        "id": "e2bb3cc3",
        "outputId": "c1f31107-c99e-4e30-d262-af5d5bb75c53"
      },
      "outputs": [
        {
          "name": "stdout",
          "output_type": "stream",
          "text": [
            "6\n",
            "8\n",
            "2\n",
            "2.0\n"
          ]
        }
      ],
      "source": [
        "class FourCal:\n",
        "    def setdata(self, first, second): #메서드의 매개함수\n",
        "        self.first=first              #메서드의 수행문\n",
        "        self.second=second            #메서드의 수행문\n",
        "    def add(self):\n",
        "        result = self.first+self.second\n",
        "        return result\n",
        "    def mul(self):\n",
        "        result = self.first*self.second\n",
        "        return result\n",
        "    def sub(self):\n",
        "        result = self.first-self.second\n",
        "        return result\n",
        "    def div(self):\n",
        "        result = self.first/self.second\n",
        "        return result\n",
        "a=FourCal()\n",
        "a.setdata(4,2)\n",
        "print(a.add())\n",
        "print(a.mul())\n",
        "print(a.sub())\n",
        "print(a.div())"
      ]
    },
    {
      "cell_type": "markdown",
      "id": "8a2151b5",
      "metadata": {
        "id": "8a2151b5"
      },
      "source": [
        "생성자\n",
        "- 매번 연산을 할 때마다 setdata() 함수를 호출해야 함"
      ]
    },
    {
      "cell_type": "code",
      "execution_count": null,
      "id": "d419a775",
      "metadata": {
        "id": "d419a775",
        "outputId": "57b8f1f2-5fd2-417e-b52b-c9d5dc4e182b"
      },
      "outputs": [
        {
          "ename": "AttributeError",
          "evalue": "'FourCal' object has no attribute 'first'",
          "output_type": "error",
          "traceback": [
            "\u001b[1;31m---------------------------------------------------------------------------\u001b[0m",
            "\u001b[1;31mAttributeError\u001b[0m                            Traceback (most recent call last)",
            "Input \u001b[1;32mIn [59]\u001b[0m, in \u001b[0;36m<module>\u001b[1;34m\u001b[0m\n\u001b[0;32m      1\u001b[0m a\u001b[38;5;241m=\u001b[39mFourCal()\n\u001b[1;32m----> 2\u001b[0m \u001b[38;5;28mprint\u001b[39m(\u001b[43ma\u001b[49m\u001b[38;5;241;43m.\u001b[39;49m\u001b[43madd\u001b[49m\u001b[43m(\u001b[49m\u001b[43m)\u001b[49m)\n",
            "Input \u001b[1;32mIn [58]\u001b[0m, in \u001b[0;36mFourCal.add\u001b[1;34m(self)\u001b[0m\n\u001b[0;32m      5\u001b[0m \u001b[38;5;28;01mdef\u001b[39;00m \u001b[38;5;21madd\u001b[39m(\u001b[38;5;28mself\u001b[39m):\n\u001b[1;32m----> 6\u001b[0m     result \u001b[38;5;241m=\u001b[39m \u001b[38;5;28;43mself\u001b[39;49m\u001b[38;5;241;43m.\u001b[39;49m\u001b[43mfirst\u001b[49m\u001b[38;5;241m+\u001b[39m\u001b[38;5;28mself\u001b[39m\u001b[38;5;241m.\u001b[39msecond\n\u001b[0;32m      7\u001b[0m     \u001b[38;5;28;01mreturn\u001b[39;00m result\n",
            "\u001b[1;31mAttributeError\u001b[0m: 'FourCal' object has no attribute 'first'"
          ]
        }
      ],
      "source": [
        "a=FourCal()\n",
        "print(a.add())"
      ]
    },
    {
      "cell_type": "markdown",
      "id": "514263bd",
      "metadata": {
        "id": "514263bd"
      },
      "source": [
        "생성자\n",
        "- 인스턴스 객체가 생성될 때 초기화를 위해서 자동으로 호출되는 초기화 메서드\n",
        "\\_\\_init\\_\\_\n",
        " - 메서드 : 함수처럼 어떠한 기능을 수행\n",
        " - 함수와 메서드의 차이점 : 메서드는 클래스 및 객체와 얀관되어 있는 함수\n",
        " \n",
        " \n",
        " 생성자 생성 예제"
      ]
    },
    {
      "cell_type": "code",
      "execution_count": null,
      "id": "9226c135",
      "metadata": {
        "id": "9226c135",
        "outputId": "794b553a-9da8-4589-cb71-65526e404aae"
      },
      "outputs": [
        {
          "ename": "NameError",
          "evalue": "name 'first' is not defined",
          "output_type": "error",
          "traceback": [
            "\u001b[1;31m---------------------------------------------------------------------------\u001b[0m",
            "\u001b[1;31mNameError\u001b[0m                                 Traceback (most recent call last)",
            "Input \u001b[1;32mIn [63]\u001b[0m, in \u001b[0;36m<module>\u001b[1;34m\u001b[0m\n\u001b[0;32m      3\u001b[0m         \u001b[38;5;28mself\u001b[39m\u001b[38;5;241m.\u001b[39mfirst\u001b[38;5;241m=\u001b[39mfirst\n\u001b[0;32m      4\u001b[0m         \u001b[38;5;28mself\u001b[39m\u001b[38;5;241m.\u001b[39msecond\u001b[38;5;241m=\u001b[39msecond \u001b[38;5;66;03m#first,second가 누군지 매개변수에 지정하지 않음\u001b[39;00m\n\u001b[1;32m----> 5\u001b[0m a\u001b[38;5;241m=\u001b[39m\u001b[43mtest\u001b[49m\u001b[43m(\u001b[49m\u001b[43m)\u001b[49m\n",
            "Input \u001b[1;32mIn [63]\u001b[0m, in \u001b[0;36mtest.__init__\u001b[1;34m(self)\u001b[0m\n\u001b[0;32m      2\u001b[0m \u001b[38;5;28;01mdef\u001b[39;00m \u001b[38;5;21m__init__\u001b[39m(\u001b[38;5;28mself\u001b[39m): \u001b[38;5;66;03m#__init__메서드는 객체를 만드는 순간 동작하는 메서드\u001b[39;00m\n\u001b[1;32m----> 3\u001b[0m     \u001b[38;5;28mself\u001b[39m\u001b[38;5;241m.\u001b[39mfirst\u001b[38;5;241m=\u001b[39m\u001b[43mfirst\u001b[49m\n\u001b[0;32m      4\u001b[0m     \u001b[38;5;28mself\u001b[39m\u001b[38;5;241m.\u001b[39msecond\u001b[38;5;241m=\u001b[39msecond\n",
            "\u001b[1;31mNameError\u001b[0m: name 'first' is not defined"
          ]
        }
      ],
      "source": [
        "class test:\n",
        "    def __init__(self): #__init__메서드는 객체를 만드는 순간 동작하는 메서드\n",
        "        self.first=first\n",
        "        self.second=second #first,second가 누군지 매개변수에 지정하지 않음\n",
        "a=test()"
      ]
    },
    {
      "cell_type": "code",
      "execution_count": null,
      "id": "2c4da7b0",
      "metadata": {
        "id": "2c4da7b0"
      },
      "outputs": [],
      "source": [
        "class test:\n",
        "    def __init__(self,first,second): #위 코드 오류 수정\n",
        "        self.first=first\n",
        "        self.second=second \n",
        "a=test(4,2)"
      ]
    },
    {
      "cell_type": "markdown",
      "id": "73e4d802",
      "metadata": {
        "id": "73e4d802"
      },
      "source": [
        "\\_\\_init\\_\\_ 메소드 예제"
      ]
    },
    {
      "cell_type": "code",
      "execution_count": null,
      "id": "47f25ae0",
      "metadata": {
        "id": "47f25ae0",
        "outputId": "b12d73e4-cd6b-47d3-ad80-16d450358257"
      },
      "outputs": [
        {
          "name": "stdout",
          "output_type": "stream",
          "text": [
            "3\n",
            "6\n"
          ]
        }
      ],
      "source": [
        "class Calculator:\n",
        "    def __init__(self):\n",
        "        self.result=0\n",
        "        \n",
        "    def add(self, num):\n",
        "        self.result=num+self.result\n",
        "        return self.result\n",
        "a=Calculator() # 객체 a를 생성하는 순간 __init__ 메서드가 실행됨. a.result=0\n",
        "print(a.add(3))\n",
        "b=Calculator() #b.result=0\n",
        "print(b.add(6))"
      ]
    },
    {
      "cell_type": "markdown",
      "id": "8ae165f5",
      "metadata": {
        "id": "8ae165f5"
      },
      "source": [
        "**160page 2번째 줄 글자 깨짐 -> 상속**"
      ]
    },
    {
      "cell_type": "markdown",
      "id": "84c6363d",
      "metadata": {
        "id": "84c6363d"
      },
      "source": [
        "FourCal클래스를 상속하는 MoreFourCal클래스 생성\n",
        "- FourCal 클래스는 부모 클래스\n",
        "- MoreFourCal 클래스는 자식 클래스"
      ]
    },
    {
      "cell_type": "code",
      "execution_count": null,
      "id": "4b6db60f",
      "metadata": {
        "id": "4b6db60f"
      },
      "outputs": [],
      "source": [
        "class MoreFourCal(FourCal):\n",
        "    pass"
      ]
    },
    {
      "cell_type": "code",
      "execution_count": null,
      "id": "79b51a9f",
      "metadata": {
        "id": "79b51a9f",
        "outputId": "525da062-4592-4fb5-8280-c584d97a669a"
      },
      "outputs": [
        {
          "name": "stdout",
          "output_type": "stream",
          "text": [
            "6\n"
          ]
        }
      ],
      "source": [
        "a=MoreFourCal()\n",
        "a.setdata(4,2)\n",
        "print(a.add())"
      ]
    },
    {
      "cell_type": "code",
      "execution_count": null,
      "id": "551ced80",
      "metadata": {
        "id": "551ced80",
        "outputId": "34685823-04d2-46d5-b433-9d80e330d520"
      },
      "outputs": [
        {
          "name": "stdout",
          "output_type": "stream",
          "text": [
            "6\n"
          ]
        }
      ],
      "source": [
        "class MoreFourCal2(MoreFourCal):\n",
        "    pass\n",
        "a=MoreFourCal2()\n",
        "a.setdata(4,2)\n",
        "print(a.add())"
      ]
    },
    {
      "cell_type": "markdown",
      "id": "00f5dc73",
      "metadata": {
        "id": "00f5dc73"
      },
      "source": [
        "- 상속에 상속도 가능\n",
        "\n",
        "자식 클래스에 제곱 기능 추가\n",
        "- 자식 클래스에 기능이 추가되어도 부모 클래스에 영향을 미치지 않음\n",
        "- 자식 클래스에 부모 클래스 메서드가 동일하게 존재하는 경우 부모 클래스의 메서드를 사용하는 것이 아닌 자식 클래스의 메서드를 사용함"
      ]
    },
    {
      "cell_type": "code",
      "execution_count": null,
      "id": "48878b5b",
      "metadata": {
        "id": "48878b5b",
        "outputId": "2e34b51b-190e-4a78-c00a-3005da319d7c"
      },
      "outputs": [
        {
          "name": "stdout",
          "output_type": "stream",
          "text": [
            "16\n"
          ]
        }
      ],
      "source": [
        "class MoreFourCal(FourCal):\n",
        "    def pow(self):\n",
        "        result=self.first ** self.second\n",
        "        return result\n",
        "a=MoreFourCal()\n",
        "a.setdata(4,2)\n",
        "print(a.pow())"
      ]
    },
    {
      "cell_type": "code",
      "execution_count": null,
      "id": "3680efdd",
      "metadata": {
        "id": "3680efdd"
      },
      "outputs": [],
      "source": [
        ""
      ]
    },
    {
      "cell_type": "markdown",
      "id": "46e37c85",
      "metadata": {
        "id": "46e37c85"
      },
      "source": [
        "메서드 오버라이딩\n",
        "- 메서드 덮어쓰기 or 메서드 재정의"
      ]
    },
    {
      "cell_type": "code",
      "execution_count": null,
      "id": "8528c0e4",
      "metadata": {
        "id": "8528c0e4",
        "outputId": "f917fe36-b0e7-4c8a-b5c3-3bce125ea9af"
      },
      "outputs": [
        {
          "ename": "ZeroDivisionError",
          "evalue": "division by zero",
          "output_type": "error",
          "traceback": [
            "\u001b[1;31m---------------------------------------------------------------------------\u001b[0m",
            "\u001b[1;31mZeroDivisionError\u001b[0m                         Traceback (most recent call last)",
            "Input \u001b[1;32mIn [71]\u001b[0m, in \u001b[0;36m<module>\u001b[1;34m\u001b[0m\n\u001b[0;32m     17\u001b[0m a\u001b[38;5;241m=\u001b[39mFourCal()\n\u001b[0;32m     18\u001b[0m a\u001b[38;5;241m.\u001b[39msetdata(\u001b[38;5;241m4\u001b[39m,\u001b[38;5;241m0\u001b[39m) \u001b[38;5;66;03m#0으로 나눠서 에러\u001b[39;00m\n\u001b[1;32m---> 19\u001b[0m \u001b[38;5;28mprint\u001b[39m(\u001b[43ma\u001b[49m\u001b[38;5;241;43m.\u001b[39;49m\u001b[43mdiv\u001b[49m\u001b[43m(\u001b[49m\u001b[43m)\u001b[49m)\n",
            "Input \u001b[1;32mIn [71]\u001b[0m, in \u001b[0;36mFourCal.div\u001b[1;34m(self)\u001b[0m\n\u001b[0;32m     14\u001b[0m \u001b[38;5;28;01mdef\u001b[39;00m \u001b[38;5;21mdiv\u001b[39m(\u001b[38;5;28mself\u001b[39m):\n\u001b[1;32m---> 15\u001b[0m     result \u001b[38;5;241m=\u001b[39m \u001b[38;5;28;43mself\u001b[39;49m\u001b[38;5;241;43m.\u001b[39;49m\u001b[43mfirst\u001b[49m\u001b[38;5;241;43m/\u001b[39;49m\u001b[38;5;28;43mself\u001b[39;49m\u001b[38;5;241;43m.\u001b[39;49m\u001b[43msecond\u001b[49m\n\u001b[0;32m     16\u001b[0m     \u001b[38;5;28;01mreturn\u001b[39;00m result\n",
            "\u001b[1;31mZeroDivisionError\u001b[0m: division by zero"
          ]
        }
      ],
      "source": [
        "class FourCal:\n",
        "    def setdata(self, first, second): #메서드의 매개함수\n",
        "        self.first=first              #메서드의 수행문\n",
        "        self.second=second            #메서드의 수행문\n",
        "    def add(self):\n",
        "        result = self.first+self.second\n",
        "        return result\n",
        "    def mul(self):\n",
        "        result = self.first*self.second\n",
        "        return result\n",
        "    def sub(self):\n",
        "        result = self.first-self.second\n",
        "        return result\n",
        "    def div(self):\n",
        "        result = self.first/self.second\n",
        "        return result\n",
        "a=FourCal()\n",
        "a.setdata(4,0) #0으로 나눠서 에러\n",
        "print(a.div())"
      ]
    },
    {
      "cell_type": "markdown",
      "id": "076aed0a",
      "metadata": {
        "id": "076aed0a"
      },
      "source": [
        "- 부모 클래스의 div() 메서드 사용시 0으로 나누면 에러 발생"
      ]
    },
    {
      "cell_type": "code",
      "execution_count": null,
      "id": "7286d456",
      "metadata": {
        "id": "7286d456",
        "outputId": "a25d0cb8-4e74-48cc-a429-7de99ed35c37"
      },
      "outputs": [
        {
          "name": "stdout",
          "output_type": "stream",
          "text": [
            "0\n"
          ]
        }
      ],
      "source": [
        "class SafeFourCal(FourCal):\n",
        "    def div(self):\n",
        "        if self.second==0:\n",
        "            return 0\n",
        "        else:\n",
        "            return self.first/self.second\n",
        "a=SafeFourCal()\n",
        "a.setdata(4,0)\n",
        "print(a.div())"
      ]
    },
    {
      "cell_type": "markdown",
      "id": "399d6ab8",
      "metadata": {
        "id": "399d6ab8"
      },
      "source": [
        "번외) 생성자를 사용하여 계산기를 만들기 예제"
      ]
    },
    {
      "cell_type": "code",
      "execution_count": null,
      "id": "253ef8fc",
      "metadata": {
        "id": "253ef8fc"
      },
      "outputs": [],
      "source": [
        "class test:\n",
        "    def __init__(self,first,second): #위 코드 오류 수정\n",
        "        self.first=first\n",
        "        self.second=second \n",
        "         #메서드의 수행문\n",
        "    def add(self):\n",
        "        result = self.first+self.second\n",
        "        return result\n",
        "    def mul(self):\n",
        "        result = self.first*self.second\n",
        "        return result\n",
        "    def sub(self):\n",
        "        result = self.first-self.second\n",
        "        return result\n",
        "    def div(self):\n",
        "        result = self.first/self.second\n",
        "        return result\n",
        "a=test(4,2)\n",
        "print(a.add())"
      ]
    },
    {
      "cell_type": "markdown",
      "id": "b8780214",
      "metadata": {
        "id": "b8780214"
      },
      "source": [
        "클래스 두 개 서로 상속?\n",
        "클래스 두 개가 있다는 전제 하에 가능 -> 따라서 안 됨"
      ]
    },
    {
      "cell_type": "code",
      "execution_count": null,
      "id": "25f9c7cb",
      "metadata": {
        "id": "25f9c7cb"
      },
      "outputs": [],
      "source": [
        "class MoreFourCal:\n",
        "    pass"
      ]
    },
    {
      "cell_type": "code",
      "execution_count": null,
      "id": "357c1461",
      "metadata": {
        "id": "357c1461"
      },
      "outputs": [],
      "source": [
        "class FourCal(MoreFourCal):\n",
        "    def setdata(self, first, second): \n",
        "        self.first=first\n",
        "        self.second=second\n",
        "    def add(self):\n",
        "        result = self.first+self.second\n",
        "        return result\n",
        "    def mul(self):\n",
        "        result = self.first*self.second\n",
        "        return result\n",
        "    def sub(self):\n",
        "        result = self.first-self.second\n",
        "        return result\n",
        "    def div(self):\n",
        "        result = self.first/self.second\n",
        "        return result\n",
        "\n",
        "class MoreFourCal(FourCal):\n",
        "    pass\n",
        "a.setdata(4,0) #0으로 나눠서 에러\n",
        "print(a.div())"
      ]
    },
    {
      "cell_type": "code",
      "execution_count": null,
      "id": "6759dd82",
      "metadata": {
        "id": "6759dd82"
      },
      "outputs": [],
      "source": [
        ""
      ]
    },
    {
      "cell_type": "code",
      "execution_count": null,
      "id": "abcd7702",
      "metadata": {
        "id": "abcd7702"
      },
      "outputs": [],
      "source": [
        ""
      ]
    },
    {
      "cell_type": "code",
      "execution_count": null,
      "id": "06a073ba",
      "metadata": {
        "id": "06a073ba"
      },
      "outputs": [],
      "source": [
        ""
      ]
    }
  ],
  "metadata": {
    "kernelspec": {
      "display_name": "Python 3 (ipykernel)",
      "language": "python",
      "name": "python3"
    },
    "language_info": {
      "codemirror_mode": {
        "name": "ipython",
        "version": 3
      },
      "file_extension": ".py",
      "mimetype": "text/x-python",
      "name": "python",
      "nbconvert_exporter": "python",
      "pygments_lexer": "ipython3",
      "version": "3.9.7"
    },
    "colab": {
      "name": "5일차.ipynb",
      "provenance": [],
      "include_colab_link": true
    }
  },
  "nbformat": 4,
  "nbformat_minor": 5
}