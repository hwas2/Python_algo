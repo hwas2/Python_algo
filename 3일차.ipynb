{
  "cells": [
    {
      "cell_type": "markdown",
      "metadata": {
        "id": "view-in-github",
        "colab_type": "text"
      },
      "source": [
        "<a href=\"https://colab.research.google.com/github/hwas2/Python_study/blob/master/3%EC%9D%BC%EC%B0%A8.ipynb\" target=\"_parent\"><img src=\"https://colab.research.google.com/assets/colab-badge.svg\" alt=\"Open In Colab\"/></a>"
      ]
    },
    {
      "cell_type": "markdown",
      "id": "40466112",
      "metadata": {
        "id": "40466112"
      },
      "source": [
        "# 자료형"
      ]
    },
    {
      "cell_type": "markdown",
      "id": "13eb9023",
      "metadata": {
        "id": "13eb9023"
      },
      "source": [
        "리스트\n",
        "- 여러 요소값을 담을 수 있는 자료형\n",
        "- \\[\\](대괄호)를 이용하여 생성\n",
        "\n",
        "리스트 생성 예제"
      ]
    },
    {
      "cell_type": "code",
      "execution_count": null,
      "id": "8b88de88",
      "metadata": {
        "id": "8b88de88"
      },
      "outputs": [],
      "source": [
        "a=[1,2,3]"
      ]
    },
    {
      "cell_type": "code",
      "execution_count": null,
      "id": "f77d26f3",
      "metadata": {
        "id": "f77d26f3",
        "outputId": "7b444952-a5ba-43cf-efb6-bdf934456c17"
      },
      "outputs": [
        {
          "name": "stdout",
          "output_type": "stream",
          "text": [
            "[1, 2, 3]\n"
          ]
        }
      ],
      "source": [
        "print(a)"
      ]
    },
    {
      "cell_type": "markdown",
      "id": "faa9eb61",
      "metadata": {
        "id": "faa9eb61"
      },
      "source": [
        "리스트 인덱싱 예제"
      ]
    },
    {
      "cell_type": "code",
      "execution_count": null,
      "id": "69074daf",
      "metadata": {
        "id": "69074daf"
      },
      "outputs": [],
      "source": [
        "a=[1,2,3]"
      ]
    },
    {
      "cell_type": "code",
      "execution_count": null,
      "id": "b3b711d6",
      "metadata": {
        "id": "b3b711d6",
        "outputId": "0112ddfd-d388-414f-e7c1-7fccb2bd9ae1"
      },
      "outputs": [
        {
          "name": "stdout",
          "output_type": "stream",
          "text": [
            "1\n",
            "4\n",
            "3\n"
          ]
        }
      ],
      "source": [
        "print(a[0])\n",
        "print(a[0]+a[2])\n",
        "print(a[-1])"
      ]
    },
    {
      "cell_type": "code",
      "execution_count": null,
      "id": "c5d6ebed",
      "metadata": {
        "id": "c5d6ebed",
        "outputId": "163f51c4-756a-4e0c-8cd5-fc3d8857551b"
      },
      "outputs": [
        {
          "name": "stdout",
          "output_type": "stream",
          "text": [
            "Lifeis\n"
          ]
        }
      ],
      "source": [
        "b=['Life','is','too','short']\n",
        "print(b[0]+b[1])"
      ]
    },
    {
      "cell_type": "code",
      "execution_count": null,
      "id": "a8bac946",
      "metadata": {
        "id": "a8bac946",
        "outputId": "693084da-68aa-4e31-c81d-5cf09cccd9a6"
      },
      "outputs": [
        {
          "name": "stdout",
          "output_type": "stream",
          "text": [
            "1\n",
            "['a', 'b', 'c']\n",
            "['a', 'b', 'c']\n",
            "a\n",
            "b\n",
            "c\n"
          ]
        }
      ],
      "source": [
        "a=[1,2,3,['a','b','c']]\n",
        "print(a[0])\n",
        "print(a[-1])\n",
        "print(a[3])\n",
        "print(a[-1][0]) #-1번째 자리인 [a,b,c]중 0번째 자리인 a 추출\n",
        "print(a[-1][1])\n",
        "print(a[-1][2])"
      ]
    },
    {
      "cell_type": "markdown",
      "id": "f43f0796",
      "metadata": {
        "id": "f43f0796"
      },
      "source": [
        "숫자를 ''로 문자로 만들어 주면 글자+숫자 가능"
      ]
    },
    {
      "cell_type": "code",
      "execution_count": null,
      "id": "a5610dd7",
      "metadata": {
        "id": "a5610dd7",
        "outputId": "9e7c9a77-0ed6-4bea-f8ae-63a53b282563"
      },
      "outputs": [
        {
          "name": "stdout",
          "output_type": "stream",
          "text": [
            "['a', 'b', ['life', 'is']]\n",
            "['life', 'is']\n",
            "life\n"
          ]
        }
      ],
      "source": [
        "a=[1,2,['a','b',['life','is']]]\n",
        "print(a[2])\n",
        "print(a[2][2])\n",
        "print(a[2][2][0])"
      ]
    },
    {
      "cell_type": "markdown",
      "id": "cd78a72a",
      "metadata": {
        "id": "cd78a72a"
      },
      "source": [
        "리스트 슬라이싱 예제"
      ]
    },
    {
      "cell_type": "code",
      "execution_count": null,
      "id": "5013b118",
      "metadata": {
        "id": "5013b118",
        "outputId": "5a570f46-554a-410f-b5d8-3d25517e6cdf"
      },
      "outputs": [
        {
          "name": "stdout",
          "output_type": "stream",
          "text": [
            "[1, 2]\n"
          ]
        }
      ],
      "source": [
        "a=[1,2,3,4,5]\n",
        "print(a[0:2])"
      ]
    },
    {
      "cell_type": "code",
      "execution_count": null,
      "id": "615da8b6",
      "metadata": {
        "id": "615da8b6",
        "outputId": "a16cbb15-d4fb-4875-dbce-1b6987be1928"
      },
      "outputs": [
        {
          "name": "stdout",
          "output_type": "stream",
          "text": [
            "[1, 2]\n",
            "[3, 4, 5]\n"
          ]
        }
      ],
      "source": [
        "b=a[:2]\n",
        "print(b)\n",
        "c=a[2:]\n",
        "print(c)"
      ]
    },
    {
      "cell_type": "code",
      "execution_count": null,
      "id": "5adabf1f",
      "metadata": {
        "id": "5adabf1f",
        "outputId": "63cffe58-9751-4744-99a8-3c7c819d89a9"
      },
      "outputs": [
        {
          "name": "stdout",
          "output_type": "stream",
          "text": [
            "[3, ['a', 'b', 'c'], 4]\n",
            "['a', 'b', 'c']\n",
            "['a', 'b']\n"
          ]
        }
      ],
      "source": [
        "a=[1,2,3,['a','b','c'],4,5]\n",
        "print(a[2:5])\n",
        "print(a[3])\n",
        "print(a[3][:2])"
      ]
    },
    {
      "cell_type": "markdown",
      "id": "c2c1f44d",
      "metadata": {
        "id": "c2c1f44d"
      },
      "source": [
        "리스트 합치기/반복 예제"
      ]
    },
    {
      "cell_type": "code",
      "execution_count": null,
      "id": "c6c8d3be",
      "metadata": {
        "id": "c6c8d3be",
        "outputId": "b6c1e71a-49cc-44a9-9083-ff7b2f796587"
      },
      "outputs": [
        {
          "name": "stdout",
          "output_type": "stream",
          "text": [
            "[1, 2, 3, 4, 5, 6]\n",
            "[1, 2, 3, 1, 2, 3]\n"
          ]
        }
      ],
      "source": [
        "a=[1,2,3,]\n",
        "b=[4,5,6]\n",
        "print(a+b)\n",
        "print(a*2)"
      ]
    },
    {
      "cell_type": "markdown",
      "id": "66febf80",
      "metadata": {
        "id": "66febf80"
      },
      "source": [
        "list 요소 수정 예제"
      ]
    },
    {
      "cell_type": "code",
      "execution_count": null,
      "id": "75bab86a",
      "metadata": {
        "id": "75bab86a",
        "outputId": "1ad895ba-3de7-4e36-cea3-49114be59eca"
      },
      "outputs": [
        {
          "name": "stdout",
          "output_type": "stream",
          "text": [
            "3\n",
            "[1, 2, 4]\n",
            "[1, 'a', 'b', 'c', 4]\n",
            "[['a1', 'a2', 'a3'], 'a', 'b', 'c', 4]\n"
          ]
        }
      ],
      "source": [
        "a=[1,2,3]\n",
        "print(a[2])\n",
        "a[2]=4\n",
        "print(a)\n",
        "a[1:2]=['a','b','c']\n",
        "print(a)\n",
        "a[0]=['a1','a2','a3']\n",
        "print(a)"
      ]
    },
    {
      "cell_type": "markdown",
      "id": "3ace99b7",
      "metadata": {
        "id": "3ace99b7"
      },
      "source": [
        "리스트 요소 제거 예제\n",
        "\n",
        "- 위의 a리스트를 그대로 활용"
      ]
    },
    {
      "cell_type": "code",
      "execution_count": null,
      "id": "5f228750",
      "metadata": {
        "id": "5f228750",
        "outputId": "66309b40-d191-4bb1-952e-699b0c6a367c"
      },
      "outputs": [
        {
          "name": "stdout",
          "output_type": "stream",
          "text": [
            "[['a1', 'a2', 'a3'], 'a', 'b', 'c', 4]\n"
          ]
        }
      ],
      "source": [
        "print(a)"
      ]
    },
    {
      "cell_type": "code",
      "execution_count": null,
      "id": "5cc13e05",
      "metadata": {
        "id": "5cc13e05",
        "outputId": "e4d4850f-2297-429f-d1b2-d386513c4890"
      },
      "outputs": [
        {
          "name": "stdout",
          "output_type": "stream",
          "text": [
            "[['a1', 'a2', 'a3'], 'c', 4]\n"
          ]
        }
      ],
      "source": [
        "a[1:3]=[]\n",
        "print(a)"
      ]
    },
    {
      "cell_type": "code",
      "execution_count": null,
      "id": "a8b1b80b",
      "metadata": {
        "id": "a8b1b80b",
        "outputId": "1c62363e-f0fb-44c2-af7c-255daecf46dc"
      },
      "outputs": [
        {
          "name": "stdout",
          "output_type": "stream",
          "text": [
            "[['a1', 'a2', 'a3'], 4]\n"
          ]
        }
      ],
      "source": [
        "del a[1]\n",
        "print(a)"
      ]
    },
    {
      "cell_type": "code",
      "execution_count": null,
      "id": "a84d85f5",
      "metadata": {
        "id": "a84d85f5",
        "outputId": "ce648267-8c14-47f7-fadf-8b147d6768fc"
      },
      "outputs": [
        {
          "name": "stdout",
          "output_type": "stream",
          "text": [
            "[]\n"
          ]
        }
      ],
      "source": [
        "del a[0:2]\n",
        "print(a)"
      ]
    },
    {
      "cell_type": "markdown",
      "id": "3a1d4a6e",
      "metadata": {
        "id": "3a1d4a6e"
      },
      "source": [
        "리스트 관련 함수\n",
        "\n",
        "리스트 요소 추가 예제"
      ]
    },
    {
      "cell_type": "code",
      "execution_count": null,
      "id": "175f402b",
      "metadata": {
        "id": "175f402b",
        "outputId": "d12c425a-b5f6-4123-ec75-853473b266f0"
      },
      "outputs": [
        {
          "name": "stdout",
          "output_type": "stream",
          "text": [
            "[1, 2, 3, 4]\n",
            "[1, 2, 3, 4, [5, 6]]\n"
          ]
        }
      ],
      "source": [
        "a=[1,2,3]\n",
        "a.append(4)\n",
        "print(a)\n",
        "a.append([5,6])\n",
        "print(a)"
      ]
    },
    {
      "cell_type": "markdown",
      "id": "7dda320d",
      "metadata": {
        "id": "7dda320d"
      },
      "source": [
        "리스트 정렬 예제\n",
        "- sort는 오름차순, 내림차순은 sort 후 reverse 사용"
      ]
    },
    {
      "cell_type": "code",
      "execution_count": null,
      "id": "2a0fd393",
      "metadata": {
        "id": "2a0fd393",
        "outputId": "d58b12fb-17f5-4abf-8dec-2cde716355cf"
      },
      "outputs": [
        {
          "name": "stdout",
          "output_type": "stream",
          "text": [
            "[1, 2, 3, 4]\n"
          ]
        }
      ],
      "source": [
        "a=[1,4,3,2]\n",
        "a.sort()\n",
        "print(a)"
      ]
    },
    {
      "cell_type": "code",
      "execution_count": null,
      "id": "fa9d48e0",
      "metadata": {
        "id": "fa9d48e0",
        "outputId": "d1fd7238-9943-4901-b979-0aba0db8a9db"
      },
      "outputs": [
        {
          "name": "stdout",
          "output_type": "stream",
          "text": [
            "['123', 'abc', 'you need python']\n"
          ]
        }
      ],
      "source": [
        "a=['abc','123','you need python']\n",
        "a.sort()\n",
        "print(a)"
      ]
    },
    {
      "cell_type": "code",
      "execution_count": null,
      "id": "ae873404",
      "metadata": {
        "id": "ae873404",
        "outputId": "963c5756-c89c-43d1-f850-f368a563b7cd"
      },
      "outputs": [
        {
          "ename": "TypeError",
          "evalue": "'<' not supported between instances of 'int' and 'str'",
          "output_type": "error",
          "traceback": [
            "\u001b[1;31m---------------------------------------------------------------------------\u001b[0m",
            "\u001b[1;31mTypeError\u001b[0m                                 Traceback (most recent call last)",
            "Input \u001b[1;32mIn [29]\u001b[0m, in \u001b[0;36m<module>\u001b[1;34m\u001b[0m\n\u001b[0;32m      1\u001b[0m a\u001b[38;5;241m=\u001b[39m[\u001b[38;5;124m'\u001b[39m\u001b[38;5;124mabc\u001b[39m\u001b[38;5;124m'\u001b[39m,\u001b[38;5;241m123\u001b[39m,\u001b[38;5;124m'\u001b[39m\u001b[38;5;124myou need python\u001b[39m\u001b[38;5;124m'\u001b[39m] \u001b[38;5;66;03m#자료의 형태가 달라 비교할 수 없다\u001b[39;00m\n\u001b[1;32m----> 2\u001b[0m \u001b[43ma\u001b[49m\u001b[38;5;241;43m.\u001b[39;49m\u001b[43msort\u001b[49m\u001b[43m(\u001b[49m\u001b[43m)\u001b[49m\n",
            "\u001b[1;31mTypeError\u001b[0m: '<' not supported between instances of 'int' and 'str'"
          ]
        }
      ],
      "source": [
        "a=['abc',123,'you need python'] #자료의 형태가 달라 비교할 수 없다\n",
        "a.sort()"
      ]
    },
    {
      "cell_type": "markdown",
      "id": "8a656337",
      "metadata": {
        "id": "8a656337"
      },
      "source": [
        "- 숫자형 요소와 문자열 요소가 합쳐진 경우 정렬되지 않음"
      ]
    },
    {
      "cell_type": "code",
      "execution_count": null,
      "id": "04ee1422",
      "metadata": {
        "id": "04ee1422",
        "outputId": "e0076323-fe59-4c92-8189-faf1d4f46ed1"
      },
      "outputs": [
        {
          "name": "stdout",
          "output_type": "stream",
          "text": [
            "['123', 'You need python', 'abc']\n"
          ]
        }
      ],
      "source": [
        "a=['abc','123','You need python']\n",
        "a.sort() #대문자는 소문자보다 먼저 정렬됨\n",
        "print(a)"
      ]
    },
    {
      "cell_type": "markdown",
      "id": "9452ed76",
      "metadata": {
        "id": "9452ed76"
      },
      "source": [
        "리스트 뒤집기"
      ]
    },
    {
      "cell_type": "code",
      "execution_count": null,
      "id": "f902367f",
      "metadata": {
        "id": "f902367f",
        "outputId": "98f2ef18-0978-42cc-d188-5d57fe857032"
      },
      "outputs": [
        {
          "name": "stdout",
          "output_type": "stream",
          "text": [
            "['b', 'c', 'a']\n"
          ]
        }
      ],
      "source": [
        "a=['a','c','b']\n",
        "a.reverse()\n",
        "print(a)"
      ]
    },
    {
      "cell_type": "markdown",
      "id": "d99d0c7f",
      "metadata": {
        "id": "d99d0c7f"
      },
      "source": [
        "리스트 요소 찾기 예제"
      ]
    },
    {
      "cell_type": "code",
      "execution_count": null,
      "id": "dd0131c4",
      "metadata": {
        "id": "dd0131c4",
        "outputId": "989ba58c-aba5-4094-8aea-b5d18d227645"
      },
      "outputs": [
        {
          "data": {
            "text/plain": [
              "2"
            ]
          },
          "execution_count": 35,
          "metadata": {},
          "output_type": "execute_result"
        }
      ],
      "source": [
        "a=[1,2,3]\n",
        "a.index(3) #3의 위치 반환"
      ]
    },
    {
      "cell_type": "code",
      "execution_count": null,
      "id": "7c3234c4",
      "metadata": {
        "id": "7c3234c4",
        "outputId": "5d8588eb-0c3c-4a33-b8c6-bd281538a173"
      },
      "outputs": [
        {
          "data": {
            "text/plain": [
              "0"
            ]
          },
          "execution_count": 36,
          "metadata": {},
          "output_type": "execute_result"
        }
      ],
      "source": [
        "a.index(1)"
      ]
    },
    {
      "cell_type": "code",
      "execution_count": null,
      "id": "15d1041b",
      "metadata": {
        "id": "15d1041b",
        "outputId": "1f496c08-2656-4fb1-b603-86b29c90c099"
      },
      "outputs": [
        {
          "ename": "ValueError",
          "evalue": "0 is not in list",
          "output_type": "error",
          "traceback": [
            "\u001b[1;31m---------------------------------------------------------------------------\u001b[0m",
            "\u001b[1;31mValueError\u001b[0m                                Traceback (most recent call last)",
            "Input \u001b[1;32mIn [37]\u001b[0m, in \u001b[0;36m<module>\u001b[1;34m\u001b[0m\n\u001b[1;32m----> 1\u001b[0m \u001b[43ma\u001b[49m\u001b[38;5;241;43m.\u001b[39;49m\u001b[43mindex\u001b[49m\u001b[43m(\u001b[49m\u001b[38;5;241;43m0\u001b[39;49m\u001b[43m)\u001b[49m\n",
            "\u001b[1;31mValueError\u001b[0m: 0 is not in list"
          ]
        }
      ],
      "source": [
        "a.index(0) #리스트에 없는 경우 오류 발생"
      ]
    },
    {
      "cell_type": "markdown",
      "id": "43ed0e4c",
      "metadata": {
        "id": "43ed0e4c"
      },
      "source": [
        "리스트 요소 삽입\n",
        "- 하나만 가능"
      ]
    },
    {
      "cell_type": "code",
      "execution_count": null,
      "id": "e9924090",
      "metadata": {
        "id": "e9924090",
        "outputId": "d372e55b-d862-442d-e3cb-7b08f0c420ab"
      },
      "outputs": [
        {
          "name": "stdout",
          "output_type": "stream",
          "text": [
            "[4, 1, 2, 3]\n"
          ]
        }
      ],
      "source": [
        "a=[1,2,3]\n",
        "a.insert(0,4) #0번 자리에 4를 넣는다\n",
        "print(a)"
      ]
    },
    {
      "cell_type": "code",
      "execution_count": null,
      "id": "7e5f900b",
      "metadata": {
        "id": "7e5f900b",
        "outputId": "1c870feb-0d51-42e7-8312-f1576efe6ed9"
      },
      "outputs": [
        {
          "name": "stdout",
          "output_type": "stream",
          "text": [
            "[4, 1, 2, 5, 3]\n"
          ]
        }
      ],
      "source": [
        "a.insert(3,5)\n",
        "print(a)"
      ]
    },
    {
      "cell_type": "code",
      "execution_count": null,
      "id": "75acb063",
      "metadata": {
        "id": "75acb063",
        "outputId": "db6e9f14-c321-431e-a81a-7a1e56412600"
      },
      "outputs": [
        {
          "name": "stdout",
          "output_type": "stream",
          "text": [
            "[['a', 'b'], 4, 1, 2, 5, 3]\n"
          ]
        }
      ],
      "source": [
        "a.insert(0,['a','b'])\n",
        "print(a)"
      ]
    },
    {
      "cell_type": "markdown",
      "id": "f3a333b5",
      "metadata": {
        "id": "f3a333b5"
      },
      "source": [
        "리스트 요소 제거 remove\n",
        "- 요소 위치가 아닌 값을 기준으로 제거"
      ]
    },
    {
      "cell_type": "code",
      "execution_count": null,
      "id": "166cff90",
      "metadata": {
        "id": "166cff90",
        "outputId": "ed65feb3-d710-423b-fdba-ff62a1ce3a56"
      },
      "outputs": [
        {
          "name": "stdout",
          "output_type": "stream",
          "text": [
            "[1, 2, 1, 2, 3]\n",
            "[1, 2, 1, 2]\n"
          ]
        }
      ],
      "source": [
        "a=[1,2,3,1,2,3]\n",
        "a.remove(3)\n",
        "print(a)\n",
        "a.remove(3)\n",
        "print(a)"
      ]
    },
    {
      "cell_type": "markdown",
      "id": "8e4ccaa1",
      "metadata": {
        "id": "8e4ccaa1"
      },
      "source": [
        "리스트 요소 끄집어내기 pop\n",
        "- 리스트 맨 마지막 요소를 돌려주고 그 요소는 삭제"
      ]
    },
    {
      "cell_type": "code",
      "execution_count": null,
      "id": "4d4e99fd",
      "metadata": {
        "id": "4d4e99fd",
        "outputId": "5fa22252-d7b6-423e-8f8a-7b50d1b0c845"
      },
      "outputs": [
        {
          "data": {
            "text/plain": [
              "3"
            ]
          },
          "execution_count": 45,
          "metadata": {},
          "output_type": "execute_result"
        }
      ],
      "source": [
        "a=[1,2,3]\n",
        "a.pop()"
      ]
    },
    {
      "cell_type": "code",
      "execution_count": null,
      "id": "a697aee8",
      "metadata": {
        "id": "a697aee8",
        "outputId": "78b40747-fa8b-4ba3-d45b-e6fa14c0b440"
      },
      "outputs": [
        {
          "name": "stdout",
          "output_type": "stream",
          "text": [
            "[1, 2]\n"
          ]
        }
      ],
      "source": [
        "print(a)"
      ]
    },
    {
      "cell_type": "code",
      "execution_count": null,
      "id": "1bf8ebb5",
      "metadata": {
        "id": "1bf8ebb5",
        "outputId": "b86963e5-26a2-411c-a3a2-85056ec3d5f5"
      },
      "outputs": [
        {
          "data": {
            "text/plain": [
              "2"
            ]
          },
          "execution_count": 47,
          "metadata": {},
          "output_type": "execute_result"
        }
      ],
      "source": [
        "a=[1,2,3]\n",
        "a.pop(1)"
      ]
    },
    {
      "cell_type": "code",
      "execution_count": null,
      "id": "471287ae",
      "metadata": {
        "id": "471287ae",
        "outputId": "984498ce-82ae-4cb6-bd4a-4f056638b470"
      },
      "outputs": [
        {
          "name": "stdout",
          "output_type": "stream",
          "text": [
            "[1, 3]\n"
          ]
        }
      ],
      "source": [
        "print(a)"
      ]
    },
    {
      "cell_type": "markdown",
      "id": "157f94d0",
      "metadata": {
        "id": "157f94d0"
      },
      "source": [
        "리스트 갯수 세기"
      ]
    },
    {
      "cell_type": "code",
      "execution_count": null,
      "id": "d6acfdd3",
      "metadata": {
        "id": "d6acfdd3",
        "outputId": "f3506bf1-e8a1-4f3b-fedd-9b0762c93df5"
      },
      "outputs": [
        {
          "data": {
            "text/plain": [
              "2"
            ]
          },
          "execution_count": 49,
          "metadata": {},
          "output_type": "execute_result"
        }
      ],
      "source": [
        "a=[1,2,3,1]\n",
        "a.count(1)"
      ]
    },
    {
      "cell_type": "markdown",
      "id": "dbbfec0e",
      "metadata": {
        "id": "dbbfec0e"
      },
      "source": [
        "리스트 확장 extend\n",
        "- a.extend([4,5])는 a+[4,5}와 동일하다"
      ]
    },
    {
      "cell_type": "code",
      "execution_count": null,
      "id": "51992c20",
      "metadata": {
        "id": "51992c20",
        "outputId": "f04b92c8-a482-4299-d749-fb4c6a1e1b56"
      },
      "outputs": [
        {
          "name": "stdout",
          "output_type": "stream",
          "text": [
            "[1, 2, 3, 4, 5]\n"
          ]
        }
      ],
      "source": [
        "a=[1,2,3]\n",
        "a.extend([4,5]) #변하지 않음\n",
        "print(a)"
      ]
    },
    {
      "cell_type": "code",
      "execution_count": null,
      "id": "43021685",
      "metadata": {
        "id": "43021685",
        "outputId": "b85dd3b8-a53a-4d3e-e23c-50e895c565fe"
      },
      "outputs": [
        {
          "name": "stdout",
          "output_type": "stream",
          "text": [
            "[1, 2, 3, 4, 5]\n",
            "[1, 2, 3, 4, 5]\n"
          ]
        }
      ],
      "source": [
        "a=[1,2,3]\n",
        "b=[4,5]\n",
        "print(a+b) # 보여주기식 합치기\n",
        "c=a+b\n",
        "print(c) # 이렇게 새로 만들어야 변하지 않음"
      ]
    },
    {
      "cell_type": "code",
      "execution_count": null,
      "id": "6fbec0c4",
      "metadata": {
        "id": "6fbec0c4",
        "outputId": "380cfbae-8267-46ae-c40c-1d52031b2721"
      },
      "outputs": [
        {
          "name": "stdout",
          "output_type": "stream",
          "text": [
            "[1, 2, 3, 4, 5]\n"
          ]
        }
      ],
      "source": [
        "a=[1,2,3]\n",
        "b=[4,5]\n",
        "a.extend(b)\n",
        "print(a)"
      ]
    },
    {
      "cell_type": "markdown",
      "id": "51b9dda2",
      "metadata": {
        "id": "51b9dda2"
      },
      "source": [
        "**  61page 첫 번째 줄 글자 깨짐 -> 튜플**\n",
        "\n",
        "튜플 생성 예제\n",
        "- 1개의 요소만을 가질 때는 뒤에 ,를 반드시 붙여야 함\n",
        "- ()괄호 생략 가능"
      ]
    },
    {
      "cell_type": "code",
      "execution_count": null,
      "id": "ad9a5c26",
      "metadata": {
        "id": "ad9a5c26",
        "outputId": "782f65a0-54cc-43c2-e4a3-548b25d9e9b0"
      },
      "outputs": [
        {
          "name": "stdout",
          "output_type": "stream",
          "text": [
            "()\n",
            "1\n",
            "<class 'int'>\n",
            "(1,)\n",
            "<class 'tuple'>\n"
          ]
        }
      ],
      "source": [
        "t1=()\n",
        "print(t1)\n",
        "t2=(1)\n",
        "print(t2)\n",
        "print(type(t2))\n",
        "t2=(1,)\n",
        "print(t2)\n",
        "print(type(t2))"
      ]
    },
    {
      "cell_type": "code",
      "execution_count": null,
      "id": "10e17cec",
      "metadata": {
        "id": "10e17cec",
        "outputId": "033fa31e-209c-4a20-9d7a-297995b95076"
      },
      "outputs": [
        {
          "name": "stdout",
          "output_type": "stream",
          "text": [
            "(1, 2, 3)\n",
            "<class 'tuple'>\n",
            "(1, 2, 3)\n"
          ]
        }
      ],
      "source": [
        "t3=(1,2,3)\n",
        "print(t3)\n",
        "print(type(t3))\n",
        "t4=1,2,3 #괄호를 명시해주지 않으면 튜플이 된다\n",
        "print(t4)"
      ]
    },
    {
      "cell_type": "code",
      "execution_count": null,
      "id": "8f09f955",
      "metadata": {
        "id": "8f09f955",
        "outputId": "0d2155b2-27d2-458e-9897-f75e104d35c8"
      },
      "outputs": [
        {
          "name": "stdout",
          "output_type": "stream",
          "text": [
            "('a', 'b', ('ab', 'cd'))\n"
          ]
        }
      ],
      "source": [
        "t5=('a','b',('ab','cd'))\n",
        "print(t5)"
      ]
    },
    {
      "cell_type": "code",
      "execution_count": null,
      "id": "91d1a34d",
      "metadata": {
        "id": "91d1a34d",
        "outputId": "1344599b-b5d0-4033-89e2-04d1e9bf54cd"
      },
      "outputs": [
        {
          "name": "stdout",
          "output_type": "stream",
          "text": [
            "(1, 2, [3, 4])\n"
          ]
        }
      ],
      "source": [
        "t6=(1,2,[3,4])\n",
        "print(t6) #튜플 안에 리스트가 들어갈 수 있지만 잘 사용하지 않음\n",
        "#리스트 안 튜플은 많이 사용"
      ]
    },
    {
      "cell_type": "markdown",
      "id": "5c962237",
      "metadata": {
        "id": "5c962237"
      },
      "source": [
        "- 리스트와 유사하나, 튜플은 읽기 전용\n",
        "- 튜플은 요소를 지우거나 변경 불가 -> 안전하고 빠르게 사용 가능하다\n",
        "- 실제 프로그램에서는 변경되는 변수가 많아 리스트를 더 많이 사용\n",
        "\n",
        "튜플 요소 제거"
      ]
    },
    {
      "cell_type": "code",
      "execution_count": null,
      "id": "7f66cc8c",
      "metadata": {
        "id": "7f66cc8c",
        "outputId": "b03e3785-aef8-4c99-f2d3-e3bf503ea37b"
      },
      "outputs": [
        {
          "ename": "TypeError",
          "evalue": "'tuple' object doesn't support item deletion",
          "output_type": "error",
          "traceback": [
            "\u001b[1;31m---------------------------------------------------------------------------\u001b[0m",
            "\u001b[1;31mTypeError\u001b[0m                                 Traceback (most recent call last)",
            "Input \u001b[1;32mIn [58]\u001b[0m, in \u001b[0;36m<module>\u001b[1;34m\u001b[0m\n\u001b[0;32m      1\u001b[0m t1\u001b[38;5;241m=\u001b[39m(\u001b[38;5;241m1\u001b[39m,\u001b[38;5;241m2\u001b[39m,\u001b[38;5;124m'\u001b[39m\u001b[38;5;124ma\u001b[39m\u001b[38;5;124m'\u001b[39m,\u001b[38;5;124m'\u001b[39m\u001b[38;5;124mb\u001b[39m\u001b[38;5;124m'\u001b[39m)\n\u001b[1;32m----> 2\u001b[0m \u001b[38;5;28;01mdel\u001b[39;00m t1[\u001b[38;5;241m0\u001b[39m]\n",
            "\u001b[1;31mTypeError\u001b[0m: 'tuple' object doesn't support item deletion"
          ]
        }
      ],
      "source": [
        "t1=(1,2,'a','b')\n",
        "del t1[0] #튜플 요소 제거되지 않는다"
      ]
    },
    {
      "cell_type": "code",
      "execution_count": null,
      "id": "1126e3ce",
      "metadata": {
        "id": "1126e3ce",
        "outputId": "39963a5b-145a-4947-d26e-14951982b80f"
      },
      "outputs": [
        {
          "ename": "TypeError",
          "evalue": "'tuple' object does not support item assignment",
          "output_type": "error",
          "traceback": [
            "\u001b[1;31m---------------------------------------------------------------------------\u001b[0m",
            "\u001b[1;31mTypeError\u001b[0m                                 Traceback (most recent call last)",
            "Input \u001b[1;32mIn [59]\u001b[0m, in \u001b[0;36m<module>\u001b[1;34m\u001b[0m\n\u001b[1;32m----> 1\u001b[0m t1[\u001b[38;5;241m0\u001b[39m]\u001b[38;5;241m=\u001b[39m\u001b[38;5;124m'\u001b[39m\u001b[38;5;124mc\u001b[39m\u001b[38;5;124m'\u001b[39m\n",
            "\u001b[1;31mTypeError\u001b[0m: 'tuple' object does not support item assignment"
          ]
        }
      ],
      "source": [
        "t1[0]='c' #튜플 요소 수정되지 않는다"
      ]
    },
    {
      "cell_type": "markdown",
      "id": "5190b0bb",
      "metadata": {
        "id": "5190b0bb"
      },
      "source": [
        "튜플 인덱싱"
      ]
    },
    {
      "cell_type": "code",
      "execution_count": null,
      "id": "a4942871",
      "metadata": {
        "id": "a4942871",
        "outputId": "1309cce1-4ed6-4741-b330-7c0c40482195"
      },
      "outputs": [
        {
          "name": "stdout",
          "output_type": "stream",
          "text": [
            "1\n",
            "b\n"
          ]
        }
      ],
      "source": [
        "t1=(1,2,'a','b')\n",
        "print(t1[0])\n",
        "print(t1[3])"
      ]
    },
    {
      "cell_type": "markdown",
      "id": "fe07f230",
      "metadata": {
        "id": "fe07f230"
      },
      "source": [
        "튜플 슬라이싱"
      ]
    },
    {
      "cell_type": "code",
      "execution_count": null,
      "id": "2b761d1e",
      "metadata": {
        "id": "2b761d1e",
        "outputId": "6506ce38-0ef2-4ea5-f9e8-965b8fe94318"
      },
      "outputs": [
        {
          "name": "stdout",
          "output_type": "stream",
          "text": [
            "(2, 'a', 'b')\n"
          ]
        }
      ],
      "source": [
        "t1=(1,2,'a','b')\n",
        "print(t1[1:])"
      ]
    },
    {
      "cell_type": "markdown",
      "id": "efa708f7",
      "metadata": {
        "id": "efa708f7"
      },
      "source": [
        "튜플 더하기"
      ]
    },
    {
      "cell_type": "code",
      "execution_count": null,
      "id": "87195aa5",
      "metadata": {
        "id": "87195aa5",
        "outputId": "5dd498a2-27d4-4113-e551-0348e7270c07"
      },
      "outputs": [
        {
          "name": "stdout",
          "output_type": "stream",
          "text": [
            "(1, 2, 'a', 'b', 3, 4)\n",
            "(1, 2, 'a', 'b', 3, 4)\n"
          ]
        }
      ],
      "source": [
        "t1=(1,2,'a','b')\n",
        "t2=(3,4)\n",
        "print(t1+t2)\n",
        "t3=t1+t2\n",
        "print(t3)"
      ]
    },
    {
      "cell_type": "markdown",
      "id": "c792ef33",
      "metadata": {
        "id": "c792ef33"
      },
      "source": [
        "튜플 곱하기"
      ]
    },
    {
      "cell_type": "code",
      "execution_count": null,
      "id": "832260d0",
      "metadata": {
        "id": "832260d0",
        "outputId": "5a750876-08e4-421c-e80b-068ff1467c0b"
      },
      "outputs": [
        {
          "name": "stdout",
          "output_type": "stream",
          "text": [
            "(3, 4, 3, 4, 3, 4)\n",
            "(3, 4, 3, 4, 3, 4)\n"
          ]
        }
      ],
      "source": [
        "t1=(1,2,'a','b')\n",
        "t2=(3,4)\n",
        "print(t2*3)\n",
        "t4=t2*3 #튜플을 곱해서 새로운 튜플 만들기 가능\n",
        "print(t4)"
      ]
    },
    {
      "cell_type": "markdown",
      "id": "93b78e8f",
      "metadata": {
        "id": "93b78e8f"
      },
      "source": [
        "튜플 길이 구하기 예제"
      ]
    },
    {
      "cell_type": "code",
      "execution_count": null,
      "id": "730cfb50",
      "metadata": {
        "id": "730cfb50",
        "outputId": "9dd268fb-84ff-412e-f76f-3fecd74fbe3e"
      },
      "outputs": [
        {
          "name": "stdout",
          "output_type": "stream",
          "text": [
            "4\n"
          ]
        }
      ],
      "source": [
        "t1=(1,2,'a','b')\n",
        "print(len(t1))"
      ]
    },
    {
      "cell_type": "markdown",
      "id": "530172d4",
      "metadata": {
        "id": "530172d4"
      },
      "source": [
        "튜플의 패킹과 언패킹\n",
        "- 패킹 : 한 데이터에 여러 개의 데이터를 넣는 것\n",
        " - 실습을 통해 만들어 본 리스트, 튜플 자료형이 패킹에 속함\n",
        "- 언패킹 : 한 데이터에서 데이터를 각각 꺼내오는 것\n",
        "  - 튜플과 리스트 둘 다 패킹, 언패킹 가능"
      ]
    },
    {
      "cell_type": "markdown",
      "id": "c6a70e4b",
      "metadata": {
        "id": "c6a70e4b"
      },
      "source": [
        "언패킹"
      ]
    },
    {
      "cell_type": "code",
      "execution_count": null,
      "id": "61c26fde",
      "metadata": {
        "id": "61c26fde",
        "outputId": "04fb7ccf-c46c-44a9-a566-8adbff2977a1"
      },
      "outputs": [
        {
          "name": "stdout",
          "output_type": "stream",
          "text": [
            "1 2 3 4 5\n",
            "1 [2, 3, 4, 5]\n"
          ]
        }
      ],
      "source": [
        "T=(1,2,3,4,5)\n",
        "a,b,c,d,e = T\n",
        "print(a,b,c,d,e)\n",
        "a, *b = T #a 하나와 나머지 모든 것 b\n",
        "print(a,b)"
      ]
    },
    {
      "cell_type": "code",
      "execution_count": null,
      "id": "447e11d8",
      "metadata": {
        "id": "447e11d8",
        "outputId": "ce47fa09-7c2a-419f-db62-2b34727f7bbb"
      },
      "outputs": [
        {
          "name": "stdout",
          "output_type": "stream",
          "text": [
            "1 2 [3, 4, 5]\n",
            "<class 'list'>\n"
          ]
        }
      ],
      "source": [
        "a, b, *c = T\n",
        "print(a,b,c)\n",
        "print(type(c))"
      ]
    },
    {
      "cell_type": "code",
      "execution_count": null,
      "id": "99e488cc",
      "metadata": {
        "id": "99e488cc",
        "outputId": "55de9b43-c7d7-4f1e-ee34-b11174a24d5f"
      },
      "outputs": [
        {
          "name": "stdout",
          "output_type": "stream",
          "text": [
            "1 2 3 4 5\n"
          ]
        }
      ],
      "source": [
        "L=[1,2,3,4,5]\n",
        "a,b,c,d,e = L\n",
        "print(a,b,c,d,e)"
      ]
    },
    {
      "cell_type": "markdown",
      "id": "084a3673",
      "metadata": {
        "id": "084a3673"
      },
      "source": [
        "리스트 -> 튜플 변경"
      ]
    },
    {
      "cell_type": "code",
      "execution_count": null,
      "id": "4e9c28d4",
      "metadata": {
        "id": "4e9c28d4",
        "outputId": "d7bf6d12-6557-4523-b3c8-100c27d6ad83"
      },
      "outputs": [
        {
          "name": "stdout",
          "output_type": "stream",
          "text": [
            "(1, 2, 3, 4, 5)\n"
          ]
        }
      ],
      "source": [
        "L=[1,2,3,4,5]\n",
        "T=tuple(L)\n",
        "print(T)"
      ]
    },
    {
      "cell_type": "markdown",
      "id": "d7e86696",
      "metadata": {
        "id": "d7e86696"
      },
      "source": [
        "튜플 -> 리스트 변경"
      ]
    },
    {
      "cell_type": "code",
      "execution_count": null,
      "id": "84f5bdc8",
      "metadata": {
        "id": "84f5bdc8",
        "outputId": "f53e2a87-4c4c-4b8a-f9e3-7aa5d7b06ebd"
      },
      "outputs": [
        {
          "name": "stdout",
          "output_type": "stream",
          "text": [
            "[1, 2, 3, 4, 5]\n"
          ]
        }
      ],
      "source": [
        "T=(1,2,3,4,5)\n",
        "L=list(T)\n",
        "print(L)"
      ]
    },
    {
      "cell_type": "markdown",
      "id": "d4ac0af2",
      "metadata": {
        "id": "d4ac0af2"
      },
      "source": [
        "딕셔너리\n",
        "- 사전\n",
        "- key:value 형식으로 이루어진 자료형\n",
        "\n",
        "딕셔너리 생성 예제"
      ]
    },
    {
      "cell_type": "code",
      "execution_count": null,
      "id": "0f977a64",
      "metadata": {
        "id": "0f977a64",
        "outputId": "ef128141-0b56-4db2-deba-7fab91752bdd"
      },
      "outputs": [
        {
          "name": "stdout",
          "output_type": "stream",
          "text": [
            "{'name': 'pey', 'phone': '0119993323', 'birth': '1118'}\n"
          ]
        }
      ],
      "source": [
        "dic = {'name':'pey','phone':'0119993323','birth':'1118'}\n",
        "print(dic)"
      ]
    },
    {
      "cell_type": "code",
      "execution_count": null,
      "id": "a55cc090",
      "metadata": {
        "id": "a55cc090",
        "outputId": "082f9638-f9b1-43dc-beff-1f8301cd3bb0"
      },
      "outputs": [
        {
          "name": "stdout",
          "output_type": "stream",
          "text": [
            "{1: 'hi'}\n"
          ]
        }
      ],
      "source": [
        "a={1:'hi'}\n",
        "print(a)"
      ]
    },
    {
      "cell_type": "code",
      "execution_count": null,
      "id": "61f03bd8",
      "metadata": {
        "id": "61f03bd8",
        "outputId": "d6d2da9e-6aa9-46e9-d943-b9f7da96468c"
      },
      "outputs": [
        {
          "name": "stdout",
          "output_type": "stream",
          "text": [
            "{'a': [1, 2, 3]}\n"
          ]
        }
      ],
      "source": [
        "a={'a':[1,2,3]}\n",
        "print(a)"
      ]
    },
    {
      "cell_type": "markdown",
      "id": "17571e33",
      "metadata": {
        "id": "17571e33"
      },
      "source": [
        "딕셔너리 키, 값 추가 예제"
      ]
    },
    {
      "cell_type": "code",
      "execution_count": null,
      "id": "b087150b",
      "metadata": {
        "id": "b087150b",
        "outputId": "1811b815-ef39-4098-b69a-7041d8cb3e85"
      },
      "outputs": [
        {
          "name": "stdout",
          "output_type": "stream",
          "text": [
            "{1: 'a', 2: 'b'}\n"
          ]
        }
      ],
      "source": [
        "a={1:'a'}\n",
        "a[2]='b'\n",
        "print(a)"
      ]
    },
    {
      "cell_type": "code",
      "execution_count": null,
      "id": "3c13e64d",
      "metadata": {
        "id": "3c13e64d",
        "outputId": "dcf6ddfb-0201-4c39-aa2f-8cf84541ddfb"
      },
      "outputs": [
        {
          "name": "stdout",
          "output_type": "stream",
          "text": [
            "{1: 'a', 2: 'b', 'name': 'pay'}\n",
            "{1: 'a', 2: 'b', 'name': 'pay', 3: [1, 2, 3]}\n"
          ]
        }
      ],
      "source": [
        "a['name']='pay'\n",
        "print(a)\n",
        "a[3]=[1,2,3]\n",
        "print(a)"
      ]
    },
    {
      "cell_type": "markdown",
      "id": "d5dccdb8",
      "metadata": {
        "id": "d5dccdb8"
      },
      "source": [
        "함수를 만들어서 키와 값으로 활용하기"
      ]
    },
    {
      "cell_type": "code",
      "execution_count": null,
      "id": "abaacc59",
      "metadata": {
        "id": "abaacc59"
      },
      "outputs": [],
      "source": [
        "def add(a,b):\n",
        "    return a+b\n",
        "def sub(a,b):\n",
        "    return a-b\n",
        "\n",
        "action={0:add,1:sub}"
      ]
    },
    {
      "cell_type": "code",
      "execution_count": null,
      "id": "6967f8c4",
      "metadata": {
        "id": "6967f8c4",
        "outputId": "a063eba1-6aa5-4724-d783-ce0421a691aa"
      },
      "outputs": [
        {
          "data": {
            "text/plain": [
              "9"
            ]
          },
          "execution_count": 82,
          "metadata": {},
          "output_type": "execute_result"
        }
      ],
      "source": [
        "action[0](4,5) #0번 키를 호출, 값에 4,5를 대입한 결과 출력"
      ]
    },
    {
      "cell_type": "markdown",
      "id": "c952972a",
      "metadata": {
        "id": "c952972a"
      },
      "source": [
        "딕셔너리를 만드는 다른 방법(함수 이용)"
      ]
    },
    {
      "cell_type": "code",
      "execution_count": null,
      "id": "9e1165aa",
      "metadata": {
        "id": "9e1165aa",
        "outputId": "4b69ddc1-b857-4c68-a0f8-98f239402b13"
      },
      "outputs": [
        {
          "name": "stdout",
          "output_type": "stream",
          "text": [
            "{'one': 1, 'two': 2}\n"
          ]
        }
      ],
      "source": [
        "a=dict(one=1,two=2)\n",
        "print(a)"
      ]
    },
    {
      "cell_type": "code",
      "execution_count": null,
      "id": "b037ae82",
      "metadata": {
        "id": "b037ae82",
        "outputId": "46fab3f5-5061-4ab6-b23e-f7fa181b910a"
      },
      "outputs": [
        {
          "name": "stdout",
          "output_type": "stream",
          "text": [
            "{'one': 1, 'two': 2}\n"
          ]
        }
      ],
      "source": [
        "b=dict([('one',1),('two',2)])\n",
        "print(b)"
      ]
    },
    {
      "cell_type": "code",
      "execution_count": null,
      "id": "ea1009b5",
      "metadata": {
        "id": "ea1009b5",
        "outputId": "d0c95ba3-ba1d-4e89-cdc6-0c6d49b4b3dc"
      },
      "outputs": [
        {
          "name": "stdout",
          "output_type": "stream",
          "text": [
            "{'one': 1, 'two': 2}\n"
          ]
        }
      ],
      "source": [
        "c=dict([['one',1],['two',2]])\n",
        "print(c)"
      ]
    },
    {
      "cell_type": "code",
      "execution_count": null,
      "id": "bccd845a",
      "metadata": {
        "id": "bccd845a"
      },
      "outputs": [],
      "source": [
        "keys=['one','two','three']\n",
        "values=(1,2,3)\n",
        "zip(keys,values)\n",
        "d=dict(zip(keys,values))"
      ]
    },
    {
      "cell_type": "code",
      "execution_count": null,
      "id": "53dd7611",
      "metadata": {
        "id": "53dd7611",
        "outputId": "3532911a-bfa6-4c7b-f501-a81c12e647d2"
      },
      "outputs": [
        {
          "name": "stdout",
          "output_type": "stream",
          "text": [
            "{'one': 1, 'two': 2, 'three': 3}\n"
          ]
        }
      ],
      "source": [
        "print(d)"
      ]
    },
    {
      "cell_type": "markdown",
      "id": "c348d0b8",
      "metadata": {
        "id": "c348d0b8"
      },
      "source": [
        "딕셔너리에서 키 제거 예제"
      ]
    },
    {
      "cell_type": "code",
      "execution_count": null,
      "id": "26323800",
      "metadata": {
        "id": "26323800",
        "outputId": "54ec58da-6e1b-42ee-e425-8e936455dd57"
      },
      "outputs": [
        {
          "name": "stdout",
          "output_type": "stream",
          "text": [
            "{1: 'a', 2: 'b', 'name': 'pay', 3: [1, 2, 3]}\n"
          ]
        }
      ],
      "source": [
        "a={1: 'a', 2: 'b', 'name': 'pay', 3: [1, 2, 3]}\n",
        "print(a)"
      ]
    },
    {
      "cell_type": "code",
      "execution_count": null,
      "id": "6dff9b9d",
      "metadata": {
        "id": "6dff9b9d",
        "outputId": "72d03237-a684-44f0-9eaf-7994de23f3b1"
      },
      "outputs": [
        {
          "name": "stdout",
          "output_type": "stream",
          "text": [
            "{2: 'b', 'name': 'pay', 3: [1, 2, 3]}\n"
          ]
        }
      ],
      "source": [
        "del a[1]\n",
        "print(a)"
      ]
    },
    {
      "cell_type": "markdown",
      "id": "2d042708",
      "metadata": {
        "id": "2d042708"
      },
      "source": [
        "딕셔너리에서 키를 이용하여 값을 얻기"
      ]
    },
    {
      "cell_type": "code",
      "execution_count": null,
      "id": "7d353994",
      "metadata": {
        "id": "7d353994",
        "outputId": "aceae427-a794-433b-9da1-38e2691de8d3"
      },
      "outputs": [
        {
          "name": "stdout",
          "output_type": "stream",
          "text": [
            "a\n",
            "b\n"
          ]
        }
      ],
      "source": [
        "a={1:'a',2:'b'}\n",
        "print(a[1])\n",
        "print(a[2])"
      ]
    },
    {
      "cell_type": "markdown",
      "id": "17b4b52e",
      "metadata": {
        "id": "17b4b52e"
      },
      "source": [
        "키 리스트 만들기"
      ]
    },
    {
      "cell_type": "code",
      "execution_count": null,
      "id": "210c36f9",
      "metadata": {
        "id": "210c36f9",
        "outputId": "be6123f9-02f3-47dd-f1f2-c1d18a559c33"
      },
      "outputs": [
        {
          "name": "stdout",
          "output_type": "stream",
          "text": [
            "dict_keys(['name', 'phone', 'birth'])\n",
            "<class 'dict_keys'>\n"
          ]
        },
        {
          "data": {
            "text/plain": [
              "['name', 'phone', 'birth']"
            ]
          },
          "execution_count": 96,
          "metadata": {},
          "output_type": "execute_result"
        }
      ],
      "source": [
        "a = {'name':'pey','phone':'0119993323','birth':'1118'}\n",
        "print(a.keys())\n",
        "print(type(a.keys()))\n",
        "list(a.keys())"
      ]
    },
    {
      "cell_type": "code",
      "execution_count": null,
      "id": "0d116bea",
      "metadata": {
        "id": "0d116bea",
        "outputId": "58039932-b4d6-4954-9652-bfadcd30a03b"
      },
      "outputs": [
        {
          "name": "stdout",
          "output_type": "stream",
          "text": [
            "name\n",
            "phone\n",
            "birth\n"
          ]
        }
      ],
      "source": [
        "for k in a.keys():\n",
        "    print(k)"
      ]
    },
    {
      "cell_type": "markdown",
      "id": "36634ac9",
      "metadata": {
        "id": "36634ac9"
      },
      "source": [
        "값 리스트 만들기"
      ]
    },
    {
      "cell_type": "code",
      "execution_count": null,
      "id": "96834d3e",
      "metadata": {
        "id": "96834d3e",
        "outputId": "4e598410-7c1c-4b12-ecf0-0808f56c6d41"
      },
      "outputs": [
        {
          "name": "stdout",
          "output_type": "stream",
          "text": [
            "dict_values(['pey', '0119993323', '1118'])\n"
          ]
        }
      ],
      "source": [
        "a = {'name':'pey','phone':'0119993323','birth':'1118'}\n",
        "print(a.values())"
      ]
    },
    {
      "cell_type": "markdown",
      "id": "d33d29c5",
      "metadata": {
        "id": "d33d29c5"
      },
      "source": [
        "키, 값 쌍 얻기"
      ]
    },
    {
      "cell_type": "code",
      "execution_count": null,
      "id": "90d6554a",
      "metadata": {
        "id": "90d6554a",
        "outputId": "aa07fe53-da35-424d-b781-91a7fcd81be2"
      },
      "outputs": [
        {
          "name": "stdout",
          "output_type": "stream",
          "text": [
            "dict_items([('name', 'pey'), ('phone', '0119993323'), ('birth', '1118')])\n"
          ]
        }
      ],
      "source": [
        "a= {'name':'pey','phone':'0119993323','birth':'1118'}\n",
        "print(a.items())"
      ]
    },
    {
      "cell_type": "raw",
      "id": "692e5d8f",
      "metadata": {
        "id": "692e5d8f"
      },
      "source": [
        "딕셔너리 모두 지우기"
      ]
    },
    {
      "cell_type": "code",
      "execution_count": null,
      "id": "15c91b54",
      "metadata": {
        "id": "15c91b54",
        "outputId": "ea3f3054-b9c7-4de1-9c10-668c56cc964c"
      },
      "outputs": [
        {
          "name": "stdout",
          "output_type": "stream",
          "text": [
            "{}\n"
          ]
        }
      ],
      "source": [
        "a= {'name':'pey','phone':'0119993323','birth':'1118'}\n",
        "a.clear()\n",
        "print(a)"
      ]
    },
    {
      "cell_type": "markdown",
      "id": "791dc92a",
      "metadata": {
        "id": "791dc92a"
      },
      "source": [
        "get() 함수를 사용하여 값 출력하기"
      ]
    },
    {
      "cell_type": "code",
      "execution_count": null,
      "id": "b10b270d",
      "metadata": {
        "id": "b10b270d",
        "outputId": "a2be0e0c-bcee-4993-c427-4de67a302a3d"
      },
      "outputs": [
        {
          "name": "stdout",
          "output_type": "stream",
          "text": [
            "pey\n",
            "0119993323\n"
          ]
        }
      ],
      "source": [
        "a= {'name':'pey','phone':'0119993323','birth':'1118'}\n",
        "print(a.get('name'))\n",
        "print(a.get('phone'))"
      ]
    },
    {
      "cell_type": "markdown",
      "id": "f1a408af",
      "metadata": {
        "id": "f1a408af"
      },
      "source": [
        "get()함수 사용과 미사용 차이"
      ]
    },
    {
      "cell_type": "code",
      "execution_count": null,
      "id": "7e3f8a58",
      "metadata": {
        "id": "7e3f8a58",
        "outputId": "d8bfc349-331b-4ee5-8897-4bdb93ef705b"
      },
      "outputs": [
        {
          "name": "stdout",
          "output_type": "stream",
          "text": [
            "None\n"
          ]
        },
        {
          "ename": "KeyError",
          "evalue": "'nokey'",
          "output_type": "error",
          "traceback": [
            "\u001b[1;31m---------------------------------------------------------------------------\u001b[0m",
            "\u001b[1;31mKeyError\u001b[0m                                  Traceback (most recent call last)",
            "Input \u001b[1;32mIn [105]\u001b[0m, in \u001b[0;36m<module>\u001b[1;34m\u001b[0m\n\u001b[0;32m      1\u001b[0m a\u001b[38;5;241m=\u001b[39m {\u001b[38;5;124m'\u001b[39m\u001b[38;5;124mname\u001b[39m\u001b[38;5;124m'\u001b[39m:\u001b[38;5;124m'\u001b[39m\u001b[38;5;124mpey\u001b[39m\u001b[38;5;124m'\u001b[39m,\u001b[38;5;124m'\u001b[39m\u001b[38;5;124mphone\u001b[39m\u001b[38;5;124m'\u001b[39m:\u001b[38;5;124m'\u001b[39m\u001b[38;5;124m0119993323\u001b[39m\u001b[38;5;124m'\u001b[39m,\u001b[38;5;124m'\u001b[39m\u001b[38;5;124mbirth\u001b[39m\u001b[38;5;124m'\u001b[39m:\u001b[38;5;124m'\u001b[39m\u001b[38;5;124m1118\u001b[39m\u001b[38;5;124m'\u001b[39m}\n\u001b[0;32m      2\u001b[0m \u001b[38;5;28mprint\u001b[39m(a\u001b[38;5;241m.\u001b[39mget(\u001b[38;5;124m'\u001b[39m\u001b[38;5;124mnokey\u001b[39m\u001b[38;5;124m'\u001b[39m))\n\u001b[1;32m----> 3\u001b[0m \u001b[38;5;28mprint\u001b[39m(\u001b[43ma\u001b[49m\u001b[43m[\u001b[49m\u001b[38;5;124;43m'\u001b[39;49m\u001b[38;5;124;43mnokey\u001b[39;49m\u001b[38;5;124;43m'\u001b[39;49m\u001b[43m]\u001b[49m)\n",
            "\u001b[1;31mKeyError\u001b[0m: 'nokey'"
          ]
        }
      ],
      "source": [
        "a= {'name':'pey','phone':'0119993323','birth':'1118'}\n",
        "print(a.get('nokey'))\n",
        "print(a['nokey'])"
      ]
    },
    {
      "cell_type": "markdown",
      "id": "6a1581a9",
      "metadata": {
        "id": "6a1581a9"
      },
      "source": [
        "딕셔너리 안에 키가 없는 경우 정해둔 값을 가져오기"
      ]
    },
    {
      "cell_type": "code",
      "execution_count": null,
      "id": "3c621d08",
      "metadata": {
        "id": "3c621d08",
        "outputId": "07893f83-d541-478c-8223-de5357404a38"
      },
      "outputs": [
        {
          "name": "stdout",
          "output_type": "stream",
          "text": [
            "None\n",
            "bar\n"
          ]
        }
      ],
      "source": [
        "a= {'name':'pey','phone':'0119993323','birth':'1118'}\n",
        "print(a.get('foo'))\n",
        "print(a.get('foo','bar')) #딕셔러니 추가는 하고 싶지 않을 때"
      ]
    },
    {
      "cell_type": "markdown",
      "id": "490c39a6",
      "metadata": {
        "id": "490c39a6"
      },
      "source": [
        "해당 키의 존재 유무"
      ]
    },
    {
      "cell_type": "code",
      "execution_count": null,
      "id": "e41b32d1",
      "metadata": {
        "id": "e41b32d1",
        "outputId": "9cb872b3-120e-4dba-c993-77111797a9da"
      },
      "outputs": [
        {
          "name": "stdout",
          "output_type": "stream",
          "text": [
            "True\n",
            "False\n"
          ]
        }
      ],
      "source": [
        "a= {'name':'pey','phone':'0119993323','birth':'1118'}\n",
        "print('name'in a)\n",
        "print('email'in a)"
      ]
    },
    {
      "cell_type": "markdown",
      "id": "999b8f8c",
      "metadata": {
        "id": "999b8f8c"
      },
      "source": [
        "집합 set\n",
        "- 여러 값을 순서 없이 그리고 중복 없이 모아 놓은 자료형\n",
        "1. 중복을 허용하지 않는다.\n",
        "2. 순서가 없다. -> 인덱싱X, 리스트함수나 튜플함수로 변경 후 인덱싱으로 접근\n",
        "\n",
        "집합 생성 예제"
      ]
    },
    {
      "cell_type": "code",
      "execution_count": null,
      "id": "1c821202",
      "metadata": {
        "id": "1c821202",
        "outputId": "7fff481a-f2f8-41df-aa51-082e08201956"
      },
      "outputs": [
        {
          "name": "stdout",
          "output_type": "stream",
          "text": [
            "{1, 2, 3}\n"
          ]
        }
      ],
      "source": [
        "s1=set([1,2,3])\n",
        "print(s1)"
      ]
    },
    {
      "cell_type": "code",
      "execution_count": null,
      "id": "81d8cd60",
      "metadata": {
        "id": "81d8cd60",
        "outputId": "71633fc2-1a76-4f0c-be26-818b6101298b"
      },
      "outputs": [
        {
          "name": "stdout",
          "output_type": "stream",
          "text": [
            "{'e', 'l', 'o', 'H'}\n"
          ]
        }
      ],
      "source": [
        "s2=set(\"Hello\")\n",
        "print(s2)"
      ]
    },
    {
      "cell_type": "code",
      "execution_count": null,
      "id": "87a7d855",
      "metadata": {
        "id": "87a7d855",
        "outputId": "4b88cbb3-1d80-4174-8f32-49ac78fd9c36"
      },
      "outputs": [
        {
          "name": "stdout",
          "output_type": "stream",
          "text": [
            "{1, 2, 3}\n"
          ]
        }
      ],
      "source": [
        "s3=set((1,2,3))\n",
        "print(s3)"
      ]
    },
    {
      "cell_type": "markdown",
      "id": "dec9723f",
      "metadata": {
        "id": "dec9723f"
      },
      "source": [
        "교집합"
      ]
    },
    {
      "cell_type": "code",
      "execution_count": null,
      "id": "29af98fa",
      "metadata": {
        "id": "29af98fa",
        "outputId": "173cde0d-91f3-4d72-ae4a-d644e23a29bb"
      },
      "outputs": [
        {
          "name": "stdout",
          "output_type": "stream",
          "text": [
            "{4, 5, 6}\n",
            "{4, 5, 6}\n"
          ]
        }
      ],
      "source": [
        "s1=set([1,2,3,4,5,6])\n",
        "s2=set([4,5,6,7,8,9])\n",
        "print(s1 & s2)\n",
        "print(s1.intersection(s2))"
      ]
    },
    {
      "cell_type": "markdown",
      "id": "26675f9c",
      "metadata": {
        "id": "26675f9c"
      },
      "source": [
        "합집합"
      ]
    },
    {
      "cell_type": "code",
      "execution_count": null,
      "id": "107b1533",
      "metadata": {
        "id": "107b1533",
        "outputId": "ec9148b0-288d-47cf-b693-47a47a0c74c2"
      },
      "outputs": [
        {
          "name": "stdout",
          "output_type": "stream",
          "text": [
            "{1, 2, 3, 4, 5, 6, 7, 8, 9}\n",
            "{1, 2, 3, 4, 5, 6, 7, 8, 9}\n"
          ]
        }
      ],
      "source": [
        "s1=set([1,2,3,4,5,6])\n",
        "s2=set([4,5,6,7,8,9])\n",
        "print(s1 | s2)\n",
        "print(s1.union(s2))"
      ]
    },
    {
      "cell_type": "markdown",
      "id": "d42ef1ed",
      "metadata": {
        "id": "d42ef1ed"
      },
      "source": [
        "차집합"
      ]
    },
    {
      "cell_type": "code",
      "execution_count": null,
      "id": "8bc62106",
      "metadata": {
        "id": "8bc62106",
        "outputId": "97878601-7973-4d44-adbe-d368271e73ae"
      },
      "outputs": [
        {
          "name": "stdout",
          "output_type": "stream",
          "text": [
            "{1, 2, 3}\n",
            "{1, 2, 3}\n"
          ]
        }
      ],
      "source": [
        "s1=set([1,2,3,4,5,6])\n",
        "s2=set([4,5,6,7,8,9])\n",
        "print(s1-s2)\n",
        "print(s1.difference(s2))"
      ]
    },
    {
      "cell_type": "markdown",
      "id": "0bf5e19d",
      "metadata": {
        "id": "0bf5e19d"
      },
      "source": [
        "집합에 값 1개 추가하기 add"
      ]
    },
    {
      "cell_type": "code",
      "execution_count": null,
      "id": "22a74f42",
      "metadata": {
        "id": "22a74f42",
        "outputId": "2cc41b6f-f1a5-46c7-85a9-00af87cf6ac3"
      },
      "outputs": [
        {
          "name": "stdout",
          "output_type": "stream",
          "text": [
            "{1, 2, 3, 4}\n"
          ]
        }
      ],
      "source": [
        "s1=set([1,2,3])\n",
        "s1.add(4)\n",
        "print(s1)"
      ]
    },
    {
      "cell_type": "markdown",
      "id": "700451d3",
      "metadata": {
        "id": "700451d3"
      },
      "source": [
        "집합에 값 여러 개 추가하기 update"
      ]
    },
    {
      "cell_type": "code",
      "execution_count": null,
      "id": "21ad20a4",
      "metadata": {
        "id": "21ad20a4",
        "outputId": "9306b169-01c3-4e6d-acd1-4f50f741b23d"
      },
      "outputs": [
        {
          "name": "stdout",
          "output_type": "stream",
          "text": [
            "{1, 2, 3, 4, 5, 6}\n"
          ]
        }
      ],
      "source": [
        "s1=set([1,2,3])\n",
        "s1.update([4,5,6])\n",
        "print(s1)"
      ]
    },
    {
      "cell_type": "markdown",
      "id": "9538e6bc",
      "metadata": {
        "id": "9538e6bc"
      },
      "source": [
        "집합에 특정 값 제거 remove"
      ]
    },
    {
      "cell_type": "code",
      "execution_count": null,
      "id": "622f761b",
      "metadata": {
        "id": "622f761b",
        "outputId": "1b3bcd9c-0b96-4d3b-968f-e37424dbde2b"
      },
      "outputs": [
        {
          "name": "stdout",
          "output_type": "stream",
          "text": [
            "{1, 3}\n"
          ]
        }
      ],
      "source": [
        "s1=set([1,2,3])\n",
        "s1.remove(2)\n",
        "print(s1)"
      ]
    },
    {
      "cell_type": "markdown",
      "id": "26e49954",
      "metadata": {
        "id": "26e49954"
      },
      "source": [
        "부울(bool)\n",
        "- 참과 거짓을 나타내는 자료형\n",
        "\n",
        "비교연산자 : > < == != >= <=\n",
        "\n",
        "논리 연산자 : and(&) or(|) not "
      ]
    },
    {
      "cell_type": "code",
      "execution_count": null,
      "id": "8d30efe8",
      "metadata": {
        "id": "8d30efe8",
        "outputId": "e8670f5f-cfb3-4f62-e372-4b076b538b37"
      },
      "outputs": [
        {
          "name": "stdout",
          "output_type": "stream",
          "text": [
            "True\n",
            "True\n",
            "True\n",
            "True\n",
            "False\n",
            "True\n",
            "True\n",
            "True\n"
          ]
        }
      ],
      "source": [
        "print(10==10)\n",
        "print(10!=5)\n",
        "print(10 ==10 and 10!=5) #둘 다 참일 경우 True\n",
        "print((10 ==10) & (10!=5))\n",
        "print(10 ==10 and 10==5) #and 연산자는 하나라도 거짓이면 False\n",
        "print(10>5 or 10<3) #or연산자는 하나라도 참이면 True\n",
        "print((10>5) | (10<3))\n",
        "print(not 10<5) #not 연산자는 결과 반대로 출력"
      ]
    },
    {
      "cell_type": "code",
      "execution_count": null,
      "id": "9e85d762",
      "metadata": {
        "id": "9e85d762",
        "outputId": "924a97a0-5637-4abb-d856-f3d445f341c5"
      },
      "outputs": [
        {
          "name": "stdout",
          "output_type": "stream",
          "text": [
            "hello\n"
          ]
        }
      ],
      "source": [
        "if 10==10 and 10!=5:\n",
        "    print(\"hello\")"
      ]
    },
    {
      "cell_type": "markdown",
      "id": "bfbb15b5",
      "metadata": {
        "id": "bfbb15b5"
      },
      "source": [
        "# 제어문"
      ]
    },
    {
      "cell_type": "markdown",
      "id": "866d75f7",
      "metadata": {
        "id": "866d75f7"
      },
      "source": [
        "if문"
      ]
    },
    {
      "cell_type": "code",
      "execution_count": null,
      "id": "e2b8001f",
      "metadata": {
        "id": "e2b8001f",
        "outputId": "6380de3b-e5b3-4176-9299-f43a646606ba"
      },
      "outputs": [
        {
          "name": "stdout",
          "output_type": "stream",
          "text": [
            "택시를 타고 가라\n"
          ]
        }
      ],
      "source": [
        "money=True #True 첫글자는 대문자\n",
        "if money:\n",
        "    print(\"택시를 타고 가라\")\n",
        "else :\n",
        "    print(\"걸어 가라\")"
      ]
    },
    {
      "cell_type": "markdown",
      "id": "96005423",
      "metadata": {
        "id": "96005423"
      },
      "source": [
        "pass"
      ]
    },
    {
      "cell_type": "code",
      "execution_count": null,
      "id": "b469e99d",
      "metadata": {
        "id": "b469e99d"
      },
      "outputs": [],
      "source": [
        "pocket = ['paper','money','cellphone']\n",
        "if 'money'in pocket:\n",
        "    pass\n",
        "else:\n",
        "    print(\"카드를 꺼내라\")"
      ]
    },
    {
      "cell_type": "code",
      "execution_count": null,
      "id": "244cd100",
      "metadata": {
        "id": "244cd100",
        "outputId": "5d3d16ef-a703-456c-9688-dcc9ff36679e"
      },
      "outputs": [
        {
          "name": "stdout",
          "output_type": "stream",
          "text": [
            "현금을 꺼내라\n",
            "종이를 꺼내라\n"
          ]
        }
      ],
      "source": [
        "pocket = ['paper','money','cellphone']\n",
        "if 'money'in pocket:\n",
        "    print(\"현금을 꺼내라\")\n",
        "    pass\n",
        "    print(\"종이를 꺼내라\")\n",
        "else:\n",
        "    print(\"카드를 꺼내라\")"
      ]
    },
    {
      "cell_type": "markdown",
      "id": "ab427c3f",
      "metadata": {
        "id": "ab427c3f"
      },
      "source": [
        "- 코드 중간에 pass 구문이 있어도 전체 코드가 실행됨\n",
        "\n",
        "if,else 제어문"
      ]
    },
    {
      "cell_type": "code",
      "execution_count": null,
      "id": "f61edad7",
      "metadata": {
        "id": "f61edad7",
        "outputId": "71a9ad8d-78fd-470f-897c-a22cfaf4747e"
      },
      "outputs": [
        {
          "name": "stdout",
          "output_type": "stream",
          "text": [
            "택시를 타고가라\n"
          ]
        }
      ],
      "source": [
        "pocket = ['paper','cellphone']\n",
        "card=True\n",
        "if 'money'in pocket:\n",
        "    print(\"택시를 타고가라\")\n",
        "else:\n",
        "    if card:\n",
        "        print(\"택시를 타고가라\")\n",
        "    else:\n",
        "        print(\"걸어가라\")"
      ]
    },
    {
      "cell_type": "code",
      "execution_count": null,
      "id": "db2e5073",
      "metadata": {
        "id": "db2e5073",
        "outputId": "e5ae63eb-e165-4dfc-f783-6df85360614d"
      },
      "outputs": [
        {
          "name": "stdout",
          "output_type": "stream",
          "text": [
            "택시를 타고가라\n"
          ]
        }
      ],
      "source": [
        "pocket = ['paper','card','cellphone']\n",
        "if 'money'in pocket:\n",
        "    print(\"택시를 타고가라\")\n",
        "else:\n",
        "    if 'card' in pocket:\n",
        "        print(\"택시를 타고가라\")\n",
        "    else:\n",
        "        print(\"걸어가라\")"
      ]
    },
    {
      "cell_type": "code",
      "execution_count": null,
      "id": "5d75ec24",
      "metadata": {
        "id": "5d75ec24",
        "outputId": "1f0ad561-d98a-463b-d97e-a5f34d8f2d06"
      },
      "outputs": [
        {
          "name": "stdout",
          "output_type": "stream",
          "text": [
            "택시를 타고가라\n"
          ]
        }
      ],
      "source": [
        "wallet = 'card'\n",
        "pocket = ['paper', wallet, 'cellphone']\n",
        "if 'money'in pocket:\n",
        "    print(\"택시를 타고가라\")\n",
        "else:\n",
        "    if 'card' in pocket:\n",
        "        print(\"택시를 타고가라\")\n",
        "    else:\n",
        "        print(\"걸어가라\")"
      ]
    },
    {
      "cell_type": "markdown",
      "id": "a2b382c7",
      "metadata": {
        "id": "a2b382c7"
      },
      "source": [
        "elif 제어문"
      ]
    },
    {
      "cell_type": "code",
      "execution_count": null,
      "id": "ee6356e1",
      "metadata": {
        "id": "ee6356e1",
        "outputId": "1507c02b-18ce-41e5-f1fa-76d838b06067"
      },
      "outputs": [
        {
          "name": "stdout",
          "output_type": "stream",
          "text": [
            "택시를 타고가라\n"
          ]
        }
      ],
      "source": [
        "pocket = ['paper','cellphone']\n",
        "card=True\n",
        "if 'money'in pocket:\n",
        "    print(\"택시를 타고가라\")\n",
        "elif card:\n",
        "        print(\"택시를 타고가라\")\n",
        "else:\n",
        "        print(\"걸어가라\")"
      ]
    },
    {
      "cell_type": "code",
      "execution_count": null,
      "id": "7d0b76d3",
      "metadata": {
        "id": "7d0b76d3",
        "outputId": "9f9e9c20-7f55-4c78-d2dc-420bab39d49e"
      },
      "outputs": [
        {
          "name": "stdout",
          "output_type": "stream",
          "text": [
            "걸어가라\n"
          ]
        }
      ],
      "source": [
        "card=False\n",
        "pocket = ['paper','card','cellphone']\n",
        "if 'money'in pocket:\n",
        "    print(\"택시를 타고가라\")\n",
        "elif card:\n",
        "        print(\"택시를 타고가라\")\n",
        "else:\n",
        "        print(\"걸어가라\")"
      ]
    },
    {
      "cell_type": "markdown",
      "id": "9cc2f160",
      "metadata": {
        "id": "9cc2f160"
      },
      "source": [
        "변수에는 값이 저장<br>\n",
        "'문자열'<br><br>\n",
        "A=1 -> A:변수<br>\n",
        "'A' -> A:문자열<br>\n",
        "- 문자열은 기본적으로 True"
      ]
    },
    {
      "cell_type": "code",
      "execution_count": null,
      "id": "585b38e1",
      "metadata": {
        "id": "585b38e1",
        "outputId": "bfa4e69c-00e7-4ef3-8692-7c86f5bcae78"
      },
      "outputs": [
        {
          "name": "stdout",
          "output_type": "stream",
          "text": [
            "택시를 타고가라\n"
          ]
        }
      ],
      "source": [
        "pocket = ['paper','card','cellphone']\n",
        "if 'money'in pocket:\n",
        "    print(\"택시를 타고가라\")\n",
        "elif 'card':\n",
        "        print(\"택시를 타고가라\")\n",
        "else:\n",
        "        print(\"걸어가라\")"
      ]
    },
    {
      "cell_type": "markdown",
      "id": "e7a25590",
      "metadata": {
        "id": "e7a25590"
      },
      "source": [
        "if문 한 줄 구조로 만들기 예제(만들기 전 기존 구조)"
      ]
    },
    {
      "cell_type": "code",
      "execution_count": null,
      "id": "227a3bba",
      "metadata": {
        "id": "227a3bba"
      },
      "outputs": [],
      "source": [
        "pocket=['paper','money','cellphone']\n",
        "if 'money' in pocket:\n",
        "    pass\n",
        "else:\n",
        "    print(\"카드를 꺼내라\")"
      ]
    },
    {
      "cell_type": "markdown",
      "id": "a08bbf57",
      "metadata": {
        "id": "a08bbf57"
      },
      "source": [
        "if문 한 줄 구조로 만들기 예제 - 줄바꿈X"
      ]
    },
    {
      "cell_type": "code",
      "execution_count": null,
      "id": "f33dd339",
      "metadata": {
        "id": "f33dd339"
      },
      "outputs": [],
      "source": [
        "pocket=['paper','money','cellphone']\n",
        "if 'money' in pocket:     pass\n",
        "else: print(\"카드를 꺼내라\")"
      ]
    },
    {
      "cell_type": "markdown",
      "id": "18ec9e70",
      "metadata": {
        "id": "18ec9e70"
      },
      "source": [
        "while문"
      ]
    },
    {
      "cell_type": "code",
      "execution_count": null,
      "id": "ac13a0ee",
      "metadata": {
        "id": "ac13a0ee",
        "outputId": "98abfb25-7b41-4581-e8bc-386d2054b820"
      },
      "outputs": [
        {
          "name": "stdout",
          "output_type": "stream",
          "text": [
            "나무를 1번 찍었습니다.\n",
            "나무를 2번 찍었습니다.\n",
            "나무를 3번 찍었습니다.\n",
            "나무를 4번 찍었습니다.\n",
            "나무를 5번 찍었습니다.\n",
            "나무를 6번 찍었습니다.\n",
            "나무를 7번 찍었습니다.\n",
            "나무를 8번 찍었습니다.\n",
            "나무를 9번 찍었습니다.\n",
            "나무를 10번 찍었습니다.\n",
            "나무 넘어갑니다.\n"
          ]
        }
      ],
      "source": [
        "treeHit=0\n",
        "while treeHit<10:\n",
        "    treeHit=treeHit+1\n",
        "    print(\"나무를 %d번 찍었습니다.\" %treeHit)\n",
        "    if treeHit==10:\n",
        "        print(\"나무 넘어갑니다.\")"
      ]
    },
    {
      "cell_type": "markdown",
      "id": "f51b7c45",
      "metadata": {
        "id": "f51b7c45"
      },
      "source": [
        "while 강제로 빠져나가기 break"
      ]
    },
    {
      "cell_type": "code",
      "execution_count": null,
      "id": "9c01d832",
      "metadata": {
        "id": "9c01d832",
        "outputId": "0f8f4dac-783f-4c19-a71e-ecbc40f46d18"
      },
      "outputs": [
        {
          "name": "stdout",
          "output_type": "stream",
          "text": [
            "남은 돈은 290입니다.\n",
            "돈을 받았으니 커피를 줍니다.\n",
            "남은 커피의 양은 9입니다.\n",
            "남은 돈은 280입니다.\n",
            "돈을 받았으니 커피를 줍니다.\n",
            "남은 커피의 양은 8입니다.\n",
            "남은 돈은 270입니다.\n",
            "돈을 받았으니 커피를 줍니다.\n",
            "남은 커피의 양은 7입니다.\n",
            "남은 돈은 260입니다.\n",
            "돈을 받았으니 커피를 줍니다.\n",
            "남은 커피의 양은 6입니다.\n",
            "남은 돈은 250입니다.\n",
            "돈을 받았으니 커피를 줍니다.\n",
            "남은 커피의 양은 5입니다.\n",
            "남은 돈은 240입니다.\n",
            "돈을 받았으니 커피를 줍니다.\n",
            "남은 커피의 양은 4입니다.\n",
            "남은 돈은 230입니다.\n",
            "돈을 받았으니 커피를 줍니다.\n",
            "남은 커피의 양은 3입니다.\n",
            "남은 돈은 220입니다.\n",
            "돈을 받았으니 커피를 줍니다.\n",
            "남은 커피의 양은 2입니다.\n",
            "남은 돈은 210입니다.\n",
            "돈을 받았으니 커피를 줍니다.\n",
            "남은 커피의 양은 1입니다.\n",
            "남은 돈은 200입니다.\n",
            "돈을 받았으니 커피를 줍니다.\n",
            "남은 커피의 양은 0입니다.\n",
            "커피가 다 떨어졌습니다. 판매를 중지합니다.\n"
          ]
        }
      ],
      "source": [
        "coffee=10\n",
        "money=300\n",
        "while money:\n",
        "    money=money-10\n",
        "    print(\"남은 돈은 %d입니다.\" %money)\n",
        "    print(\"돈을 받았으니 커피를 줍니다.\")\n",
        "    coffee=coffee-1\n",
        "    print(\"남은 커피의 양은 %d입니다.\" %coffee)\n",
        "    if not coffee:\n",
        "        print(\"커피가 다 떨어졌습니다. 판매를 중지합니다.\")\n",
        "        break"
      ]
    },
    {
      "cell_type": "markdown",
      "id": "29edaf33",
      "metadata": {
        "id": "29edaf33"
      },
      "source": [
        "자료형 참, 거짓 판별 예제"
      ]
    },
    {
      "cell_type": "code",
      "execution_count": null,
      "id": "932e12ac",
      "metadata": {
        "id": "932e12ac",
        "outputId": "bce04237-3216-41ed-a818-984346b4f5f7"
      },
      "outputs": [
        {
          "name": "stdout",
          "output_type": "stream",
          "text": [
            "true\n",
            "true\n",
            "true\n",
            "true\n"
          ]
        }
      ],
      "source": [
        "if [1,2,3]: print(\"true\")\n",
        "if {'value','paper'}: print(\"true\")\n",
        "if 200: print(\"true\")\n",
        "if 'card': print(\"true\")\n",
        "if []: print(\"true\")\n",
        "if '': print(\"true\")"
      ]
    },
    {
      "cell_type": "markdown",
      "id": "ce6ba930",
      "metadata": {
        "id": "ce6ba930"
      },
      "source": [
        "while문 처음으로 되돌아가기 continue"
      ]
    },
    {
      "cell_type": "code",
      "execution_count": null,
      "id": "81d57d25",
      "metadata": {
        "id": "81d57d25",
        "outputId": "4e438905-74dc-4e3f-ca40-153f89634f7d"
      },
      "outputs": [
        {
          "name": "stdout",
          "output_type": "stream",
          "text": [
            "1\n",
            "3\n",
            "5\n",
            "7\n",
            "9\n"
          ]
        }
      ],
      "source": [
        "a=0\n",
        "while a<10:\n",
        "    a=a+1\n",
        "    if a%2==0:\n",
        "        continue\n",
        "    print(a)"
      ]
    },
    {
      "cell_type": "markdown",
      "id": "2bdf34e1",
      "metadata": {
        "id": "2bdf34e1"
      },
      "source": [
        "for문"
      ]
    },
    {
      "cell_type": "code",
      "execution_count": null,
      "id": "774b9f54",
      "metadata": {
        "id": "774b9f54",
        "outputId": "3848780e-4451-4f4e-f432-78f147470bd6"
      },
      "outputs": [
        {
          "name": "stdout",
          "output_type": "stream",
          "text": [
            "one\n",
            "two\n",
            "three\n"
          ]
        }
      ],
      "source": [
        "test_list=['one','two','three']\n",
        "for i in test_list:\n",
        "    print(i)"
      ]
    },
    {
      "cell_type": "code",
      "execution_count": null,
      "id": "d0cbf01a",
      "metadata": {
        "id": "d0cbf01a",
        "outputId": "7e23df04-d754-45c9-f55d-d1aa35425b3f"
      },
      "outputs": [
        {
          "name": "stdout",
          "output_type": "stream",
          "text": [
            "say\n",
            "hello\n",
            "say\n",
            "hello\n",
            "say\n",
            "hello\n"
          ]
        }
      ],
      "source": [
        "test_list=['one','two','three']\n",
        "for i in test_list:\n",
        "    print(\"say\")\n",
        "    print(\"hello\")\n",
        "#변수 i를 활용하지 않아도 리스트 안의 요소가 다 소모될 때까지 반복문은 계속 진행된다"
      ]
    },
    {
      "cell_type": "code",
      "execution_count": null,
      "id": "287507fc",
      "metadata": {
        "id": "287507fc",
        "outputId": "259626c2-2aa2-4674-e918-131c7d693eba"
      },
      "outputs": [
        {
          "name": "stdout",
          "output_type": "stream",
          "text": [
            "1번 학생은 합격입니다.\n",
            "2번 학생은 불합격입니다.\n",
            "3번 학생은 합격입니다.\n",
            "4번 학생은 불합격입니다.\n",
            "5번 학생은 합격입니다.\n"
          ]
        }
      ],
      "source": [
        "marks=[90,25,67,45,80]\n",
        "number=0\n",
        "for mark in marks:\n",
        "    number=number+1\n",
        "    if mark>=60:\n",
        "        print(\"%d번 학생은 합격입니다.\" %number)\n",
        "    else:\n",
        "        print(\"%d번 학생은 불합격입니다.\" %number)"
      ]
    },
    {
      "cell_type": "markdown",
      "id": "b7197c9e",
      "metadata": {
        "id": "b7197c9e"
      },
      "source": [
        "for문(continue)"
      ]
    },
    {
      "cell_type": "code",
      "execution_count": null,
      "id": "ac319e79",
      "metadata": {
        "id": "ac319e79",
        "outputId": "092a342c-1511-4fa8-d0af-3419c0b90800"
      },
      "outputs": [
        {
          "name": "stdout",
          "output_type": "stream",
          "text": [
            "1번 학생 축하합니다. 합격입니다.\n",
            "3번 학생 축하합니다. 합격입니다.\n",
            "5번 학생 축하합니다. 합격입니다.\n"
          ]
        }
      ],
      "source": [
        "marks=[90,25,67,45,80]\n",
        "number=0\n",
        "for mark in marks:\n",
        "    number=number+1\n",
        "    if mark<60:\n",
        "        continue\n",
        "    print(\"%d번 학생 축하합니다. 합격입니다.\" %number)"
      ]
    },
    {
      "cell_type": "code",
      "execution_count": null,
      "id": "2813feae",
      "metadata": {
        "id": "2813feae",
        "outputId": "81f8388b-f9fd-45e4-ece7-c992458c8aec"
      },
      "outputs": [
        {
          "name": "stdout",
          "output_type": "stream",
          "text": [
            "1번 학생 축하합니다. 합격입니다.\n",
            "3번 학생 축하합니다. 합격입니다.\n",
            "5번 학생 축하합니다. 합격입니다.\n"
          ]
        }
      ],
      "source": [
        "marks=[90,25,67,45,80]\n",
        "number=0\n",
        "for mark in marks:\n",
        "    number=number+1\n",
        "    if mark<60:\n",
        "        pass\n",
        "    else:\n",
        "        print(\"%d번 학생 축하합니다. 합격입니다.\" %number)"
      ]
    },
    {
      "cell_type": "markdown",
      "id": "428ac59b",
      "metadata": {
        "id": "428ac59b"
      },
      "source": [
        "range() 예제"
      ]
    },
    {
      "cell_type": "code",
      "execution_count": null,
      "id": "041e4a1d",
      "metadata": {
        "id": "041e4a1d",
        "outputId": "533c0a97-b2d5-40b4-c75a-43d55c99a895"
      },
      "outputs": [
        {
          "name": "stdout",
          "output_type": "stream",
          "text": [
            "range(0, 10)\n"
          ]
        }
      ],
      "source": [
        "a=range(10)\n",
        "print(a)"
      ]
    },
    {
      "cell_type": "code",
      "execution_count": null,
      "id": "e0d6c691",
      "metadata": {
        "id": "e0d6c691",
        "outputId": "36c1017a-ad1b-4c89-903f-ed94c4fff991"
      },
      "outputs": [
        {
          "name": "stdout",
          "output_type": "stream",
          "text": [
            "[0, 1, 2, 3, 4, 5, 6, 7, 8, 9]\n"
          ]
        }
      ],
      "source": [
        "print(list(a))"
      ]
    },
    {
      "cell_type": "code",
      "execution_count": null,
      "id": "93185dbb",
      "metadata": {
        "id": "93185dbb",
        "outputId": "e994b649-4fed-481b-dd6c-138cb2bd15ca"
      },
      "outputs": [
        {
          "name": "stdout",
          "output_type": "stream",
          "text": [
            "[1, 2, 3, 4, 5, 6, 7, 8, 9, 10]\n"
          ]
        }
      ],
      "source": [
        "a=range(1,11)\n",
        "print(list(a))"
      ]
    },
    {
      "cell_type": "markdown",
      "id": "065ddad9",
      "metadata": {
        "id": "065ddad9"
      },
      "source": [
        "range()를 이용한 for문"
      ]
    },
    {
      "cell_type": "code",
      "execution_count": null,
      "id": "47c31762",
      "metadata": {
        "id": "47c31762",
        "outputId": "4c88e4f9-55fc-48b8-9ae7-14b87855dd34"
      },
      "outputs": [
        {
          "name": "stdout",
          "output_type": "stream",
          "text": [
            "1번 학생 축하합니다. 합격입니다.\n",
            "3번 학생 축하합니다. 합격입니다.\n",
            "5번 학생 축하합니다. 합격입니다.\n"
          ]
        }
      ],
      "source": [
        "marks=[90,25,67,45,80]\n",
        "for number in range(len(marks)): #len은 요소 개수, len(marks)=5\n",
        "    if marks[number]<60:\n",
        "        continue\n",
        "    print(\"%d번 학생 축하합니다. 합격입니다.\" %(number+1))"
      ]
    },
    {
      "cell_type": "code",
      "execution_count": null,
      "id": "8a22be8c",
      "metadata": {
        "id": "8a22be8c",
        "outputId": "bcde39fa-f1c1-4fab-be7c-a2d8bd85dd80"
      },
      "outputs": [
        {
          "name": "stdout",
          "output_type": "stream",
          "text": [
            "1,3,5 번 학생 축하합니다. 합격입니다.\n"
          ]
        }
      ],
      "source": [
        "marks=[90,25,67,45,80]\n",
        "passed = []\n",
        "for i in range(len(marks)): #len은 요소 개수, len(marks)=5\n",
        "    if marks[i]>=60:\n",
        "        passed.append(i+1)\n",
        "a=\",\".join(str(_) for _ in passed)\n",
        "print(a,'번 학생 축하합니다. 합격입니다.')"
      ]
    }
  ],
  "metadata": {
    "kernelspec": {
      "display_name": "Python 3 (ipykernel)",
      "language": "python",
      "name": "python3"
    },
    "language_info": {
      "codemirror_mode": {
        "name": "ipython",
        "version": 3
      },
      "file_extension": ".py",
      "mimetype": "text/x-python",
      "name": "python",
      "nbconvert_exporter": "python",
      "pygments_lexer": "ipython3",
      "version": "3.9.7"
    },
    "colab": {
      "name": "3일차.ipynb",
      "provenance": [],
      "include_colab_link": true
    }
  },
  "nbformat": 4,
  "nbformat_minor": 5
}