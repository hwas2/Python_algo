{
  "cells": [
    {
      "cell_type": "markdown",
      "metadata": {
        "id": "view-in-github",
        "colab_type": "text"
      },
      "source": [
        "<a href=\"https://colab.research.google.com/github/hwas2/Python_study/blob/master/4%EC%9D%BC%EC%B0%A8.ipynb\" target=\"_parent\"><img src=\"https://colab.research.google.com/assets/colab-badge.svg\" alt=\"Open In Colab\"/></a>"
      ]
    },
    {
      "cell_type": "markdown",
      "id": "2388baaf",
      "metadata": {
        "id": "2388baaf"
      },
      "source": [
        "for 문 실습 예제(range)"
      ]
    },
    {
      "cell_type": "code",
      "execution_count": null,
      "id": "c69e8397",
      "metadata": {
        "id": "c69e8397",
        "outputId": "77051128-b129-49cd-9a25-dcfca040a4a0"
      },
      "outputs": [
        {
          "name": "stdout",
          "output_type": "stream",
          "text": [
            "2\n",
            "4\n",
            "6\n",
            "8\n",
            "10\n",
            "12\n",
            "14\n",
            "16\n",
            "18\n",
            "\n",
            "3\n",
            "6\n",
            "9\n",
            "12\n",
            "15\n",
            "18\n",
            "21\n",
            "24\n",
            "27\n",
            "\n",
            "4\n",
            "8\n",
            "12\n",
            "16\n",
            "20\n",
            "24\n",
            "28\n",
            "32\n",
            "36\n",
            "\n",
            "5\n",
            "10\n",
            "15\n",
            "20\n",
            "25\n",
            "30\n",
            "35\n",
            "40\n",
            "45\n",
            "\n",
            "6\n",
            "12\n",
            "18\n",
            "24\n",
            "30\n",
            "36\n",
            "42\n",
            "48\n",
            "54\n",
            "\n",
            "7\n",
            "14\n",
            "21\n",
            "28\n",
            "35\n",
            "42\n",
            "49\n",
            "56\n",
            "63\n",
            "\n",
            "8\n",
            "16\n",
            "24\n",
            "32\n",
            "40\n",
            "48\n",
            "56\n",
            "64\n",
            "72\n",
            "\n",
            "9\n",
            "18\n",
            "27\n",
            "36\n",
            "45\n",
            "54\n",
            "63\n",
            "72\n",
            "81\n",
            "\n"
          ]
        }
      ],
      "source": [
        "for i in range(2,10): #i는 2부터 9까지\n",
        "    for j in range(1,10):\n",
        "        print(i*j)\n",
        "    print('') #줄바꿈"
      ]
    },
    {
      "cell_type": "code",
      "execution_count": null,
      "id": "2737fa54",
      "metadata": {
        "id": "2737fa54",
        "outputId": "aa687f25-0464-4acb-b6ad-692fd214d724"
      },
      "outputs": [
        {
          "name": "stdout",
          "output_type": "stream",
          "text": [
            "2 4 6 8 10 12 14 16 18  \n",
            "3 6 9 12 15 18 21 24 27  \n",
            "4 8 12 16 20 24 28 32 36  \n",
            "5 10 15 20 25 30 35 40 45  \n",
            "6 12 18 24 30 36 42 48 54  \n",
            "7 14 21 28 35 42 49 56 63  \n",
            "8 16 24 32 40 48 56 64 72  \n",
            "9 18 27 36 45 54 63 72 81  \n"
          ]
        }
      ],
      "source": [
        "for i in range(2,10): #i는 2부터 9까지\n",
        "    for j in range(1,10):\n",
        "        print(i*j, end= \" \")\n",
        "    print(' ') #줄바꿈"
      ]
    },
    {
      "cell_type": "code",
      "execution_count": null,
      "id": "219bcc9c",
      "metadata": {
        "id": "219bcc9c",
        "outputId": "98a23279-c3e3-4728-e3e6-6dfdbc6d779d"
      },
      "outputs": [
        {
          "name": "stdout",
          "output_type": "stream",
          "text": [
            "2 4 6 8 10 12 14 16 18  \n",
            "3 6 9 12 15 18 21 24 27  \n",
            "4 8 12 16 20 24 28 32 36  \n",
            "5 10 15 20 25 30 35 40 45  \n",
            "6 12 18 24 30 36 42 48 54  \n",
            "7 14 21 28 35 42 49  \n"
          ]
        }
      ],
      "source": [
        "# 7*7에서 멈추는 경우\n",
        "for i in range(2,10): #i는 2부터 9까지\n",
        "    for j in range(1,10):\n",
        "        print(i*j, end= \" \")\n",
        "        if i==7 and j==7:\n",
        "            break\n",
        "    print(' ') #줄바꿈\n",
        "    if i==7:\n",
        "        break"
      ]
    },
    {
      "cell_type": "code",
      "execution_count": null,
      "id": "bdcc1835",
      "metadata": {
        "id": "bdcc1835",
        "outputId": "061484f1-78f1-44c4-a10a-5882e195070b"
      },
      "outputs": [
        {
          "name": "stdout",
          "output_type": "stream",
          "text": [
            "2 4 6 8 10 12 14 16 18  \n",
            "3 6 9 12 15 18 21 24 27  \n",
            "4 8 12 16 20 24 28 32 36  \n",
            "5 10 15 20 25 30 35 40 45  \n",
            "6 12 18 24 30 36 42 48 54  \n",
            "7 14 21 28 35 42 49 "
          ]
        }
      ],
      "source": [
        "def func():\n",
        "    for i in range(2,10): #i는 2부터 9까지\n",
        "        for j in range(1,10):\n",
        "            print(i*j, end= \" \")\n",
        "            if (i*j==49):\n",
        "                return\n",
        "        print(' ') #줄바꿈\n",
        "func()"
      ]
    },
    {
      "cell_type": "markdown",
      "id": "f169ed41",
      "metadata": {
        "id": "f169ed41"
      },
      "source": [
        "리스트 안에 for문 포함하기 예제"
      ]
    },
    {
      "cell_type": "code",
      "execution_count": null,
      "id": "d1b63cee",
      "metadata": {
        "id": "d1b63cee",
        "outputId": "c6860fe6-6c5e-4734-df93-7d8c6825a409"
      },
      "outputs": [
        {
          "name": "stdout",
          "output_type": "stream",
          "text": [
            "[3, 6, 9, 12]\n"
          ]
        }
      ],
      "source": [
        "a=[1,2,3,4]\n",
        "result=[]\n",
        "for num in a:\n",
        "    result.append(num*3)\n",
        "print(result)"
      ]
    },
    {
      "cell_type": "code",
      "execution_count": null,
      "id": "3aa59001",
      "metadata": {
        "id": "3aa59001",
        "outputId": "5e6a9698-0504-4eb7-f68d-0ba7094fb2fb"
      },
      "outputs": [
        {
          "name": "stdout",
          "output_type": "stream",
          "text": [
            "[3, 6, 9, 12]\n"
          ]
        }
      ],
      "source": [
        "a=[1,2,3,4]\n",
        "result=[num*3 for num in a]\n",
        "print(result)"
      ]
    },
    {
      "cell_type": "markdown",
      "id": "7945ff26",
      "metadata": {
        "id": "7945ff26"
      },
      "source": [
        "리스트 안에 for문 포함하기 예제(if조건문)"
      ]
    },
    {
      "cell_type": "code",
      "execution_count": null,
      "id": "f01cd0fa",
      "metadata": {
        "id": "f01cd0fa",
        "outputId": "f72e5a44-2ddd-4bc4-d3c5-0d45fd3e92b5"
      },
      "outputs": [
        {
          "name": "stdout",
          "output_type": "stream",
          "text": [
            "[6, 12]\n"
          ]
        }
      ],
      "source": [
        "a=[1,2,3,4]\n",
        "result=[]\n",
        "for num in a:\n",
        "    if num%2==0:\n",
        "        result.append(num*3)\n",
        "print(result)"
      ]
    },
    {
      "cell_type": "code",
      "execution_count": null,
      "id": "148aca51",
      "metadata": {
        "id": "148aca51",
        "outputId": "d302d3a8-7114-4717-9766-56dd71cc9cdc"
      },
      "outputs": [
        {
          "name": "stdout",
          "output_type": "stream",
          "text": [
            "[6, 12]\n"
          ]
        }
      ],
      "source": [
        "a=[1,2,3,4]\n",
        "result=[num*3  for num in a if num%2==0]\n",
        "print(result)"
      ]
    },
    {
      "cell_type": "markdown",
      "id": "1ceef294",
      "metadata": {
        "id": "1ceef294"
      },
      "source": [
        "for문에서 if,else 한 줄에 포함하기 예제\n",
        "- if ~ else 구문을 for문과 함께 한 줄에 포함시키기 위해서는 for 문 앞에 위치해야 함"
      ]
    },
    {
      "cell_type": "code",
      "execution_count": null,
      "id": "2ebf741c",
      "metadata": {
        "id": "2ebf741c",
        "outputId": "f713deb2-85bb-4388-b382-7c03bc029e55"
      },
      "outputs": [
        {
          "name": "stdout",
          "output_type": "stream",
          "text": [
            "[6, 12]\n",
            "[4, 12]\n"
          ]
        }
      ],
      "source": [
        "a=[1,2,3,4]\n",
        "result=[num*3  for num in a if num%2==0]\n",
        "result2=[num*4  for num in a if num%2==1]\n",
        "print(result)\n",
        "print(result2)"
      ]
    },
    {
      "cell_type": "code",
      "execution_count": null,
      "id": "5f710377",
      "metadata": {
        "id": "5f710377",
        "outputId": "d7098605-696f-4c44-9940-bfd7d9f8617b"
      },
      "outputs": [
        {
          "name": "stdout",
          "output_type": "stream",
          "text": [
            "[0, 6, 9, 12]\n"
          ]
        }
      ],
      "source": [
        "a=[1,2,3,4]\n",
        "result=[num*3  if num>1 else 0 for num in a]\n",
        "print(result)"
      ]
    },
    {
      "cell_type": "code",
      "execution_count": null,
      "id": "633a4efa",
      "metadata": {
        "id": "633a4efa",
        "outputId": "e78e09b8-ea10-4897-d647-4e640fccff14"
      },
      "outputs": [
        {
          "ename": "SyntaxError",
          "evalue": "invalid syntax (4069902628.py, line 2)",
          "output_type": "error",
          "traceback": [
            "\u001b[1;36m  Input \u001b[1;32mIn [20]\u001b[1;36m\u001b[0m\n\u001b[1;33m    result=[num*3  for num in a if num>1 else 0]\u001b[0m\n\u001b[1;37m                                         ^\u001b[0m\n\u001b[1;31mSyntaxError\u001b[0m\u001b[1;31m:\u001b[0m invalid syntax\n"
          ]
        }
      ],
      "source": [
        "a=[1,2,3,4]\n",
        "result=[num*3  for num in a if num>1 else 0]\n",
        "print(result)"
      ]
    },
    {
      "cell_type": "markdown",
      "id": "60465e97",
      "metadata": {
        "id": "60465e97"
      },
      "source": [
        "# 함수\n",
        "- 함수는 반복적으로 사용하기 위해서 생성\n",
        "- 코드의 일정부분이 별도의 논리적 개념으로 분리되는 것이 가능할 때, 함수로 코드를 분리\n",
        " - return 키워드 계산한 결과값을 함수를 호출할 곳으로 돌려주는 역할"
      ]
    },
    {
      "cell_type": "markdown",
      "id": "333ce9d5",
      "metadata": {
        "id": "333ce9d5"
      },
      "source": [
        "함수 만들기 예제"
      ]
    },
    {
      "cell_type": "code",
      "execution_count": null,
      "id": "6559055c",
      "metadata": {
        "id": "6559055c",
        "outputId": "cd87f22e-d7a2-46db-c3fe-ac347c631580"
      },
      "outputs": [
        {
          "name": "stdout",
          "output_type": "stream",
          "text": [
            "None\n"
          ]
        }
      ],
      "source": [
        "def sum(a,b):\n",
        "    a+b\n",
        "sum(1,2)\n",
        "print(sum(1,2))"
      ]
    },
    {
      "cell_type": "code",
      "execution_count": null,
      "id": "ecbe8fee",
      "metadata": {
        "id": "ecbe8fee",
        "outputId": "a6837cea-4278-4bd6-a6d0-8d6de7a4b761"
      },
      "outputs": [
        {
          "name": "stdout",
          "output_type": "stream",
          "text": [
            "3\n"
          ]
        }
      ],
      "source": [
        "def sum2(a,b):\n",
        "    return a+b\n",
        "sum2(1,2)\n",
        "print(sum2(1,2))"
      ]
    },
    {
      "cell_type": "markdown",
      "id": "875771ae",
      "metadata": {
        "id": "875771ae"
      },
      "source": [
        "return\n",
        "- return 없이 함수를 정의하면 함수를 호출한 측에 아무 값도 전달하지 않음\n",
        " - None 객체를 전달\n",
        "  - None 객체란 파이썬 내장 객체로써 아무 값도 없음을 표현하는 객체"
      ]
    },
    {
      "cell_type": "markdown",
      "id": "f120c2b1",
      "metadata": {
        "id": "f120c2b1"
      },
      "source": [
        "함수 만들기 예제2"
      ]
    },
    {
      "cell_type": "code",
      "execution_count": null,
      "id": "7832c938",
      "metadata": {
        "id": "7832c938",
        "outputId": "bc0748cd-558c-430a-ad95-500086ac567b"
      },
      "outputs": [
        {
          "data": {
            "text/plain": [
              "10"
            ]
          },
          "execution_count": 24,
          "metadata": {},
          "output_type": "execute_result"
        }
      ],
      "source": [
        "def add(a,b):\n",
        "    return a+b\n",
        "def addabs(a,b):\n",
        "    c=add(a,b)\n",
        "    return abs(c) #절대값으로 만들어준다\n",
        "addabs(-3,-7)"
      ]
    },
    {
      "cell_type": "markdown",
      "id": "ee2da191",
      "metadata": {
        "id": "ee2da191"
      },
      "source": [
        "- 함수는 다른 함수를 호출할 수 있음\n",
        "\n",
        "함수 만들기 예제3"
      ]
    },
    {
      "cell_type": "code",
      "execution_count": null,
      "id": "b41ca594",
      "metadata": {
        "id": "b41ca594",
        "outputId": "d04bcecf-1282-4ca9-f9e5-6f273e0a15ab"
      },
      "outputs": [
        {
          "data": {
            "text/plain": [
              "(20, 10)"
            ]
          },
          "execution_count": 25,
          "metadata": {},
          "output_type": "execute_result"
        }
      ],
      "source": [
        "def swap(a,b):\n",
        "    return b,a\n",
        "swap(10,20)"
      ]
    },
    {
      "cell_type": "code",
      "execution_count": null,
      "id": "64110b69",
      "metadata": {
        "id": "64110b69",
        "outputId": "738ba3d1-e92c-4af8-a6c7-80204368b677"
      },
      "outputs": [
        {
          "name": "stdout",
          "output_type": "stream",
          "text": [
            "<class 'tuple'>\n"
          ]
        }
      ],
      "source": [
        "print(type(swap(10,20)))"
      ]
    },
    {
      "cell_type": "markdown",
      "id": "846edd04",
      "metadata": {
        "id": "846edd04"
      },
      "source": [
        "- return 문에 여러 값을 사용할 경우, 튜플로 구성하여 전달\n",
        "\n",
        "결과값을 받을 변수 = 함수명(입력 인자1, 입력 인자2)"
      ]
    },
    {
      "cell_type": "code",
      "execution_count": null,
      "id": "fadd9e74",
      "metadata": {
        "id": "fadd9e74",
        "outputId": "fa404351-807d-4a01-c278-7fe0ce1647b1"
      },
      "outputs": [
        {
          "name": "stdout",
          "output_type": "stream",
          "text": [
            "10\n"
          ]
        }
      ],
      "source": [
        "a=addabs(-3,-7)\n",
        "print(a)"
      ]
    },
    {
      "cell_type": "markdown",
      "id": "3918c9d7",
      "metadata": {
        "id": "3918c9d7"
      },
      "source": [
        "입력값이 없고 결과값이 있는 함수 예제"
      ]
    },
    {
      "cell_type": "code",
      "execution_count": null,
      "id": "593e5907",
      "metadata": {
        "id": "593e5907",
        "outputId": "ac565a05-ca3b-4fa9-e448-83bc25932c67"
      },
      "outputs": [
        {
          "name": "stdout",
          "output_type": "stream",
          "text": [
            "hi\n"
          ]
        }
      ],
      "source": [
        "def say():\n",
        "    return \"hi\"\n",
        "a=say()\n",
        "print(a)"
      ]
    },
    {
      "cell_type": "markdown",
      "id": "7a3c75e6",
      "metadata": {
        "id": "7a3c75e6"
      },
      "source": [
        "입력값이 있고 결과값이 없는 함수 예제"
      ]
    },
    {
      "cell_type": "code",
      "execution_count": null,
      "id": "243fe429",
      "metadata": {
        "id": "243fe429",
        "outputId": "97cd9e62-d223-4bdb-dce7-72af65301508"
      },
      "outputs": [
        {
          "name": "stdout",
          "output_type": "stream",
          "text": [
            "3와 4의 합은 7입니다.\n"
          ]
        }
      ],
      "source": [
        "def sum(a,b):\n",
        "    print(\"%d와 %d의 합은 %d입니다.\" %(a,b,a+b))\n",
        "sum(3,4)"
      ]
    },
    {
      "cell_type": "code",
      "execution_count": null,
      "id": "5a11ddd0",
      "metadata": {
        "id": "5a11ddd0",
        "outputId": "d3455a77-9de2-4a8c-d87d-615c2bdc7ba3"
      },
      "outputs": [
        {
          "name": "stdout",
          "output_type": "stream",
          "text": [
            "3와 4의 합은 7입니다.\n",
            "None\n"
          ]
        }
      ],
      "source": [
        "a=sum(3,4)\n",
        "print(a) #return을 한 게 아니라 결과값이 없음"
      ]
    },
    {
      "cell_type": "markdown",
      "id": "430bf3ff",
      "metadata": {
        "id": "430bf3ff"
      },
      "source": [
        "- sum() 함수를 호출 할 시 결과가 출력되나 결과값이 있는 것은 아님(return이 없기 때문)"
      ]
    },
    {
      "cell_type": "markdown",
      "id": "7cff51b8",
      "metadata": {
        "id": "7cff51b8"
      },
      "source": [
        "입력값이 없고 결과값이 없는 함수 예제"
      ]
    },
    {
      "cell_type": "code",
      "execution_count": null,
      "id": "53c2f480",
      "metadata": {
        "id": "53c2f480",
        "outputId": "482645c9-f5b0-4388-a146-016b554ccf34"
      },
      "outputs": [
        {
          "name": "stdout",
          "output_type": "stream",
          "text": [
            "Hi\n"
          ]
        }
      ],
      "source": [
        "def say():\n",
        "    print(\"Hi\")\n",
        "say()"
      ]
    },
    {
      "cell_type": "code",
      "execution_count": null,
      "id": "2f81db70",
      "metadata": {
        "id": "2f81db70",
        "outputId": "69c2d45e-16c8-4472-cd0e-42a858130bd9"
      },
      "outputs": [
        {
          "name": "stdout",
          "output_type": "stream",
          "text": [
            "Hi\n",
            "None\n"
          ]
        }
      ],
      "source": [
        "a=say()\n",
        "print(a)"
      ]
    },
    {
      "cell_type": "markdown",
      "id": "6ecee749",
      "metadata": {
        "id": "6ecee749"
      },
      "source": [
        "매개변수 지정하여 호출하기 예제"
      ]
    },
    {
      "cell_type": "code",
      "execution_count": null,
      "id": "1d2e036a",
      "metadata": {
        "id": "1d2e036a",
        "outputId": "7e64861e-cf38-4648-845e-f1f958585492"
      },
      "outputs": [
        {
          "data": {
            "text/plain": [
              "10"
            ]
          },
          "execution_count": 35,
          "metadata": {},
          "output_type": "execute_result"
        }
      ],
      "source": [
        "def sum(a,b):\n",
        "    return a+b\n",
        "sum(a=3,b=7)"
      ]
    },
    {
      "cell_type": "code",
      "execution_count": null,
      "id": "8b3f6cc2",
      "metadata": {
        "id": "8b3f6cc2",
        "outputId": "7da87bee-bee8-4e2d-84cc-718aee47e8f6"
      },
      "outputs": [
        {
          "name": "stdout",
          "output_type": "stream",
          "text": [
            "10\n",
            "8\n"
          ]
        }
      ],
      "source": [
        "print(sum(a=3,b=7))\n",
        "print(sum(b=5,a=3))\n",
        "# 키워드 인수라고 부르기도 함"
      ]
    },
    {
      "cell_type": "markdown",
      "id": "d619d4be",
      "metadata": {
        "id": "d619d4be"
      },
      "source": [
        "- 키워드 인수 : 인수 이름으로 값을 전달하는 방식, 보통은 인수의 순서로 값을 나타내지만 이름으로 값을 전달하는 방식"
      ]
    },
    {
      "cell_type": "code",
      "execution_count": null,
      "id": "ea79ed06",
      "metadata": {
        "id": "ea79ed06",
        "outputId": "357c069a-a904-4dbb-9505-522b8d9b52e2"
      },
      "outputs": [
        {
          "data": {
            "text/plain": [
              "25"
            ]
          },
          "execution_count": 39,
          "metadata": {},
          "output_type": "execute_result"
        }
      ],
      "source": [
        "sum(20,b=5)"
      ]
    },
    {
      "cell_type": "code",
      "execution_count": null,
      "id": "6865f30f",
      "metadata": {
        "id": "6865f30f",
        "outputId": "f3ab3317-916e-4c35-ea4d-f710ba7b71db"
      },
      "outputs": [
        {
          "ename": "SyntaxError",
          "evalue": "positional argument follows keyword argument (3471427973.py, line 1)",
          "output_type": "error",
          "traceback": [
            "\u001b[1;36m  Input \u001b[1;32mIn [40]\u001b[1;36m\u001b[0m\n\u001b[1;33m    sum(b=5, 20) #키워드 인수로 발생하는 에러, 위치만 바뀌었을 뿐인데 오류\u001b[0m\n\u001b[1;37m               ^\u001b[0m\n\u001b[1;31mSyntaxError\u001b[0m\u001b[1;31m:\u001b[0m positional argument follows keyword argument\n"
          ]
        }
      ],
      "source": [
        "sum(b=5, 20) #키워드 인수로 발생하는 에러, 위치만 바뀌었을 뿐인데 오류"
      ]
    },
    {
      "cell_type": "code",
      "execution_count": null,
      "id": "a4e302c9",
      "metadata": {
        "id": "a4e302c9",
        "outputId": "14a8ce64-ae56-4e54-ebcb-aff8c8c1b6c0"
      },
      "outputs": [
        {
          "ename": "SyntaxError",
          "evalue": "positional argument follows keyword argument (1254585815.py, line 1)",
          "output_type": "error",
          "traceback": [
            "\u001b[1;36m  Input \u001b[1;32mIn [41]\u001b[1;36m\u001b[0m\n\u001b[1;33m    sum(a=5,20)\u001b[0m\n\u001b[1;37m              ^\u001b[0m\n\u001b[1;31mSyntaxError\u001b[0m\u001b[1;31m:\u001b[0m positional argument follows keyword argument\n"
          ]
        }
      ],
      "source": [
        "sum(a=5,20)"
      ]
    },
    {
      "cell_type": "markdown",
      "id": "816de342",
      "metadata": {
        "id": "816de342"
      },
      "source": [
        "- 일반적으로 함수를 호출할 때 키워드 인수의 위치는 보통 인수의 이후에 위치해야 함\n",
        "- 순서에 맞게 키워드 인수를 앞에 사용해도 에러 발생\n",
        "\n",
        "**113page 5번째 줄 글자 깨짐 -> 매개변수명**\n",
        "\n",
        "가변 길이 인수 리스트(*매개변수)\n",
        "- 고정되지 않은 수의 인수를 함수에 전달하는 방식\n",
        " - 함수를 정의할 때 인수 목록에 반드시 넘겨야 하는 고정 인수를 우선 나열하고, 나머지를 튜플 형식으로 한꺼번에 받는 방식"
      ]
    },
    {
      "cell_type": "code",
      "execution_count": null,
      "id": "7132b88f",
      "metadata": {
        "id": "7132b88f",
        "outputId": "fd833c08-8aef-4ecb-f7b9-d9214573cb74"
      },
      "outputs": [
        {
          "name": "stdout",
          "output_type": "stream",
          "text": [
            "1 ()\n",
            "1 (2,)\n",
            "1 (2, 3)\n",
            "1 (2, 3, 4)\n"
          ]
        }
      ],
      "source": [
        "def varilen(a, *b):\n",
        "    print(a,b)\n",
        "varilen(1)\n",
        "varilen(1,2)\n",
        "varilen(1,2,3)\n",
        "varilen(1,2,3,4)"
      ]
    },
    {
      "cell_type": "code",
      "execution_count": null,
      "id": "76043093",
      "metadata": {
        "id": "76043093",
        "outputId": "6f8bd969-cc96-4bd9-b85e-8d899ae75aad"
      },
      "outputs": [
        {
          "name": "stdout",
          "output_type": "stream",
          "text": [
            "첫번째 인수: 1\n",
            "나머지 인수: 2\n",
            "나머지 인수: 3\n",
            "나머지 인수: 4\n",
            "나머지 인수: 5\n",
            "나머지 인수: 6\n",
            "나머지 인수: 7\n",
            "나머지 인수: 8\n",
            "나머지 인수: 9\n"
          ]
        }
      ],
      "source": [
        "def printf(a, *b):\n",
        "    print(\"첫번째 인수:\",a)\n",
        "    for c in b:\n",
        "        print(\"나머지 인수:\",c)\n",
        "printf(1,2,3,4,5,6,7,8,9)"
      ]
    },
    {
      "cell_type": "markdown",
      "id": "1a792134",
      "metadata": {
        "id": "1a792134"
      },
      "source": [
        "- 함수를 정의할 시 가변 길이 인수 리스트를 매개변수로 받을 경우, 함수를 호출할 때 받는 인자 또한 가변 길이 인수 리스트라는 것을 명시해줘야 함"
      ]
    },
    {
      "cell_type": "code",
      "execution_count": null,
      "id": "fa98770a",
      "metadata": {
        "id": "fa98770a",
        "outputId": "558a814a-86cd-40bd-84ee-3b4b71388033"
      },
      "outputs": [
        {
          "name": "stdout",
          "output_type": "stream",
          "text": [
            "1 2 (3, 4, 5)\n"
          ]
        }
      ],
      "source": [
        "def h(a,b,*c): #*c 가변 길이 인수 리스트, 무조건 맨 뒤에만\n",
        "    print(a,b,c)\n",
        "args=(1,2,3,4,5)\n",
        "h(*args)"
      ]
    },
    {
      "cell_type": "code",
      "execution_count": null,
      "id": "3b2598c2",
      "metadata": {
        "id": "3b2598c2",
        "outputId": "a8760fb9-2f40-4324-9d69-f6a7362c0bb7"
      },
      "outputs": [
        {
          "name": "stdout",
          "output_type": "stream",
          "text": [
            "1 2 (3, 4, 5, 6, 7)\n"
          ]
        }
      ],
      "source": [
        "h(1,2,3,4,5,6,7)"
      ]
    },
    {
      "cell_type": "markdown",
      "id": "ff2a372e",
      "metadata": {
        "id": "ff2a372e"
      },
      "source": [
        "**매개변수\n",
        "- 함수 호출에 사용하는 인수들이 사전에 있다면 **을 이용하여 함수를 호출할 수 있음\n",
        "\n",
        "\n",
        "- **매개변수의 핵심 요소\n",
        "1. 사전과 관련이 있음\n",
        "2. 함수에서 키와 같은 매개변수를 받음\n",
        "3. **매개변수를 이용하여 사전을 호출할 경우 각 키에 매칭되는 값들이 매칭됨"
      ]
    },
    {
      "cell_type": "code",
      "execution_count": null,
      "id": "fbdb19fc",
      "metadata": {
        "id": "fbdb19fc",
        "outputId": "5e65ad5f-b923-4bfa-a293-bad6b7904b21"
      },
      "outputs": [
        {
          "name": "stdout",
          "output_type": "stream",
          "text": [
            "1 2 3 4\n"
          ]
        }
      ],
      "source": [
        "def h(a,b,c,f):\n",
        "    print(a,b,c,f)\n",
        "dicargs={'a':1,'b':2,'c':3,'f':4} #딕셔너리\n",
        "h(**dicargs) #내부에 인자 있음"
      ]
    },
    {
      "cell_type": "markdown",
      "id": "6dfc209b",
      "metadata": {
        "id": "6dfc209b"
      },
      "source": [
        "**매개변수 추가 코드"
      ]
    },
    {
      "cell_type": "code",
      "execution_count": null,
      "id": "4909ed95",
      "metadata": {
        "id": "4909ed95",
        "outputId": "06a6ff8c-5f14-4de4-c020-6d122b1cd558"
      },
      "outputs": [
        {
          "name": "stdout",
          "output_type": "stream",
          "text": [
            "dict_items([('name', '홍길동'), ('나이', '20')])\n",
            "name=홍길동\n",
            "나이=20\n"
          ]
        }
      ],
      "source": [
        "def dic_1(**dic):\n",
        "    print(dic.items())\n",
        "    for key, value in dic.items():\n",
        "        print(\"{0}={1}\".format(key,value))\n",
        "dic = {\"name\":\"홍길동\", \"나이\":\"20\"}\n",
        "dic_1(**dic)"
      ]
    },
    {
      "cell_type": "markdown",
      "id": "add10cfe",
      "metadata": {
        "id": "add10cfe"
      },
      "source": [
        "return예제 (return으로 결과값을 두 개 반환하는 경우)"
      ]
    },
    {
      "cell_type": "code",
      "execution_count": null,
      "id": "3d26edd9",
      "metadata": {
        "id": "3d26edd9",
        "outputId": "3dbd56bd-3a27-4557-9327-4d0fa5a06d64"
      },
      "outputs": [
        {
          "name": "stdout",
          "output_type": "stream",
          "text": [
            "(7, 12)\n"
          ]
        }
      ],
      "source": [
        "def sum_and_mul(a,b):\n",
        "    return a+b, a*b\n",
        "result = sum_and_mul(3,4)\n",
        "print(result)"
      ]
    },
    {
      "cell_type": "code",
      "execution_count": null,
      "id": "338b9810",
      "metadata": {
        "id": "338b9810",
        "outputId": "c0222b51-9517-477b-9fc2-1dd0f68d65dd"
      },
      "outputs": [
        {
          "name": "stdout",
          "output_type": "stream",
          "text": [
            "7\n",
            "12\n"
          ]
        }
      ],
      "source": [
        "sum, mul = sum_and_mul(3,4)\n",
        "print(sum)\n",
        "print(mul)"
      ]
    },
    {
      "cell_type": "markdown",
      "id": "dc53e525",
      "metadata": {
        "id": "dc53e525"
      },
      "source": [
        "return 예제(return을 두 줄로 나눠 입력한 후 결과값을 두 개 반환하는 경우)"
      ]
    },
    {
      "cell_type": "code",
      "execution_count": null,
      "id": "0aa9ada4",
      "metadata": {
        "id": "0aa9ada4",
        "outputId": "3cef4f01-d222-4013-edac-c136918e861a"
      },
      "outputs": [
        {
          "name": "stdout",
          "output_type": "stream",
          "text": [
            "5\n"
          ]
        }
      ],
      "source": [
        "def sum_and_mul(a,b):\n",
        "    return a+b #수행\n",
        "    return a*b #수행 안 됨 -> return 값은 한 줄에 입력해야\n",
        "result=sum_and_mul(2,3)\n",
        "print(result)"
      ]
    },
    {
      "cell_type": "markdown",
      "id": "546b2362",
      "metadata": {
        "id": "546b2362"
      },
      "source": [
        "return 예제 (return을 단독으로 사용하여 함수를 빠져나올 경우)"
      ]
    },
    {
      "cell_type": "code",
      "execution_count": null,
      "id": "f971fd1d",
      "metadata": {
        "id": "f971fd1d",
        "outputId": "77bee1cf-0aab-462f-ed59-2ab18b0bcb05"
      },
      "outputs": [
        {
          "name": "stdout",
          "output_type": "stream",
          "text": [
            "None\n"
          ]
        }
      ],
      "source": [
        "def say_nick(nick):\n",
        "    if nick==\"바보\":\n",
        "        return\n",
        "    print(\"나의 별명은 %s입니다.\"%nick)\n",
        "say_nick(\"바보\")\n",
        "print(say_nick(\"바보\"))"
      ]
    },
    {
      "cell_type": "code",
      "execution_count": null,
      "id": "846623a8",
      "metadata": {
        "id": "846623a8",
        "outputId": "e54ab4fa-5f77-4e6a-da94-a43be376f3dc"
      },
      "outputs": [
        {
          "name": "stdout",
          "output_type": "stream",
          "text": [
            "나의 별명은 야호입니다.\n"
          ]
        }
      ],
      "source": [
        "say_nick(\"야호\")"
      ]
    },
    {
      "cell_type": "markdown",
      "id": "6e8c41eb",
      "metadata": {
        "id": "6e8c41eb"
      },
      "source": [
        "매개 변수에 초기값 미리 설정하기 예제"
      ]
    },
    {
      "cell_type": "code",
      "execution_count": null,
      "id": "8fe6ea7d",
      "metadata": {
        "id": "8fe6ea7d"
      },
      "outputs": [],
      "source": [
        "def say_myself(name,old,man=True):\n",
        "    print(\"나의 이름은 %s입니다.\"%name)\n",
        "    print(\"나이는 %d입니다.\" %old)\n",
        "    if man:\n",
        "        print(\"남자입니다.\")\n",
        "    else:\n",
        "        print(\"여자입니다.\")"
      ]
    },
    {
      "cell_type": "code",
      "execution_count": null,
      "id": "ef43a809",
      "metadata": {
        "id": "ef43a809",
        "outputId": "48948620-498f-457f-ddf1-9e67ac8a4f61"
      },
      "outputs": [
        {
          "name": "stdout",
          "output_type": "stream",
          "text": [
            "나의 이름은 이민혁입니다.\n",
            "나이는 25입니다.\n",
            "남자입니다.\n"
          ]
        }
      ],
      "source": [
        "say_myself(\"이민혁\",25)"
      ]
    },
    {
      "cell_type": "code",
      "execution_count": null,
      "id": "2650e12a",
      "metadata": {
        "id": "2650e12a",
        "outputId": "2caf2e38-36b3-4172-dc63-600b7538626f"
      },
      "outputs": [
        {
          "name": "stdout",
          "output_type": "stream",
          "text": [
            "나의 이름은 이지은입니다.\n",
            "나이는 25입니다.\n",
            "여자입니다.\n"
          ]
        }
      ],
      "source": [
        "say_myself(\"이지은\",25,False) #값 변경 시 변수 3개"
      ]
    },
    {
      "cell_type": "markdown",
      "id": "96267ad7",
      "metadata": {
        "id": "96267ad7"
      },
      "source": [
        "**120page 12번째 줄 글자 깨짐 -> 초기값을 설정해 놓은 매개변수 - "
      ]
    },
    {
      "cell_type": "markdown",
      "id": "98fee088",
      "metadata": {
        "id": "98fee088"
      },
      "source": [
        "매개 변수에 초기값 미리 설정하기 예제(중간에 미리 설정했을 경우)"
      ]
    },
    {
      "cell_type": "code",
      "execution_count": null,
      "id": "b22a17bc",
      "metadata": {
        "id": "b22a17bc",
        "outputId": "7c8a7ee2-a89f-49d9-872f-bb75d37e56f5"
      },
      "outputs": [
        {
          "ename": "SyntaxError",
          "evalue": "non-default argument follows default argument (1422121160.py, line 1)",
          "output_type": "error",
          "traceback": [
            "\u001b[1;36m  Input \u001b[1;32mIn [27]\u001b[1;36m\u001b[0m\n\u001b[1;33m    def say_myself(name,man=True, old):\u001b[0m\n\u001b[1;37m                                     ^\u001b[0m\n\u001b[1;31mSyntaxError\u001b[0m\u001b[1;31m:\u001b[0m non-default argument follows default argument\n"
          ]
        }
      ],
      "source": [
        "def say_myself(name,man=True, old):\n",
        "    print(\"나의 이름은 %s입니다.\"%name)\n",
        "    print(\"나이는 %d입니다.\" %old)\n",
        "    if man:\n",
        "        print(\"남자입니다.\")\n",
        "    else:\n",
        "        print(\"여자입니다.\")\n",
        "#매개 변수에 초기값을 미리 설정하고 싶은 경우 매개 변수 마지막에 설정해줘야 함"
      ]
    },
    {
      "cell_type": "markdown",
      "id": "23532040",
      "metadata": {
        "id": "23532040"
      },
      "source": [
        "질문) 매개 변수의 초기값을 두 개 설정 가능한지의 여부"
      ]
    },
    {
      "cell_type": "code",
      "execution_count": null,
      "id": "5d264df0",
      "metadata": {
        "id": "5d264df0",
        "outputId": "11af2f9f-a2bb-42a1-ca36-89aa0cac40b2"
      },
      "outputs": [
        {
          "name": "stdout",
          "output_type": "stream",
          "text": [
            "나의 이름은 이민혁입니다.\n",
            "나이는 20입니다.\n",
            "남자입니다.\n"
          ]
        }
      ],
      "source": [
        "def say_myself(name,old=20,man=True):\n",
        "    print(\"나의 이름은 %s입니다.\"%name)\n",
        "    print(\"나이는 %d입니다.\" %old)\n",
        "    if man:\n",
        "        print(\"남자입니다.\")\n",
        "    else:\n",
        "        print(\"여자입니다.\")\n",
        "say_myself(\"이민혁\")\n",
        "#매개 변수에 초기값을 2개 이상 미리 설정하고 싶음 경우에도 매개 변수 마지막에 설정해줘야 함"
      ]
    },
    {
      "cell_type": "markdown",
      "id": "a6cceec3",
      "metadata": {
        "id": "a6cceec3"
      },
      "source": [
        "변수의 유효범위\n",
        "- 변수가 어느 범위에서 유효한지를 나타냄\n",
        " - 변수가 함수 내에서 정의되면 함수의 지역 변수(local)변수가 됨\n",
        " - 변수가 함수 밖에서 정의되면 전역(global) 변수가 됨\n",
        "- 전역 변수 : 함수 외부에서 정의된 변수, 코드 모든 범위에서 사용 가능\n",
        "- 지역 변수 : 함수 내부에서 정의된 변수, 해당 정의된 함수에서만 사용 가능\n",
        "- 호출 순서 : 지역 변수 -> 전역 변수"
      ]
    },
    {
      "cell_type": "markdown",
      "id": "e8b9fa65",
      "metadata": {
        "id": "e8b9fa65"
      },
      "source": [
        "변수의 호출 순서 예제 (지역 변수가 있는 경우)"
      ]
    },
    {
      "cell_type": "code",
      "execution_count": null,
      "id": "53830440",
      "metadata": {
        "id": "53830440"
      },
      "outputs": [],
      "source": [
        "str='global variable'\n",
        "def func_1():\n",
        "    str='local variable'\n",
        "    print(str)"
      ]
    },
    {
      "cell_type": "code",
      "execution_count": null,
      "id": "352d30b3",
      "metadata": {
        "id": "352d30b3",
        "outputId": "f095679c-d119-450d-9f9d-3a812ccf8a71"
      },
      "outputs": [
        {
          "name": "stdout",
          "output_type": "stream",
          "text": [
            "local variable\n"
          ]
        }
      ],
      "source": [
        "func_1()"
      ]
    },
    {
      "cell_type": "code",
      "execution_count": null,
      "id": "9f927ace",
      "metadata": {
        "id": "9f927ace",
        "outputId": "1562d888-bc16-4c44-be77-c22e717c124f"
      },
      "outputs": [
        {
          "name": "stdout",
          "output_type": "stream",
          "text": [
            "global variable\n"
          ]
        }
      ],
      "source": [
        "print(str)"
      ]
    },
    {
      "cell_type": "code",
      "execution_count": null,
      "id": "66b3df86",
      "metadata": {
        "id": "66b3df86",
        "outputId": "fe28f98c-2cee-457c-c9d3-e2c462324b0d"
      },
      "outputs": [
        {
          "data": {
            "text/plain": [
              "'local variable'"
            ]
          },
          "execution_count": 33,
          "metadata": {},
          "output_type": "execute_result"
        }
      ],
      "source": [
        "str='global variable'\n",
        "def func_1():\n",
        "    str='local variable'\n",
        "    return str\n",
        "    print(str)\n",
        "func_1()"
      ]
    },
    {
      "cell_type": "code",
      "execution_count": null,
      "id": "b000bb92",
      "metadata": {
        "id": "b000bb92",
        "outputId": "f21652a3-2cfc-4a83-f078-d0a4ac746c9d"
      },
      "outputs": [
        {
          "name": "stdout",
          "output_type": "stream",
          "text": [
            "global variable\n"
          ]
        }
      ],
      "source": [
        "print(str)"
      ]
    },
    {
      "cell_type": "markdown",
      "id": "299c8b35",
      "metadata": {
        "id": "299c8b35"
      },
      "source": [
        "함수 안에서 함수 밖의 변수를 변경하는 방법 (첫번째)"
      ]
    },
    {
      "cell_type": "code",
      "execution_count": null,
      "id": "3186ceb8",
      "metadata": {
        "id": "3186ceb8",
        "outputId": "756494c4-515e-49f1-f041-8df1f6d3e5d8"
      },
      "outputs": [
        {
          "name": "stdout",
          "output_type": "stream",
          "text": [
            "1\n",
            "2\n"
          ]
        }
      ],
      "source": [
        "a=1\n",
        "def vartest(a):\n",
        "    a=a+1\n",
        "    return a\n",
        "b=vartest(a)\n",
        "print(a)\n",
        "print(b)"
      ]
    },
    {
      "cell_type": "code",
      "execution_count": null,
      "id": "bbedd1d9",
      "metadata": {
        "id": "bbedd1d9",
        "outputId": "9c90af40-70d3-439e-bcc3-9ad3de0f7e52"
      },
      "outputs": [
        {
          "name": "stdout",
          "output_type": "stream",
          "text": [
            "2\n"
          ]
        }
      ],
      "source": [
        "a=vartest(a)\n",
        "print(a)"
      ]
    },
    {
      "cell_type": "code",
      "execution_count": null,
      "id": "d57ef019",
      "metadata": {
        "id": "d57ef019"
      },
      "outputs": [],
      "source": [
        ""
      ]
    },
    {
      "cell_type": "code",
      "execution_count": null,
      "id": "78511319",
      "metadata": {
        "id": "78511319"
      },
      "outputs": [],
      "source": [
        ""
      ]
    }
  ],
  "metadata": {
    "kernelspec": {
      "display_name": "Python 3 (ipykernel)",
      "language": "python",
      "name": "python3"
    },
    "language_info": {
      "codemirror_mode": {
        "name": "ipython",
        "version": 3
      },
      "file_extension": ".py",
      "mimetype": "text/x-python",
      "name": "python",
      "nbconvert_exporter": "python",
      "pygments_lexer": "ipython3",
      "version": "3.9.7"
    },
    "colab": {
      "name": "4일차.ipynb",
      "provenance": [],
      "include_colab_link": true
    }
  },
  "nbformat": 4,
  "nbformat_minor": 5
}