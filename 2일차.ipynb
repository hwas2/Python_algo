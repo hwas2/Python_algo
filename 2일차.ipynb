{
  "cells": [
    {
      "cell_type": "markdown",
      "metadata": {
        "id": "view-in-github",
        "colab_type": "text"
      },
      "source": [
        "<a href=\"https://colab.research.google.com/github/hwas2/Python_study/blob/master/2%EC%9D%BC%EC%B0%A8.ipynb\" target=\"_parent\"><img src=\"https://colab.research.google.com/assets/colab-badge.svg\" alt=\"Open In Colab\"/></a>"
      ]
    },
    {
      "cell_type": "markdown",
      "id": "beeed2d0",
      "metadata": {
        "id": "beeed2d0"
      },
      "source": [
        "# 파이썬의 탄생"
      ]
    },
    {
      "cell_type": "code",
      "execution_count": null,
      "id": "4e9f0fb5",
      "metadata": {
        "id": "4e9f0fb5",
        "outputId": "8e579bd3-22cf-48ae-b96d-8ac8a359c626"
      },
      "outputs": [
        {
          "name": "stdout",
          "output_type": "stream",
          "text": [
            "7\n"
          ]
        }
      ],
      "source": [
        "a = 3\n",
        "b = 4\n",
        "print(a+b)"
      ]
    },
    {
      "cell_type": "markdown",
      "id": "dd2eeaa4",
      "metadata": {
        "id": "dd2eeaa4"
      },
      "source": [
        "- 파이썬에서는 파일화 시킬 때 반드시 print() 함수를 써줘야 함\n",
        "\n",
        "print()\n",
        "- 함수 안에 있는 내용을 출력해줌\n"
      ]
    },
    {
      "cell_type": "code",
      "execution_count": null,
      "id": "ee5b845e",
      "metadata": {
        "id": "ee5b845e",
        "outputId": "446fd4a9-baf1-4344-9e6d-b69cdc29a384"
      },
      "outputs": [
        {
          "name": "stdout",
          "output_type": "stream",
          "text": [
            "lifeisshort\n"
          ]
        }
      ],
      "source": [
        "print(\"life\" \"is\" \"short\")"
      ]
    },
    {
      "cell_type": "code",
      "execution_count": null,
      "id": "8d74acd7",
      "metadata": {
        "id": "8d74acd7",
        "outputId": "17fbac12-95e8-4c37-b40d-7e2d8ec070e2"
      },
      "outputs": [
        {
          "name": "stdout",
          "output_type": "stream",
          "text": [
            "life is short\n"
          ]
        }
      ],
      "source": [
        "print(\"life\", \"is\", \"short\")"
      ]
    },
    {
      "cell_type": "code",
      "execution_count": null,
      "id": "0d18c8e6",
      "metadata": {
        "id": "0d18c8e6",
        "outputId": "70440ea5-6965-40e0-dc46-ca72cd78385b"
      },
      "outputs": [
        {
          "name": "stdout",
          "output_type": "stream",
          "text": [
            "life is short\n"
          ]
        }
      ],
      "source": [
        "print(\"life is short\")"
      ]
    },
    {
      "cell_type": "markdown",
      "id": "935f9fd3",
      "metadata": {
        "id": "935f9fd3"
      },
      "source": [
        "input()\n",
        "- 입력값을 받음\n",
        "\n",
        "예제"
      ]
    },
    {
      "cell_type": "code",
      "execution_count": null,
      "id": "0d9ecaff",
      "metadata": {
        "id": "0d9ecaff",
        "outputId": "c21d5e6f-4955-4048-962d-ac3c27d27071"
      },
      "outputs": [
        {
          "name": "stdout",
          "output_type": "stream",
          "text": [
            "a 값을 입력해주세요 : 20\n"
          ]
        }
      ],
      "source": [
        "a = input(\"a 값을 입력해주세요 : \")"
      ]
    },
    {
      "cell_type": "code",
      "execution_count": null,
      "id": "16f95794",
      "metadata": {
        "id": "16f95794",
        "outputId": "b87f55e0-02f1-4e2f-c522-acbea8cbc9ae"
      },
      "outputs": [
        {
          "name": "stdout",
          "output_type": "stream",
          "text": [
            "20\n"
          ]
        }
      ],
      "source": [
        "print(a)"
      ]
    },
    {
      "cell_type": "code",
      "execution_count": null,
      "id": "e4c67474",
      "metadata": {
        "id": "e4c67474",
        "outputId": "dc3b56ba-7ceb-4b0c-8a1f-904e50ae273a"
      },
      "outputs": [
        {
          "name": "stdout",
          "output_type": "stream",
          "text": [
            "2030\n"
          ]
        }
      ],
      "source": [
        "b = input(a)"
      ]
    },
    {
      "cell_type": "code",
      "execution_count": null,
      "id": "722bf2b5",
      "metadata": {
        "id": "722bf2b5",
        "outputId": "9f0704ee-abc0-4a39-bdba-624481c44ac7"
      },
      "outputs": [
        {
          "name": "stdout",
          "output_type": "stream",
          "text": [
            "30\n"
          ]
        }
      ],
      "source": [
        "print(b)"
      ]
    },
    {
      "cell_type": "markdown",
      "id": "5c0d8ff8",
      "metadata": {
        "id": "5c0d8ff8"
      },
      "source": [
        "주식 예제"
      ]
    },
    {
      "cell_type": "code",
      "execution_count": null,
      "id": "c9f0dc26",
      "metadata": {
        "id": "c9f0dc26",
        "outputId": "adafb085-d319-4940-cc0a-b0547e12daf6"
      },
      "outputs": [
        {
          "name": "stdout",
          "output_type": "stream",
          "text": [
            "지구인\n",
            "10\n",
            "안녕\n"
          ]
        }
      ],
      "source": [
        "identity = '지구인' #정체1\n",
        "number_of_legs = 10 #다리의 수\n",
        "print(identity)\n",
        "print(number_of_legs)\n",
        "print(\"안녕\")\n",
        "#print(\"너는 누구니?\")"
      ]
    },
    {
      "cell_type": "code",
      "execution_count": null,
      "id": "6508cfb7",
      "metadata": {
        "id": "6508cfb7",
        "outputId": "ec3ac54c-f152-4bf3-a59d-ce375f51cf42"
      },
      "outputs": [
        {
          "name": "stdout",
          "output_type": "stream",
          "text": [
            "hello\n"
          ]
        }
      ],
      "source": [
        "\"\"\"\n",
        "주석 내용입니다\n",
        "\"\"\"\n",
        "print(\"hello\")"
      ]
    },
    {
      "cell_type": "markdown",
      "id": "9650fadc",
      "metadata": {
        "id": "9650fadc"
      },
      "source": [
        "변수 예제"
      ]
    },
    {
      "cell_type": "code",
      "execution_count": null,
      "id": "4be51a27",
      "metadata": {
        "id": "4be51a27"
      },
      "outputs": [],
      "source": [
        "identity = \"외계인\""
      ]
    },
    {
      "cell_type": "code",
      "execution_count": null,
      "id": "60a9cc18",
      "metadata": {
        "id": "60a9cc18",
        "outputId": "8f075430-b236-4f0d-e6e1-d98bdd2f56a5"
      },
      "outputs": [
        {
          "name": "stdout",
          "output_type": "stream",
          "text": [
            "외계인\n"
          ]
        }
      ],
      "source": [
        "print(identity)"
      ]
    },
    {
      "cell_type": "markdown",
      "id": "0d4f7295",
      "metadata": {
        "id": "0d4f7295"
      },
      "source": [
        "- 똑같은 이름의 변수에 새로운 값을 저장할 경우 변수의 값이 변경X, 새로운 변수 생성O\n",
        "  - 기존 변수의 값을 불러 올 수는 없음\n",
        "\n",
        "변수 생성시 특징\n",
        "- 변수명의 첫문자는 영문자 또는 언더바('_')로 시작\n",
        "- 예약어 사용 불가\n",
        "\n",
        "변수 생성 특징 예제"
      ]
    },
    {
      "cell_type": "code",
      "execution_count": null,
      "id": "05a2e12f",
      "metadata": {
        "id": "05a2e12f",
        "outputId": "995d9b26-e99d-47ae-d3ee-de49e9b2d50c"
      },
      "outputs": [
        {
          "ename": "SyntaxError",
          "evalue": "invalid decimal literal (2262027833.py, line 1)",
          "output_type": "error",
          "traceback": [
            "\u001b[1;36m  Input \u001b[1;32mIn [5]\u001b[1;36m\u001b[0m\n\u001b[1;33m    1_unit = 1 #변수명이 숫자로 시작하는 경우\u001b[0m\n\u001b[1;37m     ^\u001b[0m\n\u001b[1;31mSyntaxError\u001b[0m\u001b[1;31m:\u001b[0m invalid decimal literal\n"
          ]
        }
      ],
      "source": [
        " 1_unit = 1 #변수명이 숫자로 시작하는 경우"
      ]
    },
    {
      "cell_type": "code",
      "execution_count": null,
      "id": "af2f2c0c",
      "metadata": {
        "id": "af2f2c0c"
      },
      "outputs": [],
      "source": [
        "_unit = 1 #변수명이 언더바로 시작하는 경우"
      ]
    },
    {
      "cell_type": "code",
      "execution_count": null,
      "id": "ce137177",
      "metadata": {
        "id": "ce137177",
        "outputId": "21485050-194b-4246-bca8-12fccadf5859"
      },
      "outputs": [
        {
          "ename": "SyntaxError",
          "evalue": "invalid syntax (1457880563.py, line 1)",
          "output_type": "error",
          "traceback": [
            "\u001b[1;36m  Input \u001b[1;32mIn [7]\u001b[1;36m\u001b[0m\n\u001b[1;33m    @unit =1 #변수명\u001b[0m\n\u001b[1;37m          ^\u001b[0m\n\u001b[1;31mSyntaxError\u001b[0m\u001b[1;31m:\u001b[0m invalid syntax\n"
          ]
        }
      ],
      "source": [
        "@unit =1 #변수명"
      ]
    },
    {
      "cell_type": "code",
      "execution_count": null,
      "id": "697d20c4",
      "metadata": {
        "id": "697d20c4",
        "outputId": "ac039806-6533-4f4c-cd94-651b46bdc177"
      },
      "outputs": [
        {
          "ename": "SyntaxError",
          "evalue": "invalid syntax (3574790348.py, line 1)",
          "output_type": "error",
          "traceback": [
            "\u001b[1;36m  Input \u001b[1;32mIn [8]\u001b[1;36m\u001b[0m\n\u001b[1;33m    and =1 #변수명 예약어 사용 불가\u001b[0m\n\u001b[1;37m    ^\u001b[0m\n\u001b[1;31mSyntaxError\u001b[0m\u001b[1;31m:\u001b[0m invalid syntax\n"
          ]
        }
      ],
      "source": [
        "and =1 #변수명 예약어 사용 불가"
      ]
    },
    {
      "cell_type": "code",
      "execution_count": null,
      "id": "90672f9f",
      "metadata": {
        "id": "90672f9f",
        "outputId": "1ac945fa-29cc-46fc-91c1-04f3b741098f"
      },
      "outputs": [
        {
          "ename": "SyntaxError",
          "evalue": "invalid syntax (3123844783.py, line 1)",
          "output_type": "error",
          "traceback": [
            "\u001b[1;36m  Input \u001b[1;32mIn [9]\u001b[1;36m\u001b[0m\n\u001b[1;33m    for=1 #변수명 예약어 사용 불가\u001b[0m\n\u001b[1;37m       ^\u001b[0m\n\u001b[1;31mSyntaxError\u001b[0m\u001b[1;31m:\u001b[0m invalid syntax\n"
          ]
        }
      ],
      "source": [
        "for=1 #변수명 예약어 사용 불가"
      ]
    },
    {
      "cell_type": "markdown",
      "id": "f2052e25",
      "metadata": {
        "id": "f2052e25"
      },
      "source": [
        "변수 제거 예제"
      ]
    },
    {
      "cell_type": "code",
      "execution_count": null,
      "id": "ea98183b",
      "metadata": {
        "id": "ea98183b"
      },
      "outputs": [],
      "source": [
        "a = 3\n",
        "b = 4"
      ]
    },
    {
      "cell_type": "code",
      "execution_count": null,
      "id": "b6c0dfaa",
      "metadata": {
        "id": "b6c0dfaa",
        "outputId": "fc23357e-050b-412a-a61c-37356f15e453"
      },
      "outputs": [
        {
          "name": "stdout",
          "output_type": "stream",
          "text": [
            "3\n",
            "4\n"
          ]
        }
      ],
      "source": [
        "print(a)\n",
        "print(b)"
      ]
    },
    {
      "cell_type": "code",
      "execution_count": null,
      "id": "ed477493",
      "metadata": {
        "id": "ed477493"
      },
      "outputs": [],
      "source": [
        "del(a)\n",
        "del(b)"
      ]
    },
    {
      "cell_type": "code",
      "execution_count": null,
      "id": "92bdd931",
      "metadata": {
        "id": "92bdd931",
        "outputId": "cb5e6a3d-57bd-48d3-ca95-2898628f575c"
      },
      "outputs": [
        {
          "ename": "NameError",
          "evalue": "name 'a' is not defined",
          "output_type": "error",
          "traceback": [
            "\u001b[1;31m---------------------------------------------------------------------------\u001b[0m",
            "\u001b[1;31mNameError\u001b[0m                                 Traceback (most recent call last)",
            "Input \u001b[1;32mIn [18]\u001b[0m, in \u001b[0;36m<module>\u001b[1;34m\u001b[0m\n\u001b[1;32m----> 1\u001b[0m \u001b[38;5;28mprint\u001b[39m(\u001b[43ma\u001b[49m)\n\u001b[0;32m      2\u001b[0m \u001b[38;5;28mprint\u001b[39m(b)\n",
            "\u001b[1;31mNameError\u001b[0m: name 'a' is not defined"
          ]
        }
      ],
      "source": [
        "print(a)\n",
        "print(b)"
      ]
    },
    {
      "cell_type": "markdown",
      "id": "ddaa5056",
      "metadata": {
        "id": "ddaa5056"
      },
      "source": [
        "- 변수 a를 제거했기 때문에 print() 함수로 출력되지 않음\n",
        "\n",
        "파이썬 대소문자 구분 예제"
      ]
    },
    {
      "cell_type": "code",
      "execution_count": null,
      "id": "7dbdb7cd",
      "metadata": {
        "id": "7dbdb7cd",
        "outputId": "6883bf01-82be-4590-dd72-7ac6ed3f7947"
      },
      "outputs": [
        {
          "name": "stdout",
          "output_type": "stream",
          "text": [
            "python\n"
          ]
        }
      ],
      "source": [
        "a = \"python\"\n",
        "print(a)"
      ]
    },
    {
      "cell_type": "code",
      "execution_count": null,
      "id": "63535ff5",
      "metadata": {
        "id": "63535ff5",
        "outputId": "0facca55-e0a0-4a56-d5ed-33c109bd73b6"
      },
      "outputs": [
        {
          "ename": "NameError",
          "evalue": "name 'PRINT' is not defined",
          "output_type": "error",
          "traceback": [
            "\u001b[1;31m---------------------------------------------------------------------------\u001b[0m",
            "\u001b[1;31mNameError\u001b[0m                                 Traceback (most recent call last)",
            "Input \u001b[1;32mIn [21]\u001b[0m, in \u001b[0;36m<module>\u001b[1;34m\u001b[0m\n\u001b[1;32m----> 1\u001b[0m \u001b[43mPRINT\u001b[49m(a)\n",
            "\u001b[1;31mNameError\u001b[0m: name 'PRINT' is not defined"
          ]
        }
      ],
      "source": [
        "PRINT(a)"
      ]
    },
    {
      "cell_type": "markdown",
      "id": "77cbc032",
      "metadata": {
        "id": "77cbc032"
      },
      "source": [
        "비교 연산자 예제"
      ]
    },
    {
      "cell_type": "code",
      "execution_count": null,
      "id": "97862fbe",
      "metadata": {
        "id": "97862fbe",
        "outputId": "b89a8e3f-c03f-41d1-c2ed-26f297558feb"
      },
      "outputs": [
        {
          "name": "stdout",
          "output_type": "stream",
          "text": [
            "True\n",
            "False\n"
          ]
        }
      ],
      "source": [
        "X = 3\n",
        "Y = 4\n",
        "print(X<Y)\n",
        "print(X>Y)"
      ]
    },
    {
      "cell_type": "markdown",
      "id": "5ae1cce4",
      "metadata": {
        "id": "5ae1cce4"
      },
      "source": [
        "X=3\n",
        "Y=4\n",
        "Z=5 \n",
        "\n",
        "X<Y or Z<Y <br>\n",
        "true or false <br>\n",
        "=> 참 <br>\n",
        "\n",
        "in, not in 예제"
      ]
    },
    {
      "cell_type": "code",
      "execution_count": null,
      "id": "0d82286c",
      "metadata": {
        "id": "0d82286c",
        "outputId": "54c34ec3-e3fc-42fa-d080-c3cf1af6d4fd"
      },
      "outputs": [
        {
          "name": "stdout",
          "output_type": "stream",
          "text": [
            "True\n"
          ]
        }
      ],
      "source": [
        "print(1 in[1,2,3])"
      ]
    },
    {
      "cell_type": "code",
      "execution_count": null,
      "id": "af4c5150",
      "metadata": {
        "id": "af4c5150",
        "outputId": "8f9183df-e468-4d9f-bd84-569f53b49a86"
      },
      "outputs": [
        {
          "name": "stdout",
          "output_type": "stream",
          "text": [
            "False\n"
          ]
        }
      ],
      "source": [
        "print(1 not in[1,2,3])"
      ]
    },
    {
      "cell_type": "code",
      "execution_count": null,
      "id": "f3613f80",
      "metadata": {
        "id": "f3613f80",
        "outputId": "ba057027-81f0-42c1-deb1-31313ddbd066"
      },
      "outputs": [
        {
          "name": "stdout",
          "output_type": "stream",
          "text": [
            "True\n"
          ]
        }
      ],
      "source": [
        "print('a' in ('a', 'b', 'c'))"
      ]
    },
    {
      "cell_type": "code",
      "execution_count": null,
      "id": "94804ce9",
      "metadata": {
        "id": "94804ce9",
        "outputId": "80240854-e4f3-4ea6-f464-2ef7a6621bb5"
      },
      "outputs": [
        {
          "name": "stdout",
          "output_type": "stream",
          "text": [
            "False\n"
          ]
        }
      ],
      "source": [
        "print('j' in 'python')"
      ]
    },
    {
      "cell_type": "markdown",
      "id": "ec1f6ef3",
      "metadata": {
        "id": "ec1f6ef3"
      },
      "source": [
        "if 문 예제"
      ]
    },
    {
      "cell_type": "code",
      "execution_count": null,
      "id": "3efa362a",
      "metadata": {
        "id": "3efa362a",
        "outputId": "95d6be79-f1f0-4215-b11a-f2315ed2a3e4"
      },
      "outputs": [
        {
          "name": "stdout",
          "output_type": "stream",
          "text": [
            "a is greater than 1\n"
          ]
        }
      ],
      "source": [
        "a = 3\n",
        "if a>1:\n",
        "    print(\"a is greater than 1\")"
      ]
    },
    {
      "cell_type": "code",
      "execution_count": null,
      "id": "9d94db1d",
      "metadata": {
        "id": "9d94db1d"
      },
      "outputs": [],
      "source": [
        "a = 0\n",
        "if a>1:\n",
        "    print(\"a is greater than 1\")"
      ]
    },
    {
      "cell_type": "markdown",
      "id": "c5cb4595",
      "metadata": {
        "id": "c5cb4595"
      },
      "source": [
        "- 조건문이 참일 경우에만 하위 코드 실행\n",
        "\n",
        "for 문 예제"
      ]
    },
    {
      "cell_type": "code",
      "execution_count": null,
      "id": "5bb0c43f",
      "metadata": {
        "scrolled": true,
        "id": "5bb0c43f",
        "outputId": "b3bea3b6-1629-4f44-ce27-a4ed63d1da7e"
      },
      "outputs": [
        {
          "name": "stdout",
          "output_type": "stream",
          "text": [
            "1\n",
            "2\n",
            "3\n"
          ]
        }
      ],
      "source": [
        "for apple in [1,2,3]:\n",
        "    print(apple)"
      ]
    },
    {
      "cell_type": "markdown",
      "id": "bca5427a",
      "metadata": {
        "id": "bca5427a"
      },
      "source": [
        "while문 예제"
      ]
    },
    {
      "cell_type": "code",
      "execution_count": null,
      "id": "29825dc5",
      "metadata": {
        "id": "29825dc5",
        "outputId": "2f499f46-5b63-4199-e21e-d693c139cd8e"
      },
      "outputs": [
        {
          "name": "stdout",
          "output_type": "stream",
          "text": [
            "나무를 1번 찍었습니다.\n",
            "나무를 2번 찍었습니다.\n",
            "나무를 3번 찍었습니다.\n",
            "나무를 4번 찍었습니다.\n",
            "나무를 5번 찍었습니다.\n",
            "나무를 6번 찍었습니다.\n",
            "나무를 7번 찍었습니다.\n",
            "나무를 8번 찍었습니다.\n",
            "나무를 9번 찍었습니다.\n",
            "나무를 10번 찍었습니다.\n",
            "나무 넘어갑니다.\n"
          ]
        }
      ],
      "source": [
        "treeHit = 0\n",
        "while treeHit < 10:\n",
        "    treeHit = treeHit +1\n",
        "    print(\"나무를 %d번 찍었습니다.\" % treeHit)\n",
        "    if treeHit == 10:\n",
        "        print(\"나무 넘어갑니다.\")"
      ]
    },
    {
      "cell_type": "code",
      "execution_count": null,
      "id": "64fbdba9",
      "metadata": {
        "id": "64fbdba9",
        "outputId": "ceeac985-a69b-47ad-fe41-202bc3345139"
      },
      "outputs": [
        {
          "name": "stdout",
          "output_type": "stream",
          "text": [
            "나무를 1번 찍었습니다.\n",
            "나무를 2번 찍었습니다.\n",
            "나무를 3번 찍었습니다.\n",
            "나무를 4번 찍었습니다.\n",
            "나무를 5번 찍었습니다.\n",
            "나무를 6번 찍었습니다.\n",
            "나무를 7번 찍었습니다.\n",
            "나무를 8번 찍었습니다.\n",
            "나무를 9번 찍었습니다.\n",
            "나무를 10번 찍었습니다.\n",
            "나무 넘어갑니다.\n"
          ]
        }
      ],
      "source": [
        "treehit = 1\n",
        "while treehit <= 10:\n",
        "    print(\"나무를 %d번 찍었습니다.\" % treehit)\n",
        "    if treehit == 10:\n",
        "        print(\"나무 넘어갑니다.\")\n",
        "    treehit = treehit + 1"
      ]
    },
    {
      "cell_type": "code",
      "execution_count": null,
      "id": "437f5948",
      "metadata": {
        "id": "437f5948",
        "outputId": "fc554546-5411-4f3c-8f30-134ae53b7a5f"
      },
      "outputs": [
        {
          "name": "stdout",
          "output_type": "stream",
          "text": [
            "나무가지가 10개 남았습니다\n",
            "나무를 1번 찍었습니다.\n",
            "나무가지가 9개 남았습니다\n",
            "나무를 2번 찍었습니다.\n",
            "나무가지가 8개 남았습니다\n",
            "나무를 3번 찍었습니다.\n",
            "나무가지가 7개 남았습니다\n",
            "나무를 4번 찍었습니다.\n",
            "나무가지가 6개 남았습니다\n",
            "나무를 5번 찍었습니다.\n",
            "나무가지가 5개 남았습니다\n",
            "나무를 6번 찍었습니다.\n",
            "나무가지가 4개 남았습니다\n",
            "나무를 7번 찍었습니다.\n",
            "나무가지가 3개 남았습니다\n",
            "나무를 8번 찍었습니다.\n",
            "나무가지가 2개 남았습니다\n",
            "나무를 9번 찍었습니다.\n",
            "나무가지가 1개 남았습니다\n",
            "나무를 10번 찍었습니다.\n",
            "나무가지가 0개 남았습니다\n",
            "Success\n",
            "Success\n"
          ]
        }
      ],
      "source": [
        "TreeHit = 0\n",
        "TreeBranch = 10\n",
        "print(\"나무가지가 %d개 남았습니다\" % TreeBranch)\n",
        "while TreeHit < 10:\n",
        "    TreeHit = TreeHit +1\n",
        "    TreeBranch = TreeBranch -1\n",
        "    print(\"나무를 %d번 찍었습니다.\" % TreeHit)\n",
        "    print(\"나무가지가 %d개 남았습니다\" % TreeBranch)\n",
        "    if TreeHit == 10:\n",
        "        print(\"Success\")\n",
        "    if TreeBranch == 0:\n",
        "        print(\"Success\")"
      ]
    },
    {
      "cell_type": "markdown",
      "id": "1da28bfa",
      "metadata": {
        "id": "1da28bfa"
      },
      "source": [
        "- for문은 리스트, 튜플, 문자열과 함께 쓰이는 반복문\n",
        "- while문은 조건문과 함께 쓰이는 반복문\n",
        "\n",
        "함수\n",
        "- 함수는 인자를 입력받아 결과를 도출하는 목적으로 사용\n",
        "함수 만들기 예제"
      ]
    },
    {
      "cell_type": "code",
      "execution_count": null,
      "id": "51ac6e36",
      "metadata": {
        "id": "51ac6e36"
      },
      "outputs": [],
      "source": [
        "def add(a,b):\n",
        "    return a + b"
      ]
    },
    {
      "cell_type": "code",
      "execution_count": null,
      "id": "4c1da01d",
      "metadata": {
        "id": "4c1da01d",
        "outputId": "2b135273-5005-4159-f883-6b3299350ce7"
      },
      "outputs": [
        {
          "data": {
            "text/plain": [
              "7"
            ]
          },
          "execution_count": 3,
          "metadata": {},
          "output_type": "execute_result"
        }
      ],
      "source": [
        "add(3,4)"
      ]
    },
    {
      "cell_type": "markdown",
      "id": "a4e4c95e",
      "metadata": {
        "id": "a4e4c95e"
      },
      "source": [
        "파이썬이 객체 지향이라고 부르는 이유?"
      ]
    },
    {
      "cell_type": "code",
      "execution_count": null,
      "id": "1275589f",
      "metadata": {
        "id": "1275589f",
        "outputId": "4f7ed840-b350-44ac-cbc1-094516bca1e4"
      },
      "outputs": [
        {
          "name": "stdout",
          "output_type": "stream",
          "text": [
            "2547132754512\n"
          ]
        }
      ],
      "source": [
        "a=10\n",
        "print(id(a)) #a변수 메모리 주소 확인"
      ]
    },
    {
      "cell_type": "code",
      "execution_count": null,
      "id": "227ec2a4",
      "metadata": {
        "id": "227ec2a4",
        "outputId": "8b142661-d0ee-4fcd-a278-c3cf462e5557"
      },
      "outputs": [
        {
          "name": "stdout",
          "output_type": "stream",
          "text": [
            "2547132754512\n"
          ]
        }
      ],
      "source": [
        "b=10\n",
        "print(id(b)) #b변수 메모리 주소 확인"
      ]
    },
    {
      "cell_type": "markdown",
      "id": "5c874d92",
      "metadata": {
        "id": "5c874d92"
      },
      "source": [
        "# 자료형"
      ]
    },
    {
      "cell_type": "markdown",
      "id": "767ad098",
      "metadata": {
        "id": "767ad098"
      },
      "source": [
        "정수\n",
        "- 정수는 int로 나타냄\n",
        "- 파이썬 정수의 크기는 32bit(=4byte)\n",
        "\n",
        "정수 확인 예제"
      ]
    },
    {
      "cell_type": "code",
      "execution_count": null,
      "id": "ebb560e3",
      "metadata": {
        "id": "ebb560e3"
      },
      "outputs": [],
      "source": [
        "a=123"
      ]
    },
    {
      "cell_type": "code",
      "execution_count": null,
      "id": "174ed59f",
      "metadata": {
        "id": "174ed59f",
        "outputId": "197c753f-c037-4926-9f8d-ee8c2f78dcd5"
      },
      "outputs": [
        {
          "name": "stdout",
          "output_type": "stream",
          "text": [
            "<class 'int'>\n"
          ]
        }
      ],
      "source": [
        "print(type(a))"
      ]
    },
    {
      "cell_type": "code",
      "execution_count": null,
      "id": "b8c7fef5",
      "metadata": {
        "id": "b8c7fef5",
        "outputId": "92c620a6-26e0-44f7-822a-2b39c6093ebf"
      },
      "outputs": [
        {
          "name": "stdout",
          "output_type": "stream",
          "text": [
            "4\n"
          ]
        }
      ],
      "source": [
        "print((9).bit_length()) #1001"
      ]
    },
    {
      "cell_type": "markdown",
      "id": "e8f557e0",
      "metadata": {
        "id": "e8f557e0"
      },
      "source": [
        "부동소수점(실수)\n",
        "- 부동소수점(실수)은 float으로 나타냄\n",
        "\n",
        "부동소수점(실수) 확인 예제"
      ]
    },
    {
      "cell_type": "code",
      "execution_count": null,
      "id": "3de0e695",
      "metadata": {
        "id": "3de0e695"
      },
      "outputs": [],
      "source": [
        "b=-1.23"
      ]
    },
    {
      "cell_type": "code",
      "execution_count": null,
      "id": "0d732149",
      "metadata": {
        "id": "0d732149",
        "outputId": "0a046f62-8017-43d0-8750-b76b362aceaf"
      },
      "outputs": [
        {
          "name": "stdout",
          "output_type": "stream",
          "text": [
            "<class 'float'>\n"
          ]
        }
      ],
      "source": [
        "print(type(b))"
      ]
    },
    {
      "cell_type": "markdown",
      "id": "f40752e4",
      "metadata": {
        "id": "f40752e4"
      },
      "source": [
        "2진수 확인 예제"
      ]
    },
    {
      "cell_type": "code",
      "execution_count": null,
      "id": "13ff5596",
      "metadata": {
        "id": "13ff5596",
        "outputId": "ad5b52bd-c44b-4f1a-a7a2-2b3bbca8ff65"
      },
      "outputs": [
        {
          "name": "stdout",
          "output_type": "stream",
          "text": [
            "0b11111111\n"
          ]
        }
      ],
      "source": [
        "print(bin(255))"
      ]
    },
    {
      "cell_type": "markdown",
      "id": "75d8722e",
      "metadata": {
        "id": "75d8722e"
      },
      "source": [
        "8진수 확인 예제"
      ]
    },
    {
      "cell_type": "code",
      "execution_count": null,
      "id": "dc073084",
      "metadata": {
        "id": "dc073084",
        "outputId": "e87b4569-fa35-46d6-b443-d1e375803caa"
      },
      "outputs": [
        {
          "name": "stdout",
          "output_type": "stream",
          "text": [
            "0o377\n"
          ]
        }
      ],
      "source": [
        "print(oct(255))"
      ]
    },
    {
      "cell_type": "markdown",
      "id": "9bbe2799",
      "metadata": {
        "id": "9bbe2799"
      },
      "source": [
        "16진수 확인 예제"
      ]
    },
    {
      "cell_type": "code",
      "execution_count": null,
      "id": "2c564de9",
      "metadata": {
        "id": "2c564de9",
        "outputId": "e539e534-4a6f-4cd7-b059-6be9e114d563"
      },
      "outputs": [
        {
          "name": "stdout",
          "output_type": "stream",
          "text": [
            "0xff\n"
          ]
        }
      ],
      "source": [
        "print(hex(255))"
      ]
    },
    {
      "cell_type": "markdown",
      "id": "edc7d299",
      "metadata": {
        "id": "edc7d299"
      },
      "source": [
        "사칙연산 예제"
      ]
    },
    {
      "cell_type": "code",
      "execution_count": null,
      "id": "5a401e5e",
      "metadata": {
        "id": "5a401e5e",
        "outputId": "6e09ef37-afd7-4826-9259-95ce6d8f1635"
      },
      "outputs": [
        {
          "name": "stdout",
          "output_type": "stream",
          "text": [
            "7\n",
            "-1\n",
            "12\n",
            "0.75\n"
          ]
        }
      ],
      "source": [
        "a=3\n",
        "b=4\n",
        "print(a+b)\n",
        "print(a-b)\n",
        "print(a*b)\n",
        "print(a/b)"
      ]
    },
    {
      "cell_type": "markdown",
      "id": "b3a01d6c",
      "metadata": {
        "id": "b3a01d6c"
      },
      "source": [
        "x의 y제곱을 나타내는 **연산자"
      ]
    },
    {
      "cell_type": "code",
      "execution_count": null,
      "id": "920fa197",
      "metadata": {
        "id": "920fa197",
        "outputId": "9f15373f-ba28-4b6d-a44a-36f9e063a50f"
      },
      "outputs": [
        {
          "name": "stdout",
          "output_type": "stream",
          "text": [
            "81\n"
          ]
        }
      ],
      "source": [
        "a=3\n",
        "b=4\n",
        "print(a**b)"
      ]
    },
    {
      "cell_type": "markdown",
      "id": "314d86b7",
      "metadata": {
        "id": "314d86b7"
      },
      "source": [
        "나눗셈 후 몫을 반환하는 //연산자"
      ]
    },
    {
      "cell_type": "code",
      "execution_count": null,
      "id": "756751df",
      "metadata": {
        "id": "756751df",
        "outputId": "489cb189-2657-4f0e-dede-48056511d903"
      },
      "outputs": [
        {
          "name": "stdout",
          "output_type": "stream",
          "text": [
            "2\n"
          ]
        }
      ],
      "source": [
        "a=7\n",
        "b=3\n",
        "print(a//b)"
      ]
    },
    {
      "cell_type": "markdown",
      "id": "983f1c3b",
      "metadata": {
        "id": "983f1c3b"
      },
      "source": [
        "나눗셈 후 나머지를 반환하는 % 연산자"
      ]
    },
    {
      "cell_type": "code",
      "execution_count": null,
      "id": "552db9d6",
      "metadata": {
        "id": "552db9d6",
        "outputId": "a3c7807f-df3f-48cd-f0d0-ca796d481df5"
      },
      "outputs": [
        {
          "name": "stdout",
          "output_type": "stream",
          "text": [
            "1\n"
          ]
        }
      ],
      "source": [
        "a=7\n",
        "b=3\n",
        "print(a%b)"
      ]
    },
    {
      "cell_type": "markdown",
      "id": "16c96980",
      "metadata": {
        "id": "16c96980"
      },
      "source": [
        "**33page 6번째 줄 글자 깨짐 -> 문자열끼리 덧셈, 문자와 숫자의 곱셈이 가능"
      ]
    },
    {
      "cell_type": "markdown",
      "id": "b16c4f29",
      "metadata": {
        "id": "b16c4f29"
      },
      "source": [
        "',\" 따옴표와 큰따옴표는 차이점 없음(사용자 마음)<br>\n",
        "문자열에 큰따옴표(\") 포함시키기 예제"
      ]
    },
    {
      "cell_type": "code",
      "execution_count": null,
      "id": "2fb2b17a",
      "metadata": {
        "id": "2fb2b17a",
        "outputId": "2c4a913b-02ed-4317-98e6-9fcbfda349a5"
      },
      "outputs": [
        {
          "name": "stdout",
          "output_type": "stream",
          "text": [
            "\"Python is very easy.\" he says\n"
          ]
        }
      ],
      "source": [
        "say = '\"Python is very easy.\" he says'\n",
        "print(say)"
      ]
    },
    {
      "cell_type": "code",
      "execution_count": null,
      "id": "1fcd1732",
      "metadata": {
        "id": "1fcd1732",
        "outputId": "30ed7c72-1564-4229-e61f-ee67cf872540"
      },
      "outputs": [
        {
          "name": "stdout",
          "output_type": "stream",
          "text": [
            "\"Python is very easy.\" he says\n"
          ]
        }
      ],
      "source": [
        "say2 = \"\\\"Python is very easy.\\\" he says\"\n",
        "print(say2)"
      ]
    },
    {
      "cell_type": "markdown",
      "id": "5b8bf324",
      "metadata": {
        "id": "5b8bf324"
      },
      "source": [
        "특수기호 표기 예제"
      ]
    },
    {
      "cell_type": "code",
      "execution_count": null,
      "id": "5912cb26",
      "metadata": {
        "scrolled": true,
        "id": "5912cb26",
        "outputId": "622abc13-8ea2-45de-d659-c36769ca321b"
      },
      "outputs": [
        {
          "ename": "SyntaxError",
          "evalue": "EOL while scanning string literal (4276765220.py, line 1)",
          "output_type": "error",
          "traceback": [
            "\u001b[1;36m  Input \u001b[1;32mIn [29]\u001b[1;36m\u001b[0m\n\u001b[1;33m    money='1000\\'\u001b[0m\n\u001b[1;37m                 ^\u001b[0m\n\u001b[1;31mSyntaxError\u001b[0m\u001b[1;31m:\u001b[0m EOL while scanning string literal\n"
          ]
        }
      ],
      "source": [
        "money='1000\\'"
      ]
    },
    {
      "cell_type": "code",
      "execution_count": null,
      "id": "8869e6a8",
      "metadata": {
        "id": "8869e6a8",
        "outputId": "21454d94-7dba-426d-ef9b-5f5a99610caf"
      },
      "outputs": [
        {
          "name": "stdout",
          "output_type": "stream",
          "text": [
            "1000\\\n"
          ]
        }
      ],
      "source": [
        "money='1000\\\\'\n",
        "print(money)"
      ]
    },
    {
      "cell_type": "markdown",
      "id": "ef8b9982",
      "metadata": {
        "id": "ef8b9982"
      },
      "source": [
        "- 특수 기호의 역할을 하지 못하게 하고 싶을 때 \\를 앞에 붙여줌\n",
        "\n",
        "여러 줄인 문자열을 변수에 대입하고 싶은 경우\n",
        "\n",
        "1. 줄을 바꾸기 위한 이스케이프 문자 사용"
      ]
    },
    {
      "cell_type": "code",
      "execution_count": null,
      "id": "46a08d88",
      "metadata": {
        "id": "46a08d88",
        "outputId": "5efbd976-9849-4adc-bdb6-bc9e3216bca1"
      },
      "outputs": [
        {
          "name": "stdout",
          "output_type": "stream",
          "text": [
            "Life is short\n",
            "You need python\n"
          ]
        }
      ],
      "source": [
        "multiline = \"Life is short\\nYou need python\"\n",
        "print(multiline)"
      ]
    },
    {
      "cell_type": "markdown",
      "id": "26f93ccf",
      "metadata": {
        "id": "26f93ccf"
      },
      "source": [
        "-읽기가 불편하고 줄이 길어지는 단점 존재\n",
        "\n",
        "2. 연속된 작은 따옴표 세 개(''') or 큰 따옴표 세 개(\"\"\") 사용"
      ]
    },
    {
      "cell_type": "code",
      "execution_count": null,
      "id": "3760f6bf",
      "metadata": {
        "id": "3760f6bf",
        "outputId": "04f8aea6-63e5-46b5-9223-e18b34858dfc"
      },
      "outputs": [
        {
          "name": "stdout",
          "output_type": "stream",
          "text": [
            "\n",
            "Life is short\n",
            "You need python\n",
            "\n"
          ]
        }
      ],
      "source": [
        "multiline=\"\"\"\n",
        "Life is short\n",
        "You need python\n",
        "\"\"\"\n",
        "print(multiline)"
      ]
    },
    {
      "cell_type": "markdown",
      "id": "ba0acd98",
      "metadata": {
        "id": "ba0acd98"
      },
      "source": [
        "문자열 합치기 예제"
      ]
    },
    {
      "cell_type": "code",
      "execution_count": null,
      "id": "a8a5df08",
      "metadata": {
        "id": "a8a5df08",
        "outputId": "9856ecd5-f854-4afa-b116-5e73747b3911"
      },
      "outputs": [
        {
          "name": "stdout",
          "output_type": "stream",
          "text": [
            "Pyrhon is fun!\n"
          ]
        }
      ],
      "source": [
        "head = \"Pyrhon\"\n",
        "tail = \" is fun!\"\n",
        "print(head + tail)"
      ]
    },
    {
      "cell_type": "markdown",
      "id": "c4056adb",
      "metadata": {
        "id": "c4056adb"
      },
      "source": [
        "문자열 곱하기 예제"
      ]
    },
    {
      "cell_type": "code",
      "execution_count": null,
      "id": "017dbfac",
      "metadata": {
        "id": "017dbfac",
        "outputId": "bf128ab0-40e2-41a3-fa90-072ee2d3e3c5"
      },
      "outputs": [
        {
          "name": "stdout",
          "output_type": "stream",
          "text": [
            "PythonPython\n"
          ]
        }
      ],
      "source": [
        "a = \"Python\"\n",
        "print(a*2)"
      ]
    },
    {
      "cell_type": "markdown",
      "id": "7d5a32d1",
      "metadata": {
        "id": "7d5a32d1"
      },
      "source": [
        "문자열 곱하기 응용 예제"
      ]
    },
    {
      "cell_type": "code",
      "execution_count": null,
      "id": "e8a9af9e",
      "metadata": {
        "id": "e8a9af9e",
        "outputId": "cdd008f9-3007-4a52-bced-99a33a2efeb8"
      },
      "outputs": [
        {
          "name": "stdout",
          "output_type": "stream",
          "text": [
            "==============================\n",
            "My Program\n",
            "==============================\n"
          ]
        }
      ],
      "source": [
        "print(\"=\" * 30)\n",
        "print(\"My Program\")\n",
        "print(\"=\" * 30)"
      ]
    },
    {
      "cell_type": "markdown",
      "id": "3d6f0988",
      "metadata": {
        "id": "3d6f0988"
      },
      "source": [
        "문자열 길이 구하기 예제"
      ]
    },
    {
      "cell_type": "code",
      "execution_count": null,
      "id": "f12e0317",
      "metadata": {
        "id": "f12e0317",
        "outputId": "405f8c31-dbbf-4ac5-f21a-c200d0509367"
      },
      "outputs": [
        {
          "name": "stdout",
          "output_type": "stream",
          "text": [
            "17\n"
          ]
        }
      ],
      "source": [
        "a=\"Life is too short\"\n",
        "print(len(a))"
      ]
    },
    {
      "cell_type": "markdown",
      "id": "9980c5f9",
      "metadata": {
        "id": "9980c5f9"
      },
      "source": [
        "문자열 인덱싱, 슬라이싱 예제"
      ]
    },
    {
      "cell_type": "code",
      "execution_count": null,
      "id": "557cf34c",
      "metadata": {
        "id": "557cf34c",
        "outputId": "4c750520-7e02-48d7-9e23-dfba83445ea4"
      },
      "outputs": [
        {
          "name": "stdout",
          "output_type": "stream",
          "text": [
            "Life\n",
            "Life\n",
            "o short. You need Python\n"
          ]
        }
      ],
      "source": [
        "a = \"Life is too short. You need Python\"\n",
        "print(a[0:4])\n",
        "print(a[:4])\n",
        "print(a[10:])"
      ]
    },
    {
      "cell_type": "markdown",
      "id": "b646588c",
      "metadata": {
        "id": "b646588c"
      },
      "source": [
        "a=\"Pithon\" -> \"Python\" 예제"
      ]
    },
    {
      "cell_type": "code",
      "execution_count": null,
      "id": "eeb6f180",
      "metadata": {
        "id": "eeb6f180",
        "outputId": "60245258-949c-43fa-eeab-dd725d0411a2"
      },
      "outputs": [
        {
          "name": "stdout",
          "output_type": "stream",
          "text": [
            "Python\n"
          ]
        }
      ],
      "source": [
        "a=\"Pithon\"\n",
        "print(a[0]+'y'+a[2:])"
      ]
    },
    {
      "cell_type": "markdown",
      "id": "d27d61d1",
      "metadata": {
        "id": "d27d61d1"
      },
      "source": [
        "문자열 포매팅 예제"
      ]
    },
    {
      "cell_type": "code",
      "execution_count": null,
      "id": "32c0395b",
      "metadata": {
        "id": "32c0395b",
        "outputId": "f8887cce-3909-4563-9337-ea36c11ed18e"
      },
      "outputs": [
        {
          "name": "stdout",
          "output_type": "stream",
          "text": [
            "I eat 10 apples. so I was sick for three days.\n"
          ]
        }
      ],
      "source": [
        "number=10\n",
        "day=\"three\"\n",
        "print(\"I eat %d apples. so I was sick for %s days.\" %(number, day))\n",
        "#숫자 변수, 문자열 : 두 개 이상의 변수 대입"
      ]
    },
    {
      "cell_type": "markdown",
      "id": "b226e749",
      "metadata": {
        "id": "b226e749"
      },
      "source": [
        "%d와 %를 같이 사용하는 예제"
      ]
    },
    {
      "cell_type": "code",
      "execution_count": null,
      "id": "31d579b2",
      "metadata": {
        "id": "31d579b2",
        "outputId": "e3541b0d-a1a6-42a4-fb4f-0a5ce63e2d48"
      },
      "outputs": [
        {
          "name": "stdout",
          "output_type": "stream",
          "text": [
            "Error is 98%\n"
          ]
        }
      ],
      "source": [
        "print(\"Error is %d%%\" %98)"
      ]
    },
    {
      "cell_type": "markdown",
      "id": "1e21acb0",
      "metadata": {
        "id": "1e21acb0"
      },
      "source": [
        "**33page 3번째줄 글자 깨짐 -> \"**<br>\n",
        "**33page 5번째줄 글자 깨짐 -> 소숫점**\n",
        "\n",
        "정렬과 공백 예제"
      ]
    },
    {
      "cell_type": "code",
      "execution_count": null,
      "id": "1935d628",
      "metadata": {
        "id": "1935d628",
        "outputId": "faf94adf-92ae-4884-fc45-d26a65845919"
      },
      "outputs": [
        {
          "name": "stdout",
          "output_type": "stream",
          "text": [
            "hi\n",
            "        hi\n",
            "hi        \n"
          ]
        }
      ],
      "source": [
        "print(\"%s\" %\"hi\")\n",
        "print(\"%10s\" %\"hi\")\n",
        "print(\"%-10s\" %\"hi\") #10칸으로 나옴"
      ]
    },
    {
      "cell_type": "markdown",
      "id": "20a82813",
      "metadata": {
        "id": "20a82813"
      },
      "source": [
        "소수점 표현하기 예제"
      ]
    },
    {
      "cell_type": "code",
      "execution_count": null,
      "id": "607694ff",
      "metadata": {
        "id": "607694ff",
        "outputId": "9cad2134-a778-431c-9250-f5df53053696"
      },
      "outputs": [
        {
          "name": "stdout",
          "output_type": "stream",
          "text": [
            "3.421342\n",
            "3.4213\n",
            "    3.4213\n"
          ]
        }
      ],
      "source": [
        "print(\"%f\" %3.42134234)\n",
        "print(\"%0.4f\" %3.42134234)\n",
        "print(\"%10.4f\" %3.42134234) #오른쪽 정렬"
      ]
    },
    {
      "cell_type": "markdown",
      "id": "e1c4b972",
      "metadata": {
        "id": "e1c4b972"
      },
      "source": [
        "format() 함수를 이용한 포매팅 예제"
      ]
    },
    {
      "cell_type": "code",
      "execution_count": null,
      "id": "86379d09",
      "metadata": {
        "id": "86379d09",
        "outputId": "5f8c035b-630d-4444-a8e3-53407e909a80"
      },
      "outputs": [
        {
          "name": "stdout",
          "output_type": "stream",
          "text": [
            "11 22 33\n",
            "I eat three apples. so I was sick for 10 days.\n",
            "I eat 10 apples. so I was sick for 3 days.\n"
          ]
        }
      ],
      "source": [
        "print(\"{} {} {}\".format(11,22,33))\n",
        "\n",
        "number=10\n",
        "day=\"three\"\n",
        "print(\"I eat {1} apples. so I was sick for {0} days.\" .format(number, day))\n",
        "#순서를 이용하여 포매팅 가능\n",
        "\n",
        "print(\"I eat {number} apples. so I was sick for {day} days.\" .format(number=10, day=3))\n",
        "#변수 이름을 이용하여 포매팅 가능"
      ]
    },
    {
      "cell_type": "markdown",
      "id": "14c48c55",
      "metadata": {
        "id": "14c48c55"
      },
      "source": [
        "f문자열 포매팅 예제"
      ]
    },
    {
      "cell_type": "code",
      "execution_count": null,
      "id": "446365ae",
      "metadata": {
        "id": "446365ae",
        "outputId": "bb676594-af64-49d4-c9a4-28d5ec82a2e7"
      },
      "outputs": [
        {
          "name": "stdout",
          "output_type": "stream",
          "text": [
            "나의 이름은 홍길동입니다. 나이는 20입니다.\n"
          ]
        }
      ],
      "source": [
        "name = \"홍길동\"\n",
        "age = 19\n",
        "print(f'나의 이름은 {name}입니다. 나이는 {age+1}입니다.')"
      ]
    },
    {
      "cell_type": "markdown",
      "id": "f34ae7b5",
      "metadata": {
        "id": "f34ae7b5"
      },
      "source": [
        "문자열 갯수 세기 예제(count)"
      ]
    },
    {
      "cell_type": "code",
      "execution_count": null,
      "id": "dd97e368",
      "metadata": {
        "id": "dd97e368",
        "outputId": "c907c607-6bbd-42d9-dca1-1721a37ac8f4"
      },
      "outputs": [
        {
          "name": "stdout",
          "output_type": "stream",
          "text": [
            "2\n"
          ]
        }
      ],
      "source": [
        "a=\"hobby\"\n",
        "print(a.count(\"b\"))"
      ]
    },
    {
      "cell_type": "markdown",
      "id": "99b71044",
      "metadata": {
        "id": "99b71044"
      },
      "source": [
        "문자 위치 알려주기 예제1(find)"
      ]
    },
    {
      "cell_type": "code",
      "execution_count": null,
      "id": "20fb06d5",
      "metadata": {
        "id": "20fb06d5",
        "outputId": "6778be51-ad14-41d9-d1b4-4b1b275078a3"
      },
      "outputs": [
        {
          "name": "stdout",
          "output_type": "stream",
          "text": [
            "14\n",
            "-1\n"
          ]
        }
      ],
      "source": [
        "a=\"Python is the best choice\"\n",
        "print(a.find(\"b\"))\n",
        "print(a.find(\"j\"))\n",
        "#문자열 중 문자 b가 처음 나온 위치를 반환, 찾는 문자나 문자열이 없을 경우 -1을 반환"
      ]
    },
    {
      "cell_type": "markdown",
      "id": "947cd0f7",
      "metadata": {
        "id": "947cd0f7"
      },
      "source": [
        "문자 위치 알려주기 예제2(index)"
      ]
    },
    {
      "cell_type": "code",
      "execution_count": null,
      "id": "1329b972",
      "metadata": {
        "id": "1329b972",
        "outputId": "7ab84e56-293d-499a-cddd-2105b68012fd"
      },
      "outputs": [
        {
          "name": "stdout",
          "output_type": "stream",
          "text": [
            "8\n"
          ]
        },
        {
          "ename": "ValueError",
          "evalue": "substring not found",
          "output_type": "error",
          "traceback": [
            "\u001b[1;31m---------------------------------------------------------------------------\u001b[0m",
            "\u001b[1;31mValueError\u001b[0m                                Traceback (most recent call last)",
            "Input \u001b[1;32mIn [72]\u001b[0m, in \u001b[0;36m<module>\u001b[1;34m\u001b[0m\n\u001b[0;32m      1\u001b[0m a\u001b[38;5;241m=\u001b[39m\u001b[38;5;124m\"\u001b[39m\u001b[38;5;124mLife is too short\u001b[39m\u001b[38;5;124m\"\u001b[39m\n\u001b[0;32m      2\u001b[0m \u001b[38;5;28mprint\u001b[39m(a\u001b[38;5;241m.\u001b[39mindex(\u001b[38;5;124m\"\u001b[39m\u001b[38;5;124mt\u001b[39m\u001b[38;5;124m\"\u001b[39m))\n\u001b[1;32m----> 3\u001b[0m \u001b[38;5;28mprint\u001b[39m(\u001b[43ma\u001b[49m\u001b[38;5;241;43m.\u001b[39;49m\u001b[43mindex\u001b[49m\u001b[43m(\u001b[49m\u001b[38;5;124;43m\"\u001b[39;49m\u001b[38;5;124;43mj\u001b[39;49m\u001b[38;5;124;43m\"\u001b[39;49m\u001b[43m)\u001b[49m)\n",
            "\u001b[1;31mValueError\u001b[0m: substring not found"
          ]
        }
      ],
      "source": [
        "a=\"Life is too short\"\n",
        "print(a.index(\"t\"))\n",
        "print(a.index(\"j\"))\n",
        "#문자열 중 문자 t가 처음 나온 위치를 반환, 찾는 문자나 문자열이 없을 경우 에러를 반환"
      ]
    },
    {
      "cell_type": "markdown",
      "id": "72b03715",
      "metadata": {
        "id": "72b03715"
      },
      "source": [
        "문자열 삽입 예제(join)"
      ]
    },
    {
      "cell_type": "code",
      "execution_count": null,
      "id": "821a41ec",
      "metadata": {
        "id": "821a41ec",
        "outputId": "9e90e181-dd22-4696-e04e-5b95e3ce78ca"
      },
      "outputs": [
        {
          "name": "stdout",
          "output_type": "stream",
          "text": [
            "a.b.c.d\n"
          ]
        }
      ],
      "source": [
        "a=\".\"\n",
        "print(a.join('abcd'))"
      ]
    },
    {
      "cell_type": "code",
      "execution_count": null,
      "id": "80b41a83",
      "metadata": {
        "id": "80b41a83",
        "outputId": "ae347929-cb13-4936-ba67-6bf73910d438"
      },
      "outputs": [
        {
          "name": "stdout",
          "output_type": "stream",
          "text": [
            "a:b:c:d\n"
          ]
        }
      ],
      "source": [
        "a=\":\"\n",
        "print(a.join([\"a\",\"b\",\"c\",\"d\"]))"
      ]
    },
    {
      "cell_type": "markdown",
      "id": "5410af64",
      "metadata": {
        "id": "5410af64"
      },
      "source": [
        "-join() 함수의 입력으로 리스트 사용 가능\n",
        "\n",
        "소문자를 대문자로 바꾸기 예제(upper)"
      ]
    },
    {
      "cell_type": "code",
      "execution_count": null,
      "id": "103cd2c9",
      "metadata": {
        "id": "103cd2c9",
        "outputId": "7c39d0be-8170-43c3-d6fd-e198c75270c7"
      },
      "outputs": [
        {
          "name": "stdout",
          "output_type": "stream",
          "text": [
            "HI\n"
          ]
        }
      ],
      "source": [
        "a=\"hi\"\n",
        "print(a.upper())"
      ]
    },
    {
      "cell_type": "markdown",
      "id": "9ccf5c8f",
      "metadata": {
        "id": "9ccf5c8f"
      },
      "source": [
        "대문자를 소문자로 바꾸기 예제(lower)"
      ]
    },
    {
      "cell_type": "code",
      "execution_count": null,
      "id": "8f16842f",
      "metadata": {
        "id": "8f16842f",
        "outputId": "5a0f7b2a-a887-4e0e-ef3e-dbe48c285afd"
      },
      "outputs": [
        {
          "name": "stdout",
          "output_type": "stream",
          "text": [
            "hi\n"
          ]
        }
      ],
      "source": [
        "a=\"HI\"\n",
        "print(a.lower())"
      ]
    },
    {
      "cell_type": "markdown",
      "id": "f6bb53b3",
      "metadata": {
        "id": "f6bb53b3"
      },
      "source": [
        "왼쪽 공백 지우기 예제(Istrip)"
      ]
    },
    {
      "cell_type": "code",
      "execution_count": null,
      "id": "29169bd9",
      "metadata": {
        "id": "29169bd9",
        "outputId": "e0a8da6d-14a8-4f14-c4d7-32748899eb54"
      },
      "outputs": [
        {
          "name": "stdout",
          "output_type": "stream",
          "text": [
            "hi\n"
          ]
        }
      ],
      "source": [
        "a=\"    hi\"\n",
        "print(a.lstrip())"
      ]
    },
    {
      "cell_type": "markdown",
      "id": "8452e296",
      "metadata": {
        "id": "8452e296"
      },
      "source": [
        "오른쪽 공백 지우기 예제(rstrip)"
      ]
    },
    {
      "cell_type": "code",
      "execution_count": null,
      "id": "5e58eedd",
      "metadata": {
        "id": "5e58eedd",
        "outputId": "b22ee9c9-04fa-40bb-de11-2228103f1833"
      },
      "outputs": [
        {
          "name": "stdout",
          "output_type": "stream",
          "text": [
            "  hi\n"
          ]
        }
      ],
      "source": [
        "a=\"  hi   \"\n",
        "print(a.rstrip())"
      ]
    },
    {
      "cell_type": "markdown",
      "id": "9bd7fd03",
      "metadata": {
        "id": "9bd7fd03"
      },
      "source": [
        "**44page 1번째 줄 글자 깨짐 -> 문자열**"
      ]
    },
    {
      "cell_type": "markdown",
      "id": "f5743b66",
      "metadata": {
        "id": "f5743b66"
      },
      "source": [
        "양쪽 공백 지우기 예제(strip)"
      ]
    },
    {
      "cell_type": "code",
      "execution_count": null,
      "id": "c7ab92ef",
      "metadata": {
        "id": "c7ab92ef",
        "outputId": "2c6b64ad-7508-4a74-bc36-cf2b581e4a32"
      },
      "outputs": [
        {
          "name": "stdout",
          "output_type": "stream",
          "text": [
            "hi\n"
          ]
        }
      ],
      "source": [
        "a=\"  hi   \"\n",
        "print(a.strip())"
      ]
    },
    {
      "cell_type": "markdown",
      "id": "54cc82fe",
      "metadata": {
        "id": "54cc82fe"
      },
      "source": [
        "문자열 바꾸기 예제(replace)"
      ]
    },
    {
      "cell_type": "code",
      "execution_count": null,
      "id": "83ca3033",
      "metadata": {
        "id": "83ca3033",
        "outputId": "4aa198c5-154e-44f1-aa1d-43f21f7cd80d"
      },
      "outputs": [
        {
          "name": "stdout",
          "output_type": "stream",
          "text": [
            "Your leg is too short\n"
          ]
        }
      ],
      "source": [
        "a=\"Life is too short\"\n",
        "print(a.replace(\"Life\",\"Your leg\"))"
      ]
    },
    {
      "cell_type": "markdown",
      "id": "6dbadfba",
      "metadata": {
        "id": "6dbadfba"
      },
      "source": [
        "문자열 나누기 예제(split)"
      ]
    },
    {
      "cell_type": "code",
      "execution_count": null,
      "id": "4f56814d",
      "metadata": {
        "id": "4f56814d",
        "outputId": "d41ca751-f315-427c-ed3a-3a4e5ed418ed"
      },
      "outputs": [
        {
          "name": "stdout",
          "output_type": "stream",
          "text": [
            "['Life', 'is', 'too', 'short']\n"
          ]
        }
      ],
      "source": [
        "a=\"Life is too short\"\n",
        "print(a.split())"
      ]
    },
    {
      "cell_type": "code",
      "execution_count": null,
      "id": "c6029578",
      "metadata": {
        "id": "c6029578",
        "outputId": "5b2265a6-842d-46ee-a1aa-58a9d66aa43f"
      },
      "outputs": [
        {
          "name": "stdout",
          "output_type": "stream",
          "text": [
            "['a', 'b', 'c', 'd']\n"
          ]
        }
      ],
      "source": [
        "b=\"a:b:c:d\"\n",
        "print(b.split(\":\"))"
      ]
    },
    {
      "cell_type": "markdown",
      "id": "30669f6f",
      "metadata": {
        "id": "30669f6f"
      },
      "source": [
        "- split() 함수는 괄호 안에 아무것도 넣어주지 않을 경우 공백을 기준으로 나눔\n",
        "- split() 함수의 괄호 안에 특정 값이 있는 경우 특정 값을 기준으로 나눔"
      ]
    },
    {
      "cell_type": "code",
      "execution_count": null,
      "id": "f787bf97",
      "metadata": {
        "id": "f787bf97"
      },
      "outputs": [],
      "source": [
        ""
      ]
    },
    {
      "cell_type": "code",
      "execution_count": null,
      "id": "86d3d421",
      "metadata": {
        "id": "86d3d421"
      },
      "outputs": [],
      "source": [
        ""
      ]
    }
  ],
  "metadata": {
    "kernelspec": {
      "display_name": "Python 3 (ipykernel)",
      "language": "python",
      "name": "python3"
    },
    "language_info": {
      "codemirror_mode": {
        "name": "ipython",
        "version": 3
      },
      "file_extension": ".py",
      "mimetype": "text/x-python",
      "name": "python",
      "nbconvert_exporter": "python",
      "pygments_lexer": "ipython3",
      "version": "3.9.7"
    },
    "colab": {
      "name": "2일차.ipynb",
      "provenance": [],
      "include_colab_link": true
    }
  },
  "nbformat": 4,
  "nbformat_minor": 5
}