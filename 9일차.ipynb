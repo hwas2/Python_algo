{
  "cells": [
    {
      "cell_type": "markdown",
      "metadata": {
        "id": "view-in-github",
        "colab_type": "text"
      },
      "source": [
        "<a href=\"https://colab.research.google.com/github/hwas2/Python_study/blob/master/9%EC%9D%BC%EC%B0%A8.ipynb\" target=\"_parent\"><img src=\"https://colab.research.google.com/assets/colab-badge.svg\" alt=\"Open In Colab\"/></a>"
      ]
    },
    {
      "cell_type": "markdown",
      "id": "8a2acbae",
      "metadata": {
        "id": "8a2acbae"
      },
      "source": [
        "# 크롤링\n",
        "- 인터넷에서 정보를 자동으로 수집하는 행위\n",
        "- 유명 검색 엔진들에서 크롤러를 활용\n",
        " - 네이버 구글 같은 대형 검색 엔진들 방대한 사이트의 정보를 수집, 한군데 정렬하여 제공\n",
        "- 크롤링 : 정보를 수집하는 행위\n",
        "- 크롤러 : 정보를 수집하는 도구<br><br>\n",
        "\n",
        "크롤링 시 주의사항\n",
        "- 크롤러는 신중하게 사용\n",
        " - 대부분의 웹페이지는 영리적인 목적으로 운영\n",
        " - ex) 네이버에서 무언가를 검색하면 화면 곳곳에서 광고를 발견\n",
        " - 네이버에서 광고를 클릭하는 순간 발생하는 트래픽에 의해 수익으로 연결\n",
        "- 크롤러는 알짜배기 정보만 가져오고 광고는 클릭X\n",
        "- 실습(연습)용으로 사용하는 것은 문제가 되지 않음\n",
        "- 무단 미러링은 법에 위반\n",
        " - 무단 미러링 : 자료를 크롤링하여 무단으로 복제<br><br>\n",
        "\n",
        "\n",
        "크롤러 제작\n",
        "- 만드는 방법은 다양\n",
        "- 셀레늄 모듈을 활용하여 제작<br>\n",
        "\n",
        "\n",
        "셀레늄 라이브러리 설치\n",
        "- cmd창에서 진행 cd Python 입력 후\n",
        "- pip install selenium\n",
        "\n",
        "Python 폴더에 pywinmacro.py 파일 저장\n",
        "- pip install pywin32 pyperclip\n",
        "\n",
        "크롬 설치<br><br>\n",
        "크롤링을 위한 크롬 드라이버 설치\n",
        "1. 우측 상단 점 세개\n",
        "2. [도움말]-[Chrome 정보]-크롬 버전 확인\n",
        "3. 새 창에서 https://chromedriver.chromium.org <br>\n",
        "- 버전 98.0.4758.82(공식 빌드) (64비트)에 맞춰 - Latest stable release: ChromeDriver 98.0.4758.80 다운<br>\n",
        "- 압축 풀기 위치 : 주피터 노트북과 같은 위치(Pyhton폴더)"
      ]
    },
    {
      "cell_type": "markdown",
      "id": "e9b6823b",
      "metadata": {
        "id": "e9b6823b"
      },
      "source": [
        "셀레니옴 모듈과 크롬 드라이브를 이용하여 브라우저 제어\n",
        "\n",
        "import selenium에서 오류 발생 시 !pip install selenium"
      ]
    },
    {
      "cell_type": "code",
      "execution_count": null,
      "id": "0e66deea",
      "metadata": {
        "id": "0e66deea"
      },
      "outputs": [],
      "source": [
        "!pip install selenium"
      ]
    },
    {
      "cell_type": "code",
      "execution_count": null,
      "id": "8dd2869e",
      "metadata": {
        "id": "8dd2869e"
      },
      "outputs": [],
      "source": [
        "import selenium"
      ]
    },
    {
      "cell_type": "markdown",
      "id": "757b258c",
      "metadata": {
        "id": "757b258c"
      },
      "source": [
        "파이썬에서 크롬 드라이버 실행 방법"
      ]
    },
    {
      "cell_type": "code",
      "execution_count": null,
      "id": "0d7b9178",
      "metadata": {
        "id": "0d7b9178"
      },
      "outputs": [],
      "source": [
        "from selenium import webdriver"
      ]
    },
    {
      "cell_type": "markdown",
      "id": "9bc43cf4",
      "metadata": {
        "id": "9bc43cf4"
      },
      "source": [
        "chromedriver.exe를 사용하기 위해서는 selenium 모듈을 import시켜야 함\n",
        "- webdriver.Chrome을 사용하여 실행 위치를 지정\n",
        "- chromedriver.exe의 위치를 알고 있다면 파일 우클릭하여 경로를 확인\n",
        "- 해당 경로를 넣어주는 방법도 있음"
      ]
    },
    {
      "cell_type": "code",
      "execution_count": null,
      "id": "6d473cea",
      "metadata": {
        "id": "6d473cea",
        "outputId": "5ffd8b61-416e-4526-9fa7-123d638c4d5b"
      },
      "outputs": [
        {
          "name": "stderr",
          "output_type": "stream",
          "text": [
            "C:\\Users\\장연화\\AppData\\Local\\Temp\\ipykernel_8928\\2175710663.py:1: DeprecationWarning: executable_path has been deprecated, please pass in a Service object\n",
            "  driver=webdriver.Chrome(executable_path=\"chromedriver_win32/chromedriver.exe\")\n"
          ]
        }
      ],
      "source": [
        "driver=webdriver.Chrome(executable_path=\"chromedriver_win32/chromedriver.exe\")"
      ]
    },
    {
      "cell_type": "markdown",
      "id": "991dce85",
      "metadata": {
        "id": "991dce85"
      },
      "source": [
        "홈페이지를 띄우고 로그인해보기"
      ]
    },
    {
      "cell_type": "code",
      "execution_count": null,
      "id": "3b985502",
      "metadata": {
        "id": "3b985502"
      },
      "outputs": [],
      "source": [
        "driver.get(\"https://www.naver.com\")"
      ]
    },
    {
      "cell_type": "markdown",
      "id": "2c0f2e57",
      "metadata": {
        "id": "2c0f2e57"
      },
      "source": [
        "알고리즘 순서도\n",
        "\n",
        "1. 시작\n",
        "2. 로그인 할 사이트를 입력 받음\n",
        "3. 아이디와 비밀번호를 입력 받음\n",
        "4. 로그인 사이트로 이동\n",
        "5. 아이디 입력\n",
        "6. tab 키 누른 후 비밀번호 입력\n",
        "7. 엔터 키 누른 후 종료\n",
        "\n",
        "- 파일을 두 개 만들어서 진행"
      ]
    },
    {
      "cell_type": "code",
      "execution_count": null,
      "id": "74f2d1c7",
      "metadata": {
        "id": "74f2d1c7"
      },
      "outputs": [],
      "source": [
        "!pip install pywin32 pyperclip"
      ]
    },
    {
      "cell_type": "markdown",
      "id": "b4b42bb7",
      "metadata": {
        "id": "b4b42bb7"
      },
      "source": [
        "- pywin32 : Win32 API의 기능을 파이썬에서 사용할 수 있도록 해주는 라이브러리\n",
        "- pyperclip: 파이썬으로 클립보드에 복사 붙여넣기"
      ]
    },
    {
      "cell_type": "markdown",
      "id": "b6c30cea",
      "metadata": {
        "id": "b6c30cea"
      },
      "source": [
        "모듈 파일 작성(login_macro.py)"
      ]
    },
    {
      "cell_type": "code",
      "execution_count": null,
      "id": "7346adee",
      "metadata": {
        "id": "7346adee",
        "outputId": "8e54ddd1-4dbb-4240-8550-fb1848fe5912"
      },
      "outputs": [
        {
          "ename": "SyntaxError",
          "evalue": "invalid syntax (3383879449.py, line 9)",
          "output_type": "error",
          "traceback": [
            "\u001b[1;36m  Input \u001b[1;32mIn [12]\u001b[1;36m\u001b[0m\n\u001b[1;33m    \"naver\":\"https://nid.naver.com/nidlogin.login?\"\u001b[0m\n\u001b[1;37m           ^\u001b[0m\n\u001b[1;31mSyntaxError\u001b[0m\u001b[1;31m:\u001b[0m invalid syntax\n"
          ]
        }
      ],
      "source": [
        "from selenium import webdriver #selenium으로 web제어\n",
        "from selenium.webdriver.chrome.options import Options #옵션 적용\n",
        "import pywinmacro as pw\n",
        "import time #시간 제어 위해 time import\n",
        "\n",
        "#사이트의 로그인 주소를 미리 저장\n",
        "LOGIN_URLS={\n",
        "    \"daum\":\"https://logins.daum.net/accounts/signinform.do\"\n",
        "    \"naver\":\"https://nid.naver.com/nidlogin.login?\"\n",
        "}\n",
        "\n",
        "class LoginBot:\n",
        "    def __init__(self,site):\n",
        "        #셀레늄 웹드라이버에 입력할 옵션을 지정\n",
        "        self.options=Options()\n",
        "        #옵션에 해상도를 입력\n",
        "        self.options.add_argument(\"--window-size=1920,1080\")\n",
        "        #옵션을 이용하여 크롬 웹드라이버를 불러옴\n",
        "        self.driver=webdriver.Chrome(executable_path=\"chromedriver_win32/chromedriver.exe\",\n",
        "                               chrome_options=self.options)\n",
        "        #로그인하려는 사이트로 이동해 로그인창을 켬\n",
        "        try:\n",
        "            self.driver.get(LOGIN_URLS[site.lower()]) #TWITTER -> twitter\n",
        "            #룅이 오래 걸릴 것을 대비하여 잠시 대기\n",
        "            time.sleep(7)\n",
        "        except KeyError:\n",
        "            #세팅되지 않은 주소가 나올 경우 주소창에 입력하게 함\n",
        "            self.driver.get(site)\n",
        "            #로딩이 오래 걸릴 것을 대비하여 잠시 대기\n",
        "            time.sleep(7)\n",
        "            \n",
        "    #로그인 메서드\n",
        "    def login(self, id, ps):\n",
        "        #아이디 입력\n",
        "        pw.typing(id)\n",
        "        #비밀번호 입력을 위해 탭 키 사용\n",
        "        pw.key_press_once(\"tab\")\n",
        "        #비밀번호 입력\n",
        "        pw.typing(ps)\n",
        "        #로그인을 위한 엔터키 사용\n",
        "        pw.key_press_once(\"enter\")\n",
        "        #로딩이 오래 걸릴 것을 대비하여 잠시 대기\n",
        "        time.sleep(7)\n",
        "    \n",
        "    #크롤러 종료 메서드\n",
        "    def kill(self):\n",
        "        self.driver.quit()"
      ]
    },
    {
      "cell_type": "markdown",
      "id": "3f7364b2",
      "metadata": {
        "id": "3f7364b2"
      },
      "source": [
        "실제 구동할 파일 작성(login.py)"
      ]
    },
    {
      "cell_type": "code",
      "execution_count": null,
      "id": "533de114",
      "metadata": {
        "id": "533de114"
      },
      "outputs": [],
      "source": [
        "import sys\n",
        "import login_macro as lm\n",
        "\n",
        "#로그인 할 사이트를 입력받기\n",
        "site=sys.argv[1]\n",
        "\n",
        "#아이디 입력받기\n",
        "id=sys.argv[2]\n",
        "\n",
        "#패스워드 입력받기\n",
        "ps=sys.argv[3]\n",
        "\n",
        "#lm모듈에 있는 클래스를 객체화\n",
        "crawler=lm.LoginBot(site)\n",
        "\n",
        "#로그인\n",
        "crawler.login(id,ps)"
      ]
    },
    {
      "cell_type": "markdown",
      "id": "f7fed9be",
      "metadata": {
        "id": "f7fed9be"
      },
      "source": [
        "주피터 노트북에서 코드를 실행시킬 시 입력해야 하는 명령어 코드"
      ]
    },
    {
      "cell_type": "code",
      "execution_count": null,
      "id": "9de63a0a",
      "metadata": {
        "id": "9de63a0a"
      },
      "outputs": [],
      "source": [
        "!python login.py naver ogs1316 qwer1234 #cmd창이 아닌 jupyter notebook으로 실행할 때"
      ]
    },
    {
      "cell_type": "markdown",
      "id": "a173ba1d",
      "metadata": {
        "id": "a173ba1d"
      },
      "source": [
        "매크로 없이 트위터에 로그인하는 코드\n",
        "\n",
        "목표\n",
        "1. 매크로 없이 데이터 입력\n",
        "2. 아이디 입력창에 아이디를 입력\n",
        "3. 비밀번호 입력창에 비밀번호 입력\n",
        "4. 엔터키 입력\n",
        "\n",
        "작업을 위해 목표 쪼개기\n",
        "1. 로그인 아이디 입력창의 요소를 뽑아오기\n",
        "2. 로그인 비밀번호 입력창의 요소 뽑아오기\n",
        "3. 셀레늄으로 글자 입력\n",
        "4. 셀레늄으로 키 입력"
      ]
    },
    {
      "cell_type": "code",
      "execution_count": null,
      "id": "d85a6f07",
      "metadata": {
        "id": "d85a6f07"
      },
      "outputs": [],
      "source": [
        "로그인 창에서 아이디 입력창에 대한 정보 가져오기\n",
        "- https://twitter.com/i/flow/login"
      ]
    },
    {
      "cell_type": "code",
      "execution_count": null,
      "id": "dccfe201",
      "metadata": {
        "id": "dccfe201",
        "outputId": "eb309e59-8f52-4319-f7f1-9bf6f72d2fe4"
      },
      "outputs": [
        {
          "name": "stderr",
          "output_type": "stream",
          "text": [
            "C:\\Users\\장연화\\AppData\\Local\\Temp\\ipykernel_8928\\3456672918.py:2: DeprecationWarning: executable_path has been deprecated, please pass in a Service object\n",
            "  driver=webdriver.Chrome(executable_path=\"chromedriver_win32/chromedriver.exe\")\n"
          ]
        }
      ],
      "source": [
        "from selenium import webdriver\n",
        "driver=webdriver.Chrome(executable_path=\"chromedriver_win32/chromedriver.exe\")\n",
        "driver.get(\"https://twitter.com/i/flow/login\")"
      ]
    },
    {
      "cell_type": "code",
      "execution_count": null,
      "id": "c9b09cb5",
      "metadata": {
        "id": "c9b09cb5"
      },
      "outputs": [],
      "source": [
        ""
      ]
    },
    {
      "cell_type": "markdown",
      "id": "6eb8a8d6",
      "metadata": {
        "id": "6eb8a8d6"
      },
      "source": [
        "인스타그램 특정 태그가 달린 게시물 캡쳐\n",
        "\n",
        "목표\n",
        "1. 인스타그램 로그인\n",
        "2. 인스타그램에서 태그 검색\n",
        "3. 게시물 클릭\n",
        "4. 게시물 스크린샷 캡쳐\n",
        "5. 다음 게시물로 이동"
      ]
    },
    {
      "cell_type": "markdown",
      "id": "5d701fda",
      "metadata": {
        "id": "5d701fda"
      },
      "source": [
        "1. 인스타그램 로그인\n",
        "2. 열린 브라우저로 인스타그램 로그인 사이트 접속"
      ]
    },
    {
      "cell_type": "code",
      "execution_count": null,
      "id": "af37653b",
      "metadata": {
        "scrolled": true,
        "id": "af37653b",
        "outputId": "655d066c-cb2d-459e-e642-d92c66fd5114"
      },
      "outputs": [
        {
          "name": "stderr",
          "output_type": "stream",
          "text": [
            "C:\\Users\\장연화\\AppData\\Local\\Temp\\ipykernel_8928\\2611576891.py:2: DeprecationWarning: executable_path has been deprecated, please pass in a Service object\n",
            "  driver=webdriver.Chrome(executable_path=\"chromedriver_win32/chromedriver.exe\")\n"
          ]
        }
      ],
      "source": [
        "from selenium import webdriver\n",
        "driver=webdriver.Chrome(executable_path=\"chromedriver_win32/chromedriver.exe\")\n",
        "driver.get(\"https://www.instagram.com/accounts/login\")"
      ]
    },
    {
      "cell_type": "markdown",
      "id": "227ea7b9",
      "metadata": {
        "id": "227ea7b9"
      },
      "source": [
        "3. input 태그 찾기\n",
        "결과<br>\n",
        "\\<input aria-label=\\\"전화번호, 사용자 이름 또는 이메일\"...<br>\n",
        "\\<input aria-label=\"비밀번호..."
      ]
    },
    {
      "cell_type": "code",
      "execution_count": null,
      "id": "ed06648e",
      "metadata": {
        "id": "ed06648e",
        "outputId": "83e12360-5b42-4264-d659-79067c0032bb"
      },
      "outputs": [
        {
          "name": "stderr",
          "output_type": "stream",
          "text": [
            "C:\\Users\\장연화\\AppData\\Local\\Temp\\ipykernel_8928\\3360071466.py:1: DeprecationWarning: find_elements_by_* commands are deprecated. Please use find_elements() instead\n",
            "  input_tags=driver.find_elements_by_tag_name(\"input\")\n"
          ]
        }
      ],
      "source": [
        "input_tags=driver.find_elements_by_tag_name(\"input\")"
      ]
    },
    {
      "cell_type": "code",
      "execution_count": null,
      "id": "def91f76",
      "metadata": {
        "id": "def91f76",
        "outputId": "41743204-4afd-4e25-d9ef-d42061ba780c"
      },
      "outputs": [
        {
          "data": {
            "text/plain": [
              "2"
            ]
          },
          "execution_count": 19,
          "metadata": {},
          "output_type": "execute_result"
        }
      ],
      "source": [
        "len(input_tags)"
      ]
    },
    {
      "cell_type": "markdown",
      "id": "083f0df1",
      "metadata": {
        "id": "083f0df1"
      },
      "source": [
        "4, 해당 필드를 객체에 대입\n"
      ]
    },
    {
      "cell_type": "code",
      "execution_count": null,
      "id": "9c2403fc",
      "metadata": {
        "id": "9c2403fc"
      },
      "outputs": [],
      "source": [
        "id_field=input_tags[0] #아이디 필드\n",
        "ps_field=input_tags[1] #비밀번호 필드"
      ]
    },
    {
      "cell_type": "markdown",
      "id": "f7e4e619",
      "metadata": {
        "id": "f7e4e619"
      },
      "source": [
        "5. 아이디 필드와 비밀번호 필드에 값을 입력\n",
        "- send_keys : input 태그에 값을 자동으로 입력해주는 역할"
      ]
    },
    {
      "cell_type": "code",
      "execution_count": null,
      "id": "8edce82a",
      "metadata": {
        "id": "8edce82a"
      },
      "outputs": [],
      "source": [
        "id_field.send_keys(\"jyh2385@naver.com\")\n",
        "ps_field.send_keys(\"...\") #실제 비밀번호 입력"
      ]
    },
    {
      "cell_type": "markdown",
      "id": "c698fa2a",
      "metadata": {
        "id": "c698fa2a"
      },
      "source": [
        "6. 로그인 진행\n",
        "\n",
        "7. 태그 검색\n",
        "- https://www.instagram.com/explore/tags/고양이\n",
        "- 인기 게시물 9개\n",
        "- 최근 게시물\n",
        " - 최근 게시물이 하나씩 불러들여 크롤링하기 좋음\n",
        " \n",
        "8. 최근 게시물의 첫 번째 태그 찾기<br>\n",
        "\\<div class=\"v1Nh3 kIKUG _bz0w...\" <br>\n",
        "\n",
        "\n",
        "9. 찾은 태그에서 우클릭 후 copy-> copy Xpath\n",
        "- Xpath는 마크업 언어에서 특정 요소를 찾기 위한 경로를 나타내는 것\n",
        "  - 마크업 언어 : 태그 등을 사용하여 문서나 데이터의 구조를 표현하는 언어\n",
        "  - ex) 마크다운, html, xml 등등\n",
        "- Xpath를 이용하여 쉽게 특정 요소 지정 가능\n",
        "    \n",
        "10. Xpath경로를 변수에 저장"
      ]
    },
    {
      "cell_type": "code",
      "execution_count": null,
      "id": "ea2a6f35",
      "metadata": {
        "id": "ea2a6f35"
      },
      "outputs": [],
      "source": [
        "xpath='//*[@id=\"react-root\"]/section/main/article/div[2]/div/div[1]/div[1]'"
      ]
    },
    {
      "cell_type": "markdown",
      "id": "34a7822d",
      "metadata": {
        "id": "34a7822d"
      },
      "source": [
        "11. 게시물 클릭\n",
        "-xpath 요소들을 찾아서 el에 저장"
      ]
    },
    {
      "cell_type": "code",
      "execution_count": null,
      "id": "ab289f71",
      "metadata": {
        "id": "ab289f71",
        "outputId": "d0f9aa30-a765-4a0e-ffdc-446e02a52298"
      },
      "outputs": [
        {
          "name": "stderr",
          "output_type": "stream",
          "text": [
            "C:\\Users\\장연화\\AppData\\Local\\Temp\\ipykernel_8928\\3725551364.py:1: DeprecationWarning: find_element_by_* commands are deprecated. Please use find_element() instead\n",
            "  el=driver.find_element_by_xpath(xpath)\n"
          ]
        }
      ],
      "source": [
        "el=driver.find_element_by_xpath(xpath)"
      ]
    },
    {
      "cell_type": "code",
      "execution_count": null,
      "id": "55d21908",
      "metadata": {
        "id": "55d21908"
      },
      "outputs": [],
      "source": [
        "el.click()"
      ]
    },
    {
      "cell_type": "markdown",
      "id": "aaafbf61",
      "metadata": {
        "id": "aaafbf61"
      },
      "source": [
        "12. 고양이 사진만 태그를 찾아서 Xpath 지정\n",
        "- 사진 우클릭 후 [검사]를 누르면 해당아흔 태그로 이동\n",
        "- 태그에서 우클릭 후 copy -> copy Xpath"
      ]
    },
    {
      "cell_type": "code",
      "execution_count": null,
      "id": "880ce526",
      "metadata": {
        "id": "880ce526"
      },
      "outputs": [],
      "source": [
        "xpath='/html/body/div[6]/div[3]/div/article/div/div[2]/div/div[1]/div[2]/div/div/div/ul/li[2]/div/div/div/div[2]'"
      ]
    },
    {
      "cell_type": "code",
      "execution_count": null,
      "id": "c5edf963",
      "metadata": {
        "id": "c5edf963",
        "outputId": "388dfdb5-0bbc-49df-bbc5-2dbb9844d4ff"
      },
      "outputs": [
        {
          "name": "stderr",
          "output_type": "stream",
          "text": [
            "C:\\Users\\장연화\\AppData\\Local\\Temp\\ipykernel_8928\\1325608929.py:1: DeprecationWarning: find_element_by_* commands are deprecated. Please use find_element() instead\n",
            "  article=driver.find_element_by_xpath(xpath)\n"
          ]
        }
      ],
      "source": [
        "article=driver.find_element_by_xpath(xpath)"
      ]
    },
    {
      "cell_type": "code",
      "execution_count": null,
      "id": "59d25175",
      "metadata": {
        "id": "59d25175",
        "outputId": "2df8c9d7-3aad-4999-bbd4-03348a41b145"
      },
      "outputs": [
        {
          "data": {
            "text/plain": [
              "True"
            ]
          },
          "execution_count": 35,
          "metadata": {},
          "output_type": "execute_result"
        }
      ],
      "source": [
        "article.screenshot(\"test.png\")"
      ]
    },
    {
      "cell_type": "markdown",
      "id": "32f079e0",
      "metadata": {
        "id": "32f079e0"
      },
      "source": [
        "13. 다음 버튼 클릭"
      ]
    },
    {
      "cell_type": "code",
      "execution_count": null,
      "id": "f7f80bf3",
      "metadata": {
        "id": "f7f80bf3",
        "outputId": "288ea99c-493b-490f-f32a-59311affcc01"
      },
      "outputs": [
        {
          "name": "stderr",
          "output_type": "stream",
          "text": [
            "C:\\Users\\장연화\\AppData\\Local\\Temp\\ipykernel_8928\\1976805049.py:2: DeprecationWarning: find_element_by_* commands are deprecated. Please use find_element() instead\n",
            "  el=driver.find_element_by_xpath(xpath)\n"
          ]
        }
      ],
      "source": [
        "xpath='/html/body/div[6]/div[3]/div/article/div/div[2]/div/div[1]/div[2]/div/div/div/ul/li[2]/div/div/div/div[2]'\n",
        "el=driver.find_element_by_xpath(xpath)\n",
        "el.click()"
      ]
    },
    {
      "cell_type": "markdown",
      "id": "ca35cce4",
      "metadata": {
        "id": "ca35cce4"
      },
      "source": [
        "위에서 진행한 작업을 코드로 옮기기"
      ]
    },
    {
      "cell_type": "markdown",
      "id": "2057c224",
      "metadata": {
        "id": "2057c224"
      },
      "source": [
        "모듈 파일 작성"
      ]
    },
    {
      "cell_type": "code",
      "execution_count": null,
      "id": "c6661d5d",
      "metadata": {
        "id": "c6661d5d"
      },
      "outputs": [],
      "source": [
        "from selenium import webdriver\n",
        "from selenium.webdriver.chrome.options import Options\n",
        "from selenium.webdriver.common.keys import keys\n",
        "import time\n",
        "\n",
        "class CaptureBot:\n",
        "    def __init__(self):\n",
        "        #홈페이지를 변수에 저장\n",
        "        self.querry=\"https://www.instagram.com/explore/tags/\"\n",
        "        #셀레늄 웹드라이버에 입력할 옵션을 지정\n",
        "        self.options=Options()\n",
        "        #옵션에 해상도를 입력\n",
        "        self.options.add_argument(\"--window-size=1920,1080\")\n",
        "        # 화면이 존재하지 않는 서버에서 사용한다면 해상도 입력 옵션 사용X\n",
        "        # 아래 headless 옵션을 사용\n",
        "        # self.options.add_argument(\"headless\")"
      ]
    },
    {
      "cell_type": "code",
      "execution_count": null,
      "id": "ab96da31",
      "metadata": {
        "id": "ab96da31"
      },
      "outputs": [],
      "source": [
        ""
      ]
    },
    {
      "cell_type": "code",
      "execution_count": null,
      "id": "1a97d0f6",
      "metadata": {
        "id": "1a97d0f6"
      },
      "outputs": [],
      "source": [
        ""
      ]
    },
    {
      "cell_type": "code",
      "execution_count": null,
      "id": "1b8c858a",
      "metadata": {
        "id": "1b8c858a"
      },
      "outputs": [],
      "source": [
        ""
      ]
    }
  ],
  "metadata": {
    "kernelspec": {
      "display_name": "Python 3 (ipykernel)",
      "language": "python",
      "name": "python3"
    },
    "language_info": {
      "codemirror_mode": {
        "name": "ipython",
        "version": 3
      },
      "file_extension": ".py",
      "mimetype": "text/x-python",
      "name": "python",
      "nbconvert_exporter": "python",
      "pygments_lexer": "ipython3",
      "version": "3.9.7"
    },
    "colab": {
      "name": "9일차.ipynb",
      "provenance": [],
      "include_colab_link": true
    }
  },
  "nbformat": 4,
  "nbformat_minor": 5
}