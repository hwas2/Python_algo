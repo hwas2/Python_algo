{
  "cells": [
    {
      "cell_type": "markdown",
      "metadata": {
        "id": "view-in-github",
        "colab_type": "text"
      },
      "source": [
        "<a href=\"https://colab.research.google.com/github/hwas2/Python_study/blob/master/13%EC%9D%BC%EC%B0%A8.ipynb\" target=\"_parent\"><img src=\"https://colab.research.google.com/assets/colab-badge.svg\" alt=\"Open In Colab\"/></a>"
      ]
    },
    {
      "cell_type": "markdown",
      "id": "5a79b1a5",
      "metadata": {
        "id": "5a79b1a5"
      },
      "source": [
        "# 판다스 자료구조\n",
        "- 서로 다른 형식을 갖는 여러 종류의 데이터를 컴퓨터가 이해할 수 있도록 동일한 형식을 갖는 구조로 통합할 필요가 있음\n",
        "- 판다스는 시리즈(Series)와 데이터프레임(Dataframe)이라는 데이터 형식을 제공\n",
        "- Numpy : 배열 및 연산\n",
        "- pandas : 자료구조 및 시각화\n",
        "\n",
        "## 시리즈\n",
        "- 데이터가 순차적으로 나열된 1차원 배열(열벡터)\n",
        "- 인덱스(index)는 데이터 값(value)과 일대일 대응"
      ]
    },
    {
      "cell_type": "markdown",
      "id": "e0f88803",
      "metadata": {
        "id": "e0f88803"
      },
      "source": [
        "정리\n",
        "- 시리즈의 인덱스는 데이터 값의 위치를 나타내는 이름표(주소) 역할\n",
        "- 'index 2'의 주소를 알고 있다면 'Data Z'라는 원소 데이터 값에 접근 가능"
      ]
    },
    {
      "cell_type": "markdown",
      "id": "050ef222",
      "metadata": {
        "id": "050ef222"
      },
      "source": [
        "시리즈 만들기\n",
        "- 딕셔너리와 시리즈의 구조가 비슷하기 때문에 딕셔너리를 시리즈로 변환하는 방법을 많이 사용\n",
        "- 판다스 내장 함수인 Series() 사용\n",
        " - 딕셔너리를 함수의 인자로 전달\n",
        " \n",
        "형식<br>\n",
        "<code> 딕셔너리 -> 시리즈 변환 : pandas.Series(딕셔너리)"
      ]
    },
    {
      "cell_type": "markdown",
      "id": "7025450e",
      "metadata": {
        "id": "7025450e"
      },
      "source": [
        "딕셔너리를 시리즈로 변환하는 예제"
      ]
    },
    {
      "cell_type": "code",
      "execution_count": null,
      "id": "8d965256",
      "metadata": {
        "id": "8d965256"
      },
      "outputs": [],
      "source": [
        "#판다스 import\n",
        "import pandas as pd\n",
        "\n",
        "#key:value를 쌍으로 갖는 딕셔너리를 생성, 변수 dict_data에 저장('a':1, 'b':2, 'c':3)\n",
        "dict_data={'a':1, 'b':2, 'c':3}\n",
        "\n",
        "#판다스 Series() 함수로 딕셔너리를 시리즈로 변환, 변수 sr에 저장\n",
        "sr=pd.Series(dict_data)"
      ]
    },
    {
      "cell_type": "code",
      "execution_count": null,
      "id": "b697d2ab",
      "metadata": {
        "id": "b697d2ab",
        "outputId": "0494bf58-0957-42da-80b1-fbfb826d7df2"
      },
      "outputs": [
        {
          "name": "stdout",
          "output_type": "stream",
          "text": [
            "<class 'pandas.core.series.Series'>\n"
          ]
        }
      ],
      "source": [
        "#sr의 자료형 출력\n",
        "print(type(sr))"
      ]
    },
    {
      "cell_type": "code",
      "execution_count": null,
      "id": "a18c9814",
      "metadata": {
        "id": "a18c9814",
        "outputId": "2cd36b60-6ccc-45b7-9412-e9efec1b7aff"
      },
      "outputs": [
        {
          "name": "stdout",
          "output_type": "stream",
          "text": [
            "a    1\n",
            "b    2\n",
            "c    3\n",
            "dtype: int64\n"
          ]
        }
      ],
      "source": [
        "#변수 sr에 저장되어 있는 시리즈 객체 출력\n",
        "print(sr)"
      ]
    },
    {
      "cell_type": "markdown",
      "id": "5543e8cf",
      "metadata": {
        "id": "5543e8cf"
      },
      "source": [
        "- 시리즈 객체 출력 시 인덱스 'a','b','c'는 왼쪽에 표시\n",
        "- 인덱스와 짝을 이루는 데이터 값 1,2,3은 오른쪽에 표시\n",
        "- 시리즈를 구성하는 데이터 값의 자료형은 정수형(int64)"
      ]
    },
    {
      "cell_type": "markdown",
      "id": "764b9e14",
      "metadata": {
        "id": "764b9e14"
      },
      "source": [
        "참고\n",
        "- \"as pd\" 는 판다스를 \"pd\"라는 약칭으로 부르겠다는 뜻\n",
        "- Numpy는 \"np\"라는 약칭을 자주 사용"
      ]
    },
    {
      "cell_type": "markdown",
      "id": "1dd88b10",
      "metadata": {
        "id": "1dd88b10"
      },
      "source": [
        "인덱스 구조\n",
        "- 인덱스는 자기와 짝을 이루는 데이터 값의 순서와 주소를 저장\n",
        "- 인덱스를 활용하여 데이터 값의 탐색, 정렬, 선택, 결합 등 데이터의 조직을 쉽게 할 수 있음"
      ]
    },
    {
      "cell_type": "markdown",
      "id": "360e6b61",
      "metadata": {
        "id": "360e6b61"
      },
      "source": [
        "판다스 Series()함수를 사용하여 파이썬 리스트를 시리즈로 변환하는 예쩨"
      ]
    },
    {
      "cell_type": "code",
      "execution_count": null,
      "id": "969663ce",
      "metadata": {
        "scrolled": true,
        "id": "969663ce",
        "outputId": "3d62cfd6-164f-4c4c-8ab9-107c0b7d28a2"
      },
      "outputs": [
        {
          "name": "stdout",
          "output_type": "stream",
          "text": [
            "0    2022-02-21\n",
            "1          3.14\n",
            "2           이지은\n",
            "3           100\n",
            "4          True\n",
            "dtype: object\n"
          ]
        }
      ],
      "source": [
        "import pandas as pd\n",
        "\n",
        "#리스트 생성, 변수 list_data에 저장\n",
        "list_data=['2022-02-21',3.14,'이지은',100,True]\n",
        "sr=pd.Series(list_data)\n",
        "print(sr)"
      ]
    },
    {
      "cell_type": "code",
      "execution_count": null,
      "id": "927e0b39",
      "metadata": {
        "id": "927e0b39",
        "outputId": "8225f98e-f724-4b21-8f84-f389e2c4c5f6"
      },
      "outputs": [
        {
          "name": "stdout",
          "output_type": "stream",
          "text": [
            "<class 'float'>\n"
          ]
        }
      ],
      "source": [
        "print(type(sr[1]))"
      ]
    },
    {
      "cell_type": "markdown",
      "id": "cb1f4a3e",
      "metadata": {
        "id": "cb1f4a3e"
      },
      "source": [
        "- 시리즈를 구성하는 원소 데이터 값의 자료형은 문자열(object)\n",
        " - 숫자와 문자열이 데이터에 혼합되어 있을 경우 자료형이 문자열로 표기됨\n",
        " \n",
        " \n",
        "- 리스트와 판다스의 시리즈는 둘 다 동일하게 인덱스를 소유\n",
        " - 리스트는 정수형 위치 인덱스만 존재(인덱스가 리스트 자료형 안에 포함된 느낌)\n",
        "  - ex) list_data[0]\n",
        " \n",
        " \n",
        " - 시리즈는 정수형 위치 인덱스와 인덱스 이름 둘 다 존재(인덱스와 데이터 값이 분리된 느낌)\n",
        "  - ex) sr[0]\n",
        "  - ex) sr['날짜']\n"
      ]
    },
    {
      "cell_type": "markdown",
      "id": "b9e911c7",
      "metadata": {
        "id": "b9e911c7"
      },
      "source": [
        "시리즈에서 인덱스는 크게 두 가지 종류 존재\n",
        "- 정수형 위치 인덱스 and 인덱스 이름"
      ]
    },
    {
      "cell_type": "markdown",
      "id": "74deeb0c",
      "metadata": {
        "id": "74deeb0c"
      },
      "source": [
        "시리즈의 index 속성을 이용하여 인덱스 배열 따로 선택 가능<br><br>\n",
        "시리즈의 values 속성을 이용하여 데이터 값 따로 선택 가능"
      ]
    },
    {
      "cell_type": "markdown",
      "id": "7735f682",
      "metadata": {
        "id": "7735f682"
      },
      "source": [
        "시리즈의 인덱스와 데이터를 따로 확인하는 예제"
      ]
    },
    {
      "cell_type": "code",
      "execution_count": null,
      "id": "282da8ae",
      "metadata": {
        "id": "282da8ae",
        "outputId": "43083ca8-e5cf-4cd7-a0d9-f5d3dc3f743a"
      },
      "outputs": [
        {
          "name": "stdout",
          "output_type": "stream",
          "text": [
            "RangeIndex(start=0, stop=5, step=1)\n",
            "['2022-02-21' 3.14 '이지은' 100 True]\n"
          ]
        }
      ],
      "source": [
        "import pandas as pd\n",
        "\n",
        "#리스트 생성, 변수 list_data에 저장\n",
        "list_data=['2022-02-21',3.14,'이지은',100,True]\n",
        "sr=pd.Series(list_data)\n",
        "\n",
        "#인덱스 배열은 변수 idx에 저장, 데이터 값 배열은 변수 val에 저장\n",
        "idx=sr.index\n",
        "val=sr.values\n",
        "print(idx)\n",
        "print(val)"
      ]
    },
    {
      "cell_type": "markdown",
      "id": "b3122e99",
      "metadata": {
        "id": "b3122e99"
      },
      "source": [
        "- 인덱스는 0~4 범위의 정수를 갖는 RangeIndex 객체로 출력\n",
        "- 데이터 값은 1차원 배열 형태(array)로 출력\n",
        "<br> 반점으로 구분되지 않음 => 리스트가 아니라 배열이다"
      ]
    },
    {
      "cell_type": "markdown",
      "id": "addbe34a",
      "metadata": {
        "id": "addbe34a"
      },
      "source": [
        "판다스 Series() 함수를 사용하여 파이썬 튜플을 시리즈로 변환하는 예제(인덱스 정의)"
      ]
    },
    {
      "cell_type": "code",
      "execution_count": null,
      "id": "0ed19e86",
      "metadata": {
        "id": "0ed19e86",
        "outputId": "d0df0718-a2a4-4b42-e8db-a4cb8222b267"
      },
      "outputs": [
        {
          "name": "stdout",
          "output_type": "stream",
          "text": [
            "이름              지은\n",
            "오늘날짜    2022-02-21\n",
            "성별               여\n",
            "학생여부          True\n",
            "dtype: object\n"
          ]
        }
      ],
      "source": [
        "import pandas as pd\n",
        "\n",
        "#튜플 생성, 변수 tup_data에 저장\n",
        "tup_data=('지은', '2022-02-21','여',True)\n",
        "\n",
        "sr=pd.Series(tup_data, index=['이름','오늘날짜','성별','학생여부'])\n",
        "print(sr)"
      ]
    },
    {
      "cell_type": "markdown",
      "id": "bda2ed53",
      "metadata": {
        "id": "bda2ed53"
      },
      "source": [
        "시리즈 원소 선택 예제1"
      ]
    },
    {
      "cell_type": "code",
      "execution_count": null,
      "id": "2344146b",
      "metadata": {
        "id": "2344146b",
        "outputId": "b41a9f31-552a-4b72-869e-4e49fa08d123"
      },
      "outputs": [
        {
          "name": "stdout",
          "output_type": "stream",
          "text": [
            "지은\n",
            "지은\n"
          ]
        }
      ],
      "source": [
        "#원소를 1개 선택\n",
        "#정수형 위치 인덱스\n",
        "print(sr[0])\n",
        "\n",
        "#인덱스 이름\n",
        "print(sr['이름'])"
      ]
    },
    {
      "cell_type": "markdown",
      "id": "2668ebdb",
      "metadata": {
        "id": "2668ebdb"
      },
      "source": [
        "시리즈 원소 선택 예제2"
      ]
    },
    {
      "cell_type": "code",
      "execution_count": null,
      "id": "19df5a3e",
      "metadata": {
        "id": "19df5a3e",
        "outputId": "1929d215-dfb6-4a95-95e6-4bf9b013a87e"
      },
      "outputs": [
        {
          "name": "stdout",
          "output_type": "stream",
          "text": [
            "오늘날짜    2022-02-21\n",
            "성별               여\n",
            "dtype: object\n",
            "오늘날짜    2022-02-21\n",
            "성별               여\n",
            "dtype: object\n"
          ]
        }
      ],
      "source": [
        "#원소를 다중 선택(인덱스 리스트 활용)\n",
        "#정수형 위치 인덱스\n",
        "print(sr[[1,2]])\n",
        "\n",
        "#인덱스 이름\n",
        "print(sr[['오늘날짜','성별']])"
      ]
    },
    {
      "cell_type": "markdown",
      "id": "486ca95b",
      "metadata": {
        "id": "486ca95b"
      },
      "source": [
        "- 인덱스 다중 지정 시에 괄호를 두 개 써줘야 함"
      ]
    },
    {
      "cell_type": "markdown",
      "id": "5cb1f54f",
      "metadata": {
        "id": "5cb1f54f"
      },
      "source": [
        "시리즈 원소 선택 예제3"
      ]
    },
    {
      "cell_type": "code",
      "execution_count": null,
      "id": "1fed4a7c",
      "metadata": {
        "id": "1fed4a7c",
        "outputId": "279c7514-e684-4853-a2fa-8934ebe657f8"
      },
      "outputs": [
        {
          "name": "stdout",
          "output_type": "stream",
          "text": [
            "오늘날짜    2022-02-21\n",
            "dtype: object\n",
            "오늘날짜    2022-02-21\n",
            "성별               여\n",
            "dtype: object\n"
          ]
        }
      ],
      "source": [
        "#원소를 다중 선택(인덱스 리스트 활용)\n",
        "#정수형 위치 인덱스\n",
        "print(sr[1:2])\n",
        "\n",
        "#인덱스 이름\n",
        "print(sr['오늘날짜':'성별'])"
      ]
    },
    {
      "cell_type": "markdown",
      "id": "9d3328d4",
      "metadata": {
        "id": "9d3328d4"
      },
      "source": [
        "- 정수형 위치 인덱스를 사용할 시 범위의 끝은 미포함\n",
        "- 인덱스 이름을 사용하면 범위의 끝 포함"
      ]
    },
    {
      "cell_type": "markdown",
      "id": "60c5ae81",
      "metadata": {
        "id": "60c5ae81"
      },
      "source": [
        "# 데이터프레임\n",
        "- 2차원 배열\n",
        "- 여러 개의 열벡터(시리즈)들이 같은 행 인덱스를 기준으로 결합된 2차원 벡터 또는 행렬(matrix)"
      ]
    },
    {
      "cell_type": "markdown",
      "id": "7eee4d64",
      "metadata": {
        "id": "7eee4d64"
      },
      "source": [
        "행과 열을 나타내기 위해서는 행 인덱스와 열 이름 두 가지 종류의 주소를 사용\n",
        "- 열은 공통의 속성을 갖는 일련의 데이터의 집합\n",
        "- 행은 공통적이고 다양한 속성 데이터드르이 모음인 레코드(record)"
      ]
    },
    {
      "cell_type": "markdown",
      "id": "f8d00eac",
      "metadata": {
        "id": "f8d00eac"
      },
      "source": [
        "데이터프레임 만들기 전 생각해보기\n",
        "1. 데이터프레임 만들기 위해서는 같은 길이의 1차원 배열(Series)이 여러 개 필요\n",
        "2. 딕셔너리 값에 해당하는 각 리스트가 시리즈 배열로 변환되어 데이터 프레임의 열이 됨\n",
        "3. 딕셔너리 키는 각 시리즈의 이름으로 변환되어 데이터프레임의 열 이름이 됨\n",
        "4. 데이터프레임을 만들 때는 판다스 DataFrame() 함수를 사용\n",
        " <br><code>딕셔너리 -> 데이터프레임 변환 : pandas.DataFrame(딕셔너리 객체)"
      ]
    },
    {
      "cell_type": "code",
      "execution_count": null,
      "id": "4559e49b",
      "metadata": {
        "id": "4559e49b",
        "outputId": "dd369836-ed2a-41ba-9833-5b9866a46217"
      },
      "outputs": [
        {
          "name": "stdout",
          "output_type": "stream",
          "text": [
            "<class 'pandas.core.frame.DataFrame'>\n",
            "   c0  c1  c2  c3  c4\n",
            "0   1   4   7  10  13\n",
            "1   2   5   8  11  14\n",
            "2   3   6   9  12  15\n"
          ]
        }
      ],
      "source": [
        "#판다스 import\n",
        "import pandas as pd\n",
        "\n",
        "#key:value를 쌍으로 갖는 딕셔너리를 생성, 변수 dict_data에 저장\n",
        "dict_data={'c0':[1,2,3], 'c1':[4,5,6], 'c2':[7,8,9], 'c3':[10,11,12], 'c4':[13,14,15]}\n",
        "\n",
        "#판다스 DataFrame() 함수로 딕셔너리를 데이터프레임로 변환, 변수 df에 저장\n",
        "df=pd.DataFrame(dict_data)\n",
        "\n",
        "print(type(df))\n",
        "print(df)"
      ]
    },
    {
      "cell_type": "markdown",
      "id": "b5630d5c",
      "metadata": {
        "id": "b5630d5c"
      },
      "source": [
        "행 인덱스 / 열 이름 설정\n",
        "- 2차원 배열 -> 데이터프레임 변환할 때 행 인덱스와 열 이름 속성을 사용자가 직접 지정 가능<br>\n",
        "<code> 행 인덱스, 열 이름 설정 : pandas.DataFrame(2차원 배열, index=행 인덱스 배열, columns=열 인덱스 배열)"
      ]
    },
    {
      "cell_type": "markdown",
      "id": "a59877f3",
      "metadata": {
        "id": "a59877f3"
      },
      "source": [
        "행 인덱스/ 열 이름 설정 예제"
      ]
    },
    {
      "cell_type": "code",
      "execution_count": null,
      "id": "ce516ddb",
      "metadata": {
        "id": "ce516ddb",
        "outputId": "acd2983b-01c1-4508-c435-84d125b499e4"
      },
      "outputs": [
        {
          "name": "stdout",
          "output_type": "stream",
          "text": [
            "    나이 성별   학교\n",
            "규석  22  남  인천대\n",
            "영신  21  여  경기대\n",
            "성민  20  남  부산대\n"
          ]
        }
      ],
      "source": [
        "import pandas as pd\n",
        "\n",
        "#행 인덱스/열 이름을 지정하여 데이터프레임 만들기\n",
        "df=pd.DataFrame([[22,'남','인천대'],[21,'여','경기대'],[20,'남','부산대']],\n",
        "                index=['규석','영신','성민'],columns=['나이','성별','학교'])\n",
        "print(df)"
      ]
    },
    {
      "cell_type": "code",
      "execution_count": null,
      "id": "f2d26472",
      "metadata": {
        "id": "f2d26472",
        "outputId": "7eebda58-4258-4625-ae4d-f95cba863225"
      },
      "outputs": [
        {
          "name": "stdout",
          "output_type": "stream",
          "text": [
            "Index(['나이', '성별', '학교'], dtype='object')\n"
          ]
        }
      ],
      "source": [
        "print(df.columns)"
      ]
    },
    {
      "cell_type": "markdown",
      "id": "a61ada38",
      "metadata": {
        "id": "a61ada38"
      },
      "source": [
        "행 인덱스/열 이름 변경\n",
        "<br><code> 행 인덱스 변경 : DataFrame 객체.index=새로운 행 인덱스 배열\n",
        "<code> 열 이름 변경 : DataFrame 객체.columns=새로운 열 이름 배열"
      ]
    },
    {
      "cell_type": "code",
      "execution_count": null,
      "id": "422fc276",
      "metadata": {
        "id": "422fc276",
        "outputId": "eed0c2da-35db-467f-b208-0421cb4750ab"
      },
      "outputs": [
        {
          "name": "stdout",
          "output_type": "stream",
          "text": [
            "    연령 남녀   소속\n",
            "다미  22  남  인천대\n",
            "우식  21  여  경기대\n",
            "성철  20  남  부산대\n"
          ]
        }
      ],
      "source": [
        "df.index=['다미','우식','성철']\n",
        "df.columns=['연령','남녀','소속']\n",
        "print(df)"
      ]
    },
    {
      "cell_type": "markdown",
      "id": "7d41bcb8",
      "metadata": {
        "id": "7d41bcb8"
      },
      "source": [
        "rename() 함수를 사용하여 행 인덱스/열 이름 변경 가능<br>\n",
        "<code> 행 인덱스 변경 : DataFrame 객체.rename(index={기존 인덱스:새 인덱스,...},inplace=True)\n",
        "<code> 열 이름 변경 : DataFrame 객체.rename(columns={기존 열 이름:새 열 이름,...},inplace=True)\n",
        "- inplace=True 를 쓰지 않으면 기존 객체가 변경되지 않음\n",
        "- inplace=True 를 쓰면 기존 객체에 반영"
      ]
    },
    {
      "cell_type": "markdown",
      "id": "3d90b9d8",
      "metadata": {
        "id": "3d90b9d8"
      },
      "source": [
        "행 인덱스/열 이름 변경 예제(rename)"
      ]
    },
    {
      "cell_type": "code",
      "execution_count": null,
      "id": "6cbdbab1",
      "metadata": {
        "id": "6cbdbab1",
        "outputId": "8e735b31-9588-467c-b3c7-25708d5945bf"
      },
      "outputs": [
        {
          "name": "stdout",
          "output_type": "stream",
          "text": [
            "    나이 성별   학교\n",
            "규석  22  남  인천대\n",
            "영신  21  여  경기대\n",
            "성민  20  남  부산대\n"
          ]
        }
      ],
      "source": [
        "df.rename(index={'다미':'규석','우식':'영신','성철':'성민'},inplace=True)\n",
        "df.rename(columns={'연령':'나이','남녀':'성별','소속':'학교'},inplace=True)\n",
        "print(df)"
      ]
    },
    {
      "cell_type": "markdown",
      "id": "5fc7f976",
      "metadata": {
        "id": "5fc7f976"
      },
      "source": [
        "행/열 삭제\n",
        "- 행/열 삭제 시 drop() 함수 사용\n",
        "- 행을 삭제할 때 축(axis)옵션으로 axis=0혹은 입력X\n",
        "- 열을 삭제할 때 축(axis)옵션으로 axis=1혹은 입력<br><br>\n",
        "<code> 행 삭제 : DataFrame 객체.drop(행 인덱스 또는 배열, axis=0)\n",
        "<code> 열 삭제 : DataFrame 객체.drop(열 이름 또는 배열, axis=1)"
      ]
    },
    {
      "cell_type": "code",
      "execution_count": null,
      "id": "6a74b692",
      "metadata": {
        "id": "6a74b692",
        "outputId": "39c633e9-0a3c-4580-8ecf-9cfef81833a2"
      },
      "outputs": [
        {
          "name": "stdout",
          "output_type": "stream",
          "text": [
            "    국어  수학   영어   음악\n",
            "인서  70  90  100   70\n",
            "형준  90  85   80   90\n",
            "소진  80  80   90  100\n"
          ]
        }
      ],
      "source": [
        "import pandas as pd\n",
        "\n",
        "exam_data={'국어':[70,90,80],'수학':[90,85,80],'영어':[100,80,90],'음악':[70,90,100]}\n",
        "df=pd.DataFrame(exam_data,index=['인서','형준','소진'])\n",
        "print(df)\n",
        "\n",
        "#데이터프레임 df를 복제하여 변수 df2에 저장\n",
        "df2=df\n",
        "\n",
        "#데이터프레임 df를 복제하여 변수 df3에 저장\n",
        "df3=df"
      ]
    },
    {
      "cell_type": "code",
      "execution_count": null,
      "id": "efda3195",
      "metadata": {
        "id": "efda3195",
        "outputId": "c7504306-750c-4937-d05e-ccb5c20026aa"
      },
      "outputs": [
        {
          "name": "stdout",
          "output_type": "stream",
          "text": [
            "2682391056448\n",
            "2682391056448\n",
            "2682391056448\n"
          ]
        }
      ],
      "source": [
        "print(id(df))\n",
        "print(id(df2))\n",
        "print(id(df3))"
      ]
    },
    {
      "cell_type": "markdown",
      "id": "672f37f1",
      "metadata": {
        "id": "672f37f1"
      },
      "source": [
        "행 삭제 예제"
      ]
    },
    {
      "cell_type": "code",
      "execution_count": null,
      "id": "fb22eea3",
      "metadata": {
        "id": "fb22eea3",
        "outputId": "092a7381-5221-4f45-8749-08db9607974b"
      },
      "outputs": [
        {
          "data": {
            "text/html": [
              "<div>\n",
              "<style scoped>\n",
              "    .dataframe tbody tr th:only-of-type {\n",
              "        vertical-align: middle;\n",
              "    }\n",
              "\n",
              "    .dataframe tbody tr th {\n",
              "        vertical-align: top;\n",
              "    }\n",
              "\n",
              "    .dataframe thead th {\n",
              "        text-align: right;\n",
              "    }\n",
              "</style>\n",
              "<table border=\"1\" class=\"dataframe\">\n",
              "  <thead>\n",
              "    <tr style=\"text-align: right;\">\n",
              "      <th></th>\n",
              "      <th>국어</th>\n",
              "      <th>수학</th>\n",
              "      <th>영어</th>\n",
              "      <th>음악</th>\n",
              "    </tr>\n",
              "  </thead>\n",
              "  <tbody>\n",
              "    <tr>\n",
              "      <th>형준</th>\n",
              "      <td>90</td>\n",
              "      <td>85</td>\n",
              "      <td>80</td>\n",
              "      <td>90</td>\n",
              "    </tr>\n",
              "    <tr>\n",
              "      <th>소진</th>\n",
              "      <td>80</td>\n",
              "      <td>80</td>\n",
              "      <td>90</td>\n",
              "      <td>100</td>\n",
              "    </tr>\n",
              "  </tbody>\n",
              "</table>\n",
              "</div>"
            ],
            "text/plain": [
              "    국어  수학  영어   음악\n",
              "형준  90  85  80   90\n",
              "소진  80  80  90  100"
            ]
          },
          "execution_count": 39,
          "metadata": {},
          "output_type": "execute_result"
        }
      ],
      "source": [
        "#df2의 1개 행(row)제거\n",
        "df2.drop('인서')"
      ]
    },
    {
      "cell_type": "code",
      "execution_count": null,
      "id": "6cf511ce",
      "metadata": {
        "id": "6cf511ce",
        "outputId": "724d99d3-c060-4e10-8549-3efb9c0b3416"
      },
      "outputs": [
        {
          "data": {
            "text/html": [
              "<div>\n",
              "<style scoped>\n",
              "    .dataframe tbody tr th:only-of-type {\n",
              "        vertical-align: middle;\n",
              "    }\n",
              "\n",
              "    .dataframe tbody tr th {\n",
              "        vertical-align: top;\n",
              "    }\n",
              "\n",
              "    .dataframe thead th {\n",
              "        text-align: right;\n",
              "    }\n",
              "</style>\n",
              "<table border=\"1\" class=\"dataframe\">\n",
              "  <thead>\n",
              "    <tr style=\"text-align: right;\">\n",
              "      <th></th>\n",
              "      <th>국어</th>\n",
              "      <th>수학</th>\n",
              "      <th>영어</th>\n",
              "      <th>음악</th>\n",
              "    </tr>\n",
              "  </thead>\n",
              "  <tbody>\n",
              "    <tr>\n",
              "      <th>인서</th>\n",
              "      <td>70</td>\n",
              "      <td>90</td>\n",
              "      <td>100</td>\n",
              "      <td>70</td>\n",
              "    </tr>\n",
              "  </tbody>\n",
              "</table>\n",
              "</div>"
            ],
            "text/plain": [
              "    국어  수학   영어  음악\n",
              "인서  70  90  100  70"
            ]
          },
          "execution_count": 41,
          "metadata": {},
          "output_type": "execute_result"
        }
      ],
      "source": [
        "#df2의 2개 행(row)제거\n",
        "df3.drop(['형준','소진'],axis=0)"
      ]
    },
    {
      "cell_type": "code",
      "execution_count": null,
      "id": "81fbe902",
      "metadata": {
        "id": "81fbe902",
        "outputId": "f756bece-b65c-4a17-ec90-f325a732bca2"
      },
      "outputs": [
        {
          "name": "stdout",
          "output_type": "stream",
          "text": [
            "    국어  수학   영어   음악\n",
            "민혜  70  90  100   70\n",
            "재현  90  85   80   90\n",
            "숙현  80  80   90  100\n"
          ]
        }
      ],
      "source": [
        "import pandas as pd\n",
        "\n",
        "exam_data={'국어':[70,90,80],'수학':[90,85,80],'영어':[100,80,90],'음악':[70,90,100]}\n",
        "df=pd.DataFrame(exam_data,index=['민혜','재현','숙현'])\n",
        "print(df)\n",
        "\n",
        "#데이터프레임 df를 복제하여 변수 df2에 저장\n",
        "df2=df\n",
        "\n",
        "#데이터프레임 df를 복제하여 변수 df3에 저장\n",
        "df3=df"
      ]
    },
    {
      "cell_type": "code",
      "execution_count": null,
      "id": "c8b654a6",
      "metadata": {
        "id": "c8b654a6",
        "outputId": "b14dee16-c850-4a39-d3a8-8946529e2c72"
      },
      "outputs": [
        {
          "data": {
            "text/html": [
              "<div>\n",
              "<style scoped>\n",
              "    .dataframe tbody tr th:only-of-type {\n",
              "        vertical-align: middle;\n",
              "    }\n",
              "\n",
              "    .dataframe tbody tr th {\n",
              "        vertical-align: top;\n",
              "    }\n",
              "\n",
              "    .dataframe thead th {\n",
              "        text-align: right;\n",
              "    }\n",
              "</style>\n",
              "<table border=\"1\" class=\"dataframe\">\n",
              "  <thead>\n",
              "    <tr style=\"text-align: right;\">\n",
              "      <th></th>\n",
              "      <th>수학</th>\n",
              "      <th>영어</th>\n",
              "      <th>음악</th>\n",
              "    </tr>\n",
              "  </thead>\n",
              "  <tbody>\n",
              "    <tr>\n",
              "      <th>민혜</th>\n",
              "      <td>90</td>\n",
              "      <td>100</td>\n",
              "      <td>70</td>\n",
              "    </tr>\n",
              "    <tr>\n",
              "      <th>재현</th>\n",
              "      <td>85</td>\n",
              "      <td>80</td>\n",
              "      <td>90</td>\n",
              "    </tr>\n",
              "    <tr>\n",
              "      <th>숙현</th>\n",
              "      <td>80</td>\n",
              "      <td>90</td>\n",
              "      <td>100</td>\n",
              "    </tr>\n",
              "  </tbody>\n",
              "</table>\n",
              "</div>"
            ],
            "text/plain": [
              "    수학   영어   음악\n",
              "민혜  90  100   70\n",
              "재현  85   80   90\n",
              "숙현  80   90  100"
            ]
          },
          "execution_count": 43,
          "metadata": {},
          "output_type": "execute_result"
        }
      ],
      "source": [
        "#df2의 1개 열(columns)삭제\n",
        "df2.drop('국어',axis=1)"
      ]
    },
    {
      "cell_type": "code",
      "execution_count": null,
      "id": "c0b2b219",
      "metadata": {
        "id": "c0b2b219",
        "outputId": "4a5cee02-d70f-4e19-a437-f3184faa89e1"
      },
      "outputs": [
        {
          "data": {
            "text/html": [
              "<div>\n",
              "<style scoped>\n",
              "    .dataframe tbody tr th:only-of-type {\n",
              "        vertical-align: middle;\n",
              "    }\n",
              "\n",
              "    .dataframe tbody tr th {\n",
              "        vertical-align: top;\n",
              "    }\n",
              "\n",
              "    .dataframe thead th {\n",
              "        text-align: right;\n",
              "    }\n",
              "</style>\n",
              "<table border=\"1\" class=\"dataframe\">\n",
              "  <thead>\n",
              "    <tr style=\"text-align: right;\">\n",
              "      <th></th>\n",
              "      <th>국어</th>\n",
              "      <th>수학</th>\n",
              "    </tr>\n",
              "  </thead>\n",
              "  <tbody>\n",
              "    <tr>\n",
              "      <th>민혜</th>\n",
              "      <td>70</td>\n",
              "      <td>90</td>\n",
              "    </tr>\n",
              "    <tr>\n",
              "      <th>재현</th>\n",
              "      <td>90</td>\n",
              "      <td>85</td>\n",
              "    </tr>\n",
              "    <tr>\n",
              "      <th>숙현</th>\n",
              "      <td>80</td>\n",
              "      <td>80</td>\n",
              "    </tr>\n",
              "  </tbody>\n",
              "</table>\n",
              "</div>"
            ],
            "text/plain": [
              "    국어  수학\n",
              "민혜  70  90\n",
              "재현  90  85\n",
              "숙현  80  80"
            ]
          },
          "execution_count": 45,
          "metadata": {},
          "output_type": "execute_result"
        }
      ],
      "source": [
        "#df3의 2개 열(columns)삭제\n",
        "df3.drop(['영어','음악'],axis=1)"
      ]
    },
    {
      "cell_type": "markdown",
      "id": "5f823301",
      "metadata": {
        "id": "5f823301"
      },
      "source": [
        "행 선택<br>\n",
        "데이터 시각화 부분에서 기준이 될 행을 선택할 수 있음\n",
        "- 인덱스 이름을 기준으로 행을 선택할 시 loc 이용\n",
        " - 범위 지정 시 범위 끝 포함\n",
        "- 정수형 위치 인덱스를 기준으로 행을 선택할 시 iloc 이용\n",
        " - 범위 지정 시 범위 끝 미포함"
      ]
    },
    {
      "cell_type": "markdown",
      "id": "8c4eb258",
      "metadata": {
        "id": "8c4eb258"
      },
      "source": [
        "행 선택 예제"
      ]
    },
    {
      "cell_type": "code",
      "execution_count": null,
      "id": "66f32ad7",
      "metadata": {
        "id": "66f32ad7",
        "outputId": "6242abd0-d2b7-4f44-85d9-a1b1910238c8"
      },
      "outputs": [
        {
          "name": "stdout",
          "output_type": "stream",
          "text": [
            "국어     70\n",
            "수학     90\n",
            "영어    100\n",
            "음악     70\n",
            "Name: 인서, dtype: int64\n"
          ]
        }
      ],
      "source": [
        "import pandas as pd\n",
        "\n",
        "exam_data={'국어':[70,90,80],'수학':[90,85,80],'영어':[100,80,90],'음악':[70,90,100]}\n",
        "df=pd.DataFrame(exam_data,index=['인서','연정','린하'])\n",
        "\n",
        "#행 인덱스 이름을 사용하여 행 1개 선택\n",
        "label1=df.loc['인서']\n",
        "position=df.iloc[0]\n",
        "\n",
        "print(label1)"
      ]
    },
    {
      "cell_type": "code",
      "execution_count": null,
      "id": "73f0a215",
      "metadata": {
        "id": "73f0a215",
        "outputId": "727ed404-61ff-4a0b-db89-b8aaee21e2d7"
      },
      "outputs": [
        {
          "name": "stdout",
          "output_type": "stream",
          "text": [
            "국어     70\n",
            "수학     90\n",
            "영어    100\n",
            "음악     70\n",
            "Name: 인서, dtype: int64\n"
          ]
        }
      ],
      "source": [
        "print(position)"
      ]
    },
    {
      "cell_type": "markdown",
      "id": "19835100",
      "metadata": {
        "id": "19835100"
      },
      "source": [
        "- 행 1개 선택 시 시리즈 형태로 출력"
      ]
    },
    {
      "cell_type": "code",
      "execution_count": null,
      "id": "565e8f81",
      "metadata": {
        "id": "565e8f81",
        "outputId": "25913a72-5916-4c6a-bee5-cb92ea139dcb"
      },
      "outputs": [
        {
          "name": "stdout",
          "output_type": "stream",
          "text": [
            "    국어  수학  영어   음악\n",
            "연정  90  85  80   90\n",
            "린하  80  80  90  100\n"
          ]
        }
      ],
      "source": [
        "#행 인덱스 이름을 사용하여 행 2개 선택\n",
        "label2=df.loc[['연정','린하']]\n",
        "position2=df.iloc[[1,2]]\n",
        "\n",
        "print(label2)"
      ]
    },
    {
      "cell_type": "code",
      "execution_count": null,
      "id": "051a9ece",
      "metadata": {
        "id": "051a9ece",
        "outputId": "8e990557-807a-44e1-9fe8-3b49df8a70a2"
      },
      "outputs": [
        {
          "name": "stdout",
          "output_type": "stream",
          "text": [
            "<class 'pandas.core.frame.DataFrame'>\n"
          ]
        }
      ],
      "source": [
        "print(type(position2))"
      ]
    },
    {
      "cell_type": "markdown",
      "id": "cd4ce6c3",
      "metadata": {
        "id": "cd4ce6c3"
      },
      "source": [
        "- 행 2개 선택 시 데이터프레임 형태로 출력"
      ]
    },
    {
      "cell_type": "code",
      "execution_count": null,
      "id": "e757ffa8",
      "metadata": {
        "id": "e757ffa8",
        "outputId": "683a2e46-b542-4ed8-cba8-b1d57d83e2d6"
      },
      "outputs": [
        {
          "name": "stdout",
          "output_type": "stream",
          "text": [
            "    국어  수학   영어  음악\n",
            "인서  70  90  100  70\n",
            "연정  90  85   80  90\n",
            "    국어  수학   영어  음악\n",
            "인서  70  90  100  70\n"
          ]
        }
      ],
      "source": [
        "#행 인덱스 이름을 사용하여 행 여러 개 선택\n",
        "label3=df.loc['인서':'연정']\n",
        "position3=df.iloc[0:1]\n",
        "print(label3)\n",
        "print(position3)"
      ]
    },
    {
      "cell_type": "markdown",
      "id": "6249a2bd",
      "metadata": {
        "id": "6249a2bd"
      },
      "source": [
        "열 선택\n",
        "- 열은 정수형 위치 인덱스라는 개념이 존재X"
      ]
    },
    {
      "cell_type": "markdown",
      "id": "0f747b3b",
      "metadata": {
        "id": "0f747b3b"
      },
      "source": [
        "열 선택 예제"
      ]
    },
    {
      "cell_type": "code",
      "execution_count": null,
      "id": "17a01d92",
      "metadata": {
        "id": "17a01d92",
        "outputId": "7911da27-0647-45c2-dfec-a7cd72974df9"
      },
      "outputs": [
        {
          "name": "stdout",
          "output_type": "stream",
          "text": [
            "요셉    90\n",
            "성훈    85\n",
            "동호    80\n",
            "Name: 수학, dtype: int64\n"
          ]
        }
      ],
      "source": [
        "import pandas as pd\n",
        "\n",
        "exam_data={'국어':[70,90,80],'수학':[90,85,80],'영어':[100,80,90],'음악':[70,90,100]}\n",
        "df=pd.DataFrame(exam_data,index=['요셉','성훈','동호'])\n",
        "\n",
        "#'수학' 점수 데이터만 선택(열 선택)\n",
        "math=df['수학']\n",
        "print(math)"
      ]
    },
    {
      "cell_type": "code",
      "execution_count": null,
      "id": "07660a11",
      "metadata": {
        "id": "07660a11",
        "outputId": "75d6c8af-bd54-4576-faac-83dea7edbfd5"
      },
      "outputs": [
        {
          "name": "stdout",
          "output_type": "stream",
          "text": [
            "요셉    100\n",
            "성훈     80\n",
            "동호     90\n",
            "Name: 영어, dtype: int64\n"
          ]
        }
      ],
      "source": [
        "#'영어' 점수 데이터만 선택(열 선택)\n",
        "english=df.영어\n",
        "print(english)"
      ]
    },
    {
      "cell_type": "code",
      "execution_count": null,
      "id": "ec372f4a",
      "metadata": {
        "id": "ec372f4a",
        "outputId": "7b2bda01-7a5d-4706-aa87-e362f099f148"
      },
      "outputs": [
        {
          "name": "stdout",
          "output_type": "stream",
          "text": [
            "    국어   음악\n",
            "요셉  70   70\n",
            "성훈  90   90\n",
            "동호  80  100\n"
          ]
        }
      ],
      "source": [
        "#열 두 개 선택\n",
        "kor_music=df[['국어','음악']]\n",
        "print(kor_music)"
      ]
    },
    {
      "cell_type": "markdown",
      "id": "9896b219",
      "metadata": {
        "id": "9896b219"
      },
      "source": [
        "원소 선택\n",
        "- 데이터프레임의 행 인덱스와 열 이름을 [행,열] 형식의 2차원 좌표로 입력하여 원소 위치를 지정<br>\n",
        "<code> 인덱스 이름: DataFrame 객체.loc[행 인덱스 이름, 열 이름]</code><br>\n",
        "<code> 정수 위치 인덱스 : DataFrame 객체.iloc[행 번호, 열 번호]</code>\n",
        " - loc와 iloc는 행 때문에 사용"
      ]
    },
    {
      "cell_type": "markdown",
      "id": "04ae0b15",
      "metadata": {
        "id": "04ae0b15"
      },
      "source": [
        "원소 선택 예제"
      ]
    },
    {
      "cell_type": "code",
      "execution_count": null,
      "id": "48d7444a",
      "metadata": {
        "id": "48d7444a",
        "outputId": "1709cffb-eaf3-42b9-87d1-868ba691d68b"
      },
      "outputs": [
        {
          "name": "stdout",
          "output_type": "stream",
          "text": [
            "   이름  국어  수학   영어   음악\n",
            "0  용준  70  90  100   70\n",
            "1  수빈  90  85   80   90\n",
            "2  재영  80  80   90  100\n"
          ]
        }
      ],
      "source": [
        "import pandas as pd\n",
        "\n",
        "exam_data={'이름':['용준','수빈','재영'],\n",
        "           '국어':[70,90,80],'수학':[90,85,80],'영어':[100,80,90],'음악':[70,90,100]}\n",
        "df=pd.DataFrame(exam_data)\n",
        "print(df)"
      ]
    },
    {
      "cell_type": "code",
      "execution_count": null,
      "id": "ebf4107a",
      "metadata": {
        "scrolled": true,
        "id": "ebf4107a",
        "outputId": "3328a154-9654-48e7-c77a-d4c68604a26d"
      },
      "outputs": [
        {
          "name": "stdout",
          "output_type": "stream",
          "text": [
            "    국어  수학   영어   음악\n",
            "이름                  \n",
            "용준  70  90  100   70\n",
            "수빈  90  85   80   90\n",
            "재영  80  80   90  100\n"
          ]
        }
      ],
      "source": [
        "#'이름' 열을 새로운 인덱스로 지정, df 객체에 변경 사항 저장\n",
        "df.set_index('이름',inplace=True)\n",
        "print(df)"
      ]
    },
    {
      "cell_type": "markdown",
      "id": "81850eab",
      "metadata": {
        "id": "81850eab"
      },
      "source": [
        "- 열 이름으로 새로운 인덱스를 지정하는 것은 임시적으로 지정\n",
        " - 열이 임시적으로 인덱스 역할을 하는 것"
      ]
    },
    {
      "cell_type": "code",
      "execution_count": null,
      "id": "d01d29a3",
      "metadata": {
        "id": "d01d29a3",
        "outputId": "927418b8-d8e2-42aa-fe03-23c849d141e1"
      },
      "outputs": [
        {
          "name": "stdout",
          "output_type": "stream",
          "text": [
            "Index(['용준', '수빈', '재영'], dtype='object', name='이름')\n"
          ]
        }
      ],
      "source": [
        "print(df.index)"
      ]
    },
    {
      "cell_type": "code",
      "execution_count": null,
      "id": "bb05a353",
      "metadata": {
        "id": "bb05a353",
        "outputId": "7fd5090f-a561-42bf-e2a0-d8fa32ccb6e4"
      },
      "outputs": [
        {
          "name": "stdout",
          "output_type": "stream",
          "text": [
            "Index(['국어', '수학', '영어', '음악'], dtype='object')\n"
          ]
        }
      ],
      "source": [
        "print(df.columns)"
      ]
    },
    {
      "cell_type": "code",
      "execution_count": null,
      "id": "9465924e",
      "metadata": {
        "id": "9465924e",
        "outputId": "13a4d18c-450a-4d30-8b3f-b0cfea4affd3"
      },
      "outputs": [
        {
          "name": "stdout",
          "output_type": "stream",
          "text": [
            "100\n",
            "100\n"
          ]
        }
      ],
      "source": [
        "#데이터프레임 df의 특정 원소 1개 선택('용준'의 '영어' 점수)\n",
        "a=df.loc['용준','영어']\n",
        "print(a)\n",
        "b=df.iloc[0,2]\n",
        "print(b)"
      ]
    },
    {
      "cell_type": "code",
      "execution_count": null,
      "id": "00c852ad",
      "metadata": {
        "id": "00c852ad",
        "outputId": "5c9f5405-2791-43c2-dbcc-a060d31bba44"
      },
      "outputs": [
        {
          "name": "stdout",
          "output_type": "stream",
          "text": [
            "국어    90\n",
            "수학    85\n",
            "Name: 수빈, dtype: int64\n"
          ]
        }
      ],
      "source": [
        "#데이터프레임 df의 특정 원소 2개 선택('수빈'의 '국어', '수학' 점수)\n",
        "c=df.loc['수빈',['국어','수학']]\n",
        "print(c)"
      ]
    },
    {
      "cell_type": "code",
      "execution_count": null,
      "id": "8bc0fced",
      "metadata": {
        "id": "8bc0fced",
        "outputId": "5a94c26d-cf9f-4c80-b328-e8e8ea053831"
      },
      "outputs": [
        {
          "name": "stdout",
          "output_type": "stream",
          "text": [
            "국어    90\n",
            "수학    85\n",
            "Name: 수빈, dtype: int64\n"
          ]
        }
      ],
      "source": [
        "#데이터프레임 df의 특정 원소 2개 선택('수빈'의 '국어', '수학' 점수)\n",
        "d=df.iloc[1,[0,1]]\n",
        "print(d)"
      ]
    },
    {
      "cell_type": "code",
      "execution_count": null,
      "id": "bbb4acf8",
      "metadata": {
        "id": "bbb4acf8",
        "outputId": "c00dbaad-8e91-4ce1-fd81-bb79922d326f"
      },
      "outputs": [
        {
          "name": "stdout",
          "output_type": "stream",
          "text": [
            "국어    90\n",
            "수학    85\n",
            "Name: 수빈, dtype: int64\n"
          ]
        }
      ],
      "source": [
        "#데이터프레임 df의 특정 원소 2개 선택('수빈'의 '국어', '수학' 점수)\n",
        "e=df.loc['수빈','국어':'수학']\n",
        "print(e)"
      ]
    },
    {
      "cell_type": "code",
      "execution_count": null,
      "id": "ee904908",
      "metadata": {
        "id": "ee904908",
        "outputId": "62804c24-0d87-4d45-faa0-183dec9db9ac"
      },
      "outputs": [
        {
          "name": "stdout",
          "output_type": "stream",
          "text": [
            "국어    90\n",
            "수학    85\n",
            "Name: 수빈, dtype: int64\n"
          ]
        }
      ],
      "source": [
        "#데이터프레임 df의 특정 원소 2개 선택('수빈'의 '국어', '수학' 점수)\n",
        "f=df.iloc[1, 0:2] #범위 끝 미포함\n",
        "print(f)"
      ]
    },
    {
      "cell_type": "code",
      "execution_count": null,
      "id": "b6782c25",
      "metadata": {
        "id": "b6782c25",
        "outputId": "8bb5258b-13a2-4caa-8752-5b88df28fc8c"
      },
      "outputs": [
        {
          "name": "stdout",
          "output_type": "stream",
          "text": [
            "    영어   음악\n",
            "이름         \n",
            "수빈  80   90\n",
            "재영  90  100\n"
          ]
        }
      ],
      "source": [
        "#데이터프레임 df의 2개 이상의 행과 열에 속하는 원소를 선택('수빈','재영' 의'영어', '음악' 점수)\n",
        "g=df.loc[['수빈','재영'],['영어','음악']]\n",
        "print(g)"
      ]
    },
    {
      "cell_type": "code",
      "execution_count": null,
      "id": "d71ec06a",
      "metadata": {
        "id": "d71ec06a",
        "outputId": "9302fd02-f20b-43c4-874e-9d3ef78e1871"
      },
      "outputs": [
        {
          "name": "stdout",
          "output_type": "stream",
          "text": [
            "    영어   음악\n",
            "이름         \n",
            "수빈  80   90\n",
            "동호  90  100\n"
          ]
        }
      ],
      "source": [
        "h=df.iloc[[1,2],[2,3]]\n",
        "print(h)"
      ]
    },
    {
      "cell_type": "code",
      "execution_count": null,
      "id": "818eb05f",
      "metadata": {
        "id": "818eb05f",
        "outputId": "412888f1-a807-4be0-af5d-8e73f117be61"
      },
      "outputs": [
        {
          "name": "stdout",
          "output_type": "stream",
          "text": [
            "    영어   음악\n",
            "이름         \n",
            "수빈  80   90\n",
            "재영  90  100\n"
          ]
        }
      ],
      "source": [
        "i=df.loc['수빈':'재영','영어':'음악']\n",
        "print(i)"
      ]
    },
    {
      "cell_type": "code",
      "execution_count": null,
      "id": "771bf47e",
      "metadata": {
        "id": "771bf47e",
        "outputId": "addedb39-e6b3-4dd1-834b-4c758b0a9678"
      },
      "outputs": [
        {
          "name": "stdout",
          "output_type": "stream",
          "text": [
            "    영어   음악\n",
            "이름         \n",
            "수빈  80   90\n",
            "동호  90  100\n"
          ]
        }
      ],
      "source": [
        "j=df.iloc[1:,2:]\n",
        "print(j)"
      ]
    },
    {
      "cell_type": "markdown",
      "id": "874113ef",
      "metadata": {
        "id": "874113ef"
      },
      "source": [
        "직접 지정한 행 인덱스를 해제할 경우 reset_index() 사용"
      ]
    },
    {
      "cell_type": "code",
      "execution_count": null,
      "id": "bc1a600c",
      "metadata": {
        "id": "bc1a600c",
        "outputId": "88019f26-0ccf-41a1-cc70-7cfbe9a6abd5"
      },
      "outputs": [
        {
          "data": {
            "text/html": [
              "<div>\n",
              "<style scoped>\n",
              "    .dataframe tbody tr th:only-of-type {\n",
              "        vertical-align: middle;\n",
              "    }\n",
              "\n",
              "    .dataframe tbody tr th {\n",
              "        vertical-align: top;\n",
              "    }\n",
              "\n",
              "    .dataframe thead th {\n",
              "        text-align: right;\n",
              "    }\n",
              "</style>\n",
              "<table border=\"1\" class=\"dataframe\">\n",
              "  <thead>\n",
              "    <tr style=\"text-align: right;\">\n",
              "      <th></th>\n",
              "      <th>이름</th>\n",
              "      <th>국어</th>\n",
              "      <th>수학</th>\n",
              "      <th>영어</th>\n",
              "      <th>음악</th>\n",
              "    </tr>\n",
              "  </thead>\n",
              "  <tbody>\n",
              "    <tr>\n",
              "      <th>0</th>\n",
              "      <td>용준</td>\n",
              "      <td>70</td>\n",
              "      <td>90</td>\n",
              "      <td>100</td>\n",
              "      <td>70</td>\n",
              "    </tr>\n",
              "    <tr>\n",
              "      <th>1</th>\n",
              "      <td>수빈</td>\n",
              "      <td>90</td>\n",
              "      <td>85</td>\n",
              "      <td>80</td>\n",
              "      <td>90</td>\n",
              "    </tr>\n",
              "    <tr>\n",
              "      <th>2</th>\n",
              "      <td>동호</td>\n",
              "      <td>80</td>\n",
              "      <td>80</td>\n",
              "      <td>90</td>\n",
              "      <td>100</td>\n",
              "    </tr>\n",
              "  </tbody>\n",
              "</table>\n",
              "</div>"
            ],
            "text/plain": [
              "   이름  국어  수학   영어   음악\n",
              "0  용준  70  90  100   70\n",
              "1  수빈  90  85   80   90\n",
              "2  동호  80  80   90  100"
            ]
          },
          "execution_count": 87,
          "metadata": {},
          "output_type": "execute_result"
        }
      ],
      "source": [
        "df.reset_index('이름')"
      ]
    },
    {
      "cell_type": "markdown",
      "id": "9f4ae4ec",
      "metadata": {
        "id": "9f4ae4ec"
      },
      "source": [
        "행 인덱스 이름 지정"
      ]
    },
    {
      "cell_type": "code",
      "execution_count": null,
      "id": "12cfd420",
      "metadata": {
        "id": "12cfd420",
        "outputId": "83b491fa-1a41-4e0b-d7b6-0ac6fe832615"
      },
      "outputs": [
        {
          "name": "stdout",
          "output_type": "stream",
          "text": [
            "        이름  국어  수학   영어   음악\n",
            "number                      \n",
            "0       용준  70  90  100   70\n",
            "1       수빈  90  85   80   90\n",
            "2       재영  80  80   90  100\n"
          ]
        }
      ],
      "source": [
        "import pandas as pd\n",
        "\n",
        "exam_data={'이름':['용준','수빈','재영'],\n",
        "           '국어':[70,90,80],'수학':[90,85,80],'영어':[100,80,90],'음악':[70,90,100]}\n",
        "df=pd.DataFrame(exam_data)\n",
        "df.index.name='number'\n",
        "print(df)"
      ]
    },
    {
      "cell_type": "markdown",
      "id": "05875dff",
      "metadata": {
        "id": "05875dff"
      },
      "source": [
        "열 추가<br>\n",
        "<code> DataFrame 객체.['추가하려는 열 이름']=데이터 값"
      ]
    },
    {
      "cell_type": "markdown",
      "id": "17f256eb",
      "metadata": {
        "id": "17f256eb"
      },
      "source": [
        "열 추가 예제"
      ]
    },
    {
      "cell_type": "code",
      "execution_count": null,
      "id": "b3ede257",
      "metadata": {
        "id": "b3ede257",
        "outputId": "da3ecd10-3fe0-4187-b0cb-b915d383c4dd",
        "colab": {
          "base_uri": "https://localhost:8080/"
        }
      },
      "outputs": [
        {
          "output_type": "stream",
          "name": "stdout",
          "text": [
            "   이름  국어  수학   영어   음악  체육\n",
            "0  용준  70  90  100   70  80\n",
            "1  수빈  90  85   80   90  70\n",
            "2  재영  80  80   90  100  75\n"
          ]
        }
      ],
      "source": [
        "import pandas as pd\n",
        "\n",
        "exam_data={'이름':['용준','수빈','재영'],\n",
        "           '국어':[70,90,80],'수학':[90,85,80],'영어':[100,80,90],'음악':[70,90,100]}\n",
        "df=pd.DataFrame(exam_data)\n",
        "\n",
        "#\n",
        "df['체육']=[80,70,75]\n",
        "print(df)"
      ]
    },
    {
      "cell_type": "markdown",
      "source": [
        "열을 중간에 추가하고 싶은 경우 insert() 함수 사용"
      ],
      "metadata": {
        "id": "nlZ3W0tMl5wz"
      },
      "id": "nlZ3W0tMl5wz"
    },
    {
      "cell_type": "code",
      "source": [
        "df.insert(3, \"과학\", [90,80,85])\n",
        "print(df)"
      ],
      "metadata": {
        "colab": {
          "base_uri": "https://localhost:8080/"
        },
        "id": "js83CztBl-Y6",
        "outputId": "20513ebf-5a60-4bab-9d70-3be4434d19a9"
      },
      "id": "js83CztBl-Y6",
      "execution_count": null,
      "outputs": [
        {
          "output_type": "stream",
          "name": "stdout",
          "text": [
            "   이름  국어  수학  과학   영어   음악  체육\n",
            "0  용준  70  90  90  100   70  80\n",
            "1  수빈  90  85  80   80   90  70\n",
            "2  재영  80  80  85   90  100  75\n"
          ]
        }
      ]
    },
    {
      "cell_type": "markdown",
      "id": "e73c157a",
      "metadata": {
        "id": "e73c157a"
      },
      "source": [
        "행 추가\n",
        "- 추가하려는 행 이름과 데이터 값을 loc 인덱서를 사용하여 입력<br>\n",
        "<code> DataFrame 객체.loc['새로운 행 이름']=데이터 값"
      ]
    },
    {
      "cell_type": "markdown",
      "id": "a5757f46",
      "metadata": {
        "id": "a5757f46"
      },
      "source": [
        "행 추가 예제"
      ]
    },
    {
      "cell_type": "code",
      "execution_count": null,
      "id": "07b3da7e",
      "metadata": {
        "id": "07b3da7e",
        "outputId": "667d7d84-01fb-4500-daba-b01073f4d3bd",
        "colab": {
          "base_uri": "https://localhost:8080/"
        }
      },
      "outputs": [
        {
          "output_type": "stream",
          "name": "stdout",
          "text": [
            "   이름  국어  수학   영어   음악\n",
            "0  용준  70  90  100   70\n",
            "1  수빈  90  85   80   90\n",
            "2  재영  80  80   90  100\n",
            "3   0   0   0    0    0\n"
          ]
        }
      ],
      "source": [
        "import pandas as pd\n",
        "\n",
        "exam_data={'이름':['용준','수빈','재영'],\n",
        "           '국어':[70,90,80],'수학':[90,85,80],'영어':[100,80,90],'음악':[70,90,100]}\n",
        "df=pd.DataFrame(exam_data)\n",
        "\n",
        "#새로운 행(row) 추가 - 같은 원소 값 입력\n",
        "df.loc[3]=0\n",
        "print(df)"
      ]
    },
    {
      "cell_type": "code",
      "execution_count": null,
      "id": "ecdda0e8",
      "metadata": {
        "id": "ecdda0e8",
        "outputId": "084c35fe-70e7-4988-d723-cfe2a1d0504a",
        "colab": {
          "base_uri": "https://localhost:8080/"
        }
      },
      "outputs": [
        {
          "output_type": "stream",
          "name": "stdout",
          "text": [
            "   이름   국어  수학   영어   음악\n",
            "0  용준   70  90  100   70\n",
            "1  수빈   90  85   80   90\n",
            "2  재영   80  80   90  100\n",
            "3   0    0   0    0    0\n",
            "4  한결  100  75   85   80\n"
          ]
        }
      ],
      "source": [
        "#새로운 행(row) 추가 - 원소 값 여러 개의 배열 입력\n",
        "df.loc[4]=['한결',100,75,85,80]\n",
        "print(df)"
      ]
    },
    {
      "cell_type": "code",
      "execution_count": null,
      "id": "683dcd3e",
      "metadata": {
        "id": "683dcd3e",
        "outputId": "b17da9b4-a71f-4e53-ca18-7cb40194e4ad",
        "colab": {
          "base_uri": "https://localhost:8080/"
        }
      },
      "outputs": [
        {
          "output_type": "stream",
          "name": "stdout",
          "text": [
            "   이름   국어  수학   영어   음악\n",
            "0  용준   70  90  100   70\n",
            "1  수빈   90  85   80   90\n",
            "2  재영   80  80   90  100\n",
            "3   0    0   0    0    0\n",
            "4  한결  100  75   85   80\n",
            "5   0    0   0    0    0\n"
          ]
        }
      ],
      "source": [
        "#새로운 행(row) 추가 - 기존 행 복사\n",
        "df.loc[5]=df.loc[3]\n",
        "print(df)"
      ]
    },
    {
      "cell_type": "markdown",
      "source": [
        "행을 중간에 추가하고 싶은 경우 append() 함수 사용(기존 행 + 새로운 행 + 기존 행)"
      ],
      "metadata": {
        "id": "v174lraZm9jr"
      },
      "id": "v174lraZm9jr"
    },
    {
      "cell_type": "code",
      "source": [
        "import pandas as pd\n",
        "\n",
        "exam_data={'이름':['재윤','상법','수지'],\n",
        "           '국어':[70,90,80],'수학':[90,85,80],'영어':[100,80,90],'음악':[70,90,100]}\n",
        "df=pd.DataFrame(exam_data)\n",
        "df.loc[4]=['한결',100,75,85,80]\n",
        "print(df)"
      ],
      "metadata": {
        "colab": {
          "base_uri": "https://localhost:8080/"
        },
        "id": "qh4TqSEXnHCy",
        "outputId": "b4b730f3-0dfb-4518-b7cb-a66eb9c9e82d"
      },
      "id": "qh4TqSEXnHCy",
      "execution_count": null,
      "outputs": [
        {
          "output_type": "stream",
          "name": "stdout",
          "text": [
            "   이름   국어  수학   영어   음악\n",
            "0  재윤   70  90  100   70\n",
            "1  상법   90  85   80   90\n",
            "2  수지   80  80   90  100\n",
            "4  한결  100  75   85   80\n"
          ]
        }
      ]
    },
    {
      "cell_type": "code",
      "source": [
        "label=df.iloc[:3]\n",
        "label2=df.iloc[3]\n",
        "print(label)\n",
        "print(label2)"
      ],
      "metadata": {
        "colab": {
          "base_uri": "https://localhost:8080/"
        },
        "id": "EsuoVr9YrIjc",
        "outputId": "0ebefaea-22ec-4042-b7b2-0bb87ac0f3c8"
      },
      "id": "EsuoVr9YrIjc",
      "execution_count": null,
      "outputs": [
        {
          "output_type": "stream",
          "name": "stdout",
          "text": [
            "   이름  국어  수학   영어   음악\n",
            "0  재윤  70  90  100   70\n",
            "1  상법  90  85   80   90\n",
            "2  수지  80  80   90  100\n",
            "이름     한결\n",
            "국어    100\n",
            "수학     75\n",
            "영어     85\n",
            "음악     80\n",
            "Name: 4, dtype: object\n"
          ]
        }
      ]
    },
    {
      "cell_type": "code",
      "source": [
        "exam_data2={'이름':'수빈',\n",
        "           '국어':90,'수학':100,'영어':80,'음악':85}\n",
        "df=label.append(exam_data2,ignore_index=True).append(label2, ignore_index=True)\n",
        "#ignore_index=True : index를 이어붙이는 과정에서 발생할 수 있는 부분들 무시\n",
        "print(df)"
      ],
      "metadata": {
        "colab": {
          "base_uri": "https://localhost:8080/"
        },
        "id": "0kJpiNhPsHO0",
        "outputId": "2af81056-9aad-4d95-eb84-90a2bee3aec3"
      },
      "id": "0kJpiNhPsHO0",
      "execution_count": null,
      "outputs": [
        {
          "output_type": "stream",
          "name": "stdout",
          "text": [
            "   이름   국어   수학   영어   음악\n",
            "0  재윤   70   90  100   70\n",
            "1  상법   90   85   80   90\n",
            "2  수지   80   80   90  100\n",
            "3  수빈   90  100   80   85\n",
            "4  한결  100   75   85   80\n"
          ]
        }
      ]
    },
    {
      "cell_type": "markdown",
      "id": "6329a4ea",
      "metadata": {
        "id": "6329a4ea"
      },
      "source": [
        "원소 값 변경<br>\n",
        "<code>DataFrame 객체의 일부분 또는 원소를 선택 - 새로운 값"
      ]
    },
    {
      "cell_type": "code",
      "execution_count": null,
      "id": "20c2fea4",
      "metadata": {
        "id": "20c2fea4",
        "outputId": "296fbe0c-0eb4-4068-e153-36928a2d67e5"
      },
      "outputs": [
        {
          "name": "stdout",
          "output_type": "stream",
          "text": [
            "    국어  수학   영어   음악\n",
            "이름                  \n",
            "예진  70  90  100   70\n",
            "지우  90  85   80   90\n",
            "진석  80  80   90  100\n"
          ]
        }
      ],
      "source": [
        "import pandas as pd\n",
        "\n",
        "exam_data={'이름':['예진','지우','진석'],\n",
        "           '국어':[70,90,80],'수학':[90,85,80],'영어':[100,80,90],'음악':[70,90,100]}\n",
        "df=pd.DataFrame(exam_data)\n",
        "\n",
        "df.set_index('이름',inplace=True)\n",
        "print(df)"
      ]
    },
    {
      "cell_type": "code",
      "execution_count": null,
      "id": "2ba6514b",
      "metadata": {
        "id": "2ba6514b",
        "outputId": "b5f8c7ce-5dfa-4fed-af0a-f730093ff97b"
      },
      "outputs": [
        {
          "name": "stdout",
          "output_type": "stream",
          "text": [
            "    국어  수학   영어   음악\n",
            "이름                  \n",
            "예진  70  90  100   80\n",
            "지우  90  85   80   90\n",
            "진석  80  80   90  100\n"
          ]
        }
      ],
      "source": [
        "#데이터프레임 df의 특정 원소를 변경('예진'의 '음악'점수)\n",
        "df.iloc[0,3]=80\n",
        "print(df)"
      ]
    },
    {
      "cell_type": "code",
      "execution_count": null,
      "id": "30a3f626",
      "metadata": {
        "id": "30a3f626",
        "outputId": "1f4119c1-6c25-45b5-d24a-2b5a5c84de61"
      },
      "outputs": [
        {
          "name": "stdout",
          "output_type": "stream",
          "text": [
            "    국어  수학   영어   음악\n",
            "이름                  \n",
            "예진  70  90  100   90\n",
            "지우  90  85   80   90\n",
            "진석  80  80   90  100\n"
          ]
        }
      ],
      "source": [
        "df.iloc[0][3]=90\n",
        "print(df)"
      ]
    },
    {
      "cell_type": "code",
      "execution_count": null,
      "id": "7b01839e",
      "metadata": {
        "id": "7b01839e",
        "outputId": "ec61a3b4-802a-49c7-fbad-df7a59413a86"
      },
      "outputs": [
        {
          "name": "stdout",
          "output_type": "stream",
          "text": [
            "    국어  수학   영어   음악\n",
            "이름                  \n",
            "예진  70  90  100   85\n",
            "지우  90  85   80   90\n",
            "진석  80  80   90  100\n"
          ]
        }
      ],
      "source": [
        "#데이터프레임 df의 특정 원소를 변경('예진'의 '음악'점수)\n",
        "df.loc['예진','음악']=85\n",
        "print(df)"
      ]
    },
    {
      "cell_type": "code",
      "execution_count": null,
      "id": "d183853d",
      "metadata": {
        "id": "d183853d",
        "outputId": "17a4a100-0a60-4163-a50f-61eb92f9ff3a"
      },
      "outputs": [
        {
          "name": "stdout",
          "output_type": "stream",
          "text": [
            "    국어  수학   영어   음악\n",
            "이름                  \n",
            "예진  70  90  100  100\n",
            "지우  90  85   80   90\n",
            "진석  80  80   90  100\n"
          ]
        }
      ],
      "source": [
        "df.loc['예진']['음악']=100\n",
        "print(df)"
      ]
    },
    {
      "cell_type": "code",
      "execution_count": null,
      "id": "4877e0cd",
      "metadata": {
        "id": "4877e0cd",
        "outputId": "fca9febf-674e-446f-a45e-6ef017c52d8c"
      },
      "outputs": [
        {
          "name": "stdout",
          "output_type": "stream",
          "text": [
            "    국어   수학   영어   음악\n",
            "이름                   \n",
            "예진  70   90  100  100\n",
            "지우  90  100  100   90\n",
            "진석  80   80   90  100\n"
          ]
        }
      ],
      "source": [
        "#데이터프레임 df의 원소 여러 개 변경('지우'의 '수학','영어'점수)\n",
        "df.loc['지우',['수학','영어']]=100\n",
        "print(df)"
      ]
    },
    {
      "cell_type": "code",
      "execution_count": null,
      "id": "dc79aee1",
      "metadata": {
        "id": "dc79aee1",
        "outputId": "c796b19f-360e-4fdc-96c6-280044e05395"
      },
      "outputs": [
        {
          "name": "stdout",
          "output_type": "stream",
          "text": [
            "     국어   수학   영어   음악\n",
            "이름                    \n",
            "예진   70   90  100  100\n",
            "지우   90  100  100   90\n",
            "진석  100   95   95  100\n"
          ]
        }
      ],
      "source": [
        "#데이터프레임 df의 원소 여러 개 변경('진석'의 '국어','수학'점수)\n",
        "df.loc['진석',['수학','국어']]=95,100\n",
        "print(df)"
      ]
    },
    {
      "cell_type": "markdown",
      "id": "8c875ddc",
      "metadata": {
        "id": "8c875ddc"
      },
      "source": [
        "행, 열의 위치 바꾸기\n",
        "- 선형대수학의 전치행렬과 같은 개념<br>\n",
        "<code> 행, 열 바꾸기 : DataFrame 객체.transpose() or DataFrame 객체.T"
      ]
    },
    {
      "cell_type": "code",
      "execution_count": null,
      "id": "0ed8f640",
      "metadata": {
        "id": "0ed8f640",
        "outputId": "38a3fec0-8804-4d75-f1d3-862cf5811d55"
      },
      "outputs": [
        {
          "name": "stdout",
          "output_type": "stream",
          "text": [
            "이름   지연  유림   정수\n",
            "국어   70  90   80\n",
            "수학   90  85   80\n",
            "영어  100  80   90\n",
            "음악   70  90  100\n"
          ]
        }
      ],
      "source": [
        "import pandas as pd\n",
        "\n",
        "exam_data={'이름':['지연','유림','정수'],\n",
        "           '국어':[70,90,80],'수학':[90,85,80],'영어':[100,80,90],'음악':[70,90,100]}\n",
        "df=pd.DataFrame(exam_data)\n",
        "\n",
        "df.set_index('이름',inplace=True)\n",
        "\n",
        "#데이터프레임 df를 전치하기\n",
        "df=df.transpose()\n",
        "print(df)"
      ]
    },
    {
      "cell_type": "code",
      "execution_count": null,
      "id": "637f7a3d",
      "metadata": {
        "id": "637f7a3d",
        "outputId": "f95afc18-e198-40c2-83b7-970a674d7032"
      },
      "outputs": [
        {
          "name": "stdout",
          "output_type": "stream",
          "text": [
            "Index(['국어', '수학', '영어', '음악'], dtype='object')\n"
          ]
        }
      ],
      "source": [
        "print(df.index)"
      ]
    },
    {
      "cell_type": "code",
      "execution_count": null,
      "id": "a1210f1d",
      "metadata": {
        "id": "a1210f1d",
        "outputId": "69aaee4b-2e6a-46e0-d37f-01765bff2b23"
      },
      "outputs": [
        {
          "name": "stdout",
          "output_type": "stream",
          "text": [
            "    국어  수학   영어   음악\n",
            "이름                  \n",
            "지연  70  90  100   70\n",
            "유림  90  85   80   90\n",
            "정수  80  80   90  100\n"
          ]
        }
      ],
      "source": [
        "#데이터프레임 df를 다시 전치하기\n",
        "df=df.T\n",
        "print(df)"
      ]
    },
    {
      "cell_type": "code",
      "execution_count": null,
      "id": "68befa9c",
      "metadata": {
        "id": "68befa9c"
      },
      "outputs": [],
      "source": [
        ""
      ]
    }
  ],
  "metadata": {
    "kernelspec": {
      "display_name": "Python 3 (ipykernel)",
      "language": "python",
      "name": "python3"
    },
    "language_info": {
      "codemirror_mode": {
        "name": "ipython",
        "version": 3
      },
      "file_extension": ".py",
      "mimetype": "text/x-python",
      "name": "python",
      "nbconvert_exporter": "python",
      "pygments_lexer": "ipython3",
      "version": "3.9.7"
    },
    "colab": {
      "name": "13일차.ipynb",
      "provenance": [],
      "collapsed_sections": [
        "5a79b1a5"
      ],
      "include_colab_link": true
    }
  },
  "nbformat": 4,
  "nbformat_minor": 5
}