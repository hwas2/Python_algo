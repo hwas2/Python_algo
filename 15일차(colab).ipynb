{
  "nbformat": 4,
  "nbformat_minor": 0,
  "metadata": {
    "colab": {
      "name": "15일차(colab).ipynb",
      "provenance": [],
      "collapsed_sections": [],
      "authorship_tag": "ABX9TyNUKIkN+t5mCXNDFj9VRaVW",
      "include_colab_link": true
    },
    "kernelspec": {
      "name": "python3",
      "display_name": "Python 3"
    },
    "language_info": {
      "name": "python"
    }
  },
  "cells": [
    {
      "cell_type": "markdown",
      "metadata": {
        "id": "view-in-github",
        "colab_type": "text"
      },
      "source": [
        "<a href=\"https://colab.research.google.com/github/hwas2/Python_study/blob/master/15%EC%9D%BC%EC%B0%A8(colab).ipynb\" target=\"_parent\"><img src=\"https://colab.research.google.com/assets/colab-badge.svg\" alt=\"Open In Colab\"/></a>"
      ]
    },
    {
      "cell_type": "markdown",
      "source": [
        "# 데이터프레임의 구조\n",
        "- auto-mpg.csv 데이터셋 사용\n",
        "- mpg(연비), cylindes(실린더 수), displacement(배기량), horsepower(출력), weight(차중), acceleration(가속 능력), model_year(출시 년도), origin(제조국), model_name(모델명) 순으로 나열"
      ],
      "metadata": {
        "id": "HfYy1kZN-yQV"
      }
    },
    {
      "cell_type": "markdown",
      "source": [
        "## 데이터프레임의 내용 확인\n",
        "- 앞부분 미리보기 : DataFrame 객체.head(n)\n",
        "- 뒷부분 미리보기 : DataFrame 객체.tail(n)"
      ],
      "metadata": {
        "id": "V43A0Zpi_ZMG"
      }
    },
    {
      "cell_type": "markdown",
      "source": [
        "데이터 살펴보기 예제"
      ],
      "metadata": {
        "id": "Q5LTLFqk_ykW"
      }
    },
    {
      "cell_type": "code",
      "source": [
        "from google.colab import files\n",
        "file_uploaded = files.upload()"
      ],
      "metadata": {
        "colab": {
          "resources": {
            "http://localhost:8080/nbextensions/google.colab/files.js": {
              "data": "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",
              "ok": true,
              "headers": [
                [
                  "content-type",
                  "application/javascript"
                ]
              ],
              "status": 200,
              "status_text": ""
            }
          },
          "base_uri": "https://localhost:8080/",
          "height": 77
        },
        "id": "_TxJ-HvZICKd",
        "outputId": "9febdca8-3893-484b-9811-cd58040eee1c"
      },
      "execution_count": null,
      "outputs": [
        {
          "output_type": "display_data",
          "data": {
            "text/html": [
              "\n",
              "     <input type=\"file\" id=\"files-df9436bd-0d03-4de2-91c5-e3704fba801a\" name=\"files[]\" multiple disabled\n",
              "        style=\"border:none\" />\n",
              "     <output id=\"result-df9436bd-0d03-4de2-91c5-e3704fba801a\">\n",
              "      Upload widget is only available when the cell has been executed in the\n",
              "      current browser session. Please rerun this cell to enable.\n",
              "      </output>\n",
              "      <script src=\"/nbextensions/google.colab/files.js\"></script> "
            ],
            "text/plain": [
              "<IPython.core.display.HTML object>"
            ]
          },
          "metadata": {}
        },
        {
          "output_type": "stream",
          "name": "stdout",
          "text": [
            "Saving auto-mpg.csv to auto-mpg.csv\n"
          ]
        }
      ]
    },
    {
      "cell_type": "code",
      "source": [
        "import pandas as pd\n",
        "\n",
        "#read_csv() 함수로 df 생성\n",
        "#열을 따로 지정해주지 않기 위해 header=None 옵션 사용\n",
        "df=pd.read_csv('./auto-mpg.csv', header=None)\n",
        "\n",
        "print(df)"
      ],
      "metadata": {
        "colab": {
          "base_uri": "https://localhost:8080/"
        },
        "id": "LDavH6IqCWZM",
        "outputId": "195f5de8-8d94-4cec-e7fd-ff210c5c3cce"
      },
      "execution_count": null,
      "outputs": [
        {
          "output_type": "stream",
          "name": "stdout",
          "text": [
            "        0  1      2      3       4     5   6  7                          8\n",
            "0    18.0  8  307.0  130.0  3504.0  12.0  70  1  chevrolet chevelle malibu\n",
            "1    15.0  8  350.0  165.0  3693.0  11.5  70  1          buick skylark 320\n",
            "2    18.0  8  318.0  150.0  3436.0  11.0  70  1         plymouth satellite\n",
            "3    16.0  8  304.0  150.0  3433.0  12.0  70  1              amc rebel sst\n",
            "4    17.0  8  302.0  140.0  3449.0  10.5  70  1                ford torino\n",
            "..    ... ..    ...    ...     ...   ...  .. ..                        ...\n",
            "393  27.0  4  140.0  86.00  2790.0  15.6  82  1            ford mustang gl\n",
            "394  44.0  4   97.0  52.00  2130.0  24.6  82  2                  vw pickup\n",
            "395  32.0  4  135.0  84.00  2295.0  11.6  82  1              dodge rampage\n",
            "396  28.0  4  120.0  79.00  2625.0  18.6  82  1                ford ranger\n",
            "397  31.0  4  119.0  82.00  2720.0  19.4  82  1                 chevy s-10\n",
            "\n",
            "[398 rows x 9 columns]\n"
          ]
        }
      ]
    },
    {
      "cell_type": "code",
      "source": [
        "import pandas as pd\n",
        "\n",
        "#read_csv() 함수로 df 생성\n",
        "#열을 따로 지정해주지 않기 위해 header=None 옵션 사용\n",
        "df=pd.read_csv('./auto-mpg.csv', header=None)\n",
        "\n",
        "# print(df)\n",
        "\n",
        "#열 이름 지정\n",
        "df.columns=['mpg','cylinders','displacement','horsepower','weight','acceleration','model year','origin','name']"
      ],
      "metadata": {
        "id": "21q8ukBG-1ek"
      },
      "execution_count": null,
      "outputs": []
    },
    {
      "cell_type": "code",
      "source": [
        "#처음 5개 행 출력\n",
        "print(df.head())"
      ],
      "metadata": {
        "id": "iw_Y6U6pB8Yc",
        "colab": {
          "base_uri": "https://localhost:8080/"
        },
        "outputId": "f7cafa75-6236-4b58-ec75-b5bbd7f2a234"
      },
      "execution_count": null,
      "outputs": [
        {
          "output_type": "stream",
          "name": "stdout",
          "text": [
            "    mpg  cylinders  displacement  ... model year  origin                       name\n",
            "0  18.0          8         307.0  ...         70       1  chevrolet chevelle malibu\n",
            "1  15.0          8         350.0  ...         70       1          buick skylark 320\n",
            "2  18.0          8         318.0  ...         70       1         plymouth satellite\n",
            "3  16.0          8         304.0  ...         70       1              amc rebel sst\n",
            "4  17.0          8         302.0  ...         70       1                ford torino\n",
            "\n",
            "[5 rows x 9 columns]\n"
          ]
        }
      ]
    },
    {
      "cell_type": "code",
      "source": [
        "#마지막 5개 행 출력\n",
        "print(df.tail())"
      ],
      "metadata": {
        "id": "jMTaaUEYC1jA",
        "colab": {
          "base_uri": "https://localhost:8080/"
        },
        "outputId": "50bbe7e1-40fe-4447-bafa-306512b1b89a"
      },
      "execution_count": null,
      "outputs": [
        {
          "output_type": "stream",
          "name": "stdout",
          "text": [
            "      mpg  cylinders  displacement  ... model year  origin             name\n",
            "393  27.0          4         140.0  ...         82       1  ford mustang gl\n",
            "394  44.0          4          97.0  ...         82       2        vw pickup\n",
            "395  32.0          4         135.0  ...         82       1    dodge rampage\n",
            "396  28.0          4         120.0  ...         82       1      ford ranger\n",
            "397  31.0          4         119.0  ...         82       1       chevy s-10\n",
            "\n",
            "[5 rows x 9 columns]\n"
          ]
        }
      ]
    },
    {
      "cell_type": "markdown",
      "source": [
        "## 데이터의 요약 정보 확인하기\n",
        "### 데이터 프레임의 크기(행, 열)\n",
        "- 데이터프레임의 shape 속성은 행과 열의 개수를 튜플 형태로 출력\n",
        "\n",
        "- 데이터프레임의 크기 확인 : DataFrame 객체.shape\n",
        "\n",
        "데이터 살펴보기 예제"
      ],
      "metadata": {
        "id": "PghxPhUNIVbc"
      }
    },
    {
      "cell_type": "code",
      "source": [
        "import pandas as pd\n",
        "\n",
        "#read_csv() 함수로 df 생성\n",
        "#열을 따로 지정해주지 않기 위해 header=None 옵션 사용\n",
        "df=pd.read_csv('./auto-mpg.csv', header=None)\n",
        "\n",
        "# print(df)\n",
        "\n",
        "#열 이름 지정\n",
        "df.columns=['mpg','cylinders','displacement','horsepower','weight','acceleration','model year','origin','name']\n",
        "\n",
        "#df의 모양과 크기 확인 : (행의 개수, 열의 개수)를 튜플로 반환\n",
        "print(df.shape)"
      ],
      "metadata": {
        "colab": {
          "base_uri": "https://localhost:8080/"
        },
        "id": "pfG-qNh4ITqQ",
        "outputId": "e1028a5e-0e26-43d0-ed50-b8727913a4f4"
      },
      "execution_count": null,
      "outputs": [
        {
          "output_type": "stream",
          "name": "stdout",
          "text": [
            "(398, 9)\n"
          ]
        }
      ]
    },
    {
      "cell_type": "markdown",
      "source": [
        "### 데이터프레임의 기본 정보\n",
        "- info()함수를 데이터프레임에 적용하면 데이터프레임에 관한 기본 정보를 화면에 출력\n",
        " - 클래스 유형, 행 인덱스 구성, 열 이름의 종류와 개수, 메모리 할당량에 관한 정보 포함\n",
        "- 데이터프레임의 기본 정보 출력 : DataFrame 객체.info()"
      ],
      "metadata": {
        "id": "yQlQS8ZzIdXn"
      }
    },
    {
      "cell_type": "code",
      "source": [
        "import pandas as pd\n",
        "\n",
        "#read_csv() 함수로 df 생성\n",
        "#열을 따로 지정해주지 않기 위해 header=None 옵션 사용\n",
        "df=pd.read_csv('./auto-mpg.csv', header=None)\n",
        "\n",
        "# print(df)\n",
        "\n",
        "#열 이름 지정\n",
        "df.columns=['mpg','cylinders','displacement','horsepower','weight','acceleration','model year','origin','name']\n",
        "\n",
        "#데이터프레임의 기본 정보 확인\n",
        "print(df.info())"
      ],
      "metadata": {
        "colab": {
          "base_uri": "https://localhost:8080/"
        },
        "id": "uNtQPLjCIfqy",
        "outputId": "1789b4d2-8475-4fc1-aa83-c22ac22734d0"
      },
      "execution_count": null,
      "outputs": [
        {
          "output_type": "stream",
          "name": "stdout",
          "text": [
            "<class 'pandas.core.frame.DataFrame'>\n",
            "RangeIndex: 398 entries, 0 to 397\n",
            "Data columns (total 9 columns):\n",
            " #   Column        Non-Null Count  Dtype  \n",
            "---  ------        --------------  -----  \n",
            " 0   mpg           398 non-null    float64\n",
            " 1   cylinders     398 non-null    int64  \n",
            " 2   displacement  398 non-null    float64\n",
            " 3   horsepower    398 non-null    object \n",
            " 4   weight        398 non-null    float64\n",
            " 5   acceleration  398 non-null    float64\n",
            " 6   model year    398 non-null    int64  \n",
            " 7   origin        398 non-null    int64  \n",
            " 8   name          398 non-null    object \n",
            "dtypes: float64(4), int64(3), object(2)\n",
            "memory usage: 28.1+ KB\n",
            "None\n"
          ]
        }
      ]
    },
    {
      "cell_type": "markdown",
      "source": [
        "- 판다스 자료형\n",
        " - int64 : 정수형 데이터\n",
        " - float64 : 실수형 데이터\n",
        " - object : 문자열 데이터\n",
        " - datetime64, timedelta64 : 시간 데이터\n",
        "- dtypes 속성에는 각 열에 대한 자료형의 개수를 확인"
      ],
      "metadata": {
        "id": "YhmABE3DJal0"
      }
    },
    {
      "cell_type": "markdown",
      "source": [
        "dtypes 속성을 활용하여 열의 자료형 확인 예쩨"
      ],
      "metadata": {
        "id": "kRhqSvH6KMkl"
      }
    },
    {
      "cell_type": "code",
      "source": [
        "import pandas as pd\n",
        "\n",
        "#read_csv() 함수로 df 생성\n",
        "#열을 따로 지정해주지 않기 위해 header=None 옵션 사용\n",
        "df=pd.read_csv('./auto-mpg.csv', header=None)\n",
        "\n",
        "# print(df)\n",
        "\n",
        "#열 이름 지정\n",
        "df.columns=['mpg','cylinders','displacement','horsepower','weight','acceleration','model year','origin','name']\n",
        "\n",
        "#데이터프레임 df의 자료형 확인\n",
        "print(df.dtypes)"
      ],
      "metadata": {
        "colab": {
          "base_uri": "https://localhost:8080/"
        },
        "id": "pAlWh4BbIuhU",
        "outputId": "accdf0d4-47f1-45a7-f069-1fe91887b97c"
      },
      "execution_count": null,
      "outputs": [
        {
          "output_type": "stream",
          "name": "stdout",
          "text": [
            "mpg             float64\n",
            "cylinders         int64\n",
            "displacement    float64\n",
            "horsepower       object\n",
            "weight          float64\n",
            "acceleration    float64\n",
            "model year        int64\n",
            "origin            int64\n",
            "name             object\n",
            "dtype: object\n"
          ]
        }
      ]
    },
    {
      "cell_type": "code",
      "source": [
        "#데이터프레임의 특정 열(mpg)의 자료형 확인\n",
        "print(df.mpg.dtypes)"
      ],
      "metadata": {
        "colab": {
          "base_uri": "https://localhost:8080/"
        },
        "id": "YUmliVyPKffL",
        "outputId": "8a1a8c00-bd47-4eab-b596-247c55df3617"
      },
      "execution_count": null,
      "outputs": [
        {
          "output_type": "stream",
          "name": "stdout",
          "text": [
            "float64\n"
          ]
        }
      ]
    },
    {
      "cell_type": "markdown",
      "source": [
        "### 데이터프레임의 기술 통계 정보 요약\n",
        "- 데이터프레임에 describe() 함수 적용시, 산술(숫자) 데이터를 갖는 열에 대한 주요 기술 통계 정보(평균, 표준편차, 최대값, 중간값 등)을 요약하여 출력\n",
        "\n",
        "  <code> 데이터프레임의 기술 통계 정보 요약 : DataFrame 객체.describe()</code>"
      ],
      "metadata": {
        "id": "gCsYzqZdLVd8"
      }
    },
    {
      "cell_type": "code",
      "source": [
        "import pandas as pd\n",
        "\n",
        "#read_csv() 함수로 df 생성\n",
        "#열을 따로 지정해주지 않기 위해 header=None 옵션 사용\n",
        "df=pd.read_csv('./auto-mpg.csv', header=None)\n",
        "\n",
        "# print(df)\n",
        "\n",
        "#열 이름 지정\n",
        "df.columns=['mpg','cylinders','displacement','horsepower','weight','acceleration','model year','origin','name']\n",
        "\n",
        "#데이터프레임 df의 기술 통계 정보 확인\n",
        "print(df.describe())"
      ],
      "metadata": {
        "colab": {
          "base_uri": "https://localhost:8080/"
        },
        "id": "-xwHxuPtLS9A",
        "outputId": "bc7eec7f-26e0-4950-f3a6-185f12c961d7"
      },
      "execution_count": null,
      "outputs": [
        {
          "output_type": "stream",
          "name": "stdout",
          "text": [
            "              mpg   cylinders  ...  model year      origin\n",
            "count  398.000000  398.000000  ...  398.000000  398.000000\n",
            "mean    23.514573    5.454774  ...   76.010050    1.572864\n",
            "std      7.815984    1.701004  ...    3.697627    0.802055\n",
            "min      9.000000    3.000000  ...   70.000000    1.000000\n",
            "25%     17.500000    4.000000  ...   73.000000    1.000000\n",
            "50%     23.000000    4.000000  ...   76.000000    1.000000\n",
            "75%     29.000000    8.000000  ...   79.000000    2.000000\n",
            "max     46.600000    8.000000  ...   82.000000    3.000000\n",
            "\n",
            "[8 rows x 7 columns]\n"
          ]
        }
      ]
    },
    {
      "cell_type": "code",
      "source": [
        "#데이터프레임 df의 기술 통계 정보 확인\n",
        "print(df.describe(include='all'))"
      ],
      "metadata": {
        "colab": {
          "base_uri": "https://localhost:8080/"
        },
        "id": "-jFMIJcJMUoE",
        "outputId": "e80fd095-8498-4515-8e77-59f92c05ff2f"
      },
      "execution_count": null,
      "outputs": [
        {
          "output_type": "stream",
          "name": "stdout",
          "text": [
            "               mpg   cylinders  ...      origin        name\n",
            "count   398.000000  398.000000  ...  398.000000         398\n",
            "unique         NaN         NaN  ...         NaN         305\n",
            "top            NaN         NaN  ...         NaN  ford pinto\n",
            "freq           NaN         NaN  ...         NaN           6\n",
            "mean     23.514573    5.454774  ...    1.572864         NaN\n",
            "std       7.815984    1.701004  ...    0.802055         NaN\n",
            "min       9.000000    3.000000  ...    1.000000         NaN\n",
            "25%      17.500000    4.000000  ...    1.000000         NaN\n",
            "50%      23.000000    4.000000  ...    1.000000         NaN\n",
            "75%      29.000000    8.000000  ...    2.000000         NaN\n",
            "max      46.600000    8.000000  ...    3.000000         NaN\n",
            "\n",
            "[11 rows x 9 columns]\n"
          ]
        }
      ]
    },
    {
      "cell_type": "markdown",
      "source": [
        "-  기본 describe() 함수 사용시 데이터 수(count), 평균(mean), 표준편차(std), 분위수(25%, 50%, 75%), 최대최소(max,min) 출력\n",
        "- include='all' 옵션 사용시 고유값 개수(unique), 최빈값(top), 빈도수(freq) 추가로 출력"
      ],
      "metadata": {
        "id": "UR1hbKklMgMS"
      }
    },
    {
      "cell_type": "markdown",
      "source": [
        "## 통계 함수 적용\n",
        "### 평균값\n",
        "- 데이터프레임에 mean() 함수를 사용하면, 산술 데이터를 갖는 모든 열의 평균값을 계산하여 시리즈 객체로 반환\n",
        "- 전체 평균값을 확인 가능, 특정 열의 평균값도 확인 가능<br>\n",
        "<code> 모든 열의 평균값 : DataFrame 객체.mean()</code><br>\n",
        "<code> 특정 열의 평균값 : DataFrame 객체[\"열 이름\"].mean()</code><br>"
      ],
      "metadata": {
        "id": "J98Tw7AvMhBC"
      }
    },
    {
      "cell_type": "code",
      "source": [
        "import pandas as pd\n",
        "\n",
        "#read_csv() 함수로 df 생성\n",
        "#열을 따로 지정해주지 않기 위해 header=None 옵션 사용\n",
        "df=pd.read_csv('./auto-mpg.csv', header=None)\n",
        "\n",
        "# print(df)\n",
        "\n",
        "#열 이름 지정\n",
        "df.columns=['mpg','cylinders','displacement','horsepower','weight','acceleration','model year','origin','name']\n",
        "\n",
        "#열 전체 평균값\n",
        "print(df.mean())"
      ],
      "metadata": {
        "colab": {
          "base_uri": "https://localhost:8080/"
        },
        "id": "tlN5SR-vMglQ",
        "outputId": "589e02c6-aa7c-40b6-d32e-8888dca74081"
      },
      "execution_count": null,
      "outputs": [
        {
          "output_type": "stream",
          "name": "stdout",
          "text": [
            "mpg               23.514573\n",
            "cylinders          5.454774\n",
            "displacement     193.425879\n",
            "weight          2970.424623\n",
            "acceleration      15.568090\n",
            "model year        76.010050\n",
            "origin             1.572864\n",
            "dtype: float64\n"
          ]
        },
        {
          "output_type": "stream",
          "name": "stderr",
          "text": [
            "/usr/local/lib/python3.7/dist-packages/ipykernel_launcher.py:13: FutureWarning: Dropping of nuisance columns in DataFrame reductions (with 'numeric_only=None') is deprecated; in a future version this will raise TypeError.  Select only valid columns before calling the reduction.\n",
            "  del sys.path[0]\n"
          ]
        }
      ]
    },
    {
      "cell_type": "code",
      "source": [
        "#특정 열 평균값\n",
        "print(df['mpg'].mean())"
      ],
      "metadata": {
        "colab": {
          "base_uri": "https://localhost:8080/"
        },
        "id": "TW-IiaN0RoSL",
        "outputId": "93cbb342-055b-4c56-8126-4a4e0eb9e2ba"
      },
      "execution_count": null,
      "outputs": [
        {
          "output_type": "stream",
          "name": "stdout",
          "text": [
            "23.514572864321615\n"
          ]
        }
      ]
    },
    {
      "cell_type": "code",
      "source": [
        "#특정 열 두 개 평균값\n",
        "print(df[['mpg','weight']].mean())"
      ],
      "metadata": {
        "colab": {
          "base_uri": "https://localhost:8080/"
        },
        "id": "eQ9KlHjzRud9",
        "outputId": "28dfb115-5c4b-4e2e-896b-ab6a34bb49af"
      },
      "execution_count": null,
      "outputs": [
        {
          "output_type": "stream",
          "name": "stdout",
          "text": [
            "mpg         23.514573\n",
            "weight    2970.424623\n",
            "dtype: float64\n"
          ]
        }
      ]
    },
    {
      "cell_type": "markdown",
      "source": [
        "### 중간값\n",
        "- 데이터프레임에 median() 함수를 사용하면 산술 데이터를 갖는 모든 열의 중간값을 계산하여 시리즈로 반환\n",
        "- 데이터프레임의 모든 열의 중간값 계산 가능, 특정 열의 중간값 계산 가능<br>\n",
        "<code> 모든 열의 중간값 : DataFrame 객체.median()</code><br>\n",
        "<code> 특정 열의 중간값 : DataFrame 객체[\"열 이름\"].median()</code><br>"
      ],
      "metadata": {
        "id": "57xSc_r6SNIa"
      }
    },
    {
      "cell_type": "code",
      "source": [
        "import pandas as pd\n",
        "\n",
        "#read_csv() 함수로 df 생성\n",
        "#열을 따로 지정해주지 않기 위해 header=None 옵션 사용\n",
        "df=pd.read_csv('./auto-mpg.csv', header=None)\n",
        "\n",
        "# print(df)\n",
        "\n",
        "#열 이름 지정\n",
        "df.columns=['mpg','cylinders','displacement','horsepower','weight','acceleration','model year','origin','name']\n",
        "\n",
        "#열 전체 평균값\n",
        "print(df.median())"
      ],
      "metadata": {
        "colab": {
          "base_uri": "https://localhost:8080/"
        },
        "id": "HF8faZwGTsHv",
        "outputId": "4b9ccb60-e122-42b0-88e6-59c7d6606d29"
      },
      "execution_count": null,
      "outputs": [
        {
          "output_type": "stream",
          "name": "stdout",
          "text": [
            "mpg               23.0\n",
            "cylinders          4.0\n",
            "displacement     148.5\n",
            "weight          2803.5\n",
            "acceleration      15.5\n",
            "model year        76.0\n",
            "origin             1.0\n",
            "dtype: float64\n"
          ]
        },
        {
          "output_type": "stream",
          "name": "stderr",
          "text": [
            "/usr/local/lib/python3.7/dist-packages/ipykernel_launcher.py:13: FutureWarning: Dropping of nuisance columns in DataFrame reductions (with 'numeric_only=None') is deprecated; in a future version this will raise TypeError.  Select only valid columns before calling the reduction.\n",
            "  del sys.path[0]\n"
          ]
        }
      ]
    },
    {
      "cell_type": "code",
      "source": [
        "print(df['mpg'].median())"
      ],
      "metadata": {
        "colab": {
          "base_uri": "https://localhost:8080/"
        },
        "id": "mkb_yqcrTxf9",
        "outputId": "9f41ea42-3517-4462-8ca7-021e111389b0"
      },
      "execution_count": null,
      "outputs": [
        {
          "output_type": "stream",
          "name": "stdout",
          "text": [
            "23.0\n"
          ]
        }
      ]
    },
    {
      "cell_type": "markdown",
      "source": [
        "데이터의 개수가 짝수일 경우 중간값 구하기 예쩨"
      ],
      "metadata": {
        "id": "lAsEzGRuUBOT"
      }
    },
    {
      "cell_type": "code",
      "source": [
        "import pandas as pd\n",
        "\n",
        "df=pd.DataFrame({'X':[1,2,4,7,10,13],\n",
        "                 'Y':[3,5,9,11,12,15]})\n",
        "medians=df.median()\n",
        "print(medians)"
      ],
      "metadata": {
        "colab": {
          "base_uri": "https://localhost:8080/"
        },
        "id": "ogXdX-YJUGIz",
        "outputId": "c9b4687f-ef4b-4b1e-e6f1-080800d79645"
      },
      "execution_count": null,
      "outputs": [
        {
          "output_type": "stream",
          "name": "stdout",
          "text": [
            "X     5.5\n",
            "Y    10.0\n",
            "dtype: float64\n"
          ]
        }
      ]
    },
    {
      "cell_type": "markdown",
      "source": [
        "- 데이터의 개수가 짝수일 경우 중간값(2개) 사이의 값을 출력해줌"
      ],
      "metadata": {
        "id": "FyAvsGiQUwMq"
      }
    },
    {
      "cell_type": "markdown",
      "source": [
        "### 최대값\n",
        "- 데이터프레임에 max() 함수를 사용하면 산술 데이터를 갖는 모든 열의 최대값을 계산하여 시리즈로 반환\n",
        "- 데이터프레임의 모든 열의 최대값 계산 가능, 특정 열의 최대값 계산 가능<br>\n",
        "<code>모든 열의 중간값 : DataFrame 객체.max()</code><br>\n",
        "<code> 특정 열의 중간값 : DataFrame 객체[\"열 이름\"].max()</code><br>"
      ],
      "metadata": {
        "id": "dHgmzUIKYBq0"
      }
    },
    {
      "cell_type": "code",
      "source": [
        "import pandas as pd\n",
        "\n",
        "#read_csv() 함수로 df 생성\n",
        "#열을 따로 지정해주지 않기 위해 header=None 옵션 사용\n",
        "df=pd.read_csv('./auto-mpg.csv', header=None)\n",
        "\n",
        "# print(df)\n",
        "\n",
        "#열 이름 지정\n",
        "df.columns=['mpg','cylinders','displacement','horsepower','weight','acceleration','model year','origin','name']\n",
        "\n",
        "print(df.max())"
      ],
      "metadata": {
        "colab": {
          "base_uri": "https://localhost:8080/"
        },
        "id": "XTeadqnFUkyn",
        "outputId": "badff867-8579-495f-f060-8803fcd77252"
      },
      "execution_count": null,
      "outputs": [
        {
          "output_type": "stream",
          "name": "stdout",
          "text": [
            "mpg                         46.6\n",
            "cylinders                      8\n",
            "displacement               455.0\n",
            "horsepower                     ?\n",
            "weight                    5140.0\n",
            "acceleration                24.8\n",
            "model year                    82\n",
            "origin                         3\n",
            "name            vw rabbit custom\n",
            "dtype: object\n"
          ]
        }
      ]
    },
    {
      "cell_type": "code",
      "source": [
        "print(df['mpg'].max())"
      ],
      "metadata": {
        "colab": {
          "base_uri": "https://localhost:8080/"
        },
        "id": "yHUs4HZmYUKw",
        "outputId": "8bf73154-8954-4f32-df71-f73c7c933d12"
      },
      "execution_count": null,
      "outputs": [
        {
          "output_type": "stream",
          "name": "stdout",
          "text": [
            "46.6\n"
          ]
        }
      ]
    },
    {
      "cell_type": "markdown",
      "source": [
        "- 문자열은 ASCII 숫자로 변환하여 크고 작음을 비교\n",
        "- 'horsepower'열에는 '?'문자가 포함되어 있기 때문에 최대값도 '?'출력"
      ],
      "metadata": {
        "id": "VcFYX45PYeFR"
      }
    },
    {
      "cell_type": "markdown",
      "source": [
        "### 최소값\n",
        "- 데이터프레임에 min() 함수를 사용하면 산술 데이터를 갖는 모든 열의 최소값을 계산하여 시리즈로 반환\n",
        "- 데이터프레임의 모든 열의 최소값 계산 가능, 특정 열의 최소값 계산 가능<br>\n",
        "<code>모든 열의 중간값 : DataFrame 객체.min()</code><br>\n",
        "<code> 특정 열의 중간값 : DataFrame 객체[\"열 이름\"].min()</code><br>"
      ],
      "metadata": {
        "id": "o-J84KilZYTN"
      }
    },
    {
      "cell_type": "code",
      "source": [
        "import pandas as pd\n",
        "\n",
        "#read_csv() 함수로 df 생성\n",
        "#열을 따로 지정해주지 않기 위해 header=None 옵션 사용\n",
        "df=pd.read_csv('./auto-mpg.csv', header=None)\n",
        "\n",
        "# print(df)\n",
        "\n",
        "#열 이름 지정\n",
        "df.columns=['mpg','cylinders','displacement','horsepower','weight','acceleration','model year','origin','name']\n",
        "\n",
        "print(df.min())"
      ],
      "metadata": {
        "colab": {
          "base_uri": "https://localhost:8080/"
        },
        "id": "d66rw254ZFG5",
        "outputId": "df365af1-21a2-4509-b5f9-92bca27aeb39"
      },
      "execution_count": null,
      "outputs": [
        {
          "output_type": "stream",
          "name": "stdout",
          "text": [
            "mpg                                 9.0\n",
            "cylinders                             3\n",
            "displacement                       68.0\n",
            "horsepower                        100.0\n",
            "weight                           1613.0\n",
            "acceleration                        8.0\n",
            "model year                           70\n",
            "origin                                1\n",
            "name            amc ambassador brougham\n",
            "dtype: object\n"
          ]
        }
      ]
    },
    {
      "cell_type": "code",
      "source": [
        "print(df['mpg'].min())"
      ],
      "metadata": {
        "colab": {
          "base_uri": "https://localhost:8080/"
        },
        "id": "YZqH84jNaUOd",
        "outputId": "16ee8e9b-bd35-4fd8-996e-83d14eb2fee4"
      },
      "execution_count": null,
      "outputs": [
        {
          "output_type": "stream",
          "name": "stdout",
          "text": [
            "9.0\n"
          ]
        }
      ]
    },
    {
      "cell_type": "markdown",
      "source": [
        "- 실제 데이터 분석 과정에서 '?'를 사용하는 경우가 거의 없음(신경쓰지 않아도 됨)"
      ],
      "metadata": {
        "id": "snselxtPzHOi"
      }
    },
    {
      "cell_type": "markdown",
      "source": [
        "### 표준편차\n",
        "- 데이터프레임에 std() 함수를 사용하면 산술 데이터를 갖는 모든 열의 표준편차를 계산하여 시리즈로 반환\n",
        "- 데이터프레임의 모든 열의 표준편차 계산 가능, 특정 열의 표준편차 계산 가능<br>\n",
        "<code>모든 열의 표준편차 : DataFrame 객체.std()</code><br>\n",
        "<code> 특정 열의 표준편차 : DataFrame 객체[\"열 이름\"].std()</code><br>\n",
        "- 편차 : 기본 데이터가 평균으로부터 얼마나 떨어져 있는지를 알 수 있는 척도"
      ],
      "metadata": {
        "id": "77idjytiaYRz"
      }
    },
    {
      "cell_type": "code",
      "source": [
        "import pandas as pd\n",
        "\n",
        "#read_csv() 함수로 df 생성\n",
        "#열을 따로 지정해주지 않기 위해 header=None 옵션 사용\n",
        "df=pd.read_csv('./auto-mpg.csv', header=None)\n",
        "\n",
        "# print(df)\n",
        "\n",
        "#열 이름 지정\n",
        "df.columns=['mpg','cylinders','displacement','horsepower','weight','acceleration','model year','origin','name']\n",
        "\n",
        "print(df.std())"
      ],
      "metadata": {
        "colab": {
          "base_uri": "https://localhost:8080/"
        },
        "id": "l5bc9bSubpl7",
        "outputId": "5cbd5b6c-2078-467b-bab9-cabfffca6b1d"
      },
      "execution_count": null,
      "outputs": [
        {
          "output_type": "stream",
          "name": "stdout",
          "text": [
            "mpg               7.815984\n",
            "cylinders         1.701004\n",
            "displacement    104.269838\n",
            "weight          846.841774\n",
            "acceleration      2.757689\n",
            "model year        3.697627\n",
            "origin            0.802055\n",
            "dtype: float64\n"
          ]
        },
        {
          "output_type": "stream",
          "name": "stderr",
          "text": [
            "/usr/local/lib/python3.7/dist-packages/ipykernel_launcher.py:12: FutureWarning: Dropping of nuisance columns in DataFrame reductions (with 'numeric_only=None') is deprecated; in a future version this will raise TypeError.  Select only valid columns before calling the reduction.\n",
            "  if sys.path[0] == '':\n"
          ]
        }
      ]
    },
    {
      "cell_type": "code",
      "source": [
        "print(df['mpg'].std())"
      ],
      "metadata": {
        "colab": {
          "base_uri": "https://localhost:8080/"
        },
        "id": "41cQDX-KcOnR",
        "outputId": "e5a529f5-532c-4230-cd97-f305711ade7f"
      },
      "execution_count": null,
      "outputs": [
        {
          "output_type": "stream",
          "name": "stdout",
          "text": [
            "7.815984312565782\n"
          ]
        }
      ]
    },
    {
      "cell_type": "markdown",
      "source": [
        "### 상관계수\n",
        "- 데이터프레임에 corr() 함수를 사용하면 두 열 간의 상관계수를 계산\n",
        "- 산술 데이터를 갖는 모든 열에 대해서 2개씩 서로 짝을 짓고, 각각의 경우에 대하여 상관계수를 계산<br>\n",
        "<code>모든 열의 상관계수 : DataFrame 객체.corr()</code><br>\n",
        "<code> 특정 열의 상관계수 : DataFrame 객체[\"열 이름\"].corr()</code><br>\n",
        "- 상관계수 절대값의 크기는 직선관계와 가까운 정도를 표현, 부호는 직선관계의 방향을 나타냄\n",
        " - r > 0 : 양의 상관관계, 산점도에서 점들이 우상향방향으로 띠를 형성(기울기 양수)\n",
        " - r < 0 : 음의 상관관계, 산점도에서 점들이 우하향방향으로 띠를 형성(기울기 음수)\n",
        " - r = +1 : 모든 점들이 정확히 기울기가 양수인 직선 위에 위치\n",
        " - r = -1 : 모든 점들이 정확히 기울기가 음수인 직선 위에 위치"
      ],
      "metadata": {
        "id": "mCzTSnaTcqTn"
      }
    },
    {
      "cell_type": "code",
      "source": [
        "import pandas as pd\n",
        "\n",
        "#read_csv() 함수로 df 생성\n",
        "#열을 따로 지정해주지 않기 위해 header=None 옵션 사용\n",
        "df=pd.read_csv('./auto-mpg.csv', header=None)\n",
        "\n",
        "# print(df)\n",
        "\n",
        "#열 이름 지정\n",
        "df.columns=['mpg','cylinders','displacement','horsepower','weight','acceleration','model year','origin','name']\n",
        "\n",
        "print(df.corr())"
      ],
      "metadata": {
        "colab": {
          "base_uri": "https://localhost:8080/"
        },
        "id": "V4HiilaYd-pt",
        "outputId": "68d085cf-9aac-4331-8f53-68773d75deb8"
      },
      "execution_count": null,
      "outputs": [
        {
          "output_type": "stream",
          "name": "stdout",
          "text": [
            "                   mpg  cylinders  ...  model year    origin\n",
            "mpg           1.000000  -0.775396  ...    0.579267  0.563450\n",
            "cylinders    -0.775396   1.000000  ...   -0.348746 -0.562543\n",
            "displacement -0.804203   0.950721  ...   -0.370164 -0.609409\n",
            "weight       -0.831741   0.896017  ...   -0.306564 -0.581024\n",
            "acceleration  0.420289  -0.505419  ...    0.288137  0.205873\n",
            "model year    0.579267  -0.348746  ...    1.000000  0.180662\n",
            "origin        0.563450  -0.562543  ...    0.180662  1.000000\n",
            "\n",
            "[7 rows x 7 columns]\n"
          ]
        }
      ]
    },
    {
      "cell_type": "code",
      "source": [
        "print(df[['mpg','weight']].corr())"
      ],
      "metadata": {
        "colab": {
          "base_uri": "https://localhost:8080/"
        },
        "id": "MXn4gYN4gxg0",
        "outputId": "e9c83c5e-8b5b-4b68-d50b-80e03b718b49"
      },
      "execution_count": null,
      "outputs": [
        {
          "output_type": "stream",
          "name": "stdout",
          "text": [
            "             mpg    weight\n",
            "mpg     1.000000 -0.831741\n",
            "weight -0.831741  1.000000\n"
          ]
        }
      ]
    },
    {
      "cell_type": "markdown",
      "source": [
        "## 판다스 내장 그래프 도구 활용\n",
        "- 데이터를 그래프로 표현하는 것은 매우 효과적인 정보 전달 방식\n",
        "- 시리즈 또는 데이터프레임 객체에 plot() 함수를 적용하여 그래프를 생성\n",
        "- kind 옵션으로 그래프의 종류 선택\n",
        " - \"line\" : 선 그래프\n",
        " - \"bar\" : 수직 막대 그래프\n",
        " - \"barh\" : 수평 막대 그래프\n",
        " - \"his\" : 히스토그램\n",
        " - \"box\" : 박스 플롯\n",
        " - \"kde\" : 커널 밀도 그래프\n",
        " - \"area\" : 면적 그래프\n",
        " - \"pie\" : 파이 그래프\n",
        " - \"scatter\" : 산점도\n",
        " - \"hexbin\" : 고밀도 산점도"
      ],
      "metadata": {
        "id": "e1Gyc-O1hsxX"
      }
    },
    {
      "cell_type": "code",
      "source": [
        "from google.colab import files\n",
        "file_uploaded = files.upload()"
      ],
      "metadata": {
        "colab": {
          "resources": {
            "http://localhost:8080/nbextensions/google.colab/files.js": {
              "data": "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",
              "ok": true,
              "headers": [
                [
                  "content-type",
                  "application/javascript"
                ]
              ],
              "status": 200,
              "status_text": ""
            }
          },
          "base_uri": "https://localhost:8080/",
          "height": 77
        },
        "id": "OAa07hX11ZKz",
        "outputId": "d5f40578-be6d-471e-a690-e6a6a6bbf9f8"
      },
      "execution_count": null,
      "outputs": [
        {
          "output_type": "display_data",
          "data": {
            "text/html": [
              "\n",
              "     <input type=\"file\" id=\"files-60d4eeda-786a-4a9e-94d2-c46d609921f7\" name=\"files[]\" multiple disabled\n",
              "        style=\"border:none\" />\n",
              "     <output id=\"result-60d4eeda-786a-4a9e-94d2-c46d609921f7\">\n",
              "      Upload widget is only available when the cell has been executed in the\n",
              "      current browser session. Please rerun this cell to enable.\n",
              "      </output>\n",
              "      <script src=\"/nbextensions/google.colab/files.js\"></script> "
            ],
            "text/plain": [
              "<IPython.core.display.HTML object>"
            ]
          },
          "metadata": {}
        },
        {
          "output_type": "stream",
          "name": "stdout",
          "text": [
            "Saving 남북한발전전력량.xlsx to 남북한발전전력량.xlsx\n"
          ]
        }
      ]
    },
    {
      "cell_type": "markdown",
      "source": [
        "### 선 그래프\n",
        "- 데이터프레임(또는 시리즈) 객체에 plot() 함수를 사용할 경우, 다른 옵션을 추가하지 않으면 가장 기본적인 선 그래프를 그림<br>\n",
        "<code> 선 그래프 : DataFrame 객체.plot()</code>"
      ],
      "metadata": {
        "id": "o1bYnpSl1CMS"
      }
    },
    {
      "cell_type": "code",
      "source": [
        "import pandas as pd\n",
        "\n",
        "df=pd.read_excel('./남북한발전전력량.xlsx', engine='openpyxl')\n",
        "\n",
        "#남북한 발전량 합계 데이터를 추출\n",
        "df_ns=df.iloc[[0,5],2:]\n",
        "\n",
        "#행 인덱스 변경\n",
        "df_ns.index=['South', 'North']\n",
        "\n",
        "#열 이름의 자료형을 정수형으로 변경\n",
        "df_ns.columns=df_ns.columns.map(int)\n",
        "\n",
        "#추출 데이터 확인\n",
        "print(df_ns)"
      ],
      "metadata": {
        "colab": {
          "base_uri": "https://localhost:8080/"
        },
        "id": "8r03UXiQ1ig_",
        "outputId": "e4204d2b-f997-44c2-d415-a8cd2c19f38a"
      },
      "execution_count": null,
      "outputs": [
        {
          "output_type": "stream",
          "name": "stdout",
          "text": [
            "       1990  1991  1992  1993  1994  1995  ...  2011  2012  2013  2014  2015  2016\n",
            "South  1077  1186  1310  1444  1650  1847  ...  4969  5096  5171  5220  5281  5404\n",
            "North   277   263   247   221   231   230  ...   211   215   221   216   190   239\n",
            "\n",
            "[2 rows x 27 columns]\n"
          ]
        }
      ]
    },
    {
      "cell_type": "code",
      "source": [
        "# 선 그래프 그리기\n",
        "print(df_ns.plot())"
      ],
      "metadata": {
        "colab": {
          "base_uri": "https://localhost:8080/",
          "height": 479
        },
        "id": "CRoMdWpo4vtb",
        "outputId": "fdb245d5-9390-48b6-e380-3f09ab1146ef"
      },
      "execution_count": null,
      "outputs": [
        {
          "output_type": "stream",
          "name": "stdout",
          "text": [
            "AxesSubplot(0.125,0.125;0.775x0.755)\n"
          ]
        },
        {
          "output_type": "display_data",
          "data": {
            "image/png": "[encoded data removed]",
            "text/plain": [
              "<Figure size 432x288 with 1 Axes>"
            ]
          },
          "metadata": {
            "needs_background": "light"
          }
        }
      ]
    },
    {
      "cell_type": "markdown",
      "source": [
        "- 시간의 흐름에 따른 연도별 발전량 변화 추이를 보기 위해서는 연도 값을 x축에 표시하는 것이 적절\n",
        "- 연도 값이 행 인덱스에 위치하도록 행렬을 전치하여 데이터프레임 제작"
      ],
      "metadata": {
        "id": "tdC8RAxg5Qx8"
      }
    },
    {
      "cell_type": "code",
      "source": [
        "import pandas as pd\n",
        "\n",
        "df=pd.read_excel('./남북한발전전력량.xlsx', engine='openpyxl')\n",
        "\n",
        "#남북한 발전량 합계 데이터를 추출\n",
        "df_ns=df.iloc[[0,5],2:]\n",
        "\n",
        "#행 인덱스 변경\n",
        "df_ns.index=['South', 'North']\n",
        "\n",
        "#열 이름의 자료형을 정수형으로 변경\n",
        "df_ns.columns=df_ns.columns.map(int)\n",
        "\n",
        "#행, 열 전치하여 다시 그리기\n",
        "tdf_ns=df_ns.T\n",
        "print(tdf_ns.head())"
      ],
      "metadata": {
        "colab": {
          "base_uri": "https://localhost:8080/"
        },
        "id": "6heho0VO5bqn",
        "outputId": "bf83da59-3e02-44d5-904f-f13e1e4eb3a9"
      },
      "execution_count": null,
      "outputs": [
        {
          "output_type": "stream",
          "name": "stdout",
          "text": [
            "     South North\n",
            "1990  1077   277\n",
            "1991  1186   263\n",
            "1992  1310   247\n",
            "1993  1444   221\n",
            "1994  1650   231\n"
          ]
        }
      ]
    },
    {
      "cell_type": "code",
      "source": [
        "print(tdf_ns.plot())"
      ],
      "metadata": {
        "colab": {
          "base_uri": "https://localhost:8080/",
          "height": 283
        },
        "id": "asZPtbGy58Kt",
        "outputId": "e02d824b-e022-4c8b-b02c-18b92146ba5f"
      },
      "execution_count": null,
      "outputs": [
        {
          "output_type": "stream",
          "name": "stdout",
          "text": [
            "AxesSubplot(0.125,0.125;0.775x0.755)\n"
          ]
        },
        {
          "output_type": "display_data",
          "data": {
            "image/png": "[encoded data removed]",
            "text/plain": [
              "<Figure size 432x288 with 1 Axes>"
            ]
          },
          "metadata": {
            "needs_background": "light"
          }
        }
      ]
    },
    {
      "cell_type": "markdown",
      "source": [
        "### 막대 그래프\n",
        "- plot(0 함수로 선 그래프가 아닌 다른 종류의 그래프를 그리려면 kind 옵션에 그래프 종류를 지정 <br>\n",
        "kind=\"bar\"<br>\n",
        "<code> 막대 그래프 : DataFrame 객체.plot(kind=\"bar\")</code>"
      ],
      "metadata": {
        "id": "1hj_Zxfw6DHy"
      }
    },
    {
      "cell_type": "code",
      "source": [
        "import pandas as pd\n",
        "\n",
        "df=pd.read_excel('./남북한발전전력량.xlsx', engine='openpyxl')\n",
        "\n",
        "#남북한 발전량 합계 데이터를 추출\n",
        "df_ns=df.iloc[[0,5],2:]\n",
        "\n",
        "#행 인덱스 변경\n",
        "df_ns.index=['South', 'North']\n",
        "\n",
        "#열 이름의 자료형을 정수형으로 변경\n",
        "df_ns.columns=df_ns.columns.map(int)\n",
        "\n",
        "#행, 열 전치하여 다시 그리기\n",
        "tdf_ns=df_ns.T\n",
        "#print(tdf_ns.head())\n",
        "\n",
        "#막대 그래프\n",
        "print(tdf_ns.plot(kind=\"bar\"))"
      ],
      "metadata": {
        "colab": {
          "base_uri": "https://localhost:8080/",
          "height": 299
        },
        "id": "n7rdJdMs6sfa",
        "outputId": "ef373b9d-2529-4b80-ba1b-bc90c4885643"
      },
      "execution_count": null,
      "outputs": [
        {
          "output_type": "stream",
          "name": "stdout",
          "text": [
            "AxesSubplot(0.125,0.125;0.775x0.755)\n"
          ]
        },
        {
          "output_type": "display_data",
          "data": {
            "image/png": "[encoded data removed]",
            "text/plain": [
              "<Figure size 432x288 with 1 Axes>"
            ]
          },
          "metadata": {
            "needs_background": "light"
          }
        }
      ]
    },
    {
      "cell_type": "markdown",
      "source": [
        "### 히스토그램\n",
        "- 빈도와 관련\n",
        "- plot() 함수에 kind=\"hist\" 옵션 추가 <br>\n",
        "<code> 히스토그램 : DataFrame 객체.plot(kind=\"hist\")</code>"
      ],
      "metadata": {
        "id": "s8ZC57Tw7E5p"
      }
    },
    {
      "cell_type": "code",
      "source": [
        "import pandas as pd\n",
        "\n",
        "df=pd.read_excel('./남북한발전전력량.xlsx', engine='openpyxl')\n",
        "\n",
        "#남북한 발전량 합계 데이터를 추출\n",
        "df_ns=df.iloc[[0,5],2:]\n",
        "\n",
        "#행 인덱스 변경\n",
        "df_ns.index=['South', 'North']\n",
        "\n",
        "#열 이름의 자료형을 정수형으로 변경\n",
        "df_ns.columns=df_ns.columns.map(int)\n",
        "\n",
        "#행, 열 전치하여 다시 그리기\n",
        "tdf_ns=df_ns.T\n",
        "#print(tdf_ns.head())\n",
        "\n",
        "#히스토그램\n",
        "print(tdf_ns.plot(kind=\"hist\"))"
      ],
      "metadata": {
        "colab": {
          "base_uri": "https://localhost:8080/",
          "height": 283
        },
        "id": "HS7f8F007DSj",
        "outputId": "1ee745ac-d4ac-42c7-80f7-9b95f4d55e73"
      },
      "execution_count": null,
      "outputs": [
        {
          "output_type": "stream",
          "name": "stdout",
          "text": [
            "AxesSubplot(0.125,0.125;0.775x0.755)\n"
          ]
        },
        {
          "output_type": "display_data",
          "data": {
            "image/png": "[encoded data removed]",
            "text/plain": [
              "<Figure size 432x288 with 1 Axes>"
            ]
          },
          "metadata": {
            "needs_background": "light"
          }
        }
      ]
    },
    {
      "cell_type": "markdown",
      "source": [
        "### 산점도\n",
        "- 자동차 연비 데이터셋을 이용하여 두 변수의 관계를 나타내는 산점도 제작\n",
        "\n",
        "코드 항목\n",
        "1. plot() 함수에 kind=\"scatter\" 옵션 추가\n",
        "2. 데이터프레임의 열 중에서 서로 비교할 두 변수를 선택\n",
        " - x축에 차량 무게 'weight' 열을 지정\n",
        " - y축에 연비 'mpg' 열을 지정"
      ],
      "metadata": {
        "id": "fIWo6Rf38GDo"
      }
    },
    {
      "cell_type": "code",
      "source": [
        "from google.colab import files\n",
        "file_uploaded = files.upload()"
      ],
      "metadata": {
        "colab": {
          "resources": {
            "http://localhost:8080/nbextensions/google.colab/files.js": {
              "data": "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",
              "ok": true,
              "headers": [
                [
                  "content-type",
                  "application/javascript"
                ]
              ],
              "status": 200,
              "status_text": ""
            }
          },
          "base_uri": "https://localhost:8080/",
          "height": 77
        },
        "id": "pMMAM6XF9v0X",
        "outputId": "6f65b612-1325-4537-db55-d4afbe30a4ee"
      },
      "execution_count": null,
      "outputs": [
        {
          "output_type": "display_data",
          "data": {
            "text/html": [
              "\n",
              "     <input type=\"file\" id=\"files-48f70517-bb6e-4a6e-b8da-3af63dd499a4\" name=\"files[]\" multiple disabled\n",
              "        style=\"border:none\" />\n",
              "     <output id=\"result-48f70517-bb6e-4a6e-b8da-3af63dd499a4\">\n",
              "      Upload widget is only available when the cell has been executed in the\n",
              "      current browser session. Please rerun this cell to enable.\n",
              "      </output>\n",
              "      <script src=\"/nbextensions/google.colab/files.js\"></script> "
            ],
            "text/plain": [
              "<IPython.core.display.HTML object>"
            ]
          },
          "metadata": {}
        },
        {
          "output_type": "stream",
          "name": "stdout",
          "text": [
            "Saving auto-mpg.csv to auto-mpg.csv\n"
          ]
        }
      ]
    },
    {
      "cell_type": "code",
      "source": [
        "import pandas as pd\n",
        "\n",
        "#read_csv() 함수로 df 생성\n",
        "#열을 따로 지정해주지 않기 위해 header=None 옵션 사용\n",
        "df=pd.read_csv('./auto-mpg.csv', header=None)\n",
        "\n",
        "# print(df)\n",
        "\n",
        "#열 이름 지정\n",
        "df.columns=['mpg','cylinders','displacement','horsepower','weight','acceleration','model year','origin','name']\n",
        "\n",
        "#2개의 열을 선택하여 산점도 그리기\n",
        "df.plot(x='weight',y='mpg',kind='scatter')"
      ],
      "metadata": {
        "colab": {
          "base_uri": "https://localhost:8080/",
          "height": 297
        },
        "id": "ppSaiWCr8Sl4",
        "outputId": "99584e98-54da-44c2-b860-32f4f08ba888"
      },
      "execution_count": null,
      "outputs": [
        {
          "output_type": "execute_result",
          "data": {
            "text/plain": [
              "<matplotlib.axes._subplots.AxesSubplot at 0x7f76d7a70310>"
            ]
          },
          "metadata": {},
          "execution_count": 12
        },
        {
          "output_type": "display_data",
          "data": {
            "image/png": "[encoded data removed]",
            "text/plain": [
              "<Figure size 432x288 with 1 Axes>"
            ]
          },
          "metadata": {
            "needs_background": "light"
          }
        }
      ]
    },
    {
      "cell_type": "markdown",
      "source": [
        "### 박스 플롯\n",
        "- 특정 변수의 데이터 분포와 분산 정도에 대한 정보를 제공\n",
        " - 변수들의 데이터가 퍼져 있는 정도를 확인할 떄 사용\n",
        "- plot() 함수에 kind='\"box\" 옵션을 입력"
      ],
      "metadata": {
        "id": "W1Gh7dilAexD"
      }
    },
    {
      "cell_type": "code",
      "source": [
        "import pandas as pd\n",
        "\n",
        "#read_csv() 함수로 df 생성\n",
        "#열을 따로 지정해주지 않기 위해 header=None 옵션 사용\n",
        "df=pd.read_csv('./auto-mpg.csv', header=None)\n",
        "\n",
        "# print(df)\n",
        "\n",
        "#열 이름 지정\n",
        "df.columns=['mpg','cylinders','displacement','horsepower','weight','acceleration','model year','origin','name']\n",
        "\n",
        "#열을 선택하여 박스 플롯 그리기\n",
        "print(df[['mpg','cylinders']].plot(kind='box'))"
      ],
      "metadata": {
        "colab": {
          "base_uri": "https://localhost:8080/",
          "height": 283
        },
        "id": "0vSJbAulAtfc",
        "outputId": "04ca3c7b-6f42-4b90-bc05-d4f577045909"
      },
      "execution_count": null,
      "outputs": [
        {
          "output_type": "stream",
          "name": "stdout",
          "text": [
            "AxesSubplot(0.125,0.125;0.775x0.755)\n"
          ]
        },
        {
          "output_type": "display_data",
          "data": {
            "image/png": "[encoded data removed]",
            "text/plain": [
              "<Figure size 432x288 with 1 Axes>"
            ]
          },
          "metadata": {
            "needs_background": "light"
          }
        }
      ]
    },
    {
      "cell_type": "markdown",
      "source": [
        "- 맨 위에 원은 수치에서 벗어난 수가 표현\n",
        "- 박스 플롯 최상단은 최댓값 max을 의미\n",
        "- 박스의 윗부분은 분위수 75%를 의미\n",
        "- 박스의 가운데 부분은 중간값 50%를 의미\n",
        "- 박스의 아래부분은 분위수 25%를 의미\n",
        "- 박스 플롯 최하단은 최솟값 min을 의미<br><br>\n",
        "\n",
        "- cylinders의 박스 플롯\n",
        " - 최댓값 == 분위수 75%\n",
        " - 중간값 == 분위수 25%\n",
        "\n"
      ],
      "metadata": {
        "id": "cURm-7PNBfZY"
      }
    },
    {
      "cell_type": "markdown",
      "source": [
        "# Matplotlib - 기본 그래프 도구\n",
        "- 시각화 도구를 사용하면 다양한 종류의 데이터 분석 가능\n",
        " - 데이터에는 수천, 수만 개를 넘기는 경우가 많음\n",
        "- 그래프를 이용하면 데이터의 구조와 패턴을 파악하기가 용이\n",
        "- 다양한 관점에서 데이터에 관한 통찰력 제공\n",
        "- 판다스는 데이터 시각화를 지원하는 내장 기능이 존재하지만 풍부하진 않음\n",
        " - 다른 시각화 도구와 함께 사용하는 것을 추천"
      ],
      "metadata": {
        "id": "6EfSnonaCOWb"
      }
    },
    {
      "cell_type": "markdown",
      "source": [
        "## Matplotlib\n",
        "- 2D 평면 그래프에 관한 다양한 포맷과 기능을 지원\n",
        "- 그래프 요소를 세세하게 꾸미기 가능\n"
      ],
      "metadata": {
        "id": "e9R5WPSSGe1q"
      }
    },
    {
      "cell_type": "markdown",
      "source": [
        "### 선그래프\n",
        "- 선 그래프(line plot)는 연속하는 데이터 값들을 직선 또는 곡선으로 연결하여 데이터 값 사이의 관계를 표현\n",
        "- 시계열 데이터와 같이 연속적인 값의 변화와 패턴을 파악하는데 적합"
      ],
      "metadata": {
        "id": "CpRde7vqGqrv"
      }
    },
    {
      "cell_type": "code",
      "source": [
        "from google.colab import files\n",
        "file_uploaded = files.upload()"
      ],
      "metadata": {
        "colab": {
          "resources": {
            "http://localhost:8080/nbextensions/google.colab/files.js": {
              "data": "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",
              "ok": true,
              "headers": [
                [
                  "content-type",
                  "application/javascript"
                ]
              ],
              "status": 200,
              "status_text": ""
            }
          },
          "base_uri": "https://localhost:8080/",
          "height": 94
        },
        "id": "NlBN6dlSCOlS",
        "outputId": "e41979fb-6281-4deb-deb4-726852c924b9"
      },
      "execution_count": null,
      "outputs": [
        {
          "output_type": "display_data",
          "data": {
            "text/html": [
              "\n",
              "     <input type=\"file\" id=\"files-40a89580-12fe-4f27-8711-2543300c07d0\" name=\"files[]\" multiple disabled\n",
              "        style=\"border:none\" />\n",
              "     <output id=\"result-40a89580-12fe-4f27-8711-2543300c07d0\">\n",
              "      Upload widget is only available when the cell has been executed in the\n",
              "      current browser session. Please rerun this cell to enable.\n",
              "      </output>\n",
              "      <script src=\"/nbextensions/google.colab/files.js\"></script> "
            ],
            "text/plain": [
              "<IPython.core.display.HTML object>"
            ]
          },
          "metadata": {}
        },
        {
          "output_type": "stream",
          "name": "stdout",
          "text": [
            "Saving 시도별 전출입 인구수.xlsx to 시도별 전출입 인구수.xlsx\n"
          ]
        }
      ]
    },
    {
      "cell_type": "code",
      "source": [
        "import pandas as pd\n",
        "\n",
        "#데이터 시각화에 사용할 matplotlib.pyplot 모듈을 import\n",
        "import matplotlib.pyplot as plt\n",
        "\n",
        "#Excel 데이터를 데이터프레임 변환\n",
        "#첫 열을 헤더로 사용\n",
        "df=pd.read_excel('./시도별 전출입 인구수.xlsx', engine='openpyxl', header=0)\n",
        "df.head()"
      ],
      "metadata": {
        "colab": {
          "base_uri": "https://localhost:8080/",
          "height": 600
        },
        "id": "MbJbYnALHbz9",
        "outputId": "72ea5337-04db-416a-ec28-c463cb2f01bb"
      },
      "execution_count": null,
      "outputs": [
        {
          "output_type": "execute_result",
          "data": {
            "text/html": [
              "\n",
              "  <div id=\"df-306932fd-70ea-4dc7-8a6f-e7e1721c5dec\">\n",
              "    <div class=\"colab-df-container\">\n",
              "      <div>\n",
              "<style scoped>\n",
              "    .dataframe tbody tr th:only-of-type {\n",
              "        vertical-align: middle;\n",
              "    }\n",
              "\n",
              "    .dataframe tbody tr th {\n",
              "        vertical-align: top;\n",
              "    }\n",
              "\n",
              "    .dataframe thead th {\n",
              "        text-align: right;\n",
              "    }\n",
              "</style>\n",
              "<table border=\"1\" class=\"dataframe\">\n",
              "  <thead>\n",
              "    <tr style=\"text-align: right;\">\n",
              "      <th></th>\n",
              "      <th>전출지별</th>\n",
              "      <th>전입지별</th>\n",
              "      <th>1970</th>\n",
              "      <th>1971</th>\n",
              "      <th>1972</th>\n",
              "      <th>1973</th>\n",
              "      <th>1974</th>\n",
              "      <th>1975</th>\n",
              "      <th>1976</th>\n",
              "      <th>1977</th>\n",
              "      <th>1978</th>\n",
              "      <th>1979</th>\n",
              "      <th>1980</th>\n",
              "      <th>1981</th>\n",
              "      <th>1982</th>\n",
              "      <th>1983</th>\n",
              "      <th>1984</th>\n",
              "      <th>1985</th>\n",
              "      <th>1986</th>\n",
              "      <th>1987</th>\n",
              "      <th>1988</th>\n",
              "      <th>1989</th>\n",
              "      <th>1990</th>\n",
              "      <th>1991</th>\n",
              "      <th>1992</th>\n",
              "      <th>1993</th>\n",
              "      <th>1994</th>\n",
              "      <th>1995</th>\n",
              "      <th>1996</th>\n",
              "      <th>1997</th>\n",
              "      <th>1998</th>\n",
              "      <th>1999</th>\n",
              "      <th>2000</th>\n",
              "      <th>2001</th>\n",
              "      <th>2002</th>\n",
              "      <th>2003</th>\n",
              "      <th>2004</th>\n",
              "      <th>2005</th>\n",
              "      <th>2006</th>\n",
              "      <th>2007</th>\n",
              "      <th>2008</th>\n",
              "      <th>2009</th>\n",
              "      <th>2010</th>\n",
              "      <th>2011</th>\n",
              "      <th>2012</th>\n",
              "      <th>2013</th>\n",
              "      <th>2014</th>\n",
              "      <th>2015</th>\n",
              "      <th>2016</th>\n",
              "      <th>2017</th>\n",
              "    </tr>\n",
              "  </thead>\n",
              "  <tbody>\n",
              "    <tr>\n",
              "      <th>0</th>\n",
              "      <td>전출지별</td>\n",
              "      <td>전입지별</td>\n",
              "      <td>이동자수 (명)</td>\n",
              "      <td>이동자수 (명)</td>\n",
              "      <td>이동자수 (명)</td>\n",
              "      <td>이동자수 (명)</td>\n",
              "      <td>이동자수 (명)</td>\n",
              "      <td>이동자수 (명)</td>\n",
              "      <td>이동자수 (명)</td>\n",
              "      <td>이동자수 (명)</td>\n",
              "      <td>이동자수 (명)</td>\n",
              "      <td>이동자수 (명)</td>\n",
              "      <td>이동자수 (명)</td>\n",
              "      <td>이동자수 (명)</td>\n",
              "      <td>이동자수 (명)</td>\n",
              "      <td>이동자수 (명)</td>\n",
              "      <td>이동자수 (명)</td>\n",
              "      <td>이동자수 (명)</td>\n",
              "      <td>이동자수 (명)</td>\n",
              "      <td>이동자수 (명)</td>\n",
              "      <td>이동자수 (명)</td>\n",
              "      <td>이동자수 (명)</td>\n",
              "      <td>이동자수 (명)</td>\n",
              "      <td>이동자수 (명)</td>\n",
              "      <td>이동자수 (명)</td>\n",
              "      <td>이동자수 (명)</td>\n",
              "      <td>이동자수 (명)</td>\n",
              "      <td>이동자수 (명)</td>\n",
              "      <td>이동자수 (명)</td>\n",
              "      <td>이동자수 (명)</td>\n",
              "      <td>이동자수 (명)</td>\n",
              "      <td>이동자수 (명)</td>\n",
              "      <td>이동자수 (명)</td>\n",
              "      <td>이동자수 (명)</td>\n",
              "      <td>이동자수 (명)</td>\n",
              "      <td>이동자수 (명)</td>\n",
              "      <td>이동자수 (명)</td>\n",
              "      <td>이동자수 (명)</td>\n",
              "      <td>이동자수 (명)</td>\n",
              "      <td>이동자수 (명)</td>\n",
              "      <td>이동자수 (명)</td>\n",
              "      <td>이동자수 (명)</td>\n",
              "      <td>이동자수 (명)</td>\n",
              "      <td>이동자수 (명)</td>\n",
              "      <td>이동자수 (명)</td>\n",
              "      <td>이동자수 (명)</td>\n",
              "      <td>이동자수 (명)</td>\n",
              "      <td>이동자수 (명)</td>\n",
              "      <td>이동자수 (명)</td>\n",
              "      <td>이동자수 (명)</td>\n",
              "    </tr>\n",
              "    <tr>\n",
              "      <th>1</th>\n",
              "      <td>전국</td>\n",
              "      <td>전국</td>\n",
              "      <td>4046536</td>\n",
              "      <td>4210164</td>\n",
              "      <td>3687938</td>\n",
              "      <td>4860418</td>\n",
              "      <td>5297969</td>\n",
              "      <td>9011440</td>\n",
              "      <td>6773250</td>\n",
              "      <td>7397623</td>\n",
              "      <td>8410276</td>\n",
              "      <td>7324380</td>\n",
              "      <td>8258573</td>\n",
              "      <td>8194516</td>\n",
              "      <td>8616474</td>\n",
              "      <td>9795811</td>\n",
              "      <td>9043238</td>\n",
              "      <td>8679097</td>\n",
              "      <td>8660428</td>\n",
              "      <td>9308750</td>\n",
              "      <td>9969020</td>\n",
              "      <td>9316219</td>\n",
              "      <td>9459209</td>\n",
              "      <td>8980841</td>\n",
              "      <td>9031576</td>\n",
              "      <td>8807058</td>\n",
              "      <td>8791714</td>\n",
              "      <td>9073069</td>\n",
              "      <td>8854973</td>\n",
              "      <td>8819909</td>\n",
              "      <td>8156318</td>\n",
              "      <td>9435347</td>\n",
              "      <td>9009441</td>\n",
              "      <td>9289949</td>\n",
              "      <td>9584461</td>\n",
              "      <td>9516605</td>\n",
              "      <td>8567795</td>\n",
              "      <td>8795397</td>\n",
              "      <td>9342074</td>\n",
              "      <td>9070102</td>\n",
              "      <td>8808256</td>\n",
              "      <td>8487275</td>\n",
              "      <td>8226594</td>\n",
              "      <td>8127195</td>\n",
              "      <td>7506691</td>\n",
              "      <td>7411784</td>\n",
              "      <td>7629098</td>\n",
              "      <td>7755286</td>\n",
              "      <td>7378430</td>\n",
              "      <td>7154226</td>\n",
              "    </tr>\n",
              "    <tr>\n",
              "      <th>2</th>\n",
              "      <td>NaN</td>\n",
              "      <td>서울특별시</td>\n",
              "      <td>1742813</td>\n",
              "      <td>1671705</td>\n",
              "      <td>1349333</td>\n",
              "      <td>1831858</td>\n",
              "      <td>2050392</td>\n",
              "      <td>3396662</td>\n",
              "      <td>2756510</td>\n",
              "      <td>2893403</td>\n",
              "      <td>3307439</td>\n",
              "      <td>2589667</td>\n",
              "      <td>2767816</td>\n",
              "      <td>2859860</td>\n",
              "      <td>2997854</td>\n",
              "      <td>3434184</td>\n",
              "      <td>3052558</td>\n",
              "      <td>2784387</td>\n",
              "      <td>2683013</td>\n",
              "      <td>2853398</td>\n",
              "      <td>3388387</td>\n",
              "      <td>3049117</td>\n",
              "      <td>2726492</td>\n",
              "      <td>2437238</td>\n",
              "      <td>2395814</td>\n",
              "      <td>2259333</td>\n",
              "      <td>2240086</td>\n",
              "      <td>2165332</td>\n",
              "      <td>2159555</td>\n",
              "      <td>2074884</td>\n",
              "      <td>1802931</td>\n",
              "      <td>2337989</td>\n",
              "      <td>2219407</td>\n",
              "      <td>2295784</td>\n",
              "      <td>2318051</td>\n",
              "      <td>2242723</td>\n",
              "      <td>1926235</td>\n",
              "      <td>1990749</td>\n",
              "      <td>2173907</td>\n",
              "      <td>2078045</td>\n",
              "      <td>2025358</td>\n",
              "      <td>1873188</td>\n",
              "      <td>1733015</td>\n",
              "      <td>1721748</td>\n",
              "      <td>1555281</td>\n",
              "      <td>1520090</td>\n",
              "      <td>1573594</td>\n",
              "      <td>1589431</td>\n",
              "      <td>1515602</td>\n",
              "      <td>1472937</td>\n",
              "    </tr>\n",
              "    <tr>\n",
              "      <th>3</th>\n",
              "      <td>NaN</td>\n",
              "      <td>부산광역시</td>\n",
              "      <td>448577</td>\n",
              "      <td>389797</td>\n",
              "      <td>362202</td>\n",
              "      <td>482061</td>\n",
              "      <td>680984</td>\n",
              "      <td>805979</td>\n",
              "      <td>724664</td>\n",
              "      <td>785117</td>\n",
              "      <td>895337</td>\n",
              "      <td>809483</td>\n",
              "      <td>904252</td>\n",
              "      <td>852671</td>\n",
              "      <td>932367</td>\n",
              "      <td>919150</td>\n",
              "      <td>872967</td>\n",
              "      <td>821207</td>\n",
              "      <td>831658</td>\n",
              "      <td>918310</td>\n",
              "      <td>892506</td>\n",
              "      <td>790991</td>\n",
              "      <td>761684</td>\n",
              "      <td>741748</td>\n",
              "      <td>771852</td>\n",
              "      <td>708358</td>\n",
              "      <td>668188</td>\n",
              "      <td>676037</td>\n",
              "      <td>679854</td>\n",
              "      <td>641886</td>\n",
              "      <td>602418</td>\n",
              "      <td>660060</td>\n",
              "      <td>595975</td>\n",
              "      <td>604650</td>\n",
              "      <td>600936</td>\n",
              "      <td>625355</td>\n",
              "      <td>539108</td>\n",
              "      <td>552771</td>\n",
              "      <td>559915</td>\n",
              "      <td>529343</td>\n",
              "      <td>514502</td>\n",
              "      <td>519310</td>\n",
              "      <td>519334</td>\n",
              "      <td>508043</td>\n",
              "      <td>461042</td>\n",
              "      <td>478451</td>\n",
              "      <td>485710</td>\n",
              "      <td>507031</td>\n",
              "      <td>459015</td>\n",
              "      <td>439073</td>\n",
              "    </tr>\n",
              "    <tr>\n",
              "      <th>4</th>\n",
              "      <td>NaN</td>\n",
              "      <td>대구광역시</td>\n",
              "      <td>-</td>\n",
              "      <td>-</td>\n",
              "      <td>-</td>\n",
              "      <td>-</td>\n",
              "      <td>-</td>\n",
              "      <td>-</td>\n",
              "      <td>-</td>\n",
              "      <td>-</td>\n",
              "      <td>-</td>\n",
              "      <td>-</td>\n",
              "      <td>-</td>\n",
              "      <td>514009</td>\n",
              "      <td>553068</td>\n",
              "      <td>607848</td>\n",
              "      <td>552902</td>\n",
              "      <td>539361</td>\n",
              "      <td>533854</td>\n",
              "      <td>590786</td>\n",
              "      <td>579187</td>\n",
              "      <td>539730</td>\n",
              "      <td>526547</td>\n",
              "      <td>525249</td>\n",
              "      <td>558826</td>\n",
              "      <td>524585</td>\n",
              "      <td>545677</td>\n",
              "      <td>534013</td>\n",
              "      <td>507085</td>\n",
              "      <td>485263</td>\n",
              "      <td>462722</td>\n",
              "      <td>496811</td>\n",
              "      <td>477595</td>\n",
              "      <td>448898</td>\n",
              "      <td>466894</td>\n",
              "      <td>487515</td>\n",
              "      <td>418278</td>\n",
              "      <td>440350</td>\n",
              "      <td>428417</td>\n",
              "      <td>399853</td>\n",
              "      <td>409938</td>\n",
              "      <td>398626</td>\n",
              "      <td>370817</td>\n",
              "      <td>370563</td>\n",
              "      <td>348642</td>\n",
              "      <td>351873</td>\n",
              "      <td>350213</td>\n",
              "      <td>351424</td>\n",
              "      <td>328228</td>\n",
              "      <td>321182</td>\n",
              "    </tr>\n",
              "  </tbody>\n",
              "</table>\n",
              "</div>\n",
              "      <button class=\"colab-df-convert\" onclick=\"convertToInteractive('df-306932fd-70ea-4dc7-8a6f-e7e1721c5dec')\"\n",
              "              title=\"Convert this dataframe to an interactive table.\"\n",
              "              style=\"display:none;\">\n",
              "        \n",
              "  <svg xmlns=\"http://www.w3.org/2000/svg\" height=\"24px\"viewBox=\"0 0 24 24\"\n",
              "       width=\"24px\">\n",
              "    <path d=\"M0 0h24v24H0V0z\" fill=\"none\"/>\n",
              "    <path d=\"M18.56 5.44l.94 2.06.94-2.06 2.06-.94-2.06-.94-.94-2.06-.94 2.06-2.06.94zm-11 1L8.5 8.5l.94-2.06 2.06-.94-2.06-.94L8.5 2.5l-.94 2.06-2.06.94zm10 10l.94 2.06.94-2.06 2.06-.94-2.06-.94-.94-2.06-.94 2.06-2.06.94z\"/><path d=\"M17.41 7.96l-1.37-1.37c-.4-.4-.92-.59-1.43-.59-.52 0-1.04.2-1.43.59L10.3 9.45l-7.72 7.72c-.78.78-.78 2.05 0 2.83L4 21.41c.39.39.9.59 1.41.59.51 0 1.02-.2 1.41-.59l7.78-7.78 2.81-2.81c.8-.78.8-2.07 0-2.86zM5.41 20L4 18.59l7.72-7.72 1.47 1.35L5.41 20z\"/>\n",
              "  </svg>\n",
              "      </button>\n",
              "      \n",
              "  <style>\n",
              "    .colab-df-container {\n",
              "      display:flex;\n",
              "      flex-wrap:wrap;\n",
              "      gap: 12px;\n",
              "    }\n",
              "\n",
              "    .colab-df-convert {\n",
              "      background-color: #E8F0FE;\n",
              "      border: none;\n",
              "      border-radius: 50%;\n",
              "      cursor: pointer;\n",
              "      display: none;\n",
              "      fill: #1967D2;\n",
              "      height: 32px;\n",
              "      padding: 0 0 0 0;\n",
              "      width: 32px;\n",
              "    }\n",
              "\n",
              "    .colab-df-convert:hover {\n",
              "      background-color: #E2EBFA;\n",
              "      box-shadow: 0px 1px 2px rgba(60, 64, 67, 0.3), 0px 1px 3px 1px rgba(60, 64, 67, 0.15);\n",
              "      fill: #174EA6;\n",
              "    }\n",
              "\n",
              "    [theme=dark] .colab-df-convert {\n",
              "      background-color: #3B4455;\n",
              "      fill: #D2E3FC;\n",
              "    }\n",
              "\n",
              "    [theme=dark] .colab-df-convert:hover {\n",
              "      background-color: #434B5C;\n",
              "      box-shadow: 0px 1px 3px 1px rgba(0, 0, 0, 0.15);\n",
              "      filter: drop-shadow(0px 1px 2px rgba(0, 0, 0, 0.3));\n",
              "      fill: #FFFFFF;\n",
              "    }\n",
              "  </style>\n",
              "\n",
              "      <script>\n",
              "        const buttonEl =\n",
              "          document.querySelector('#df-306932fd-70ea-4dc7-8a6f-e7e1721c5dec button.colab-df-convert');\n",
              "        buttonEl.style.display =\n",
              "          google.colab.kernel.accessAllowed ? 'block' : 'none';\n",
              "\n",
              "        async function convertToInteractive(key) {\n",
              "          const element = document.querySelector('#df-306932fd-70ea-4dc7-8a6f-e7e1721c5dec');\n",
              "          const dataTable =\n",
              "            await google.colab.kernel.invokeFunction('convertToInteractive',\n",
              "                                                     [key], {});\n",
              "          if (!dataTable) return;\n",
              "\n",
              "          const docLinkHtml = 'Like what you see? Visit the ' +\n",
              "            '<a target=\"_blank\" href=https://colab.research.google.com/notebooks/data_table.ipynb>data table notebook</a>'\n",
              "            + ' to learn more about interactive tables.';\n",
              "          element.innerHTML = '';\n",
              "          dataTable['output_type'] = 'display_data';\n",
              "          await google.colab.output.renderOutput(dataTable, element);\n",
              "          const docLink = document.createElement('div');\n",
              "          docLink.innerHTML = docLinkHtml;\n",
              "          element.appendChild(docLink);\n",
              "        }\n",
              "      </script>\n",
              "    </div>\n",
              "  </div>\n",
              "  "
            ],
            "text/plain": [
              "   전출지별   전입지별      1970      1971  ...      2014      2015      2016      2017\n",
              "0  전출지별   전입지별  이동자수 (명)  이동자수 (명)  ...  이동자수 (명)  이동자수 (명)  이동자수 (명)  이동자수 (명)\n",
              "1    전국     전국   4046536   4210164  ...   7629098   7755286   7378430   7154226\n",
              "2   NaN  서울특별시   1742813   1671705  ...   1573594   1589431   1515602   1472937\n",
              "3   NaN  부산광역시    448577    389797  ...    485710    507031    459015    439073\n",
              "4   NaN  대구광역시         -         -  ...    350213    351424    328228    321182\n",
              "\n",
              "[5 rows x 50 columns]"
            ]
          },
          "metadata": {},
          "execution_count": 16
        }
      ]
    },
    {
      "cell_type": "markdown",
      "source": [
        "- '전출지별' 열에는 누락 데이터(NaN) 다수 존재\n",
        " - Excel 파일에서 병합된 셀을 데이터프레임으로 변환할 떄 적절한 값을 찾지 못해 발생\n",
        " - method='ffill' 옵션을 사용하여 누락 데이터가 있는 행의 바로 앞에 위치한 데이터 값으로 채움\n",
        " - 3행의 NaN 값을 2행의 데이터('전국')로 대체 가능\n",
        "\n",
        " 서울-> 다른 지역 조건\n",
        " 1. method='ffill'\n",
        " 2. 서울에서 다른 지역으로 이동한 데이터만 추출(A열은 서울, B열은 서울 X)\n",
        " 3. 전출지별 열 제거\n",
        " 4. 전입자별 -> 전입지\n",
        " 5. 전입지를 행 인덱스로 지정\n"
      ],
      "metadata": {
        "id": "FZIWkXxFKdMY"
      }
    },
    {
      "cell_type": "markdown",
      "source": [
        "선 그래프 예제(파일 읽어오기, 데이터 추출)"
      ],
      "metadata": {
        "id": "zFmCb-fAU1rP"
      }
    },
    {
      "cell_type": "code",
      "source": [
        "import pandas as pd\n",
        "\n",
        "#데이터 시각화에 사용할 matplotlib.pyplot 모듈을 import\n",
        "import matplotlib.pyplot as plt\n",
        "\n",
        "#Excel 데이터를 데이터프레임 변환\n",
        "#첫 열을 헤더로 사용\n",
        "df=pd.read_excel('./시도별 전출입 인구수.xlsx', engine='openpyxl', header=0)\n",
        "\n",
        "#누락값(NaN)을 앞 데이터로 채움\n",
        "df=df.fillna(method='ffill')\n",
        "\n",
        "#서울에서 다른 지역으로 이동한 데이터만 추출\n",
        "mask=(df['전출지별']=='서울특별시')&(df['전입지별']!='서울특별시')\n",
        "df_seoul=df[mask]\n",
        "df_seoul=df_seoul.drop(['전출지별'],axis=1)\n",
        "df_seoul.rename({'전입지별':'전입지'},axis=1, inplace=True)\n",
        "df_seoul.set_index('전입지', inplace=True)\n",
        "\n",
        "print(df_seoul)"
      ],
      "metadata": {
        "colab": {
          "base_uri": "https://localhost:8080/"
        },
        "id": "TRiEpsXcOGUF",
        "outputId": "cc5a5c34-9a1a-4642-acf1-2f8683aa1b7f"
      },
      "execution_count": null,
      "outputs": [
        {
          "output_type": "stream",
          "name": "stdout",
          "text": [
            "            1970     1971     1972     1973  ...     2014     2015     2016     2017\n",
            "전입지                                          ...                                    \n",
            "전국       1448985  1419016  1210559  1647268  ...  1661425  1726687  1655859  1571423\n",
            "부산광역시      11568    11130    11768    16307  ...    17320    17009    15062    14484\n",
            "대구광역시          -        -        -        -  ...    10062    10191     9623     8891\n",
            "인천광역시          -        -        -        -  ...    43212    44915    43745    40485\n",
            "광주광역시          -        -        -        -  ...     9759     9216     8354     7932\n",
            "대전광역시          -        -        -        -  ...    13403    13453    12619    11815\n",
            "울산광역시          -        -        -        -  ...     6047     5950     5102     4260\n",
            "세종특별자치시        -        -        -        -  ...     6481     7550     5943     5813\n",
            "경기도       130149   150313    93333   143234  ...   332785   359337   370760   342433\n",
            "강원도         9352    12885    13561    16481  ...    21173    22659    21590    21016\n",
            "충청북도        6700     9457    10853    12617  ...    14244    14379    14087    13302\n",
            "충청남도       15954    18943    23406    27139  ...    21473    22299    21741    21020\n",
            "전라북도       10814    13192    16583    18642  ...    14566    14835    13835    13179\n",
            "전라남도       10513    16755    20157    22160  ...    14591    14598    13065    12426\n",
            "경상북도       11868    16459    22073    27531  ...    14456    15113    14236    12464\n",
            "경상남도        8409    10001    11263    15193  ...    14799    15220    13717    12692\n",
            "제주특별자치도     1039     1325     1617     2456  ...     9031    10434    10465    10404\n",
            "\n",
            "[17 rows x 48 columns]\n"
          ]
        }
      ]
    },
    {
      "cell_type": "markdown",
      "source": [
        "선 그래프 예제(서울 -> 경기)"
      ],
      "metadata": {
        "id": "WTx_0T95U5jm"
      }
    },
    {
      "cell_type": "code",
      "source": [
        "#서울 -> 경기\n",
        "import pandas as pd\n",
        "\n",
        "#데이터 시각화에 사용할 matplotlib.pyplot 모듈을 import\n",
        "import matplotlib.pyplot as plt\n",
        "\n",
        "#Excel 데이터를 데이터프레임 변환\n",
        "#첫 열을 헤더로 사용\n",
        "df=pd.read_excel('./시도별 전출입 인구수.xlsx', engine='openpyxl', header=0)\n",
        "\n",
        "#누락값(NaN)을 앞 데이터로 채움\n",
        "df=df.fillna(method='ffill')\n",
        "\n",
        "#서울에서 다른 지역으로 이동한 데이터만 추출\n",
        "mask=(df['전출지별']=='서울특별시')&(df['전입지별']!='서울특별시')\n",
        "df_seoul=df[mask]\n",
        "df_seoul=df_seoul.drop(['전출지별'],axis=1)\n",
        "df_seoul.rename({'전입지별':'전입지'},axis=1, inplace=True)\n",
        "df_seoul.set_index('전입지', inplace=True)\n",
        "\n",
        "#서울에서 경기도로 이동한 인구 데이터 값만 선택\n",
        "dt_g=df_seoul.loc['경기도']\n",
        "dt_g.head()"
      ],
      "metadata": {
        "colab": {
          "base_uri": "https://localhost:8080/"
        },
        "id": "abpENYQISP4H",
        "outputId": "c75cc46d-cc11-459b-8cf9-4142de6df811"
      },
      "execution_count": null,
      "outputs": [
        {
          "output_type": "execute_result",
          "data": {
            "text/plain": [
              "1970    130149\n",
              "1971    150313\n",
              "1972     93333\n",
              "1973    143234\n",
              "1974    149045\n",
              "Name: 경기도, dtype: object"
            ]
          },
          "metadata": {},
          "execution_count": 21
        }
      ]
    },
    {
      "cell_type": "markdown",
      "source": [
        "선 그래프 예제(선 그래프 그리기)"
      ],
      "metadata": {
        "id": "9iSaSL8zQuSX"
      }
    },
    {
      "cell_type": "code",
      "source": [
        "#서울 -> 경기\n",
        "import pandas as pd\n",
        "\n",
        "#데이터 시각화에 사용할 matplotlib.pyplot 모듈을 import\n",
        "import matplotlib.pyplot as plt\n",
        "\n",
        "#Excel 데이터를 데이터프레임 변환\n",
        "#첫 열을 헤더로 사용\n",
        "df=pd.read_excel('./시도별 전출입 인구수.xlsx', engine='openpyxl', header=0)\n",
        "\n",
        "#누락값(NaN)을 앞 데이터로 채움\n",
        "df=df.fillna(method='ffill')\n",
        "\n",
        "#서울에서 다른 지역으로 이동한 데이터만 추출\n",
        "mask=(df['전출지별']=='서울특별시')&(df['전입지별']!='서울특별시')\n",
        "df_seoul=df[mask]\n",
        "df_seoul=df_seoul.drop(['전출지별'],axis=1)\n",
        "df_seoul.rename({'전입지별':'전입지'},axis=1, inplace=True)\n",
        "df_seoul.set_index('전입지', inplace=True)\n",
        "\n",
        "#서울에서 경기도로 이동한 인구 데이터 값만 선택\n",
        "dt_g=df_seoul.loc['경기도']\n",
        "\n",
        "#x,y축 데이터를 plot() 함수에 직접 입력\n",
        "#print(plt.plot(dt_g.index, dt_g.values))\n",
        "\n",
        "#판다스 객체를 plot() 함수에 입력\n",
        "print(plt.plot(dt_g))"
      ],
      "metadata": {
        "colab": {
          "base_uri": "https://localhost:8080/",
          "height": 283
        },
        "id": "WycDe1rIUy30",
        "outputId": "fab7597e-b33b-4851-bebc-60b9d8a02abc"
      },
      "execution_count": null,
      "outputs": [
        {
          "output_type": "stream",
          "name": "stdout",
          "text": [
            "[<matplotlib.lines.Line2D object at 0x7f76d6fe7e90>]\n"
          ]
        },
        {
          "output_type": "display_data",
          "data": {
            "image/png": "[encoded data removed]",
            "text/plain": [
              "<Figure size 432x288 with 1 Axes>"
            ]
          },
          "metadata": {
            "needs_background": "light"
          }
        }
      ]
    },
    {
      "cell_type": "markdown",
      "source": [
        "### 차트 제목, 축 이름 추가\n",
        "- 그래프 객체에 차트 제목을 추가할 때는 title() 함수를 사용\n",
        "- x축 이름은 xlabel() 함수 사용\n",
        "- y축 이름은 ylabel() 함수 사용"
      ],
      "metadata": {
        "id": "863jpSunWgPG"
      }
    },
    {
      "cell_type": "markdown",
      "source": [
        "차트 제목, 축 이름 추가 예제"
      ],
      "metadata": {
        "id": "EAPcFNjUXXC7"
      }
    },
    {
      "cell_type": "code",
      "source": [
        "import pandas as pd\n",
        "\n",
        "#데이터 시각화에 사용할 matplotlib.pyplot 모듈을 import\n",
        "import matplotlib.pyplot as plt\n",
        "\n",
        "#Excel 데이터를 데이터프레임 변환\n",
        "#첫 열을 헤더로 사용\n",
        "df=pd.read_excel('./시도별 전출입 인구수.xlsx', engine='openpyxl', header=0)\n",
        "\n",
        "#누락값(NaN)을 앞 데이터로 채움\n",
        "df=df.fillna(method='ffill')\n",
        "\n",
        "#서울에서 다른 지역으로 이동한 데이터만 추출\n",
        "mask=(df['전출지별']=='서울특별시')&(df['전입지별']!='서울특별시')\n",
        "df_seoul=df[mask]\n",
        "df_seoul=df_seoul.drop(['전출지별'],axis=1)\n",
        "df_seoul.rename({'전입지별':'전입지'},axis=1, inplace=True)\n",
        "df_seoul.set_index('전입지', inplace=True)\n",
        "\n",
        "#서울에서 경기도로 이동한 인구 데이터 값만 선택\n",
        "dt_g=df_seoul.loc['경기도']\n",
        "\n",
        "#x,y축 데이터를 plot() 함수에 직접 입력\n",
        "plt.plot(dt_g.index, dt_g.values)\n",
        "\n",
        "#차트 제목 추가\n",
        "plt.title('seoul->Gyeonggi')\n",
        "\n",
        "#축이름 추가\n",
        "plt.xlabel('period')\n",
        "plt.ylabel('moving population')\n",
        "\n",
        "#차트를 시각화\n",
        "plt.show()"
      ],
      "metadata": {
        "colab": {
          "base_uri": "https://localhost:8080/",
          "height": 295
        },
        "id": "ZWRl3YNpXVyn",
        "outputId": "d266dbb5-d912-4587-a7c7-554446e7b9f2"
      },
      "execution_count": null,
      "outputs": [
        {
          "output_type": "display_data",
          "data": {
            "image/png": "[encoded data removed]",
            "text/plain": [
              "<Figure size 432x288 with 1 Axes>"
            ]
          },
          "metadata": {
            "needs_background": "light"
          }
        }
      ]
    },
    {
      "cell_type": "markdown",
      "source": [
        "- plt.plot() 위치와 무관하게 작성 가능"
      ],
      "metadata": {
        "id": "m6ETI7DSjyMK"
      }
    },
    {
      "cell_type": "markdown",
      "source": [
        "### Matplotlib 한글 폰트 문제 해결\n",
        "- Matplotlib은 한글 폰트 지원 X\n",
        "- 파이썬 프로그램의 앞부분에 한글 폰트를 지정하는 코드 추가"
      ],
      "metadata": {
        "id": "fmo38VazcDiZ"
      }
    },
    {
      "cell_type": "markdown",
      "source": [
        "코랩 폰트 문제 해결하기!!\n",
        "https://colab.research.google.com/github/nicewook/datascience_exercise/blob/master/korean_font_on_matplotlib.ipynb#scrollTo=cHmIJJuCXBos\n",
        "\n"
      ],
      "metadata": {
        "id": "TWb5TRJHs4dN"
      }
    },
    {
      "cell_type": "markdown",
      "source": [
        "폰트 오류 해결 예제"
      ],
      "metadata": {
        "id": "YY2PRn4fdHGc"
      }
    },
    {
      "cell_type": "code",
      "source": [
        "from google.colab import files\n",
        "file_uploaded = files.upload()"
      ],
      "metadata": {
        "colab": {
          "resources": {
            "http://localhost:8080/nbextensions/google.colab/files.js": {
              "data": "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",
              "ok": true,
              "headers": [
                [
                  "content-type",
                  "application/javascript"
                ]
              ],
              "status": 200,
              "status_text": ""
            }
          },
          "base_uri": "https://localhost:8080/",
          "height": 130
        },
        "id": "w0QAalIYfUcn",
        "outputId": "6795814d-08ed-4338-95a7-4718c72ce6fe"
      },
      "execution_count": null,
      "outputs": [
        {
          "output_type": "display_data",
          "data": {
            "text/html": [
              "\n",
              "     <input type=\"file\" id=\"files-b99ccb9b-4169-464d-b08a-79e4ccc196d8\" name=\"files[]\" multiple disabled\n",
              "        style=\"border:none\" />\n",
              "     <output id=\"result-b99ccb9b-4169-464d-b08a-79e4ccc196d8\">\n",
              "      Upload widget is only available when the cell has been executed in the\n",
              "      current browser session. Please rerun this cell to enable.\n",
              "      </output>\n",
              "      <script src=\"/nbextensions/google.colab/files.js\"></script> "
            ],
            "text/plain": [
              "<IPython.core.display.HTML object>"
            ]
          },
          "metadata": {}
        },
        {
          "output_type": "stream",
          "name": "stdout",
          "text": [
            "Saving malgun.ttf to malgun.ttf\n",
            "Saving 시도별 전출입 인구수.xlsx to 시도별 전출입 인구수 (1).xlsx\n"
          ]
        }
      ]
    },
    {
      "cell_type": "code",
      "source": [
        "import pandas as pd\n",
        "\n",
        "#데이터 시각화에 사용할 matplotlib.pyplot 모듈을 import\n",
        "import matplotlib.pyplot as plt\n",
        "\n",
        "#matplotlib 한글 폰트 오류 문제 해결\n",
        "#font_manager는 경로와 이름을 가지고 폰트를 지정\n",
        "#rc는 폰트를 적용\n",
        "from matplotlib import font_manager, rc\n",
        "font_path=\"./malgun.ttf\"\n",
        "font_name=font_manager.FontProperties(fname=font_path).get_name()\n",
        "rc('font',family=font_name)\n",
        "font_manager._rebuild()\n",
        "\n",
        "#Excel 데이터를 데이터프레임 변환\n",
        "#첫 열을 헤더로 사용\n",
        "df=pd.read_excel('./시도별 전출입 인구수.xlsx', engine='openpyxl', header=0)\n",
        "\n",
        "#누락값(NaN)을 앞 데이터로 채움\n",
        "df=df.fillna(method='ffill')\n",
        "\n",
        "#서울에서 다른 지역으로 이동한 데이터만 추출\n",
        "mask=(df['전출지별']=='서울특별시')&(df['전입지별']!='서울특별시')\n",
        "df_seoul=df[mask]\n",
        "df_seoul=df_seoul.drop(['전출지별'],axis=1)\n",
        "df_seoul.rename({'전입지별':'전입지'},axis=1, inplace=True)\n",
        "df_seoul.set_index('전입지', inplace=True)\n",
        "\n",
        "#서울에서 경기도로 이동한 인구 데이터 값만 선택\n",
        "dt_g=df_seoul.loc['경기도']\n",
        "\n",
        "#x,y축 데이터를 plot() 함수에 직접 입력\n",
        "plt.plot(dt_g.index, dt_g.values)\n",
        "\n",
        "#차트 제목 추가\n",
        "plt.title('서울 -> 경기 인구 이동')\n",
        "\n",
        "#축이름 추가\n",
        "plt.xlabel('기간')\n",
        "plt.ylabel('이동 인구수')\n",
        "\n",
        "#차트를 시각화\n",
        "plt.show()"
      ],
      "metadata": {
        "colab": {
          "base_uri": "https://localhost:8080/",
          "height": 1000
        },
        "id": "Be1THagwcDzQ",
        "outputId": "ee2cfa25-4475-4f4c-9888-9a262f142c9c"
      },
      "execution_count": null,
      "outputs": [
        {
          "output_type": "stream",
          "name": "stderr",
          "text": [
            "findfont: Font family ['Malgun Gothic'] not found. Falling back to DejaVu Sans.\n",
            "/usr/local/lib/python3.7/dist-packages/matplotlib/backends/backend_agg.py:214: RuntimeWarning: Glyph 49436 missing from current font.\n",
            "  font.set_text(s, 0.0, flags=flags)\n",
            "/usr/local/lib/python3.7/dist-packages/matplotlib/backends/backend_agg.py:214: RuntimeWarning: Glyph 50872 missing from current font.\n",
            "  font.set_text(s, 0.0, flags=flags)\n",
            "/usr/local/lib/python3.7/dist-packages/matplotlib/backends/backend_agg.py:214: RuntimeWarning: Glyph 44221 missing from current font.\n",
            "  font.set_text(s, 0.0, flags=flags)\n",
            "/usr/local/lib/python3.7/dist-packages/matplotlib/backends/backend_agg.py:214: RuntimeWarning: Glyph 44592 missing from current font.\n",
            "  font.set_text(s, 0.0, flags=flags)\n",
            "/usr/local/lib/python3.7/dist-packages/matplotlib/backends/backend_agg.py:214: RuntimeWarning: Glyph 51064 missing from current font.\n",
            "  font.set_text(s, 0.0, flags=flags)\n",
            "/usr/local/lib/python3.7/dist-packages/matplotlib/backends/backend_agg.py:214: RuntimeWarning: Glyph 44396 missing from current font.\n",
            "  font.set_text(s, 0.0, flags=flags)\n",
            "/usr/local/lib/python3.7/dist-packages/matplotlib/backends/backend_agg.py:214: RuntimeWarning: Glyph 51060 missing from current font.\n",
            "  font.set_text(s, 0.0, flags=flags)\n",
            "/usr/local/lib/python3.7/dist-packages/matplotlib/backends/backend_agg.py:214: RuntimeWarning: Glyph 46041 missing from current font.\n",
            "  font.set_text(s, 0.0, flags=flags)\n",
            "/usr/local/lib/python3.7/dist-packages/matplotlib/backends/backend_agg.py:214: RuntimeWarning: Glyph 44036 missing from current font.\n",
            "  font.set_text(s, 0.0, flags=flags)\n",
            "/usr/local/lib/python3.7/dist-packages/matplotlib/backends/backend_agg.py:214: RuntimeWarning: Glyph 49688 missing from current font.\n",
            "  font.set_text(s, 0.0, flags=flags)\n",
            "/usr/local/lib/python3.7/dist-packages/matplotlib/backends/backend_agg.py:183: RuntimeWarning: Glyph 44592 missing from current font.\n",
            "  font.set_text(s, 0, flags=flags)\n",
            "/usr/local/lib/python3.7/dist-packages/matplotlib/backends/backend_agg.py:183: RuntimeWarning: Glyph 44036 missing from current font.\n",
            "  font.set_text(s, 0, flags=flags)\n",
            "/usr/local/lib/python3.7/dist-packages/matplotlib/backends/backend_agg.py:183: RuntimeWarning: Glyph 51060 missing from current font.\n",
            "  font.set_text(s, 0, flags=flags)\n",
            "/usr/local/lib/python3.7/dist-packages/matplotlib/backends/backend_agg.py:183: RuntimeWarning: Glyph 46041 missing from current font.\n",
            "  font.set_text(s, 0, flags=flags)\n",
            "/usr/local/lib/python3.7/dist-packages/matplotlib/backends/backend_agg.py:183: RuntimeWarning: Glyph 51064 missing from current font.\n",
            "  font.set_text(s, 0, flags=flags)\n",
            "/usr/local/lib/python3.7/dist-packages/matplotlib/backends/backend_agg.py:183: RuntimeWarning: Glyph 44396 missing from current font.\n",
            "  font.set_text(s, 0, flags=flags)\n",
            "/usr/local/lib/python3.7/dist-packages/matplotlib/backends/backend_agg.py:183: RuntimeWarning: Glyph 49688 missing from current font.\n",
            "  font.set_text(s, 0, flags=flags)\n",
            "/usr/local/lib/python3.7/dist-packages/matplotlib/backends/backend_agg.py:183: RuntimeWarning: Glyph 49436 missing from current font.\n",
            "  font.set_text(s, 0, flags=flags)\n",
            "/usr/local/lib/python3.7/dist-packages/matplotlib/backends/backend_agg.py:183: RuntimeWarning: Glyph 50872 missing from current font.\n",
            "  font.set_text(s, 0, flags=flags)\n",
            "/usr/local/lib/python3.7/dist-packages/matplotlib/backends/backend_agg.py:183: RuntimeWarning: Glyph 44221 missing from current font.\n",
            "  font.set_text(s, 0, flags=flags)\n"
          ]
        },
        {
          "output_type": "display_data",
          "data": {
            "image/png": "[encoded data removed]",
            "text/plain": [
              "<Figure size 432x288 with 1 Axes>"
            ]
          },
          "metadata": {}
        }
      ]
    },
    {
      "cell_type": "markdown",
      "source": [
        "### 그래프 꾸미기\n",
        "x축 눈금 라벨의 글씨가 서로 겹쳐 잘 보이지 않는 문제를 해결\n",
        "- 눈금 라벨이 들어갈 만한 충분한 여유 공간이 없기 때문에 발생하는 문제\n",
        "\n",
        "해결 방법 2가지\n",
        "1. 공간을 만들기 위해 figure() 함수를 사용하여 그림들의 가로 사이즈를 더 크게 설정\n",
        "2. xticks() 함수를 사용하여 x축 눈금 라벨을 반시계방향으로 90도 회전하여 글씨가 겹치지 않게 하기"
      ],
      "metadata": {
        "id": "IKPhetVdgNvc"
      }
    },
    {
      "cell_type": "code",
      "source": [
        "import pandas as pd\n",
        "\n",
        "#데이터 시각화에 사용할 matplotlib.pyplot 모듈을 import\n",
        "import matplotlib.pyplot as plt\n",
        "\n",
        "#matplotlib 한글 폰트 오류 문제 해결\n",
        "#font_manager는 경로와 이름을 가지고 폰트를 지정\n",
        "#rc는 폰트를 적용\n",
        "from matplotlib import font_manager, rc\n",
        "font_path=\"./malgun.ttf\"\n",
        "font_name=font_manager.FontProperties(fname=font_path).get_name()\n",
        "rc('font',family=font_name)\n",
        "\n",
        "#Excel 데이터를 데이터프레임 변환\n",
        "#첫 열을 헤더로 사용\n",
        "df=pd.read_excel('./시도별 전출입 인구수.xlsx', engine='openpyxl', header=0)\n",
        "\n",
        "#누락값(NaN)을 앞 데이터로 채움\n",
        "df=df.fillna(method='ffill')\n",
        "\n",
        "#서울에서 다른 지역으로 이동한 데이터만 추출\n",
        "mask=(df['전출지별']=='서울특별시')&(df['전입지별']!='서울특별시')\n",
        "df_seoul=df[mask]\n",
        "df_seoul=df_seoul.drop(['전출지별'],axis=1)\n",
        "df_seoul.rename({'전입지별':'전입지'},axis=1, inplace=True)\n",
        "df_seoul.set_index('전입지', inplace=True)\n",
        "\n",
        "#서울에서 경기도로 이동한 인구 데이터 값만 선택\n",
        "dt_g=df_seoul.loc['경기도']\n",
        "\n",
        "#그림 사이즈를 지정(가로 14인치, 세로 5인치)\n",
        "plt.figure(figsize=(14,5))\n",
        "\n",
        "#x축 눈금 라벨 회전\n",
        "#plt.xticks(rotation=90)\n",
        "plt.xticks(rotation='vertical')\n",
        "\n",
        "#x,y축 데이터를 plot() 함수에 직접 입력\n",
        "plt.plot(dt_g.index, dt_g.values)\n",
        "\n",
        "#차트 제목 추가\n",
        "plt.title('seoul->Gyeonggi')\n",
        "\n",
        "#축이름 추가\n",
        "plt.xlabel('period')\n",
        "plt.ylabel('moving population')\n",
        "\n",
        "#차트를 시각화\n",
        "plt.show()"
      ],
      "metadata": {
        "colab": {
          "base_uri": "https://localhost:8080/",
          "height": 349
        },
        "id": "NjyM6Zewg7_Y",
        "outputId": "b6e67f23-bf58-4fcf-b59f-20955553ba08"
      },
      "execution_count": null,
      "outputs": [
        {
          "output_type": "display_data",
          "data": {
            "image/png": "[encoded data removed]",
            "text/plain": [
              "<Figure size 1008x360 with 1 Axes>"
            ]
          },
          "metadata": {
            "needs_background": "light"
          }
        }
      ]
    },
    {
      "cell_type": "markdown",
      "source": [
        "- 글씨를 회전하기 위해 사용한 rotation='vertical' 옵션에 'vertical' 대신 각도를 나타내는 숫자를 입력해도 됨\n",
        " - ex) rotation=90 -> 반시계 방향으로 90도 회전"
      ],
      "metadata": {
        "id": "hM19nE4Liexm"
      }
    },
    {
      "cell_type": "markdown",
      "source": [
        "### Matplotlib의 스타일 서식 지정\n",
        "- 색, 스타일 등 디자인적 요소를 사전에 지정된 스타일로 빠르게 변경 가능\n",
        " - 스타일 서식을 지정하는 것은 Matplotlib 실행 환경 설정을 변경하는 것이므로 다른 파일을 실행할 때도 계속 적용되는 점 유의\n",
        " - 예제에서는 'ggplot'이라는 스타일 서식 지정\n",
        " - x축 눈금 라벨을 지정하는 xticks() 함수에 size=10 옵션을 추가하여 폰트 크기를 10으로 설정\n",
        " - plot() 함수에 marker='o'옵션을 추가하면 원 모양의 점을 마커로 표시"
      ],
      "metadata": {
        "id": "hTEqlKUlk9cg"
      }
    },
    {
      "cell_type": "markdown",
      "source": [
        "스타일 서식 지정 예제"
      ],
      "metadata": {
        "id": "K9hAFsODqXzr"
      }
    },
    {
      "cell_type": "code",
      "source": [
        "import pandas as pd\n",
        "\n",
        "#데이터 시각화에 사용할 matplotlib.pyplot 모듈을 import\n",
        "import matplotlib.pyplot as plt\n",
        "\n",
        "#matplotlib 한글 폰트 오류 문제 해결\n",
        "#font_manager는 경로와 이름을 가지고 폰트를 지정\n",
        "#rc는 폰트를 적용\n",
        "from matplotlib import font_manager, rc\n",
        "font_path=\"./malgun.ttf\"\n",
        "font_name=font_manager.FontProperties(fname=font_path).get_name()\n",
        "rc('font',family=font_name)\n",
        "\n",
        "#Excel 데이터를 데이터프레임 변환\n",
        "#첫 열을 헤더로 사용\n",
        "df=pd.read_excel('./시도별 전출입 인구수.xlsx', engine='openpyxl', header=0)\n",
        "\n",
        "#누락값(NaN)을 앞 데이터로 채움\n",
        "df=df.fillna(method='ffill')\n",
        "\n",
        "#서울에서 다른 지역으로 이동한 데이터만 추출\n",
        "mask=(df['전출지별']=='서울특별시')&(df['전입지별']!='서울특별시')\n",
        "df_seoul=df[mask]\n",
        "df_seoul=df_seoul.drop(['전출지별'],axis=1)\n",
        "df_seoul.rename({'전입지별':'전입지'},axis=1, inplace=True)\n",
        "df_seoul.set_index('전입지', inplace=True)\n",
        "\n",
        "#서울에서 경기도로 이동한 인구 데이터 값만 선택\n",
        "dt_g=df_seoul.loc['경기도']\n",
        "\n",
        "#스타일 서식 지정\n",
        "plt.style.use('ggplot')\n",
        "\n",
        "#그림 사이즈를 지정(가로 14인치, 세로 5인치)\n",
        "plt.figure(figsize=(14,5))\n",
        "\n",
        "#x축 눈금 라벨 회전\n",
        "#plt.xticks(rotation=90)\n",
        "plt.xticks(rotation='vertical')\n",
        "\n",
        "#x,y축 데이터를 plot() 함수에 직접 입력\n",
        "plt.plot(dt_g.index, dt_g.values, marker='o', markersize=10) #마커표시 추가\n",
        "\n",
        "#차트 제목 추가\n",
        "plt.title('Seoul->Gyeonggi', size=30)\n",
        "\n",
        "#축이름 추가\n",
        "plt.xlabel('period',size=20)\n",
        "plt.ylabel('moving population',size=20)\n",
        "\n",
        "#범례 추가\n",
        "plt.legend(labels=['Seoul -> Gyeonggi'], loc='best',fontsize=15)\n",
        "\n",
        "#차트를 시각화\n",
        "plt.show()"
      ],
      "metadata": {
        "colab": {
          "base_uri": "https://localhost:8080/",
          "height": 366
        },
        "id": "ptYfpiBvjGoc",
        "outputId": "73a9fb0c-9a4c-4310-ed80-9dcae5895ff9"
      },
      "execution_count": null,
      "outputs": [
        {
          "output_type": "display_data",
          "data": {
            "image/png": "[encoded data removed]",
            "text/plain": [
              "<Figure size 1008x360 with 1 Axes>"
            ]
          },
          "metadata": {}
        }
      ]
    },
    {
      "cell_type": "markdown",
      "source": [
        "스타일 서식을 지정하는 것은 Matplotlib 실행 환경 설정을 변경하는 것이므로 다른 파일을 실행할 때도 계속 적용되는 점 유의"
      ],
      "metadata": {
        "id": "Jj0FRn__seMH"
      }
    },
    {
      "cell_type": "code",
      "source": [
        "x=[1,2,3,4,5]\n",
        "y=[6,7,8,9,10]\n",
        "plt.plot(x,y)\n",
        "plt.show()"
      ],
      "metadata": {
        "colab": {
          "base_uri": "https://localhost:8080/",
          "height": 265
        },
        "id": "Gvh6y1ZTsmDw",
        "outputId": "043e1c95-aff9-4186-ea1d-365c80e468ac"
      },
      "execution_count": null,
      "outputs": [
        {
          "output_type": "display_data",
          "data": {
            "image/png": "[encoded data removed]",
            "text/plain": [
              "<Figure size 432x288 with 1 Axes>"
            ]
          },
          "metadata": {}
        }
      ]
    },
    {
      "cell_type": "markdown",
      "source": [
        "- 앞의 코드에서 스타일 서식을 지정할 경우 다음 코드에 전에 지정해놓은 스타일 서식 그대로 지정됨"
      ],
      "metadata": {
        "id": "ttlm7s0muMwU"
      }
    },
    {
      "cell_type": "markdown",
      "source": [
        "**Matplotlib 스타일 서식 종류**\n",
        "- default, classic, bmh, dark_background, fast, grayscale, seaborn 등"
      ],
      "metadata": {
        "id": "5bFt65mRuULp"
      }
    },
    {
      "cell_type": "code",
      "source": [
        ""
      ],
      "metadata": {
        "id": "ezxmuPm5tVD9"
      },
      "execution_count": null,
      "outputs": []
    }
  ]
}