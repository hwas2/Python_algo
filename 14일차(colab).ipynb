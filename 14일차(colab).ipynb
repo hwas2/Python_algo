{
  "cells": [
    {
      "cell_type": "markdown",
      "metadata": {
        "id": "view-in-github",
        "colab_type": "text"
      },
      "source": [
        "<a href=\"https://colab.research.google.com/github/hwas2/Python_study/blob/master/14%EC%9D%BC%EC%B0%A8(colab).ipynb\" target=\"_parent\"><img src=\"https://colab.research.google.com/assets/colab-badge.svg\" alt=\"Open In Colab\"/></a>"
      ]
    },
    {
      "cell_type": "markdown",
      "id": "4384cb7c",
      "metadata": {
        "id": "4384cb7c"
      },
      "source": [
        "## 인덱스 활용\n",
        "특정 열을 행 인덱스로 설정\n",
        "- set_index() 함수를 사용하여 데이터프레임의 특정 열을 행 인덱스로 설정"
      ]
    },
    {
      "cell_type": "markdown",
      "id": "282bc92e",
      "metadata": {
        "id": "282bc92e"
      },
      "source": [
        "특정 열을 행 인덱스로 설정하는 예제"
      ]
    },
    {
      "cell_type": "code",
      "execution_count": null,
      "id": "5132efc6",
      "metadata": {
        "id": "5132efc6",
        "outputId": "d8f61c9c-3110-46cc-c01c-d755940c8042"
      },
      "outputs": [
        {
          "name": "stdout",
          "output_type": "stream",
          "text": [
            "   이름  국어  수학   영어   음악\n",
            "0  린하  70  90  100   70\n",
            "1  인서  90  85   80   90\n",
            "2  광열  80  80   90  100\n"
          ]
        }
      ],
      "source": [
        "import pandas as pd\n",
        "\n",
        "exam_data={'이름':['린하','인서','광열'],\n",
        "           '국어':[70,90,80],'수학':[90,85,80],'영어':[100,80,90],'음악':[70,90,100]}\n",
        "df=pd.DataFrame(exam_data)\n",
        "print(df)"
      ]
    },
    {
      "cell_type": "code",
      "execution_count": null,
      "id": "e6abf02e",
      "metadata": {
        "id": "e6abf02e",
        "outputId": "b3bb3358-c339-44d6-8c23-27dde7570acd"
      },
      "outputs": [
        {
          "name": "stdout",
          "output_type": "stream",
          "text": [
            "    국어  수학   영어   음악\n",
            "이름                  \n",
            "린하  70  90  100   70\n",
            "인서  90  85   80   90\n",
            "광열  80  80   90  100\n"
          ]
        }
      ],
      "source": [
        "#특정 열을 데이터프레임의 행 인덱스로 설정\n",
        "ndf=df.set_index('이름')\n",
        "print(ndf)"
      ]
    },
    {
      "cell_type": "code",
      "execution_count": null,
      "id": "db07a1d7",
      "metadata": {
        "id": "db07a1d7",
        "outputId": "be63f776-0999-4544-aafa-0a0f1ce25076"
      },
      "outputs": [
        {
          "name": "stdout",
          "output_type": "stream",
          "text": [
            "     국어  수학   영어\n",
            "음악              \n",
            "70   70  90  100\n",
            "90   90  85   80\n",
            "100  80  80   90\n"
          ]
        }
      ],
      "source": [
        "#특정 열을 데이터프레임의 행 인덱스로 설정\n",
        "ndf2=ndf.set_index('음악')\n",
        "print(ndf2)"
      ]
    },
    {
      "cell_type": "markdown",
      "id": "7f3ff2cd",
      "metadata": {
        "id": "7f3ff2cd"
      },
      "source": [
        "- 기존 \"이름\"행 인덱스는 제거가 된 것으로 확인"
      ]
    },
    {
      "cell_type": "code",
      "execution_count": null,
      "id": "c0c5f8c4",
      "metadata": {
        "scrolled": true,
        "id": "c0c5f8c4",
        "outputId": "9aea9e76-79fb-48fd-b89b-058cae4d279a"
      },
      "outputs": [
        {
          "name": "stdout",
          "output_type": "stream",
          "text": [
            "    음악  국어  수학   영어\n",
            "0   70  70  90  100\n",
            "1   90  90  85   80\n",
            "2  100  80  80   90\n"
          ]
        }
      ],
      "source": [
        "#행 인덱스를 리셋\n",
        "ndf3=ndf2.reset_index('음악')\n",
        "print(ndf3)"
      ]
    },
    {
      "cell_type": "markdown",
      "id": "008d609c",
      "metadata": {
        "id": "008d609c"
      },
      "source": [
        "- 행 인덱스를 리셋해주어도 전에 지정해놓았던 행 인덱스가 다시 적용되지는 않음"
      ]
    },
    {
      "cell_type": "code",
      "execution_count": null,
      "id": "204cb287",
      "metadata": {
        "id": "204cb287",
        "outputId": "09a18cd0-1750-4dd9-cf70-47caf5be9372"
      },
      "outputs": [
        {
          "name": "stdout",
          "output_type": "stream",
          "text": [
            "        국어   음악\n",
            "수학 영어          \n",
            "90 100  70   70\n",
            "85 80   90   90\n",
            "80 90   80  100\n"
          ]
        }
      ],
      "source": [
        "#특정 열 2개를 데이터프레임의 행 인덱스로 설정\n",
        "ndf4=ndf.set_index(['수학','영어'])\n",
        "print(ndf4)"
      ]
    },
    {
      "cell_type": "markdown",
      "id": "b334d6db",
      "metadata": {
        "id": "b334d6db"
      },
      "source": [
        "- 두 개의 열을 행 인덱스로 지정 가능"
      ]
    },
    {
      "cell_type": "markdown",
      "id": "f767143f",
      "metadata": {
        "id": "f767143f"
      },
      "source": [
        "행 인덱스 재배열\n",
        "- reindex() 함수를 사용하여 데이터프레임의 행 인덱스를 새로운 배열로 재지정 가능\n",
        "<code> 새로운 배열로 행 인덱스 재지정 : DataFrame 객체.reindex()</code><br><br>\n",
        "- 기존 데이터프레임에 존재하지 않는 행 인덱스가 새로 추가되는 경우 해당 행의 데이터 값은 NaN값이 입력됨"
      ]
    },
    {
      "cell_type": "markdown",
      "id": "f4d259b8",
      "metadata": {
        "id": "f4d259b8"
      },
      "source": [
        "새로운 배열로 행 인덱스 재지정 예제"
      ]
    },
    {
      "cell_type": "code",
      "execution_count": null,
      "id": "ef675f5b",
      "metadata": {
        "id": "ef675f5b",
        "outputId": "81fa9abc-a42d-4557-dfdb-55523810bcd2"
      },
      "outputs": [
        {
          "name": "stdout",
          "output_type": "stream",
          "text": [
            "    c0  c1  c2  c3  c4\n",
            "r0   1   4   7  10  13\n",
            "r1   2   5   8  11  14\n",
            "r2   3   6   9  12  15\n"
          ]
        }
      ],
      "source": [
        "#판다스 import\n",
        "import pandas as pd\n",
        "\n",
        "#key:value를 쌍으로 갖는 딕셔너리를 생성, 변수 dict_data에 저장\n",
        "dict_data={'c0':[1,2,3], 'c1':[4,5,6], 'c2':[7,8,9], 'c3':[10,11,12], 'c4':[13,14,15]}\n",
        "\n",
        "#판다스 DataFrame() 함수로 딕셔너리를 데이터프레임로 변환, 변수 df에 저장\n",
        "df=pd.DataFrame(dict_data, index=['r0','r1','r2'])\n",
        "\n",
        "print(df)"
      ]
    },
    {
      "cell_type": "code",
      "execution_count": null,
      "id": "8ca36a2f",
      "metadata": {
        "id": "8ca36a2f",
        "outputId": "3d878d1e-ff83-43c4-bfc7-00bd8e97b00c"
      },
      "outputs": [
        {
          "name": "stdout",
          "output_type": "stream",
          "text": [
            "    c0  c1  c2  c3  c4\n",
            "r0   1   4   7  10  13\n",
            "r1   2   5   8  11  14\n"
          ]
        }
      ],
      "source": [
        "#행 인덱스 재배열로 사용될 변수를 지정\n",
        "new_index=['r0','r1']\n",
        "new_index2=['r3','r4','r5']\n",
        "new_index3=['r0','r1','r2','r3','r4']\n",
        "\n",
        "#행 인덱스를 ['r0','r1']로 재지정\n",
        "ndf=df.reindex(new_index)\n",
        "print(ndf)"
      ]
    },
    {
      "cell_type": "code",
      "execution_count": null,
      "id": "24d433a1",
      "metadata": {
        "id": "24d433a1",
        "outputId": "f8b23a59-79aa-4543-dea9-b9a445d85d51"
      },
      "outputs": [
        {
          "name": "stdout",
          "output_type": "stream",
          "text": [
            "    c0  c1  c2  c3  c4\n",
            "r3 NaN NaN NaN NaN NaN\n",
            "r4 NaN NaN NaN NaN NaN\n",
            "r5 NaN NaN NaN NaN NaN\n"
          ]
        }
      ],
      "source": [
        "#행 인덱스를 ['r3','r4','r5']로 재지정\n",
        "ndf2=df.reindex(new_index2)\n",
        "print(ndf2)"
      ]
    },
    {
      "cell_type": "markdown",
      "id": "a0a821fd",
      "metadata": {
        "id": "a0a821fd"
      },
      "source": [
        "- 새로운 행 인덱스로 재지정 할 경우 원소 값이 없으므로 NAN이 표기됨"
      ]
    },
    {
      "cell_type": "code",
      "execution_count": null,
      "id": "62986b19",
      "metadata": {
        "id": "62986b19",
        "outputId": "48c6b95b-9d3d-4292-b71c-dade50b33b85"
      },
      "outputs": [
        {
          "name": "stdout",
          "output_type": "stream",
          "text": [
            "     c0   c1   c2    c3    c4\n",
            "r0  1.0  4.0  7.0  10.0  13.0\n",
            "r1  2.0  5.0  8.0  11.0  14.0\n",
            "r2  3.0  6.0  9.0  12.0  15.0\n",
            "r3  NaN  NaN  NaN   NaN   NaN\n",
            "r4  NaN  NaN  NaN   NaN   NaN\n"
          ]
        }
      ],
      "source": [
        "#행 인덱스를 ['r0','r1','r2','r3','r4']로 재지정\n",
        "ndf3=df.reindex(new_index3)\n",
        "print(ndf3)"
      ]
    },
    {
      "cell_type": "code",
      "execution_count": null,
      "id": "73ac8859",
      "metadata": {
        "id": "73ac8859",
        "outputId": "16d1d5f4-5f39-49e0-a94a-a69a4f4203d4"
      },
      "outputs": [
        {
          "name": "stdout",
          "output_type": "stream",
          "text": [
            "     c2   c1    c4   c0    c3\n",
            "r0  7.0  4.0  13.0  1.0  10.0\n",
            "r1  8.0  5.0  14.0  2.0  11.0\n",
            "r2  9.0  6.0  15.0  3.0  12.0\n",
            "r3  NaN  NaN   NaN  NaN   NaN\n",
            "r4  NaN  NaN   NaN  NaN   NaN\n"
          ]
        }
      ],
      "source": [
        "#열 순서 변경\n",
        "#columns 옵션 사용\n",
        "ndf4=ndf3.reindex(columns=['c2','c1','c4','c0','c3'])\n",
        "print(ndf4)"
      ]
    },
    {
      "cell_type": "markdown",
      "id": "ad681a99",
      "metadata": {
        "id": "ad681a99"
      },
      "source": [
        "행 인덱스 초기화\n",
        "- reset_index() 함수를 활용하여 행 인덱스를 정수형 위치 인덱스로 초기화(기존 행 인덱스는 열로 이동)<br>\n",
        "<code>정수형 위치 인덱스로 초기화: DataFrame 객체.reset_index()"
      ]
    },
    {
      "cell_type": "markdown",
      "id": "8ce468af",
      "metadata": {
        "id": "8ce468af"
      },
      "source": [
        "행 인덱스를 정수형 위치 인덱스로 초기화하는 예제"
      ]
    },
    {
      "cell_type": "code",
      "execution_count": null,
      "id": "a5ac6e3d",
      "metadata": {
        "id": "a5ac6e3d",
        "outputId": "e321e1c4-7fdf-44c5-d128-8952de3b3659"
      },
      "outputs": [
        {
          "name": "stdout",
          "output_type": "stream",
          "text": [
            "    c0  c1  c2  c3  c4\n",
            "r0   1   4   7  10  13\n",
            "r1   2   5   8  11  14\n",
            "r2   3   6   9  12  15\n"
          ]
        }
      ],
      "source": [
        "#판다스 import\n",
        "import pandas as pd\n",
        "\n",
        "#key:value를 쌍으로 갖는 딕셔너리를 생성, 변수 dict_data에 저장\n",
        "dict_data={'c0':[1,2,3], 'c1':[4,5,6], 'c2':[7,8,9], 'c3':[10,11,12], 'c4':[13,14,15]}\n",
        "\n",
        "#판다스 DataFrame() 함수로 딕셔너리를 데이터프레임로 변환, 변수 df에 저장\n",
        "df=pd.DataFrame(dict_data, index=['r0','r1','r2'])\n",
        "\n",
        "print(df)"
      ]
    },
    {
      "cell_type": "code",
      "execution_count": null,
      "id": "1ee94cfc",
      "metadata": {
        "id": "1ee94cfc",
        "outputId": "bda779ad-202c-446c-deac-e94f00e34208"
      },
      "outputs": [
        {
          "name": "stdout",
          "output_type": "stream",
          "text": [
            "  index  c0  c1  c2  c3  c4\n",
            "0    r0   1   4   7  10  13\n",
            "1    r1   2   5   8  11  14\n",
            "2    r2   3   6   9  12  15\n"
          ]
        }
      ],
      "source": [
        "#행 인덱스를 정수형으로 초기화\n",
        "ndf=df.reset_index()\n",
        "print(ndf)"
      ]
    },
    {
      "cell_type": "code",
      "execution_count": null,
      "id": "b48fe4d1",
      "metadata": {
        "id": "b48fe4d1",
        "outputId": "bc359a57-e882-4fe5-dbef-c89aaf11072e"
      },
      "outputs": [
        {
          "name": "stdout",
          "output_type": "stream",
          "text": [
            "       c0  c1  c2  c3  c4\n",
            "index                    \n",
            "r0      1   4   7  10  13\n",
            "r1      2   5   8  11  14\n",
            "r2      3   6   9  12  15\n"
          ]
        }
      ],
      "source": [
        "ndf2=ndf.set_index('index')\n",
        "print(ndf2)"
      ]
    },
    {
      "cell_type": "markdown",
      "id": "0e3b1b2b",
      "metadata": {
        "id": "0e3b1b2b"
      },
      "source": [
        "행 인덱스를 기준으로 데이터 프레임 정렬"
      ]
    },
    {
      "cell_type": "code",
      "execution_count": null,
      "id": "837cf77a",
      "metadata": {
        "id": "837cf77a",
        "outputId": "49a586c1-acd0-4420-9000-05d8375dee69"
      },
      "outputs": [
        {
          "name": "stdout",
          "output_type": "stream",
          "text": [
            "    c0  c1  c2  c3  c4\n",
            "r0   1   4   7  10  13\n",
            "r1   2   5   8  11  14\n",
            "r2   3   6   9  12  15\n"
          ]
        }
      ],
      "source": [
        "#판다스 import\n",
        "import pandas as pd\n",
        "\n",
        "#key:value를 쌍으로 갖는 딕셔너리를 생성, 변수 dict_data에 저장\n",
        "dict_data={'c0':[1,2,3], 'c1':[4,5,6], 'c2':[7,8,9], 'c3':[10,11,12], 'c4':[13,14,15]}\n",
        "\n",
        "#판다스 DataFrame() 함수로 딕셔너리를 데이터프레임로 변환, 변수 df에 저장\n",
        "df=pd.DataFrame(dict_data, index=['r0','r1','r2'])\n",
        "\n",
        "print(df)"
      ]
    },
    {
      "cell_type": "code",
      "execution_count": null,
      "id": "7f708a8b",
      "metadata": {
        "id": "7f708a8b",
        "outputId": "8d9287b5-0f67-471b-9666-665aa9587e05"
      },
      "outputs": [
        {
          "name": "stdout",
          "output_type": "stream",
          "text": [
            "    c0  c1  c2  c3  c4\n",
            "r2   3   6   9  12  15\n",
            "r1   2   5   8  11  14\n",
            "r0   1   4   7  10  13\n"
          ]
        }
      ],
      "source": [
        "#내림차순으로 행 인덱스 정렬\n",
        "ndf=df.sort_index(ascending=False)\n",
        "print(ndf)"
      ]
    },
    {
      "cell_type": "code",
      "execution_count": null,
      "id": "83196b77",
      "metadata": {
        "id": "83196b77",
        "outputId": "522dbf7e-d0c4-426b-c8ff-fd4da41f5779"
      },
      "outputs": [
        {
          "name": "stdout",
          "output_type": "stream",
          "text": [
            "    c0  c1  c2  c3  c4\n",
            "r0   1   4   7  10  13\n",
            "r1   2   5   8  11  14\n",
            "r2   3   6   9  12  15\n"
          ]
        }
      ],
      "source": [
        "#오름차순으로 행 인덱스 정렬\n",
        "ndf2=ndf.sort_index() #ascending=True\n",
        "print(ndf2)"
      ]
    },
    {
      "cell_type": "markdown",
      "id": "315347fd",
      "metadata": {
        "id": "315347fd"
      },
      "source": [
        "행 인덱스를 기준으로 데이터 프레임 정렬\n",
        "- sort_index() 함수를 사용하여 행 인덱스를 기준으로 데이터프레임의 값을 정렬\n",
        " - ascending 옵션을 사용하여 오름차순 혹은 내림차순으로 설정<br>\n",
        "True : 오름차순 정렬<br>\n",
        "False : 내림차순 정렬<br>\n",
        " <code> 행 인덱스 기준 정렬 : DataFrame 객체.sort_index()</code>"
      ]
    },
    {
      "cell_type": "markdown",
      "id": "c7d58759",
      "metadata": {
        "id": "c7d58759"
      },
      "source": [
        "열 기준 정렬 예제"
      ]
    },
    {
      "cell_type": "code",
      "execution_count": null,
      "id": "025e6fa2",
      "metadata": {
        "id": "025e6fa2",
        "outputId": "5c6ceea6-a5d3-45af-d39c-562689bbff6c"
      },
      "outputs": [
        {
          "name": "stdout",
          "output_type": "stream",
          "text": [
            "    c0  c1  c2  c3  c4\n",
            "r2   3   6   9  12  15\n",
            "r1   2   5   8  11  14\n",
            "r0   1   4   7  10  13\n"
          ]
        }
      ],
      "source": [
        "#c1 열을 기준으로 내림차순 정렬\n",
        "ndf=df.sort_values(by='c1',ascending=False)\n",
        "print(ndf)"
      ]
    },
    {
      "cell_type": "code",
      "execution_count": null,
      "id": "002490e1",
      "metadata": {
        "id": "002490e1",
        "outputId": "881522fe-72db-43d0-cb94-9d4c6b482a07"
      },
      "outputs": [
        {
          "name": "stdout",
          "output_type": "stream",
          "text": [
            "    c0  c1  c2  c3  c4\n",
            "r0   1   4   7  10  13\n",
            "r1   2   5   8  11  14\n",
            "r2   3   6   9  12  15\n"
          ]
        }
      ],
      "source": [
        "#c1 열을 기준으로 오름차순 정렬\n",
        "ndf2=df.sort_values(by='c1',ascending=True)\n",
        "print(ndf2)"
      ]
    },
    {
      "cell_type": "markdown",
      "id": "a081c8ef",
      "metadata": {
        "id": "a081c8ef"
      },
      "source": [
        "많은 열 중에 두 개의 특정 열의 위치를 바꾸고 싶은 경우?<br>\n",
        "1. reindex로 새로운 열 배열이 지정된 데이터프레임을 생성\n",
        "2. 바뀐 데이터프레임과 나눠진 기존 데이터프레임을 결합(concat 사용)"
      ]
    },
    {
      "cell_type": "markdown",
      "id": "f76c768c",
      "metadata": {
        "id": "f76c768c"
      },
      "source": [
        "# 외부 파일 읽어오기\n",
        "- 판다스는 다양한 형태의 외부 파일을 읽어와 데이터프레임으로 변환하는 함수를 제공\n",
        "- 어떤 파일이든 판다스 객체인 데이터프레임으로 변환되면 판다스의 모든 함수와 기능을 자유롭게 사용 가능\n",
        "- 데이터 프레임을 다양한 유형의 파일로 저장 가능\n",
        " - CSV, JSON, HTML, MS Excel, SQL, ..."
      ]
    },
    {
      "cell_type": "markdown",
      "id": "613796ee",
      "metadata": {
        "id": "613796ee"
      },
      "source": [
        "## CSV 파일\n",
        "- comma-separated values 의 약자\n",
        " - 데이터 값을 쉼표(,)로 구분하고 있다는 의미를 가진 파일\n",
        "- CSV 파일을 -> 데이터프레임<br>\n",
        "<code> pandas.read_csv(\"파일 경로(이름).csv\")</code>"
      ]
    },
    {
      "cell_type": "markdown",
      "id": "c2647fec",
      "metadata": {
        "id": "c2647fec"
      },
      "source": [
        "CSV 파일 읽기 예제 (read_test.csv파일 Pyrhon폴더에 저장)"
      ]
    },
    {
      "cell_type": "code",
      "execution_count": null,
      "id": "5b1eba40",
      "metadata": {
        "id": "5b1eba40"
      },
      "outputs": [],
      "source": [
        "import pandas as pd\n",
        "\n",
        "#파일 경로를 찾고, 변수 file_path에 저장\n",
        "file_path='./read_test.csv'"
      ]
    },
    {
      "cell_type": "code",
      "execution_count": null,
      "id": "42d09a69",
      "metadata": {
        "id": "42d09a69",
        "outputId": "8ae0efe1-31db-4906-a93b-c4eabcef181a"
      },
      "outputs": [
        {
          "name": "stdout",
          "output_type": "stream",
          "text": [
            "   c0  c1  c2  c3\n",
            "0   0   1   4   7\n",
            "1   1   2   5   8\n",
            "2   2   3   6   9\n"
          ]
        }
      ],
      "source": [
        "#read_csv() 함수로 데이터프레임 변환, 변수 df1에 저장\n",
        "df1=pd.read_csv(file_path)\n",
        "print(df1)"
      ]
    },
    {
      "cell_type": "code",
      "execution_count": null,
      "id": "0ab7afb4",
      "metadata": {
        "id": "0ab7afb4",
        "outputId": "1cdab029-5963-48db-fe72-f15ccb0b66f9"
      },
      "outputs": [
        {
          "name": "stdout",
          "output_type": "stream",
          "text": [
            "    0   1   2   3\n",
            "0  c0  c1  c2  c3\n",
            "1   0   1   4   7\n",
            "2   1   2   5   8\n",
            "3   2   3   6   9\n"
          ]
        }
      ],
      "source": [
        "#read_csv() 함수로 데이터프레임 변환, 변수 df2에 저장, header=None 옵션 사용\n",
        "df2=pd.read_csv(file_path, header=None)\n",
        "print(df2)"
      ]
    },
    {
      "cell_type": "code",
      "execution_count": null,
      "id": "440a727a",
      "metadata": {
        "id": "440a727a",
        "outputId": "5a59f519-f8dd-4727-9e47-75933f34ad2c"
      },
      "outputs": [
        {
          "name": "stdout",
          "output_type": "stream",
          "text": [
            "   c0  c1  c2  c3\n",
            "0   0   1   4   7\n",
            "1   1   2   5   8\n",
            "2   2   3   6   9\n"
          ]
        }
      ],
      "source": [
        "#read_csv() 함수로 데이터프레임 변환, 변수 df3에 저장, index_col=None 옵션 사용\n",
        "df3=pd.read_csv(file_path, index_col=None)\n",
        "print(df3)"
      ]
    },
    {
      "cell_type": "code",
      "execution_count": null,
      "id": "f4786fb7",
      "metadata": {
        "id": "f4786fb7",
        "outputId": "9b382ced-8bf8-4952-bbe4-1f9cc8ee8119"
      },
      "outputs": [
        {
          "name": "stdout",
          "output_type": "stream",
          "text": [
            "    c1  c2  c3\n",
            "c0            \n",
            "0    1   4   7\n",
            "1    2   5   8\n",
            "2    3   6   9\n"
          ]
        }
      ],
      "source": [
        "#read_csv() 함수로 데이터프레임 변환, 변수 df4에 저장, index_col='c0' 옵션 사용\n",
        "df4=pd.read_csv(file_path, index_col='c0')\n",
        "print(df4)"
      ]
    },
    {
      "cell_type": "markdown",
      "id": "41207958",
      "metadata": {
        "id": "41207958"
      },
      "source": [
        "## Excel 파일\n",
        "- Excel 파일(확장자.xlsx)의 행과 열은 데이터프레임의 행, 열로 일대일 대응\n",
        "- Excel 파일 -> 데이터프레임<br>\n",
        "<code> pandas.read_excel(\"파일 경로(이름).xlsx\")</code>\n",
        "\n",
        "파일명 : 남북한발전전력량.xlsx<br>\n",
        "자료 출처 : KOSIS(통계청), 2021.09.30"
      ]
    },
    {
      "cell_type": "code",
      "execution_count": null,
      "id": "2f528b47",
      "metadata": {
        "id": "2f528b47",
        "outputId": "0750c7bc-407b-454e-d5ee-1c9f648531f8"
      },
      "outputs": [
        {
          "name": "stdout",
          "output_type": "stream",
          "text": [
            "Collecting openpyxl\n",
            "  Downloading openpyxl-3.0.9-py2.py3-none-any.whl (242 kB)\n",
            "     -------------------------------------- 242.2/242.2 KB 4.9 MB/s eta 0:00:00\n",
            "Collecting et-xmlfile\n",
            "  Downloading et_xmlfile-1.1.0-py3-none-any.whl (4.7 kB)\n",
            "Installing collected packages: et-xmlfile, openpyxl\n",
            "Successfully installed et-xmlfile-1.1.0 openpyxl-3.0.9\n"
          ]
        }
      ],
      "source": [
        "!pip install openpyxl"
      ]
    },
    {
      "cell_type": "code",
      "execution_count": null,
      "id": "7374e5d7",
      "metadata": {
        "id": "7374e5d7"
      },
      "outputs": [],
      "source": [
        "import pandas as pd\n",
        "\n",
        "#read_excel() 함수로 데이터프레임 변환\n",
        "df1=pd.read_excel('./남북한발전전력량.xlsx', engine='openpyxl')\n",
        "df2=pd.read_excel('./남북한발전전력량.xlsx', header=None)"
      ]
    },
    {
      "cell_type": "markdown",
      "id": "3327bb36",
      "metadata": {
        "id": "3327bb36"
      },
      "source": [
        "- xlsx 파일을 읽어오지 못할 경우 read_exce()함수 옵션으로 engine='openpyxl'사용\n",
        " - df1=pd.read_excel('./남북한발전전력량.xlsx', engine='openpyxl')"
      ]
    },
    {
      "cell_type": "code",
      "execution_count": null,
      "id": "dde0d870",
      "metadata": {
        "id": "dde0d870",
        "outputId": "9a33f751-a363-46fa-fde6-568dadd17b56"
      },
      "outputs": [
        {
          "data": {
            "text/html": [
              "<div>\n",
              "<style scoped>\n",
              "    .dataframe tbody tr th:only-of-type {\n",
              "        vertical-align: middle;\n",
              "    }\n",
              "\n",
              "    .dataframe tbody tr th {\n",
              "        vertical-align: top;\n",
              "    }\n",
              "\n",
              "    .dataframe thead th {\n",
              "        text-align: right;\n",
              "    }\n",
              "</style>\n",
              "<table border=\"1\" class=\"dataframe\">\n",
              "  <thead>\n",
              "    <tr style=\"text-align: right;\">\n",
              "      <th></th>\n",
              "      <th>전력량 (억㎾h)</th>\n",
              "      <th>발전 전력별</th>\n",
              "      <th>1990</th>\n",
              "      <th>1991</th>\n",
              "      <th>1992</th>\n",
              "      <th>1993</th>\n",
              "      <th>1994</th>\n",
              "      <th>1995</th>\n",
              "      <th>1996</th>\n",
              "      <th>1997</th>\n",
              "      <th>...</th>\n",
              "      <th>2007</th>\n",
              "      <th>2008</th>\n",
              "      <th>2009</th>\n",
              "      <th>2010</th>\n",
              "      <th>2011</th>\n",
              "      <th>2012</th>\n",
              "      <th>2013</th>\n",
              "      <th>2014</th>\n",
              "      <th>2015</th>\n",
              "      <th>2016</th>\n",
              "    </tr>\n",
              "  </thead>\n",
              "  <tbody>\n",
              "    <tr>\n",
              "      <th>0</th>\n",
              "      <td>남한</td>\n",
              "      <td>합계</td>\n",
              "      <td>1077</td>\n",
              "      <td>1186</td>\n",
              "      <td>1310</td>\n",
              "      <td>1444</td>\n",
              "      <td>1650</td>\n",
              "      <td>1847</td>\n",
              "      <td>2055</td>\n",
              "      <td>2244</td>\n",
              "      <td>...</td>\n",
              "      <td>4031</td>\n",
              "      <td>4224</td>\n",
              "      <td>4336</td>\n",
              "      <td>4747</td>\n",
              "      <td>4969</td>\n",
              "      <td>5096</td>\n",
              "      <td>5171</td>\n",
              "      <td>5220</td>\n",
              "      <td>5281</td>\n",
              "      <td>5404</td>\n",
              "    </tr>\n",
              "    <tr>\n",
              "      <th>1</th>\n",
              "      <td>NaN</td>\n",
              "      <td>수력</td>\n",
              "      <td>64</td>\n",
              "      <td>51</td>\n",
              "      <td>49</td>\n",
              "      <td>60</td>\n",
              "      <td>41</td>\n",
              "      <td>55</td>\n",
              "      <td>52</td>\n",
              "      <td>54</td>\n",
              "      <td>...</td>\n",
              "      <td>50</td>\n",
              "      <td>56</td>\n",
              "      <td>56</td>\n",
              "      <td>65</td>\n",
              "      <td>78</td>\n",
              "      <td>77</td>\n",
              "      <td>84</td>\n",
              "      <td>78</td>\n",
              "      <td>58</td>\n",
              "      <td>66</td>\n",
              "    </tr>\n",
              "    <tr>\n",
              "      <th>2</th>\n",
              "      <td>NaN</td>\n",
              "      <td>화력</td>\n",
              "      <td>484</td>\n",
              "      <td>573</td>\n",
              "      <td>696</td>\n",
              "      <td>803</td>\n",
              "      <td>1022</td>\n",
              "      <td>1122</td>\n",
              "      <td>1264</td>\n",
              "      <td>1420</td>\n",
              "      <td>...</td>\n",
              "      <td>2551</td>\n",
              "      <td>2658</td>\n",
              "      <td>2802</td>\n",
              "      <td>3196</td>\n",
              "      <td>3343</td>\n",
              "      <td>3430</td>\n",
              "      <td>3581</td>\n",
              "      <td>3427</td>\n",
              "      <td>3402</td>\n",
              "      <td>3523</td>\n",
              "    </tr>\n",
              "    <tr>\n",
              "      <th>3</th>\n",
              "      <td>NaN</td>\n",
              "      <td>원자력</td>\n",
              "      <td>529</td>\n",
              "      <td>563</td>\n",
              "      <td>565</td>\n",
              "      <td>581</td>\n",
              "      <td>587</td>\n",
              "      <td>670</td>\n",
              "      <td>739</td>\n",
              "      <td>771</td>\n",
              "      <td>...</td>\n",
              "      <td>1429</td>\n",
              "      <td>1510</td>\n",
              "      <td>1478</td>\n",
              "      <td>1486</td>\n",
              "      <td>1547</td>\n",
              "      <td>1503</td>\n",
              "      <td>1388</td>\n",
              "      <td>1564</td>\n",
              "      <td>1648</td>\n",
              "      <td>1620</td>\n",
              "    </tr>\n",
              "    <tr>\n",
              "      <th>4</th>\n",
              "      <td>NaN</td>\n",
              "      <td>신재생</td>\n",
              "      <td>-</td>\n",
              "      <td>-</td>\n",
              "      <td>-</td>\n",
              "      <td>-</td>\n",
              "      <td>-</td>\n",
              "      <td>-</td>\n",
              "      <td>-</td>\n",
              "      <td>-</td>\n",
              "      <td>...</td>\n",
              "      <td>-</td>\n",
              "      <td>-</td>\n",
              "      <td>-</td>\n",
              "      <td>-</td>\n",
              "      <td>-</td>\n",
              "      <td>86</td>\n",
              "      <td>118</td>\n",
              "      <td>151</td>\n",
              "      <td>173</td>\n",
              "      <td>195</td>\n",
              "    </tr>\n",
              "    <tr>\n",
              "      <th>5</th>\n",
              "      <td>북한</td>\n",
              "      <td>합계</td>\n",
              "      <td>277</td>\n",
              "      <td>263</td>\n",
              "      <td>247</td>\n",
              "      <td>221</td>\n",
              "      <td>231</td>\n",
              "      <td>230</td>\n",
              "      <td>213</td>\n",
              "      <td>193</td>\n",
              "      <td>...</td>\n",
              "      <td>236</td>\n",
              "      <td>255</td>\n",
              "      <td>235</td>\n",
              "      <td>237</td>\n",
              "      <td>211</td>\n",
              "      <td>215</td>\n",
              "      <td>221</td>\n",
              "      <td>216</td>\n",
              "      <td>190</td>\n",
              "      <td>239</td>\n",
              "    </tr>\n",
              "    <tr>\n",
              "      <th>6</th>\n",
              "      <td>NaN</td>\n",
              "      <td>수력</td>\n",
              "      <td>156</td>\n",
              "      <td>150</td>\n",
              "      <td>142</td>\n",
              "      <td>133</td>\n",
              "      <td>138</td>\n",
              "      <td>142</td>\n",
              "      <td>125</td>\n",
              "      <td>107</td>\n",
              "      <td>...</td>\n",
              "      <td>133</td>\n",
              "      <td>141</td>\n",
              "      <td>125</td>\n",
              "      <td>134</td>\n",
              "      <td>132</td>\n",
              "      <td>135</td>\n",
              "      <td>139</td>\n",
              "      <td>130</td>\n",
              "      <td>100</td>\n",
              "      <td>128</td>\n",
              "    </tr>\n",
              "    <tr>\n",
              "      <th>7</th>\n",
              "      <td>NaN</td>\n",
              "      <td>화력</td>\n",
              "      <td>121</td>\n",
              "      <td>113</td>\n",
              "      <td>105</td>\n",
              "      <td>88</td>\n",
              "      <td>93</td>\n",
              "      <td>88</td>\n",
              "      <td>88</td>\n",
              "      <td>86</td>\n",
              "      <td>...</td>\n",
              "      <td>103</td>\n",
              "      <td>114</td>\n",
              "      <td>110</td>\n",
              "      <td>103</td>\n",
              "      <td>79</td>\n",
              "      <td>80</td>\n",
              "      <td>82</td>\n",
              "      <td>86</td>\n",
              "      <td>90</td>\n",
              "      <td>111</td>\n",
              "    </tr>\n",
              "    <tr>\n",
              "      <th>8</th>\n",
              "      <td>NaN</td>\n",
              "      <td>원자력</td>\n",
              "      <td>-</td>\n",
              "      <td>-</td>\n",
              "      <td>-</td>\n",
              "      <td>-</td>\n",
              "      <td>-</td>\n",
              "      <td>-</td>\n",
              "      <td>-</td>\n",
              "      <td>-</td>\n",
              "      <td>...</td>\n",
              "      <td>-</td>\n",
              "      <td>-</td>\n",
              "      <td>-</td>\n",
              "      <td>-</td>\n",
              "      <td>-</td>\n",
              "      <td>-</td>\n",
              "      <td>-</td>\n",
              "      <td>-</td>\n",
              "      <td>-</td>\n",
              "      <td>-</td>\n",
              "    </tr>\n",
              "  </tbody>\n",
              "</table>\n",
              "<p>9 rows × 29 columns</p>\n",
              "</div>"
            ],
            "text/plain": [
              "  전력량 (억㎾h) 발전 전력별  1990  1991  1992  1993  1994  1995  1996  1997  ...  2007  \\\n",
              "0        남한     합계  1077  1186  1310  1444  1650  1847  2055  2244  ...  4031   \n",
              "1       NaN     수력    64    51    49    60    41    55    52    54  ...    50   \n",
              "2       NaN     화력   484   573   696   803  1022  1122  1264  1420  ...  2551   \n",
              "3       NaN    원자력   529   563   565   581   587   670   739   771  ...  1429   \n",
              "4       NaN    신재생     -     -     -     -     -     -     -     -  ...     -   \n",
              "5        북한     합계   277   263   247   221   231   230   213   193  ...   236   \n",
              "6       NaN     수력   156   150   142   133   138   142   125   107  ...   133   \n",
              "7       NaN     화력   121   113   105    88    93    88    88    86  ...   103   \n",
              "8       NaN    원자력     -     -     -     -     -     -     -     -  ...     -   \n",
              "\n",
              "   2008  2009  2010  2011  2012  2013  2014  2015  2016  \n",
              "0  4224  4336  4747  4969  5096  5171  5220  5281  5404  \n",
              "1    56    56    65    78    77    84    78    58    66  \n",
              "2  2658  2802  3196  3343  3430  3581  3427  3402  3523  \n",
              "3  1510  1478  1486  1547  1503  1388  1564  1648  1620  \n",
              "4     -     -     -     -    86   118   151   173   195  \n",
              "5   255   235   237   211   215   221   216   190   239  \n",
              "6   141   125   134   132   135   139   130   100   128  \n",
              "7   114   110   103    79    80    82    86    90   111  \n",
              "8     -     -     -     -     -     -     -     -     -  \n",
              "\n",
              "[9 rows x 29 columns]"
            ]
          },
          "execution_count": 46,
          "metadata": {},
          "output_type": "execute_result"
        }
      ],
      "source": [
        "df1"
      ]
    },
    {
      "cell_type": "code",
      "execution_count": null,
      "id": "79c350ee",
      "metadata": {
        "id": "79c350ee",
        "outputId": "9ce3238a-a044-4cc5-a4ff-645ba6cfa821"
      },
      "outputs": [
        {
          "data": {
            "text/html": [
              "<div>\n",
              "<style scoped>\n",
              "    .dataframe tbody tr th:only-of-type {\n",
              "        vertical-align: middle;\n",
              "    }\n",
              "\n",
              "    .dataframe tbody tr th {\n",
              "        vertical-align: top;\n",
              "    }\n",
              "\n",
              "    .dataframe thead th {\n",
              "        text-align: right;\n",
              "    }\n",
              "</style>\n",
              "<table border=\"1\" class=\"dataframe\">\n",
              "  <thead>\n",
              "    <tr style=\"text-align: right;\">\n",
              "      <th></th>\n",
              "      <th>0</th>\n",
              "      <th>1</th>\n",
              "      <th>2</th>\n",
              "      <th>3</th>\n",
              "      <th>4</th>\n",
              "      <th>5</th>\n",
              "      <th>6</th>\n",
              "      <th>7</th>\n",
              "      <th>8</th>\n",
              "      <th>9</th>\n",
              "      <th>...</th>\n",
              "      <th>19</th>\n",
              "      <th>20</th>\n",
              "      <th>21</th>\n",
              "      <th>22</th>\n",
              "      <th>23</th>\n",
              "      <th>24</th>\n",
              "      <th>25</th>\n",
              "      <th>26</th>\n",
              "      <th>27</th>\n",
              "      <th>28</th>\n",
              "    </tr>\n",
              "  </thead>\n",
              "  <tbody>\n",
              "    <tr>\n",
              "      <th>0</th>\n",
              "      <td>전력량 (억㎾h)</td>\n",
              "      <td>발전 전력별</td>\n",
              "      <td>1990</td>\n",
              "      <td>1991</td>\n",
              "      <td>1992</td>\n",
              "      <td>1993</td>\n",
              "      <td>1994</td>\n",
              "      <td>1995</td>\n",
              "      <td>1996</td>\n",
              "      <td>1997</td>\n",
              "      <td>...</td>\n",
              "      <td>2007</td>\n",
              "      <td>2008</td>\n",
              "      <td>2009</td>\n",
              "      <td>2010</td>\n",
              "      <td>2011</td>\n",
              "      <td>2012</td>\n",
              "      <td>2013</td>\n",
              "      <td>2014</td>\n",
              "      <td>2015</td>\n",
              "      <td>2016</td>\n",
              "    </tr>\n",
              "    <tr>\n",
              "      <th>1</th>\n",
              "      <td>남한</td>\n",
              "      <td>합계</td>\n",
              "      <td>1077</td>\n",
              "      <td>1186</td>\n",
              "      <td>1310</td>\n",
              "      <td>1444</td>\n",
              "      <td>1650</td>\n",
              "      <td>1847</td>\n",
              "      <td>2055</td>\n",
              "      <td>2244</td>\n",
              "      <td>...</td>\n",
              "      <td>4031</td>\n",
              "      <td>4224</td>\n",
              "      <td>4336</td>\n",
              "      <td>4747</td>\n",
              "      <td>4969</td>\n",
              "      <td>5096</td>\n",
              "      <td>5171</td>\n",
              "      <td>5220</td>\n",
              "      <td>5281</td>\n",
              "      <td>5404</td>\n",
              "    </tr>\n",
              "    <tr>\n",
              "      <th>2</th>\n",
              "      <td>NaN</td>\n",
              "      <td>수력</td>\n",
              "      <td>64</td>\n",
              "      <td>51</td>\n",
              "      <td>49</td>\n",
              "      <td>60</td>\n",
              "      <td>41</td>\n",
              "      <td>55</td>\n",
              "      <td>52</td>\n",
              "      <td>54</td>\n",
              "      <td>...</td>\n",
              "      <td>50</td>\n",
              "      <td>56</td>\n",
              "      <td>56</td>\n",
              "      <td>65</td>\n",
              "      <td>78</td>\n",
              "      <td>77</td>\n",
              "      <td>84</td>\n",
              "      <td>78</td>\n",
              "      <td>58</td>\n",
              "      <td>66</td>\n",
              "    </tr>\n",
              "    <tr>\n",
              "      <th>3</th>\n",
              "      <td>NaN</td>\n",
              "      <td>화력</td>\n",
              "      <td>484</td>\n",
              "      <td>573</td>\n",
              "      <td>696</td>\n",
              "      <td>803</td>\n",
              "      <td>1022</td>\n",
              "      <td>1122</td>\n",
              "      <td>1264</td>\n",
              "      <td>1420</td>\n",
              "      <td>...</td>\n",
              "      <td>2551</td>\n",
              "      <td>2658</td>\n",
              "      <td>2802</td>\n",
              "      <td>3196</td>\n",
              "      <td>3343</td>\n",
              "      <td>3430</td>\n",
              "      <td>3581</td>\n",
              "      <td>3427</td>\n",
              "      <td>3402</td>\n",
              "      <td>3523</td>\n",
              "    </tr>\n",
              "    <tr>\n",
              "      <th>4</th>\n",
              "      <td>NaN</td>\n",
              "      <td>원자력</td>\n",
              "      <td>529</td>\n",
              "      <td>563</td>\n",
              "      <td>565</td>\n",
              "      <td>581</td>\n",
              "      <td>587</td>\n",
              "      <td>670</td>\n",
              "      <td>739</td>\n",
              "      <td>771</td>\n",
              "      <td>...</td>\n",
              "      <td>1429</td>\n",
              "      <td>1510</td>\n",
              "      <td>1478</td>\n",
              "      <td>1486</td>\n",
              "      <td>1547</td>\n",
              "      <td>1503</td>\n",
              "      <td>1388</td>\n",
              "      <td>1564</td>\n",
              "      <td>1648</td>\n",
              "      <td>1620</td>\n",
              "    </tr>\n",
              "    <tr>\n",
              "      <th>5</th>\n",
              "      <td>NaN</td>\n",
              "      <td>신재생</td>\n",
              "      <td>-</td>\n",
              "      <td>-</td>\n",
              "      <td>-</td>\n",
              "      <td>-</td>\n",
              "      <td>-</td>\n",
              "      <td>-</td>\n",
              "      <td>-</td>\n",
              "      <td>-</td>\n",
              "      <td>...</td>\n",
              "      <td>-</td>\n",
              "      <td>-</td>\n",
              "      <td>-</td>\n",
              "      <td>-</td>\n",
              "      <td>-</td>\n",
              "      <td>86</td>\n",
              "      <td>118</td>\n",
              "      <td>151</td>\n",
              "      <td>173</td>\n",
              "      <td>195</td>\n",
              "    </tr>\n",
              "    <tr>\n",
              "      <th>6</th>\n",
              "      <td>북한</td>\n",
              "      <td>합계</td>\n",
              "      <td>277</td>\n",
              "      <td>263</td>\n",
              "      <td>247</td>\n",
              "      <td>221</td>\n",
              "      <td>231</td>\n",
              "      <td>230</td>\n",
              "      <td>213</td>\n",
              "      <td>193</td>\n",
              "      <td>...</td>\n",
              "      <td>236</td>\n",
              "      <td>255</td>\n",
              "      <td>235</td>\n",
              "      <td>237</td>\n",
              "      <td>211</td>\n",
              "      <td>215</td>\n",
              "      <td>221</td>\n",
              "      <td>216</td>\n",
              "      <td>190</td>\n",
              "      <td>239</td>\n",
              "    </tr>\n",
              "    <tr>\n",
              "      <th>7</th>\n",
              "      <td>NaN</td>\n",
              "      <td>수력</td>\n",
              "      <td>156</td>\n",
              "      <td>150</td>\n",
              "      <td>142</td>\n",
              "      <td>133</td>\n",
              "      <td>138</td>\n",
              "      <td>142</td>\n",
              "      <td>125</td>\n",
              "      <td>107</td>\n",
              "      <td>...</td>\n",
              "      <td>133</td>\n",
              "      <td>141</td>\n",
              "      <td>125</td>\n",
              "      <td>134</td>\n",
              "      <td>132</td>\n",
              "      <td>135</td>\n",
              "      <td>139</td>\n",
              "      <td>130</td>\n",
              "      <td>100</td>\n",
              "      <td>128</td>\n",
              "    </tr>\n",
              "    <tr>\n",
              "      <th>8</th>\n",
              "      <td>NaN</td>\n",
              "      <td>화력</td>\n",
              "      <td>121</td>\n",
              "      <td>113</td>\n",
              "      <td>105</td>\n",
              "      <td>88</td>\n",
              "      <td>93</td>\n",
              "      <td>88</td>\n",
              "      <td>88</td>\n",
              "      <td>86</td>\n",
              "      <td>...</td>\n",
              "      <td>103</td>\n",
              "      <td>114</td>\n",
              "      <td>110</td>\n",
              "      <td>103</td>\n",
              "      <td>79</td>\n",
              "      <td>80</td>\n",
              "      <td>82</td>\n",
              "      <td>86</td>\n",
              "      <td>90</td>\n",
              "      <td>111</td>\n",
              "    </tr>\n",
              "    <tr>\n",
              "      <th>9</th>\n",
              "      <td>NaN</td>\n",
              "      <td>원자력</td>\n",
              "      <td>-</td>\n",
              "      <td>-</td>\n",
              "      <td>-</td>\n",
              "      <td>-</td>\n",
              "      <td>-</td>\n",
              "      <td>-</td>\n",
              "      <td>-</td>\n",
              "      <td>-</td>\n",
              "      <td>...</td>\n",
              "      <td>-</td>\n",
              "      <td>-</td>\n",
              "      <td>-</td>\n",
              "      <td>-</td>\n",
              "      <td>-</td>\n",
              "      <td>-</td>\n",
              "      <td>-</td>\n",
              "      <td>-</td>\n",
              "      <td>-</td>\n",
              "      <td>-</td>\n",
              "    </tr>\n",
              "  </tbody>\n",
              "</table>\n",
              "<p>10 rows × 29 columns</p>\n",
              "</div>"
            ],
            "text/plain": [
              "          0       1     2     3     4     5     6     7     8     9   ...  \\\n",
              "0  전력량 (억㎾h)  발전 전력별  1990  1991  1992  1993  1994  1995  1996  1997  ...   \n",
              "1         남한      합계  1077  1186  1310  1444  1650  1847  2055  2244  ...   \n",
              "2        NaN      수력    64    51    49    60    41    55    52    54  ...   \n",
              "3        NaN      화력   484   573   696   803  1022  1122  1264  1420  ...   \n",
              "4        NaN     원자력   529   563   565   581   587   670   739   771  ...   \n",
              "5        NaN     신재생     -     -     -     -     -     -     -     -  ...   \n",
              "6         북한      합계   277   263   247   221   231   230   213   193  ...   \n",
              "7        NaN      수력   156   150   142   133   138   142   125   107  ...   \n",
              "8        NaN      화력   121   113   105    88    93    88    88    86  ...   \n",
              "9        NaN     원자력     -     -     -     -     -     -     -     -  ...   \n",
              "\n",
              "     19    20    21    22    23    24    25    26    27    28  \n",
              "0  2007  2008  2009  2010  2011  2012  2013  2014  2015  2016  \n",
              "1  4031  4224  4336  4747  4969  5096  5171  5220  5281  5404  \n",
              "2    50    56    56    65    78    77    84    78    58    66  \n",
              "3  2551  2658  2802  3196  3343  3430  3581  3427  3402  3523  \n",
              "4  1429  1510  1478  1486  1547  1503  1388  1564  1648  1620  \n",
              "5     -     -     -     -     -    86   118   151   173   195  \n",
              "6   236   255   235   237   211   215   221   216   190   239  \n",
              "7   133   141   125   134   132   135   139   130   100   128  \n",
              "8   103   114   110   103    79    80    82    86    90   111  \n",
              "9     -     -     -     -     -     -     -     -     -     -  \n",
              "\n",
              "[10 rows x 29 columns]"
            ]
          },
          "execution_count": 47,
          "metadata": {},
          "output_type": "execute_result"
        }
      ],
      "source": [
        "df2"
      ]
    },
    {
      "cell_type": "markdown",
      "id": "1c0d1073",
      "metadata": {
        "id": "1c0d1073"
      },
      "source": [
        "read_test.json"
      ]
    },
    {
      "cell_type": "markdown",
      "id": "6f9fcc0b",
      "metadata": {
        "id": "6f9fcc0b"
      },
      "source": [
        "## jSON 파일\n",
        "- JSON 파일(확장자 .json)은 데이터 공유 목적으로 개발된 특수한 파일 형식\n",
        "- 파이썬 딕셔너리와 비슷하게 'key:value' 구조를 가짐<br>\n",
        "<code> pandas.read_json(\"파일 경로(이름).json\")</code>"
      ]
    },
    {
      "cell_type": "code",
      "execution_count": null,
      "id": "c051441e",
      "metadata": {
        "colab": {
          "base_uri": "https://localhost:8080/",
          "height": 400
        },
        "id": "c051441e",
        "outputId": "df8210fc-6d53-42bc-e567-f5579d6ebff6"
      },
      "outputs": [
        {
          "output_type": "error",
          "ename": "ValueError",
          "evalue": "ignored",
          "traceback": [
            "\u001b[0;31m---------------------------------------------------------------------------\u001b[0m",
            "\u001b[0;31mValueError\u001b[0m                                Traceback (most recent call last)",
            "\u001b[0;32m<ipython-input-6-9c497b4899ef>\u001b[0m in \u001b[0;36m<module>\u001b[0;34m()\u001b[0m\n\u001b[1;32m      2\u001b[0m \u001b[0;34m\u001b[0m\u001b[0m\n\u001b[1;32m      3\u001b[0m \u001b[0;31m#read_json() 함수로 데이터프레임 변환\u001b[0m\u001b[0;34m\u001b[0m\u001b[0;34m\u001b[0m\u001b[0;34m\u001b[0m\u001b[0m\n\u001b[0;32m----> 4\u001b[0;31m \u001b[0mdf\u001b[0m\u001b[0;34m=\u001b[0m\u001b[0mpd\u001b[0m\u001b[0;34m.\u001b[0m\u001b[0mread_json\u001b[0m\u001b[0;34m(\u001b[0m\u001b[0;34m'./read_test.json'\u001b[0m\u001b[0;34m)\u001b[0m\u001b[0;34m\u001b[0m\u001b[0;34m\u001b[0m\u001b[0m\n\u001b[0m\u001b[1;32m      5\u001b[0m \u001b[0;34m\u001b[0m\u001b[0m\n\u001b[1;32m      6\u001b[0m \u001b[0mprint\u001b[0m\u001b[0;34m(\u001b[0m\u001b[0mdf\u001b[0m\u001b[0;34m)\u001b[0m\u001b[0;34m\u001b[0m\u001b[0;34m\u001b[0m\u001b[0m\n",
            "\u001b[0;32m/usr/local/lib/python3.7/dist-packages/pandas/util/_decorators.py\u001b[0m in \u001b[0;36mwrapper\u001b[0;34m(*args, **kwargs)\u001b[0m\n\u001b[1;32m    205\u001b[0m                 \u001b[0;32melse\u001b[0m\u001b[0;34m:\u001b[0m\u001b[0;34m\u001b[0m\u001b[0;34m\u001b[0m\u001b[0m\n\u001b[1;32m    206\u001b[0m                     \u001b[0mkwargs\u001b[0m\u001b[0;34m[\u001b[0m\u001b[0mnew_arg_name\u001b[0m\u001b[0;34m]\u001b[0m \u001b[0;34m=\u001b[0m \u001b[0mnew_arg_value\u001b[0m\u001b[0;34m\u001b[0m\u001b[0;34m\u001b[0m\u001b[0m\n\u001b[0;32m--> 207\u001b[0;31m             \u001b[0;32mreturn\u001b[0m \u001b[0mfunc\u001b[0m\u001b[0;34m(\u001b[0m\u001b[0;34m*\u001b[0m\u001b[0margs\u001b[0m\u001b[0;34m,\u001b[0m \u001b[0;34m**\u001b[0m\u001b[0mkwargs\u001b[0m\u001b[0;34m)\u001b[0m\u001b[0;34m\u001b[0m\u001b[0;34m\u001b[0m\u001b[0m\n\u001b[0m\u001b[1;32m    208\u001b[0m \u001b[0;34m\u001b[0m\u001b[0m\n\u001b[1;32m    209\u001b[0m         \u001b[0;32mreturn\u001b[0m \u001b[0mcast\u001b[0m\u001b[0;34m(\u001b[0m\u001b[0mF\u001b[0m\u001b[0;34m,\u001b[0m \u001b[0mwrapper\u001b[0m\u001b[0;34m)\u001b[0m\u001b[0;34m\u001b[0m\u001b[0;34m\u001b[0m\u001b[0m\n",
            "\u001b[0;32m/usr/local/lib/python3.7/dist-packages/pandas/util/_decorators.py\u001b[0m in \u001b[0;36mwrapper\u001b[0;34m(*args, **kwargs)\u001b[0m\n\u001b[1;32m    309\u001b[0m                     \u001b[0mstacklevel\u001b[0m\u001b[0;34m=\u001b[0m\u001b[0mstacklevel\u001b[0m\u001b[0;34m,\u001b[0m\u001b[0;34m\u001b[0m\u001b[0;34m\u001b[0m\u001b[0m\n\u001b[1;32m    310\u001b[0m                 )\n\u001b[0;32m--> 311\u001b[0;31m             \u001b[0;32mreturn\u001b[0m \u001b[0mfunc\u001b[0m\u001b[0;34m(\u001b[0m\u001b[0;34m*\u001b[0m\u001b[0margs\u001b[0m\u001b[0;34m,\u001b[0m \u001b[0;34m**\u001b[0m\u001b[0mkwargs\u001b[0m\u001b[0;34m)\u001b[0m\u001b[0;34m\u001b[0m\u001b[0;34m\u001b[0m\u001b[0m\n\u001b[0m\u001b[1;32m    312\u001b[0m \u001b[0;34m\u001b[0m\u001b[0m\n\u001b[1;32m    313\u001b[0m         \u001b[0;32mreturn\u001b[0m \u001b[0mwrapper\u001b[0m\u001b[0;34m\u001b[0m\u001b[0;34m\u001b[0m\u001b[0m\n",
            "\u001b[0;32m/usr/local/lib/python3.7/dist-packages/pandas/io/json/_json.py\u001b[0m in \u001b[0;36mread_json\u001b[0;34m(path_or_buf, orient, typ, dtype, convert_axes, convert_dates, keep_default_dates, numpy, precise_float, date_unit, encoding, encoding_errors, lines, chunksize, compression, nrows, storage_options)\u001b[0m\n\u001b[1;32m    612\u001b[0m \u001b[0;34m\u001b[0m\u001b[0m\n\u001b[1;32m    613\u001b[0m     \u001b[0;32mwith\u001b[0m \u001b[0mjson_reader\u001b[0m\u001b[0;34m:\u001b[0m\u001b[0;34m\u001b[0m\u001b[0;34m\u001b[0m\u001b[0m\n\u001b[0;32m--> 614\u001b[0;31m         \u001b[0;32mreturn\u001b[0m \u001b[0mjson_reader\u001b[0m\u001b[0;34m.\u001b[0m\u001b[0mread\u001b[0m\u001b[0;34m(\u001b[0m\u001b[0;34m)\u001b[0m\u001b[0;34m\u001b[0m\u001b[0;34m\u001b[0m\u001b[0m\n\u001b[0m\u001b[1;32m    615\u001b[0m \u001b[0;34m\u001b[0m\u001b[0m\n\u001b[1;32m    616\u001b[0m \u001b[0;34m\u001b[0m\u001b[0m\n",
            "\u001b[0;32m/usr/local/lib/python3.7/dist-packages/pandas/io/json/_json.py\u001b[0m in \u001b[0;36mread\u001b[0;34m(self)\u001b[0m\n\u001b[1;32m    746\u001b[0m                 \u001b[0mobj\u001b[0m \u001b[0;34m=\u001b[0m \u001b[0mself\u001b[0m\u001b[0;34m.\u001b[0m\u001b[0m_get_object_parser\u001b[0m\u001b[0;34m(\u001b[0m\u001b[0mself\u001b[0m\u001b[0;34m.\u001b[0m\u001b[0m_combine_lines\u001b[0m\u001b[0;34m(\u001b[0m\u001b[0mdata_lines\u001b[0m\u001b[0;34m)\u001b[0m\u001b[0;34m)\u001b[0m\u001b[0;34m\u001b[0m\u001b[0;34m\u001b[0m\u001b[0m\n\u001b[1;32m    747\u001b[0m         \u001b[0;32melse\u001b[0m\u001b[0;34m:\u001b[0m\u001b[0;34m\u001b[0m\u001b[0;34m\u001b[0m\u001b[0m\n\u001b[0;32m--> 748\u001b[0;31m             \u001b[0mobj\u001b[0m \u001b[0;34m=\u001b[0m \u001b[0mself\u001b[0m\u001b[0;34m.\u001b[0m\u001b[0m_get_object_parser\u001b[0m\u001b[0;34m(\u001b[0m\u001b[0mself\u001b[0m\u001b[0;34m.\u001b[0m\u001b[0mdata\u001b[0m\u001b[0;34m)\u001b[0m\u001b[0;34m\u001b[0m\u001b[0;34m\u001b[0m\u001b[0m\n\u001b[0m\u001b[1;32m    749\u001b[0m         \u001b[0mself\u001b[0m\u001b[0;34m.\u001b[0m\u001b[0mclose\u001b[0m\u001b[0;34m(\u001b[0m\u001b[0;34m)\u001b[0m\u001b[0;34m\u001b[0m\u001b[0;34m\u001b[0m\u001b[0m\n\u001b[1;32m    750\u001b[0m         \u001b[0;32mreturn\u001b[0m \u001b[0mobj\u001b[0m\u001b[0;34m\u001b[0m\u001b[0;34m\u001b[0m\u001b[0m\n",
            "\u001b[0;32m/usr/local/lib/python3.7/dist-packages/pandas/io/json/_json.py\u001b[0m in \u001b[0;36m_get_object_parser\u001b[0;34m(self, json)\u001b[0m\n\u001b[1;32m    768\u001b[0m         \u001b[0mobj\u001b[0m \u001b[0;34m=\u001b[0m \u001b[0;32mNone\u001b[0m\u001b[0;34m\u001b[0m\u001b[0;34m\u001b[0m\u001b[0m\n\u001b[1;32m    769\u001b[0m         \u001b[0;32mif\u001b[0m \u001b[0mtyp\u001b[0m \u001b[0;34m==\u001b[0m \u001b[0;34m\"frame\"\u001b[0m\u001b[0;34m:\u001b[0m\u001b[0;34m\u001b[0m\u001b[0;34m\u001b[0m\u001b[0m\n\u001b[0;32m--> 770\u001b[0;31m             \u001b[0mobj\u001b[0m \u001b[0;34m=\u001b[0m \u001b[0mFrameParser\u001b[0m\u001b[0;34m(\u001b[0m\u001b[0mjson\u001b[0m\u001b[0;34m,\u001b[0m \u001b[0;34m**\u001b[0m\u001b[0mkwargs\u001b[0m\u001b[0;34m)\u001b[0m\u001b[0;34m.\u001b[0m\u001b[0mparse\u001b[0m\u001b[0;34m(\u001b[0m\u001b[0;34m)\u001b[0m\u001b[0;34m\u001b[0m\u001b[0;34m\u001b[0m\u001b[0m\n\u001b[0m\u001b[1;32m    771\u001b[0m \u001b[0;34m\u001b[0m\u001b[0m\n\u001b[1;32m    772\u001b[0m         \u001b[0;32mif\u001b[0m \u001b[0mtyp\u001b[0m \u001b[0;34m==\u001b[0m \u001b[0;34m\"series\"\u001b[0m \u001b[0;32mor\u001b[0m \u001b[0mobj\u001b[0m \u001b[0;32mis\u001b[0m \u001b[0;32mNone\u001b[0m\u001b[0;34m:\u001b[0m\u001b[0;34m\u001b[0m\u001b[0;34m\u001b[0m\u001b[0m\n",
            "\u001b[0;32m/usr/local/lib/python3.7/dist-packages/pandas/io/json/_json.py\u001b[0m in \u001b[0;36mparse\u001b[0;34m(self)\u001b[0m\n\u001b[1;32m    883\u001b[0m \u001b[0;34m\u001b[0m\u001b[0m\n\u001b[1;32m    884\u001b[0m         \u001b[0;32melse\u001b[0m\u001b[0;34m:\u001b[0m\u001b[0;34m\u001b[0m\u001b[0;34m\u001b[0m\u001b[0m\n\u001b[0;32m--> 885\u001b[0;31m             \u001b[0mself\u001b[0m\u001b[0;34m.\u001b[0m\u001b[0m_parse_no_numpy\u001b[0m\u001b[0;34m(\u001b[0m\u001b[0;34m)\u001b[0m\u001b[0;34m\u001b[0m\u001b[0;34m\u001b[0m\u001b[0m\n\u001b[0m\u001b[1;32m    886\u001b[0m \u001b[0;34m\u001b[0m\u001b[0m\n\u001b[1;32m    887\u001b[0m         \u001b[0;32mif\u001b[0m \u001b[0mself\u001b[0m\u001b[0;34m.\u001b[0m\u001b[0mobj\u001b[0m \u001b[0;32mis\u001b[0m \u001b[0;32mNone\u001b[0m\u001b[0;34m:\u001b[0m\u001b[0;34m\u001b[0m\u001b[0;34m\u001b[0m\u001b[0m\n",
            "\u001b[0;32m/usr/local/lib/python3.7/dist-packages/pandas/io/json/_json.py\u001b[0m in \u001b[0;36m_parse_no_numpy\u001b[0;34m(self)\u001b[0m\n\u001b[1;32m   1138\u001b[0m         \u001b[0;32mif\u001b[0m \u001b[0morient\u001b[0m \u001b[0;34m==\u001b[0m \u001b[0;34m\"columns\"\u001b[0m\u001b[0;34m:\u001b[0m\u001b[0;34m\u001b[0m\u001b[0;34m\u001b[0m\u001b[0m\n\u001b[1;32m   1139\u001b[0m             self.obj = DataFrame(\n\u001b[0;32m-> 1140\u001b[0;31m                 \u001b[0mloads\u001b[0m\u001b[0;34m(\u001b[0m\u001b[0mjson\u001b[0m\u001b[0;34m,\u001b[0m \u001b[0mprecise_float\u001b[0m\u001b[0;34m=\u001b[0m\u001b[0mself\u001b[0m\u001b[0;34m.\u001b[0m\u001b[0mprecise_float\u001b[0m\u001b[0;34m)\u001b[0m\u001b[0;34m,\u001b[0m \u001b[0mdtype\u001b[0m\u001b[0;34m=\u001b[0m\u001b[0;32mNone\u001b[0m\u001b[0;34m\u001b[0m\u001b[0;34m\u001b[0m\u001b[0m\n\u001b[0m\u001b[1;32m   1141\u001b[0m             )\n\u001b[1;32m   1142\u001b[0m         \u001b[0;32melif\u001b[0m \u001b[0morient\u001b[0m \u001b[0;34m==\u001b[0m \u001b[0;34m\"split\"\u001b[0m\u001b[0;34m:\u001b[0m\u001b[0;34m\u001b[0m\u001b[0;34m\u001b[0m\u001b[0m\n",
            "\u001b[0;31mValueError\u001b[0m: Expected object or value"
          ]
        }
      ],
      "source": [
        "import pandas as pd\n",
        "\n",
        "#read_json() 함수로 데이터프레임 변환\n",
        "df=pd.read_json('./read_test.json')\n",
        "\n",
        "print(df)"
      ]
    },
    {
      "cell_type": "markdown",
      "id": "e6101dfd",
      "metadata": {
        "id": "e6101dfd"
      },
      "source": [
        "--------------------------------------------------"
      ]
    },
    {
      "cell_type": "markdown",
      "id": "6ec19daf",
      "metadata": {
        "id": "6ec19daf"
      },
      "source": [
        "# NUMPY\n",
        "- Numerical Python\n",
        "-  산술 계산을 위한 패키지\n",
        " - 다차원 배열인 ndarray는 빠른 배열 계산을 제공\n",
        " - 반복문을 작성할 필요 없이 전체 데이터 배열을 빠르게 계산할 수 있는 표준 수학 함수\n",
        " - 선형대수, 난수 생성기, 푸리에 변환 가능\n",
        "- 일반적인 산술 데이터 처리를 위한 기본 라이브러리를 제공\n",
        " - 연산 처리 후 통계나 분석데이터를 처리하기 위해선 Pandas를 사용\n",
        "- 파이썬 산술 계산 영역에서 중요한 위치를 차지하는 이유 중 하나는 대용량 데이터 배열을 효율적으로 다룰 수 있도록 설계되어 있기 때문"
      ]
    },
    {
      "cell_type": "markdown",
      "id": "10446b47",
      "metadata": {
        "id": "10446b47"
      },
      "source": [
        "Numpy 사용 예제<br>\n",
        "- 1차원 배열 생성"
      ]
    },
    {
      "cell_type": "code",
      "execution_count": null,
      "id": "d22e74a3",
      "metadata": {
        "id": "d22e74a3",
        "outputId": "ad789fde-3522-4176-ddd5-5b836c0d832d"
      },
      "outputs": [
        {
          "name": "stdout",
          "output_type": "stream",
          "text": [
            "<class 'numpy.ndarray'>\n",
            "<class 'list'>\n"
          ]
        }
      ],
      "source": [
        "import numpy as np\n",
        "\n",
        "my_arr=np.arange(100)\n",
        "my_list=list(range(100))\n",
        "\n",
        "print(type(my_arr))\n",
        "print(type(my_list))"
      ]
    },
    {
      "cell_type": "code",
      "execution_count": null,
      "id": "107a9e3f",
      "metadata": {
        "id": "107a9e3f",
        "outputId": "fd2a66c3-e361-4dc7-e29e-9334fd01ac85"
      },
      "outputs": [
        {
          "name": "stdout",
          "output_type": "stream",
          "text": [
            "[ 0  1  2  3  4  5  6  7  8  9 10 11 12 13 14 15 16 17 18 19 20 21 22 23\n",
            " 24 25 26 27 28 29 30 31 32 33 34 35 36 37 38 39 40 41 42 43 44 45 46 47\n",
            " 48 49 50 51 52 53 54 55 56 57 58 59 60 61 62 63 64 65 66 67 68 69 70 71\n",
            " 72 73 74 75 76 77 78 79 80 81 82 83 84 85 86 87 88 89 90 91 92 93 94 95\n",
            " 96 97 98 99]\n"
          ]
        }
      ],
      "source": [
        "print(my_arr)"
      ]
    },
    {
      "cell_type": "code",
      "execution_count": null,
      "id": "ce4472a7",
      "metadata": {
        "id": "ce4472a7",
        "outputId": "d6910792-a8fa-4547-e61f-27710580b0b7"
      },
      "outputs": [
        {
          "name": "stdout",
          "output_type": "stream",
          "text": [
            "[0, 1, 2, 3, 4, 5, 6, 7, 8, 9, 10, 11, 12, 13, 14, 15, 16, 17, 18, 19, 20, 21, 22, 23, 24, 25, 26, 27, 28, 29, 30, 31, 32, 33, 34, 35, 36, 37, 38, 39, 40, 41, 42, 43, 44, 45, 46, 47, 48, 49, 50, 51, 52, 53, 54, 55, 56, 57, 58, 59, 60, 61, 62, 63, 64, 65, 66, 67, 68, 69, 70, 71, 72, 73, 74, 75, 76, 77, 78, 79, 80, 81, 82, 83, 84, 85, 86, 87, 88, 89, 90, 91, 92, 93, 94, 95, 96, 97, 98, 99]\n"
          ]
        }
      ],
      "source": [
        "print(my_list)"
      ]
    },
    {
      "cell_type": "markdown",
      "id": "52d855b3",
      "metadata": {
        "id": "52d855b3"
      },
      "source": [
        "Numpy와 list의 연산 속도 비교 예제<br<\n",
        "- 속도 차이가 나보이지 않으나 배열 연산이 더 빠름"
      ]
    },
    {
      "cell_type": "code",
      "execution_count": null,
      "id": "2882ec49",
      "metadata": {
        "id": "2882ec49",
        "outputId": "d747a8d6-78f1-43a9-e990-aa3113c6961e"
      },
      "outputs": [
        {
          "name": "stdout",
          "output_type": "stream",
          "text": [
            "CPU times: total: 0 ns\n",
            "Wall time: 0 ns\n"
          ]
        }
      ],
      "source": [
        "my_arr=np.arange(100000)\n",
        "my_list=list(range(100000))\n",
        "\n",
        "%time\n",
        "for i in range(10000):\n",
        "    my_arr2=my_arr*2"
      ]
    },
    {
      "cell_type": "code",
      "execution_count": null,
      "id": "a194f45f",
      "metadata": {
        "id": "a194f45f",
        "outputId": "fd24178a-b4fe-41d8-ae18-80ae05f8640d"
      },
      "outputs": [
        {
          "name": "stdout",
          "output_type": "stream",
          "text": [
            "CPU times: total: 0 ns\n",
            "Wall time: 0 ns\n"
          ]
        }
      ],
      "source": [
        "%time\n",
        "for i in range(10000):\n",
        "    my_list2=[i*2 for j in my_list]"
      ]
    },
    {
      "cell_type": "markdown",
      "id": "b28f0d66",
      "metadata": {
        "id": "b28f0d66"
      },
      "source": [
        "다차원 배열 객체\n",
        "- Numpy는 ndarray라고 하는 N차원 배열 객체를 사용\n",
        " - 1차원 : Vectors\n",
        " - 2차원 : Matrices\n",
        " - 3차원 : Tensors"
      ]
    },
    {
      "cell_type": "markdown",
      "id": "4a423d99",
      "metadata": {
        "id": "4a423d99"
      },
      "source": [
        "2 x 3 배열을 랜덤 생성(가우시안 분포 사용)"
      ]
    },
    {
      "cell_type": "code",
      "execution_count": null,
      "id": "7b52421a",
      "metadata": {
        "id": "7b52421a",
        "outputId": "ac7a472b-3b86-4f41-b662-3dce7400a131"
      },
      "outputs": [
        {
          "name": "stdout",
          "output_type": "stream",
          "text": [
            "[[ 0.10317849  1.22297984  0.5019469 ]\n",
            " [ 0.30116702  2.6762899  -1.15309715]]\n"
          ]
        }
      ],
      "source": [
        "data=np.random.randn(2,3)\n",
        "print(data)"
      ]
    },
    {
      "cell_type": "markdown",
      "id": "91ab3eaa",
      "metadata": {
        "id": "91ab3eaa"
      },
      "source": [
        "ndarray 생성하기 예제(list->array)"
      ]
    },
    {
      "cell_type": "code",
      "execution_count": null,
      "id": "cd45da3a",
      "metadata": {
        "id": "cd45da3a",
        "outputId": "719d9436-b731-434a-901b-9e71418f70d0"
      },
      "outputs": [
        {
          "data": {
            "text/plain": [
              "list"
            ]
          },
          "execution_count": 56,
          "metadata": {},
          "output_type": "execute_result"
        }
      ],
      "source": [
        "data1=[5,7,8,1,4]\n",
        "type(data1)"
      ]
    },
    {
      "cell_type": "code",
      "execution_count": null,
      "id": "5f18c4b0",
      "metadata": {
        "id": "5f18c4b0",
        "outputId": "b2bcf015-2b7e-4655-9868-190ac11dffb9"
      },
      "outputs": [
        {
          "data": {
            "text/plain": [
              "numpy.ndarray"
            ]
          },
          "execution_count": 57,
          "metadata": {},
          "output_type": "execute_result"
        }
      ],
      "source": [
        "arr1=np.array(data1)\n",
        "type(arr1)"
      ]
    },
    {
      "cell_type": "code",
      "execution_count": null,
      "id": "adcca633",
      "metadata": {
        "id": "adcca633",
        "outputId": "ef13a901-e5aa-485c-8a51-cb097b32af3c"
      },
      "outputs": [
        {
          "name": "stdout",
          "output_type": "stream",
          "text": [
            "[5 7 8 1 4]\n"
          ]
        }
      ],
      "source": [
        "print(arr1)"
      ]
    },
    {
      "cell_type": "markdown",
      "id": "2aa07915",
      "metadata": {
        "id": "2aa07915"
      },
      "source": [
        "2차원 배열 생성 예제"
      ]
    },
    {
      "cell_type": "code",
      "execution_count": null,
      "id": "4bbbf740",
      "metadata": {
        "id": "4bbbf740",
        "outputId": "1c2dc60a-face-4474-902a-2d5cbea518f3"
      },
      "outputs": [
        {
          "name": "stdout",
          "output_type": "stream",
          "text": [
            "[[1 2 3]\n",
            " [4 5 6]]\n"
          ]
        }
      ],
      "source": [
        "arr1=np.array([[1,2,3],\n",
        "               [4,5,6]])\n",
        "print(arr1)"
      ]
    },
    {
      "cell_type": "markdown",
      "id": "235ce109",
      "metadata": {
        "id": "235ce109"
      },
      "source": [
        "numpy 배열의 산술 연산\n",
        "- numpy 배열은 반복문을 작성하지 않고 데이터를 일괄 처리할 수 있음\n",
        " - \"벡터화\"라고 부름"
      ]
    },
    {
      "cell_type": "code",
      "execution_count": null,
      "id": "e8af49c0",
      "metadata": {
        "id": "e8af49c0",
        "outputId": "2d96d54d-5a4e-489a-d562-7b496d6583ab"
      },
      "outputs": [
        {
          "name": "stdout",
          "output_type": "stream",
          "text": [
            "[[ 1  4  9]\n",
            " [16 25 36]]\n"
          ]
        }
      ],
      "source": [
        "arr1=np.array([[1,2,3],\n",
        "               [4,5,6]])\n",
        "#요소곱\n",
        "print(arr1*arr1)"
      ]
    },
    {
      "cell_type": "code",
      "execution_count": null,
      "id": "8de249a9",
      "metadata": {
        "id": "8de249a9",
        "outputId": "dec9741e-0bc4-4f14-c7c9-8e5d1f497c81"
      },
      "outputs": [
        {
          "name": "stdout",
          "output_type": "stream",
          "text": [
            "[[ 2  4  6]\n",
            " [ 8 10 12]]\n"
          ]
        }
      ],
      "source": [
        "#요소합\n",
        "print(arr1+arr1)"
      ]
    },
    {
      "cell_type": "code",
      "execution_count": null,
      "id": "205ab069",
      "metadata": {
        "id": "205ab069",
        "outputId": "3ba6c7f3-13d0-4b20-f0e9-f4b260a13ae7"
      },
      "outputs": [
        {
          "name": "stdout",
          "output_type": "stream",
          "text": [
            "[[1.         0.5        0.33333333]\n",
            " [0.25       0.2        0.16666667]]\n"
          ]
        }
      ],
      "source": [
        "#나눗셈\n",
        "print(1/arr1)"
      ]
    },
    {
      "cell_type": "code",
      "execution_count": null,
      "id": "525afbac",
      "metadata": {
        "id": "525afbac",
        "outputId": "5bc9d150-d700-40e9-91af-e91d1c061666"
      },
      "outputs": [
        {
          "name": "stdout",
          "output_type": "stream",
          "text": [
            "[[ True  True  True]\n",
            " [ True  True  True]]\n"
          ]
        }
      ],
      "source": [
        "print(arr1==arr1)"
      ]
    },
    {
      "cell_type": "code",
      "execution_count": null,
      "id": "bc8333b5",
      "metadata": {
        "id": "bc8333b5",
        "outputId": "e7aae438-bcf8-423e-a1fe-8c2dcce18e58"
      },
      "outputs": [
        {
          "name": "stdout",
          "output_type": "stream",
          "text": [
            "[[14 32]\n",
            " [32 77]]\n"
          ]
        }
      ],
      "source": [
        "#행렬곱\n",
        "print(np.dot(arr1, np.transpose(arr1)))"
      ]
    },
    {
      "cell_type": "markdown",
      "id": "7e5d2471",
      "metadata": {
        "id": "7e5d2471"
      },
      "source": [
        "3 x 3 배열 생성(범위 지정 후 모양을 다듬어서 생성)"
      ]
    },
    {
      "cell_type": "code",
      "execution_count": null,
      "id": "fc8518c1",
      "metadata": {
        "id": "fc8518c1",
        "outputId": "e1b4129d-5e1f-4d6e-bb7b-d879b4d5c928"
      },
      "outputs": [
        {
          "name": "stdout",
          "output_type": "stream",
          "text": [
            "[1 2 3 4 5 6 7 8 9]\n"
          ]
        }
      ],
      "source": [
        "#1차원 배열 생성\n",
        "arr1= np.array(range(1,10))\n",
        "print(arr1)"
      ]
    },
    {
      "cell_type": "code",
      "execution_count": null,
      "id": "f1586dcc",
      "metadata": {
        "scrolled": true,
        "id": "f1586dcc",
        "outputId": "86ae5bb4-44a3-4f8c-82a0-ca28530d953f"
      },
      "outputs": [
        {
          "name": "stdout",
          "output_type": "stream",
          "text": [
            "[[1 2 3]\n",
            " [4 5 6]\n",
            " [7 8 9]]\n"
          ]
        }
      ],
      "source": [
        "#2차원 3 x 3 배열 생성\n",
        "arr2= np.array(range(1,10)).reshape(3,3)\n",
        "print(arr2)"
      ]
    },
    {
      "cell_type": "markdown",
      "id": "8a8aec36",
      "metadata": {
        "id": "8a8aec36"
      },
      "source": [
        "배열 인덱싱과 슬라이싱\n",
        "- numpy 배열은 순차적(sequential) 데이터이기 때문에 인덱싱과 슬라이싱 가능"
      ]
    },
    {
      "cell_type": "markdown",
      "id": "2df3e02b",
      "metadata": {
        "id": "2df3e02b"
      },
      "source": [
        "배열 인덱싱 예제"
      ]
    },
    {
      "cell_type": "code",
      "execution_count": null,
      "id": "d6753662",
      "metadata": {
        "id": "d6753662",
        "outputId": "db2b5052-e45e-4af6-e4c7-8de3cb752a74"
      },
      "outputs": [
        {
          "name": "stdout",
          "output_type": "stream",
          "text": [
            "[0 1 2 3 4 5 6 7 8 9]\n"
          ]
        }
      ],
      "source": [
        "arr1=np.arange(10)\n",
        "print(arr1)"
      ]
    },
    {
      "cell_type": "code",
      "execution_count": null,
      "id": "a0fd8188",
      "metadata": {
        "id": "a0fd8188",
        "outputId": "41693a70-34d1-4c60-ff6d-28e6b6735a4d"
      },
      "outputs": [
        {
          "name": "stdout",
          "output_type": "stream",
          "text": [
            "5\n",
            "[5 6 7]\n"
          ]
        }
      ],
      "source": [
        "print(arr1[5])\n",
        "print(arr1[5:8])"
      ]
    },
    {
      "cell_type": "markdown",
      "id": "841f8ec6",
      "metadata": {
        "id": "841f8ec6"
      },
      "source": [
        "다차원 배열 객체 연산\n",
        "- 브로드캐스팅되어 연산됨"
      ]
    },
    {
      "cell_type": "code",
      "execution_count": null,
      "id": "6fcf8122",
      "metadata": {
        "id": "6fcf8122",
        "outputId": "982f8b75-e45a-4f60-b857-26c472102494"
      },
      "outputs": [
        {
          "name": "stdout",
          "output_type": "stream",
          "text": [
            "[5 6 7]\n",
            "[[1. 2. 3.]\n",
            " [1. 2. 3.]\n",
            " [1. 2. 3.]]\n"
          ]
        }
      ],
      "source": [
        "# 1 x 3 배열 +정수\n",
        "print(np.arange(3)+5)\n",
        "\n",
        "#3 x 3 배열 + 1 x 3 배열\n",
        "print(np.ones((3,3)) + np.arange(3))"
      ]
    },
    {
      "cell_type": "code",
      "execution_count": null,
      "id": "d2f26a1e",
      "metadata": {
        "id": "d2f26a1e",
        "outputId": "92a154f2-ec3c-42db-f733-4f92a3000d17"
      },
      "outputs": [
        {
          "name": "stdout",
          "output_type": "stream",
          "text": [
            "[[0 1 2]\n",
            " [1 2 3]\n",
            " [2 3 4]]\n"
          ]
        }
      ],
      "source": [
        "#3 x 1 배열 + 1 x 3 배열\n",
        "print(np.arange(3).reshape(3,1)+np.arange(3))"
      ]
    },
    {
      "cell_type": "markdown",
      "id": "3b842a96",
      "metadata": {
        "id": "3b842a96"
      },
      "source": [
        "배열 전치와 축 바꾸기\n",
        "- np.transpose() or np.T 사용"
      ]
    },
    {
      "cell_type": "code",
      "execution_count": null,
      "id": "f92ef673",
      "metadata": {
        "id": "f92ef673",
        "outputId": "2733b857-437a-469c-b821-612671288c76"
      },
      "outputs": [
        {
          "name": "stdout",
          "output_type": "stream",
          "text": [
            "<class 'numpy.ndarray'>\n",
            "[0 1 2]\n",
            "<class 'numpy.ndarray'>\n",
            "[0 1 2]\n"
          ]
        }
      ],
      "source": [
        "arr=np.arange(3)\n",
        "print(type(arr))\n",
        "print(arr.transpose())\n",
        "\n",
        "arr2=np.array([0,1,2])\n",
        "print(type(arr2))\n",
        "print(arr2.transpose())"
      ]
    },
    {
      "cell_type": "code",
      "execution_count": null,
      "id": "f0a2c8e5",
      "metadata": {
        "id": "f0a2c8e5",
        "outputId": "a6149443-efd8-4a22-b0ad-d99e33c5fe78"
      },
      "outputs": [
        {
          "name": "stdout",
          "output_type": "stream",
          "text": [
            "[[ 0  1  2  3  4]\n",
            " [ 5  6  7  8  9]\n",
            " [10 11 12 13 14]]\n"
          ]
        }
      ],
      "source": [
        "arr=np.arange(15).reshape(3,5)\n",
        "print(arr)"
      ]
    },
    {
      "cell_type": "code",
      "execution_count": null,
      "id": "16722bac",
      "metadata": {
        "id": "16722bac",
        "outputId": "acecb4fd-1bd8-4822-8fc2-cc5baa6317ab"
      },
      "outputs": [
        {
          "name": "stdout",
          "output_type": "stream",
          "text": [
            "[[ 0  5 10]\n",
            " [ 1  6 11]\n",
            " [ 2  7 12]\n",
            " [ 3  8 13]\n",
            " [ 4  9 14]]\n"
          ]
        }
      ],
      "source": [
        "print(arr.transpose())"
      ]
    },
    {
      "cell_type": "code",
      "execution_count": null,
      "id": "681c828b",
      "metadata": {
        "id": "681c828b",
        "outputId": "4f0f8b65-860e-416d-c7b6-4dcdfcb524c7"
      },
      "outputs": [
        {
          "name": "stdout",
          "output_type": "stream",
          "text": [
            "[[ 0  5 10]\n",
            " [ 1  6 11]\n",
            " [ 2  7 12]\n",
            " [ 3  8 13]\n",
            " [ 4  9 14]]\n"
          ]
        }
      ],
      "source": [
        "print(arr.T)"
      ]
    },
    {
      "cell_type": "markdown",
      "id": "0d916c43",
      "metadata": {
        "id": "0d916c43"
      },
      "source": [
        "np.trasnpose(np.array([[0,1,2]]))\n",
        "- 2차원 배열이기 때문에 전치와 축 바꾸기 가능\n",
        "\n",
        "np.trasnpose(np.arange(3),type(np.arange(3)))\n",
        "- 1차원 배열은 전치와 축 바꾸기 불가능"
      ]
    },
    {
      "cell_type": "markdown",
      "id": "09539c37",
      "metadata": {
        "id": "09539c37"
      },
      "source": [
        "3차원 배열 만들기"
      ]
    },
    {
      "cell_type": "code",
      "execution_count": null,
      "id": "9e4141da",
      "metadata": {
        "id": "9e4141da",
        "outputId": "eafb6717-578e-4abb-9023-8c8041af8641"
      },
      "outputs": [
        {
          "name": "stdout",
          "output_type": "stream",
          "text": [
            "[[[ 1  2  3  4]\n",
            "  [ 5  6  7  8]\n",
            "  [ 9 10 11 12]]\n",
            "\n",
            " [[11 12 13 14]\n",
            "  [15 16 17 18]\n",
            "  [19 20 21 22]]]\n"
          ]
        }
      ],
      "source": [
        "arr=np.array([[[1,2,3,4],\n",
        "              [5,6,7,8],\n",
        "              [9,10,11,12]],\n",
        "             [[11,12,13,14],\n",
        "             [15,16,17,18],\n",
        "             [19,20,21,22]]])\n",
        "print(arr)"
      ]
    },
    {
      "cell_type": "markdown",
      "id": "7b51f2e7",
      "metadata": {
        "id": "7b51f2e7"
      },
      "source": [
        "단항 유니버설 함수, 이항 유니버설 함수, 수학 메서드, 통계 메서드, 집합 관련 함수, 배열 데이터 파일 입출력,..."
      ]
    },
    {
      "cell_type": "markdown",
      "id": "455ee836",
      "metadata": {
        "id": "455ee836"
      },
      "source": [
        "numpy 배열을 pandas dataframe으로 바꾸는 방법"
      ]
    },
    {
      "cell_type": "code",
      "execution_count": null,
      "id": "f2a252a6",
      "metadata": {
        "id": "f2a252a6",
        "outputId": "43de28f5-1833-4300-dd48-b3f56c0cc0c2"
      },
      "outputs": [
        {
          "name": "stdout",
          "output_type": "stream",
          "text": [
            "    0   1   2   3   4\n",
            "0   0   1   2   3   4\n",
            "1   5   6   7   8   9\n",
            "2  10  11  12  13  14\n"
          ]
        }
      ],
      "source": [
        "arr=np.arange(15).reshape(3,5)\n",
        "\n",
        "import pandas as pd\n",
        "\n",
        "df=pd.DataFrame(arr)\n",
        "print(df)"
      ]
    },
    {
      "cell_type": "markdown",
      "id": "8577619e",
      "metadata": {
        "id": "8577619e"
      },
      "source": [
        "Numpy를 어디서 쓰는가<br>\n",
        "이미지 처리할 때 numpy 사용\n",
        "사진(픽셀)-> 행렬 처리"
      ]
    },
    {
      "cell_type": "markdown",
      "id": "1c326dc9",
      "metadata": {
        "id": "1c326dc9"
      },
      "source": [
        "3차원 배열 데이터프레임으로 변환 참고<br>\n",
        "https://velog.io/@autumn/Python-AttributeError-module-pandas-has-no-attribute-Panel"
      ]
    },
    {
      "cell_type": "markdown",
      "id": "032ee087",
      "metadata": {
        "id": "032ee087"
      },
      "source": [
        "---------------------------------------"
      ]
    },
    {
      "cell_type": "markdown",
      "id": "499d906e",
      "metadata": {
        "id": "499d906e"
      },
      "source": [
        "# 산술 연산\n",
        "- 판다스 객체의 산술 연산 3단계 프로세스(내부)\n",
        "1. 행/열 인덱스를 기준으로 모든 원소를 정렬\n",
        "2. 일대일 대응되는 원소끼리 연산\n",
        "3. 대응되는 원소가 없다면 NaN"
      ]
    },
    {
      "cell_type": "markdown",
      "id": "74e3aafd",
      "metadata": {
        "id": "74e3aafd"
      },
      "source": [
        "## 시리즈 연산\n",
        "시리즈 vs 연산\n",
        "- 시리즈 객체에 연산을 하면 계산된 결과를 시리즈 객체로 반환<br>\n",
        "<code>시리즈와 숫자 연산:Series객체 + 연산자(+,-,*,/)+숫자</code>"
      ]
    },
    {
      "cell_type": "markdown",
      "id": "d4829b66",
      "metadata": {
        "id": "d4829b66"
      },
      "source": [
        "시리즈를 숫자로 나누기 예제"
      ]
    },
    {
      "cell_type": "code",
      "execution_count": null,
      "id": "44406d0a",
      "metadata": {
        "id": "44406d0a",
        "outputId": "ad5f77bd-b247-4e6e-8c2c-aa5db8b943c0"
      },
      "outputs": [
        {
          "name": "stdout",
          "output_type": "stream",
          "text": [
            "국어    100\n",
            "영어     80\n",
            "수학     90\n",
            "dtype: int64\n"
          ]
        }
      ],
      "source": [
        "import pandas as pd\n",
        "\n",
        "#딕셔너리 데이터로 판다스 시리즈 만들기\n",
        "student1=pd.Series({'국어':100,'영어':80,'수학':90})\n",
        "print(student1)"
      ]
    },
    {
      "cell_type": "code",
      "execution_count": null,
      "id": "b97dc1ed",
      "metadata": {
        "id": "b97dc1ed",
        "outputId": "1624129b-b26b-4107-accb-5038fd4353c0"
      },
      "outputs": [
        {
          "name": "stdout",
          "output_type": "stream",
          "text": [
            "국어    1.0\n",
            "영어    0.8\n",
            "수학    0.9\n",
            "dtype: float64\n"
          ]
        }
      ],
      "source": [
        "#학생의 과목별 점수를 100으로 나누기\n",
        "percentage=student1/100\n",
        "print(percentage)"
      ]
    },
    {
      "cell_type": "markdown",
      "id": "875a6dfc",
      "metadata": {
        "id": "875a6dfc"
      },
      "source": [
        "시리즈 vs 시리즈<br>\n",
        "<code>시리즈와 시리즈 연산:Series객체1 + 연산자(+,-,*,/)+Series객체2</code>\n",
        "\n",
        "시리즈 사칙연산 예제"
      ]
    },
    {
      "cell_type": "markdown",
      "id": "e935f3c1",
      "metadata": {
        "id": "e935f3c1"
      },
      "source": [
        "- 시리즈의 인덱스에 해당하는 부분이 데이터프레임의 옆 자리에 오게 됨"
      ]
    },
    {
      "cell_type": "code",
      "execution_count": null,
      "id": "52734318",
      "metadata": {
        "id": "52734318"
      },
      "outputs": [],
      "source": [
        "import pandas as pd\n",
        "\n",
        "#딕셔너리 데이터로 판다스 시리즈 만들기\n",
        "student1=pd.Series({'국어':100,'영어':80,'수학':90})\n",
        "student2=pd.Series({'국어':80,'영어':90,'수학':80})\n",
        "\n",
        "#두 학생의 과목별 점수로 사칙연산 수행\n",
        "addition=student1+student2\n",
        "subtraction=student1-student2\n",
        "multiplication=student1*student2\n",
        "division=student1/student2\n",
        "\n",
        "#사칙연산 결과를 데이터프레임으로 합치기(시리즈-> 데이터프레임)\n",
        "result=pd.DataFrame([addition,subtraction,multiplication,division],\n",
        "                    index=['덧셈','뺄셈','곱셈','나눗셈'])"
      ]
    },
    {
      "cell_type": "code",
      "execution_count": null,
      "id": "eec3833b",
      "metadata": {
        "id": "eec3833b",
        "outputId": "791abea9-eb1c-42d5-b448-c6cb2382502e"
      },
      "outputs": [
        {
          "name": "stdout",
          "output_type": "stream",
          "text": [
            "국어    100\n",
            "영어     80\n",
            "수학     90\n",
            "dtype: int64\n"
          ]
        }
      ],
      "source": [
        "print(student1)"
      ]
    },
    {
      "cell_type": "code",
      "execution_count": null,
      "id": "743083e8",
      "metadata": {
        "id": "743083e8",
        "outputId": "115c8a40-5a22-478d-c14f-cdec0f588684"
      },
      "outputs": [
        {
          "name": "stdout",
          "output_type": "stream",
          "text": [
            "국어    80\n",
            "영어    90\n",
            "수학    80\n",
            "dtype: int64\n"
          ]
        }
      ],
      "source": [
        "print(student2)"
      ]
    },
    {
      "cell_type": "code",
      "execution_count": null,
      "id": "daa4aafd",
      "metadata": {
        "id": "daa4aafd",
        "outputId": "4fb74d70-0b78-4395-e778-d4adcc4152bc"
      },
      "outputs": [
        {
          "name": "stdout",
          "output_type": "stream",
          "text": [
            "          국어           영어        수학\n",
            "덧셈    180.00   170.000000   170.000\n",
            "뺄셈     20.00   -10.000000    10.000\n",
            "곱셈   8000.00  7200.000000  7200.000\n",
            "나눗셈     1.25     0.888889     1.125\n"
          ]
        }
      ],
      "source": [
        "print(result)"
      ]
    },
    {
      "cell_type": "code",
      "execution_count": null,
      "id": "9200d0b5",
      "metadata": {
        "id": "9200d0b5"
      },
      "outputs": [],
      "source": [
        "import pandas as pd\n",
        "\n",
        "#딕셔너리 데이터로 판다스 시리즈 만들기\n",
        "student1=pd.Series({'국어':np.nan,'영어':80,'수학':90})\n",
        "student2=pd.Series({'수학':80,'국어':80})\n",
        "\n",
        "#두 학생의 과목별 점수로 사칙연산 수행\n",
        "addition=student1+student2\n",
        "subtraction=student1-student2\n",
        "multiplication=student1*student2\n",
        "division=student1/student2\n",
        "\n",
        "#사칙연산 결과를 데이터프레임으로 합치기(시리즈-> 데이터프레임)\n",
        "result=pd.DataFrame([addition,subtraction,multiplication,division],\n",
        "                    index=['덧셈','뺄셈','곱셈','나눗셈'])"
      ]
    },
    {
      "cell_type": "code",
      "execution_count": null,
      "id": "04149d29",
      "metadata": {
        "id": "04149d29",
        "outputId": "ca5f3db3-1b5d-4c48-d315-4154c766fa36"
      },
      "outputs": [
        {
          "name": "stdout",
          "output_type": "stream",
          "text": [
            "국어     NaN\n",
            "영어    80.0\n",
            "수학    90.0\n",
            "dtype: float64\n"
          ]
        }
      ],
      "source": [
        "print(student1)"
      ]
    },
    {
      "cell_type": "code",
      "execution_count": null,
      "id": "1744b317",
      "metadata": {
        "id": "1744b317",
        "outputId": "e7e5cc5f-7922-49e2-fade-369ec815a5f4"
      },
      "outputs": [
        {
          "name": "stdout",
          "output_type": "stream",
          "text": [
            "수학    80\n",
            "국어    80\n",
            "dtype: int64\n"
          ]
        }
      ],
      "source": [
        "print(student2)"
      ]
    },
    {
      "cell_type": "code",
      "execution_count": null,
      "id": "d42c2d8b",
      "metadata": {
        "id": "d42c2d8b",
        "outputId": "1adb5d9a-595a-4a15-ddec-ddd7cdcc312d"
      },
      "outputs": [
        {
          "name": "stdout",
          "output_type": "stream",
          "text": [
            "     국어        수학  영어\n",
            "덧셈  NaN   170.000 NaN\n",
            "뺄셈  NaN    10.000 NaN\n",
            "곱셈  NaN  7200.000 NaN\n",
            "나눗셈 NaN     1.125 NaN\n"
          ]
        }
      ],
      "source": [
        "print(result)"
      ]
    },
    {
      "cell_type": "markdown",
      "id": "f23d38fe",
      "metadata": {
        "id": "f23d38fe"
      },
      "source": [
        "연산 메소드\n",
        "- 연산 결과가 NaN으로 반환되지 않도록 하기 위해 연산 메소드에 fill_value 옵션을 설정하여 적용<br>\n",
        "<code>연산 메소드 사용(시리즈와 시리즈 덧셈):Series 객체1.add(Series 객체2, fill_value=0)"
      ]
    },
    {
      "cell_type": "markdown",
      "id": "9a8997b7",
      "metadata": {
        "id": "9a8997b7"
      },
      "source": [
        "연산 메소드 사용 예제(시리즈 연산)"
      ]
    },
    {
      "cell_type": "code",
      "execution_count": null,
      "id": "36888cc7",
      "metadata": {
        "id": "36888cc7"
      },
      "outputs": [],
      "source": [
        "import pandas as pd\n",
        "\n",
        "#딕셔너리 데이터로 판다스 시리즈 만들기\n",
        "student1=pd.Series({'국어':np.nan,'영어':80,'수학':90})\n",
        "student2=pd.Series({'수학':80,'국어':80})\n",
        "\n",
        "#두 학생의 과목별 점수로 사칙연산 수행\n",
        "sr_add=student1.add(student2,fill_value=0)\n",
        "sr_sub=student1.sub(student2,fill_value=0)\n",
        "sr_mul=student1.mul(student2,fill_value=0)\n",
        "sr_div=student1.div(student2,fill_value=0)\n",
        "\n",
        "#사칙연산 결과를 데이터프레임으로 합치지(시리즈-> 데이터프레임)\n",
        "result=pd.DataFrame([sr_add,sr_sub,sr_mul,sr_div],\n",
        "                    index=['덧셈','뺄셈','곱셈','나눗셈'])"
      ]
    },
    {
      "cell_type": "code",
      "execution_count": null,
      "id": "eee14284",
      "metadata": {
        "id": "eee14284",
        "outputId": "06ac0973-5685-489a-9dbc-e8d4462274b0"
      },
      "outputs": [
        {
          "name": "stdout",
          "output_type": "stream",
          "text": [
            "       국어        수학    영어\n",
            "덧셈   80.0   170.000  80.0\n",
            "뺄셈  -80.0    10.000  80.0\n",
            "곱셈    0.0  7200.000   0.0\n",
            "나눗셈   0.0     1.125   inf\n"
          ]
        }
      ],
      "source": [
        "print(result)"
      ]
    },
    {
      "cell_type": "markdown",
      "id": "28a61d46",
      "metadata": {
        "id": "28a61d46"
      },
      "source": [
        "- '영어'열의 나눗셈 값은 80을 0으로 나누었기 때문에 무한대로 표기(inf)"
      ]
    },
    {
      "cell_type": "markdown",
      "id": "09ceefc6",
      "metadata": {
        "id": "09ceefc6"
      },
      "source": [
        "## 데이터프레임 연산\n",
        "- 데이터프레임은 여러 시리즈 한데 모인 것\n",
        "- 행/열 인덱스를 정렬하고 일대일 대응되는 원소끼리 연산 처리"
      ]
    },
    {
      "cell_type": "markdown",
      "id": "f5380359",
      "metadata": {
        "id": "f5380359"
      },
      "source": [
        "데이터프레임 vs 숫자<br>\n",
        "<code>데이터프레임과 숫자 연산:DataFrame 객체+연산자(+,-,*,/)+숫자</code>"
      ]
    },
    {
      "cell_type": "markdown",
      "id": "f4fee1dd",
      "metadata": {
        "id": "f4fee1dd"
      },
      "source": [
        "해결 위해 사용해본 방법<br>\n",
        "\n",
        "\n",
        "!pip install seaborn<br>\n",
        "\n",
        "\n",
        "import pip<br>\n",
        "pip.main(['install', 'seaborn'])<br>\n",
        "\n",
        "\n",
        "cmd창 C:\\Users\\OOO>python -m pip install seaborn<br>\n",
        "\n",
        "\n",
        "%pip install seaborn<br>\n",
        "\n",
        "\n",
        "import sys <br>\n",
        "!{sys.executable} -m pip install seaborn<br>"
      ]
    },
    {
      "cell_type": "markdown",
      "id": "6dc0e3c6",
      "metadata": {
        "id": "6dc0e3c6"
      },
      "source": [
        "pip 업데이트 cmd 관리자모드<br>\n",
        "pip install --upgrade pip<br>\n",
        "pip3 install seaborn</n>\n",
        "\n",
        "\n",
        "cmd 관리자모드<br>\n",
        "python -m pip install seaborn<br>\n",
        "\n",
        "\n",
        "pip install pyforest<br>\n",
        "python<br>\n",
        "import seaborn as sns<br>\n",
        "\n",
        "\n",
        "seaborn 폴더 python에 복사 후 경로 설정<br>\n",
        "python<br>\n",
        "import sys<br>\n",
        "sys.path.append(\"seaborn폴더 경로\")<br>\n",
        "import seaborn<br>\n",
        "안되면 sys.path.remove(\"경로\")<br>\n",
        "\n",
        "결국 colab사용하기로"
      ]
    },
    {
      "cell_type": "code",
      "execution_count": null,
      "id": "e1296ffc",
      "metadata": {
        "id": "e1296ffc",
        "outputId": "1438e1d6-d187-4fa3-fc34-e831e514d6cc"
      },
      "outputs": [
        {
          "name": "stdout",
          "output_type": "stream",
          "text": [
            "3.9.7 (tags/v3.9.7:1016ef3, Aug 30 2021, 20:19:38) [MSC v.1929 64 bit (AMD64)]\n"
          ]
        }
      ],
      "source": [
        "import sys\n",
        "print(sys.version)"
      ]
    },
    {
      "cell_type": "markdown",
      "source": [
        "데이터프레임에 숫자 더하기 예제"
      ],
      "metadata": {
        "id": "FUujS-hGQ1nS"
      },
      "id": "FUujS-hGQ1nS"
    },
    {
      "cell_type": "code",
      "execution_count": null,
      "id": "0265e6bc",
      "metadata": {
        "id": "0265e6bc"
      },
      "outputs": [],
      "source": [
        "import pandas as pd\n",
        "import seaborn as sns"
      ]
    },
    {
      "cell_type": "code",
      "execution_count": null,
      "id": "7b034781",
      "metadata": {
        "colab": {
          "base_uri": "https://localhost:8080/"
        },
        "id": "7b034781",
        "outputId": "51727c82-0236-4489-bb53-18f5c7e26221"
      },
      "outputs": [
        {
          "output_type": "stream",
          "name": "stdout",
          "text": [
            "    age     fare\n",
            "0  22.0   7.2500\n",
            "1  38.0  71.2833\n",
            "2  26.0   7.9250\n",
            "3  35.0  53.1000\n",
            "4  35.0   8.0500\n"
          ]
        }
      ],
      "source": [
        "# titanic 데이터셋에서 age, fare 2개 열을 선택하여 데이터프레임 만들기\n",
        "titanic = sns.load_dataset('titanic')\n",
        "df = titanic.loc[:,['age', 'fare']]\n",
        "\n",
        "# 첫 5행만 표시\n",
        "print(df.head())"
      ]
    },
    {
      "cell_type": "code",
      "execution_count": null,
      "id": "d00b5604",
      "metadata": {
        "colab": {
          "base_uri": "https://localhost:8080/"
        },
        "id": "d00b5604",
        "outputId": "71e300b0-491d-49c1-bc4e-9d3ba6857d25"
      },
      "outputs": [
        {
          "output_type": "stream",
          "name": "stdout",
          "text": [
            "    age     fare\n",
            "0  32.0  17.2500\n",
            "1  48.0  81.2833\n",
            "2  36.0  17.9250\n",
            "3  45.0  63.1000\n",
            "4  45.0  18.0500\n"
          ]
        }
      ],
      "source": [
        "#데이터프레임에 숫자 10 더하기\n",
        "addition=df+10\n",
        "print(addition.head())"
      ]
    },
    {
      "cell_type": "markdown",
      "id": "5bb33842",
      "metadata": {
        "id": "5bb33842"
      },
      "source": [
        "데이터프레임 vs 데이터프레임<br>\n",
        "- 각 데이터프레임의 같은 행, 같은 열 위치에 있는 원소끼리 계산\n",
        "- 데이터프레임에서 어느 한 쪽에 원소가 존재하지 않거나 NaN이면 연산 결과로 NaN으로 처리됨<br>\n",
        "<code>데이터프레임의 연산자 활용:DataFrame 객체1+연산자(+,-,*,/)+DataFrame객체2</code>"
      ]
    },
    {
      "cell_type": "code",
      "execution_count": null,
      "id": "41ffb3fd",
      "metadata": {
        "colab": {
          "base_uri": "https://localhost:8080/"
        },
        "id": "41ffb3fd",
        "outputId": "7c67e039-1fd2-472d-e025-70aefc1be50f"
      },
      "outputs": [
        {
          "output_type": "stream",
          "name": "stdout",
          "text": [
            "    age  fare\n",
            "0  10.0  10.0\n",
            "1  10.0  10.0\n",
            "2  10.0  10.0\n",
            "3  10.0  10.0\n",
            "4  10.0  10.0\n"
          ]
        }
      ],
      "source": [
        "import pandas as pd\n",
        "import seaborn as sns\n",
        "\n",
        "#titanic 데이터셋에서 age, fare 2개 열을 선택하여 데이터프레임 만들기\n",
        "titanic=sns.load_dataset('titanic')\n",
        "df=titanic.loc[:,['age','fare']]\n",
        "\n",
        "#데이터프레임에 숫자 10 더하기\n",
        "addition=df+10\n",
        "\n",
        "#데이터프레임끼리 연산하기\n",
        "subtraction=addition-df\n",
        "print(subtraction.head())"
      ]
    },
    {
      "cell_type": "code",
      "execution_count": null,
      "id": "68c8698b",
      "metadata": {
        "colab": {
          "base_uri": "https://localhost:8080/"
        },
        "id": "68c8698b",
        "outputId": "151507fa-c3ad-4a1c-ce8c-d7c98fed9ab8"
      },
      "outputs": [
        {
          "output_type": "stream",
          "name": "stdout",
          "text": [
            "      age  fare\n",
            "886  10.0  10.0\n",
            "887  10.0  10.0\n",
            "888   NaN  10.0\n",
            "889  10.0  10.0\n",
            "890  10.0  10.0\n"
          ]
        }
      ],
      "source": [
        "print(subtraction.tail())"
      ]
    },
    {
      "cell_type": "markdown",
      "id": "419bc8aa",
      "metadata": {
        "id": "419bc8aa"
      },
      "source": [
        "데이터프레임 연산에서 NaN 처리하기 예제 - 첫 번째 방법"
      ]
    },
    {
      "cell_type": "code",
      "execution_count": null,
      "id": "16129bd8",
      "metadata": {
        "colab": {
          "base_uri": "https://localhost:8080/"
        },
        "id": "16129bd8",
        "outputId": "2d80e5ba-0599-4627-dfd3-8641f60b54f9"
      },
      "outputs": [
        {
          "output_type": "stream",
          "name": "stdout",
          "text": [
            "      age  fare\n",
            "886  10.0  10.0\n",
            "887  10.0  10.0\n",
            "888  10.0  10.0\n",
            "889  10.0  10.0\n",
            "890  10.0  10.0\n"
          ]
        }
      ],
      "source": [
        "import pandas as pd\n",
        "import seaborn as sns\n",
        "\n",
        "#titanic 데이터셋에서 age, fare 2개 열을 선택하여 데이터프레임 만들기\n",
        "titanic=sns.load_dataset('titanic')\n",
        "df=titanic.loc[:,['age','fare']]\n",
        "\n",
        "#데이터프레임에 숫자 10 더하기\n",
        "addition=df+10 #NaN(0)+10\n",
        "\n",
        "df_sub.ffill(inplace=True)\n",
        "#ffill() 함수 사용시 이전 연산에 대한 결과값을 NaN대신 출력\n",
        "print(df_sub.tail())"
      ]
    },
    {
      "cell_type": "markdown",
      "id": "8bf1e982",
      "metadata": {
        "id": "8bf1e982"
      },
      "source": [
        "데이터프레임 연산예제 NaN 처리하기 예제 - 두번째 방법"
      ]
    },
    {
      "cell_type": "code",
      "execution_count": null,
      "id": "b136bcdb",
      "metadata": {
        "colab": {
          "base_uri": "https://localhost:8080/"
        },
        "id": "b136bcdb",
        "outputId": "97f78b0d-c1d4-4c29-e45a-4cc8f95d5427"
      },
      "outputs": [
        {
          "output_type": "stream",
          "name": "stdout",
          "text": [
            "      age   fare\n",
            "886  37.0  23.00\n",
            "887  29.0  40.00\n",
            "888  10.0  33.45\n",
            "889  36.0  40.00\n",
            "890  42.0  17.75\n"
          ]
        }
      ],
      "source": [
        "import pandas as pd\n",
        "import seaborn as sns\n",
        "\n",
        "#titanic 데이터셋에서 age, fare 2개 열을 선택하여 데이터프레임 만들기\n",
        "titanic=sns.load_dataset('titanic')\n",
        "df=titanic.loc[:,['age','fare']]\n",
        "\n",
        "#데이터프레임에 NaN을 0으로 바꾸기\n",
        "df.fillna(0,inplace=True)\n",
        "\n",
        "#데이터프레임에 숫자 10 더하기\n",
        "addition=df+10\n",
        "\n",
        "print(addition.tail())"
      ]
    },
    {
      "cell_type": "code",
      "execution_count": null,
      "id": "f0ddaeb6",
      "metadata": {
        "id": "f0ddaeb6"
      },
      "outputs": [],
      "source": [
        ""
      ]
    },
    {
      "cell_type": "code",
      "execution_count": null,
      "id": "cb5385b6",
      "metadata": {
        "id": "cb5385b6"
      },
      "outputs": [],
      "source": [
        ""
      ]
    }
  ],
  "metadata": {
    "kernelspec": {
      "display_name": "Python 3 (ipykernel)",
      "language": "python",
      "name": "python3"
    },
    "language_info": {
      "codemirror_mode": {
        "name": "ipython",
        "version": 3
      },
      "file_extension": ".py",
      "mimetype": "text/x-python",
      "name": "python",
      "nbconvert_exporter": "python",
      "pygments_lexer": "ipython3",
      "version": "3.9.7"
    },
    "colab": {
      "name": "14일차(colab).ipynb",
      "provenance": [],
      "collapsed_sections": [
        "613796ee",
        "41207958"
      ],
      "include_colab_link": true
    }
  },
  "nbformat": 4,
  "nbformat_minor": 5
}