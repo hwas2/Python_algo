{
  "cells": [
    {
      "cell_type": "markdown",
      "metadata": {
        "id": "view-in-github",
        "colab_type": "text"
      },
      "source": [
        "<a href=\"https://colab.research.google.com/github/hwas2/Python_study/blob/master/8%EC%9D%BC%EC%B0%A8.ipynb\" target=\"_parent\"><img src=\"https://colab.research.google.com/assets/colab-badge.svg\" alt=\"Open In Colab\"/></a>"
      ]
    },
    {
      "cell_type": "markdown",
      "id": "eb3869c1",
      "metadata": {
        "id": "eb3869c1"
      },
      "source": [
        "정렬"
      ]
    },
    {
      "cell_type": "code",
      "execution_count": null,
      "id": "83b97ac9",
      "metadata": {
        "id": "83b97ac9",
        "outputId": "e4c9a6c8-5f41-441c-b8b8-52598773cb97"
      },
      "outputs": [
        {
          "name": "stdout",
          "output_type": "stream",
          "text": [
            "        hi\n"
          ]
        }
      ],
      "source": [
        "print(\"%10s\" % \"hi\")"
      ]
    },
    {
      "cell_type": "code",
      "execution_count": null,
      "id": "a2bb358c",
      "metadata": {
        "id": "a2bb358c",
        "outputId": "4f05aac9-86d8-4412-8a7f-1ffd0196c3da"
      },
      "outputs": [
        {
          "name": "stdout",
          "output_type": "stream",
          "text": [
            "    3.4123\n"
          ]
        }
      ],
      "source": [
        "print(\"%10.4f\" % 3.4123123123) #글 포함 앞으로 10자리 만듦"
      ]
    },
    {
      "cell_type": "code",
      "execution_count": null,
      "id": "970a2e89",
      "metadata": {
        "id": "970a2e89",
        "outputId": "fee95be9-3ab3-4fdc-c7c5-529f4198019d"
      },
      "outputs": [
        {
          "name": "stdout",
          "output_type": "stream",
          "text": [
            "3.4123    \n"
          ]
        }
      ],
      "source": [
        "print(\"%-10.4f\" % 3.4123123123) #글 포함 뒤로 10자리"
      ]
    },
    {
      "cell_type": "code",
      "execution_count": null,
      "id": "d93cee8e",
      "metadata": {
        "id": "d93cee8e",
        "outputId": "22f6c26d-3732-4a32-efbf-9265e0c47931"
      },
      "outputs": [
        {
          "name": "stdout",
          "output_type": "stream",
          "text": [
            "I ate 10 apple. so I was sick for three days.\n"
          ]
        }
      ],
      "source": [
        "number=10\n",
        "day=\"three\"\n",
        "print(\"I ate {} apple. so I was sick for {} days.\".format(number,day))"
      ]
    },
    {
      "cell_type": "code",
      "execution_count": null,
      "id": "f29fa726",
      "metadata": {
        "id": "f29fa726",
        "outputId": "eaf478c4-49b1-420e-a4cb-3ff9c1677efe"
      },
      "outputs": [
        {
          "name": "stdout",
          "output_type": "stream",
          "text": [
            "hi        \n"
          ]
        }
      ],
      "source": [
        "print(\"{:10}\".format(\"hi\"))"
      ]
    },
    {
      "cell_type": "code",
      "execution_count": null,
      "id": "9fb2f42c",
      "metadata": {
        "scrolled": true,
        "id": "9fb2f42c",
        "outputId": "6e68703d-1310-400b-cd02-158dca66fdd8"
      },
      "outputs": [
        {
          "name": "stdout",
          "output_type": "stream",
          "text": [
            "        hi\n"
          ]
        }
      ],
      "source": [
        "print(\"{0:>10}\".format(\"hi\")) #총 10칸, 글자 2칸 빼고 8칸의 공백 생김,오른쪽 정렬"
      ]
    },
    {
      "cell_type": "code",
      "execution_count": null,
      "id": "caeb60d3",
      "metadata": {
        "id": "caeb60d3",
        "outputId": "a132e7b8-d2c9-4acc-87ee-300f5c57ac5d"
      },
      "outputs": [
        {
          "name": "stdout",
          "output_type": "stream",
          "text": [
            "        hi\n"
          ]
        }
      ],
      "source": [
        "print(\"{:>10}\".format(\"hi\"))"
      ]
    },
    {
      "cell_type": "code",
      "execution_count": null,
      "id": "4b5e5032",
      "metadata": {
        "id": "4b5e5032",
        "outputId": "50a8b9bc-4a6b-4c01-e42d-aae8ce955ed2"
      },
      "outputs": [
        {
          "name": "stdout",
          "output_type": "stream",
          "text": [
            "    hi    \n"
          ]
        }
      ],
      "source": [
        "print(\"{0:^10}\".format(\"hi\")) #10칸 중 가운데 정렬 4칸hi4칸"
      ]
    },
    {
      "cell_type": "markdown",
      "id": "98b6c437",
      "metadata": {
        "id": "98b6c437"
      },
      "source": [
        "별 왼쪽 정렬 찍기"
      ]
    },
    {
      "cell_type": "code",
      "execution_count": null,
      "id": "b30f2de4",
      "metadata": {
        "id": "b30f2de4",
        "outputId": "4988cbfd-52b8-415b-bc9f-dd55d478128d"
      },
      "outputs": [
        {
          "name": "stdout",
          "output_type": "stream",
          "text": [
            "별을 몇 개 찍으시겠습니까? : 4\n",
            "   ★\n",
            "   ★★\n",
            "   ★★★\n",
            "   ★★★★\n"
          ]
        }
      ],
      "source": [
        "x=int(input(\"별을 몇 개 찍으시겠습니까? : \"))\n",
        "for i in range(1,x+1):\n",
        "    for j in range(x-1):\n",
        "        print(\" \", end=\"\")\n",
        "    for j in range(i):\n",
        "        print(\"★\",end=\"\")\n",
        "    print()"
      ]
    },
    {
      "cell_type": "markdown",
      "id": "e8be3ac5",
      "metadata": {
        "id": "e8be3ac5"
      },
      "source": [
        "csv 파일\n",
        "- 엑셀 파일\n",
        " - 어디서나 사용할 수 있는 텍스트 데이터를 사용\n",
        "- xlsx 파일\n",
        " - MS 오피스에서만 동작\n",
        "- csv 파일 만든 다음 xlsx 파일로 변환 후 사용하면 됨\n",
        "\n",
        "csv파일 만들기 예제"
      ]
    },
    {
      "cell_type": "markdown",
      "id": "2e4a21f7",
      "metadata": {
        "id": "2e4a21f7"
      },
      "source": [
        "C:\\Users\\장연화\\Python>cd..\n",
        "\n",
        "C:\\Users\\장연화>cd Python\n",
        "\n",
        "C:\\Users\\장연화\\Python>python sys.py\n",
        "\n",
        "C:\\Users\\장연화\\Python>python sys.py\n",
        "sys.py\n",
        "\n",
        "C:\\Users\\장연화\\Python>python sys.py aaa bbb ccc<br>\n",
        "sys.py<br>\n",
        "aaa<br>\n",
        "bbb<br>\n",
        "ccc"
      ]
    },
    {
      "cell_type": "code",
      "execution_count": null,
      "id": "86f5d539",
      "metadata": {
        "id": "86f5d539",
        "outputId": "70484156-078d-4e62-dcb0-a427dfa14480"
      },
      "outputs": [
        {
          "name": "stdout",
          "output_type": "stream",
          "text": [
            "name.age.email\n"
          ]
        }
      ],
      "source": [
        "header=\".\".join([\"name\",\"age\",\"email\"])\n",
        "print(header)"
      ]
    },
    {
      "cell_type": "markdown",
      "id": "67ea6019",
      "metadata": {
        "id": "67ea6019"
      },
      "source": [
        "- 텍스트 기반의 데이터를 csv 파일로 저장하기 위해서는 데이터가 ,(쉼표)로 구분지어 있어야 함\n",
        "- 쉽표가 셀을 구분지어주는 역할"
      ]
    },
    {
      "cell_type": "code",
      "execution_count": null,
      "id": "c5953dbc",
      "metadata": {
        "id": "c5953dbc"
      },
      "outputs": [],
      "source": [
        "f=open(\"test.csv\",'w')\n",
        "f.write(header)\n",
        "f.close()"
      ]
    },
    {
      "cell_type": "markdown",
      "id": "1b7418c0",
      "metadata": {
        "id": "1b7418c0"
      },
      "source": [
        "예제용 CSV파일 100개, 1초만에 만들어보기"
      ]
    },
    {
      "cell_type": "code",
      "execution_count": null,
      "id": "6ccdb7bb",
      "metadata": {
        "id": "6ccdb7bb",
        "outputId": "aec7ad83-a239-4508-b275-36696c8b6bcc"
      },
      "outputs": [
        {
          "name": "stdout",
          "output_type": "stream",
          "text": [
            "작업을 시작합니다.\n",
            "작업이 끝났습니다.\n",
            "작업 시간이 0.158339262008667초 걸렸습니다.\n"
          ]
        }
      ],
      "source": [
        "import time\n",
        "import random\n",
        "import os\n",
        "\n",
        "#작업 시작 메세지를 출력\n",
        "print(\"작업을 시작합니다.\")\n",
        "#시작 지점의 시간을 기록\n",
        "start_time=time.time()\n",
        "#파일의 갯수를 지정\n",
        "FILE_NUMBER=100\n",
        "#이메일 생성에 사용할 샘플 글자 정의\n",
        "alphabet_samples=\"abcdefghijklmnopqrstuvwxyz1234567890\"\n",
        "#이름 샘플 지정\n",
        "first_name_samples = \"이정최임김지장정허안황유고조박원오신전\"\n",
        "middle_name_samples=\"재세진소광정영인태정지\"\n",
        "last_name_samples=\"현영석진열수신서환재혜\"\n",
        "#나이와 핸드폰 번호 생성에 사용할 샘플 번호 정의\n",
        "int_samples=\"0123456789\"\n",
        "\n",
        "#무작위로 선택된 영어 글자를 생성하는 함수\n",
        "def random_string(length):\n",
        "    result=\"\"\n",
        "    for i in range(length):\n",
        "        #result=result+random.choice(alphabet_samples)\n",
        "        result+=random.choice(alphabet_samples)\n",
        "    return result\n",
        "#무작위로 사람 이름을 생성하는 함수\n",
        "def random_name():\n",
        "    result=\"\"\n",
        "    result+=random.choice(first_name_samples)\n",
        "    result+=random.choice(middle_name_samples)\n",
        "    result+=random.choice(last_name_samples)\n",
        "    return result\n",
        "\n",
        "def random_int(length):\n",
        "    result=\"\"\n",
        "    for i in range(length):\n",
        "        result+=random.choice(int_samples)\n",
        "    return result\n",
        "\n",
        "#결과물을 저장할 폴더 생성\n",
        "folder=\"샘플_폴더\"\n",
        "if folder not in os.listdir():\n",
        "    os.mkdir(folder)\n",
        "\n",
        "#헤더 정의(맨 윗 형에 들어갈 내용)\n",
        "header=\",\".join([\"name\",\"age\",\"email\",\"division\",\"telephone\",\"sex\"])+\"\\n\"\n",
        "\n",
        "#개인정보 파일을 csv 파일로 자동 생성\n",
        "#FILE_NUMBER 수만큼 반복해서 생성\n",
        "for i in range(FILE_NUMBER):\n",
        "    #무작위 사람 이름 생성\n",
        "    name=random_name()\n",
        "    #파일 이름 정의\n",
        "    filename=\"샘플_폴더/\"+str(i)+\"_\"+name+\".csv\" #샘플_폴더/0_이재현.csv\n",
        "    #작성할 파일을 생성(빈파일 생성)\n",
        "    outfile = open(filename,\"w\")\n",
        "    #파일에 헤더 기재(첫번째 행)\n",
        "    outfile.write(header)\n",
        "    #파일에 헤더 기재(두번째 행)\n",
        "    outfile.write(name+\",\")\n",
        "    #파일에 무작위로 나이를 기재\n",
        "    outfile.write(random_int(2)+\",\")\n",
        "    #파일에 무작위로 이메일 기재\n",
        "    outfile.write(random_string(8)+\"@gmail.com\"+\",\")\n",
        "    #파일에 무작위로 부서 기재\n",
        "    outfile.write(random_string(3)+\",\")\n",
        "    #파일에 무작위로 핸드폰 번호 기재\n",
        "    outfile.write(\"010-\" + random_int(4) + \"-\"+random_int(4)+\".\")\n",
        "    #파일에 무작위로 성별 기재\n",
        "    outfile.write(random.choice(['남','여']))\n",
        "    #파일 수정 마무리\n",
        "    outfile.close()\n",
        "    \n",
        "#작업 종료 메세지를 출력\n",
        "print(\"작업이 끝났습니다.\")\n",
        "#시작 지점의 시간을 기록\n",
        "end_time=time.time()\n",
        "print(\"작업 시간이 \" + str(end_time - start_time)+ \"초 걸렸습니다.\")"
      ]
    },
    {
      "cell_type": "code",
      "execution_count": null,
      "id": "df0d8107",
      "metadata": {
        "id": "df0d8107",
        "outputId": "4ff8fba4-aa8b-47ce-e141-3fb0502055d6"
      },
      "outputs": [
        {
          "name": "stdout",
          "output_type": "stream",
          "text": [
            "1645071193.6231742\n"
          ]
        }
      ],
      "source": [
        "import time\n",
        "print(time.time())"
      ]
    },
    {
      "cell_type": "markdown",
      "id": "309d130b",
      "metadata": {
        "id": "309d130b"
      },
      "source": [
        "코딩 에러가 날 경우<br>\n",
        "-*-coding:utf-8<br>\n",
        "-*-coding:euc-kr"
      ]
    },
    {
      "cell_type": "markdown",
      "id": "0e4af293",
      "metadata": {
        "id": "0e4af293"
      },
      "source": [
        "작성한 csv 파일 읽기"
      ]
    },
    {
      "cell_type": "code",
      "execution_count": null,
      "id": "3ed853f6",
      "metadata": {
        "id": "3ed853f6",
        "outputId": "3069b676-c40a-4ec9-f9e9-e042c8ef6659"
      },
      "outputs": [
        {
          "name": "stdout",
          "output_type": "stream",
          "text": [
            "['name', 'age', 'email', 'division', 'telephone', 'sex']\n",
            "['신재열', '40', 'ki48srn3@gmail.com', 'qab', '010-7532-7127.남']\n"
          ]
        }
      ],
      "source": [
        "import csv\n",
        "\n",
        "f=open(\"샘플_폴더/0_신재열.csv\",\"r\")\n",
        "rdc=csv.reader(f)\n",
        "for i in rdc:\n",
        "    print(i)\n",
        "f.close()"
      ]
    },
    {
      "cell_type": "code",
      "execution_count": null,
      "id": "26ee4040",
      "metadata": {
        "id": "26ee4040",
        "outputId": "67401864-0a1a-4879-d979-d81866fa3208"
      },
      "outputs": [
        {
          "name": "stdout",
          "output_type": "stream",
          "text": [
            "-f\n",
            "C:\\Users\\장연화\\AppData\\Roaming\\jupyter\\runtime\\kernel-59929ae6-c57a-446c-98d2-1c70aba006f7.json\n"
          ]
        }
      ],
      "source": [
        "#sys.py\n",
        "import sys\n",
        "args=sys.argv[1:] #인자 반환\n",
        "for i in args:\n",
        "    print(i)"
      ]
    },
    {
      "cell_type": "markdown",
      "id": "41974f1b",
      "metadata": {
        "id": "41974f1b"
      },
      "source": [
        "csv 파일을 하나로 합쳐보기 예제"
      ]
    },
    {
      "cell_type": "markdown",
      "id": "ff097b86",
      "metadata": {
        "id": "ff097b86"
      },
      "source": [
        "C:\\Users\\장연화\\Python>python sys.py 샘플_폴더<br>\n",
        "sys.py<br>\n",
        "샘플_폴더<br>\n",
        "\n",
        "C:\\Users\\장연화\\Python>python merge.py<br>\n",
        "Traceback (most recent call last):<br>\n",
        "  File \"C:\\Users\\장연화\\Python\\merge.py\", line 5, in \\<module\\><br>\n",
        "    directory = sys.argv[1]<br>\n",
        "IndexError: list index out of range<br>"
      ]
    },
    {
      "cell_type": "markdown",
      "id": "93b7e74a",
      "metadata": {
        "id": "93b7e74a"
      },
      "source": [
        "merge.py 실행 순서\n",
        "1. merge.py 코드를 메모장에 복사\n",
        "2. 주피터 노트북과 같은 경로에 코드 저장(merge.py)\n",
        "- 샘플_폴더가 있는 위치에 맞춰 저장해줘야 함\n",
        "3. 저장 완료 후 cmd 창 열기\n",
        "4. 주피터 노트북 경로로 이동 \n",
        "- cd Python\n",
        "5. 파이썬 파일 실행\n",
        "- C:\\Users\\장연화\\Python>python merge.py 샘플_폴더"
      ]
    },
    {
      "cell_type": "code",
      "execution_count": null,
      "id": "4ab40cf2",
      "metadata": {
        "id": "4ab40cf2",
        "outputId": "8e3a576b-642c-4274-fa76-dc28447893f5"
      },
      "outputs": [
        {
          "ename": "FileNotFoundError",
          "evalue": "[WinError 3] 지정된 경로를 찾을 수 없습니다: '-f'",
          "output_type": "error",
          "traceback": [
            "\u001b[1;31m---------------------------------------------------------------------------\u001b[0m",
            "\u001b[1;31mFileNotFoundError\u001b[0m                         Traceback (most recent call last)",
            "Input \u001b[1;32mIn [16]\u001b[0m, in \u001b[0;36m<module>\u001b[1;34m\u001b[0m\n\u001b[0;32m     11\u001b[0m output_file\u001b[38;5;241m=\u001b[39m\u001b[38;5;28mopen\u001b[39m(outfile_name,\u001b[38;5;124m\"\u001b[39m\u001b[38;5;124mw\u001b[39m\u001b[38;5;124m\"\u001b[39m)\n\u001b[0;32m     13\u001b[0m \u001b[38;5;66;03m#폴더의 내용물을 열람해서 목록을 생성\u001b[39;00m\n\u001b[1;32m---> 14\u001b[0m input_files\u001b[38;5;241m=\u001b[39m\u001b[43mos\u001b[49m\u001b[38;5;241;43m.\u001b[39;49m\u001b[43mlistdir\u001b[49m\u001b[43m(\u001b[49m\u001b[43mdirectory\u001b[49m\u001b[43m)\u001b[49m\n\u001b[0;32m     16\u001b[0m \u001b[38;5;66;03m#헤더를 분리하기 위한 변수를 정의\u001b[39;00m\n\u001b[0;32m     17\u001b[0m \u001b[38;5;66;03m#밑에 for 문이 한 번 실행된 후 False 전환 예정(여기 True면 아래엔 False)\u001b[39;00m\n\u001b[0;32m     18\u001b[0m outfile_header \u001b[38;5;241m=\u001b[39m \u001b[38;5;28;01mFalse\u001b[39;00m\n",
            "\u001b[1;31mFileNotFoundError\u001b[0m: [WinError 3] 지정된 경로를 찾을 수 없습니다: '-f'"
          ]
        }
      ],
      "source": [
        "import os\n",
        "import sys\n",
        "\n",
        "#하나로 합칠 파일들이 저장된 폴더 이름을 시스템으로부터 입력\n",
        "directory=sys.argv[1]\n",
        "\n",
        "#하나로 합쳐진 파일의 이름을 정의\n",
        "outfile_name=\"합친_파일.csv\"\n",
        "\n",
        "#결과물 파일을 생성\n",
        "output_file=open(outfile_name,\"w\")\n",
        "\n",
        "#폴더의 내용물을 열람해서 목록을 생성\n",
        "input_files=os.listdir(directory)\n",
        "\n",
        "#헤더를 분리하기 위한 변수를 정의\n",
        "#밑에 for 문이 한 번 실행된 후 False 전환 예정(여기 True면 아래엔 False)\n",
        "outfile_header = False\n",
        "\n",
        "#폴더의 내용물을 하나 하나 불러와서 합치는 작업을 수행\n",
        "for filename in input_files:\n",
        "    #csv 파일이 아닌 것은 걸러줌\n",
        "    if \".csv\" not in filename:\n",
        "        continue\n",
        "        \n",
        "    #csv 파일이 맞다면, 파일을 읽어옴\n",
        "    #샘플_폴더/파일명\n",
        "    file = open(directory + \"/\" +filename)\n",
        "    \n",
        "    #첫 번째 줄 헤더를 정의\n",
        "    #포커스가 헤더 다음 줄에 맞춰짐\n",
        "    header=file.readline()\n",
        "    \n",
        "    #첫 번째 줄 헤더를 파일에 입력, 최초 1회만 실행\n",
        "    if not outfile_header:\n",
        "        output_file.write(header.strip())\n",
        "        outfile_header=True\n",
        "        \n",
        "    #결과물 파일에 내용물을 입력\n",
        "    output_file.write(\"\\n\" + file.read())\n",
        "    \n",
        "    #읽어온 파일들을 종료\n",
        "    file.close()\n",
        "\n",
        "#결과물 파일을 종료\n",
        "output_file.close()"
      ]
    },
    {
      "cell_type": "code",
      "execution_count": null,
      "id": "b38ff636",
      "metadata": {
        "id": "b38ff636"
      },
      "outputs": [],
      "source": [
        ""
      ]
    },
    {
      "cell_type": "code",
      "execution_count": null,
      "id": "714e7f3b",
      "metadata": {
        "id": "714e7f3b"
      },
      "outputs": [],
      "source": [
        ""
      ]
    },
    {
      "cell_type": "code",
      "execution_count": null,
      "id": "e42e630e",
      "metadata": {
        "id": "e42e630e"
      },
      "outputs": [],
      "source": [
        ""
      ]
    }
  ],
  "metadata": {
    "kernelspec": {
      "display_name": "Python 3 (ipykernel)",
      "language": "python",
      "name": "python3"
    },
    "language_info": {
      "codemirror_mode": {
        "name": "ipython",
        "version": 3
      },
      "file_extension": ".py",
      "mimetype": "text/x-python",
      "name": "python",
      "nbconvert_exporter": "python",
      "pygments_lexer": "ipython3",
      "version": "3.9.7"
    },
    "colab": {
      "name": "8일차.ipynb",
      "provenance": [],
      "collapsed_sections": [],
      "include_colab_link": true
    }
  },
  "nbformat": 4,
  "nbformat_minor": 5
}