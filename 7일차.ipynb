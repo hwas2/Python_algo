{
  "cells": [
    {
      "cell_type": "markdown",
      "metadata": {
        "id": "view-in-github",
        "colab_type": "text"
      },
      "source": [
        "<a href=\"https://colab.research.google.com/github/hwas2/Python_study/blob/master/7%EC%9D%BC%EC%B0%A8.ipynb\" target=\"_parent\"><img src=\"https://colab.research.google.com/assets/colab-badge.svg\" alt=\"Open In Colab\"/></a>"
      ]
    },
    {
      "cell_type": "markdown",
      "id": "d8016838",
      "metadata": {
        "id": "d8016838"
      },
      "source": [
        "sorted() 정렬한 입력값을 리스트로 돌려주는 함수\n",
        "- print 붙이지 않아도 결과를 보여줌"
      ]
    },
    {
      "cell_type": "code",
      "execution_count": null,
      "id": "c441704d",
      "metadata": {
        "id": "c441704d",
        "outputId": "fc03bee0-6c65-4a6e-dee1-5bbb30c4054d"
      },
      "outputs": [
        {
          "name": "stdout",
          "output_type": "stream",
          "text": [
            "[1, 2, 3]\n",
            "['a', 'b', 'c']\n",
            "['e', 'o', 'r', 'z']\n",
            "[1, 2, 3]\n"
          ]
        }
      ],
      "source": [
        "print(sorted([3,1,2]))\n",
        "print(sorted(['a','c','b']))\n",
        "print(sorted(\"zero\"))\n",
        "print(sorted((3,2,1)))"
      ]
    },
    {
      "cell_type": "markdown",
      "id": "4936ff3b",
      "metadata": {
        "id": "4936ff3b"
      },
      "source": [
        "리스트의 sort() 함수 예제\n",
        "- 값을 보여주지 않아 print필요"
      ]
    },
    {
      "cell_type": "code",
      "execution_count": null,
      "id": "e18674b3",
      "metadata": {
        "id": "e18674b3",
        "outputId": "4d96f794-8aa6-4580-f72c-af11e3327940"
      },
      "outputs": [
        {
          "name": "stdout",
          "output_type": "stream",
          "text": [
            "[1, 2, 3, 4]\n"
          ]
        }
      ],
      "source": [
        "a=[1,4,3,2]\n",
        "a.sort()\n",
        "print(a)"
      ]
    },
    {
      "cell_type": "markdown",
      "id": "47e9fec3",
      "metadata": {
        "id": "47e9fec3"
      },
      "source": [
        "str\n",
        "- 문자열 형태로 객체를 반환하여 돌려주는 함수"
      ]
    },
    {
      "cell_type": "code",
      "execution_count": null,
      "id": "1d640aa0",
      "metadata": {
        "id": "1d640aa0",
        "outputId": "30e262ee-99a7-47a1-972b-84a0d99b4869"
      },
      "outputs": [
        {
          "data": {
            "text/plain": [
              "'3'"
            ]
          },
          "execution_count": 8,
          "metadata": {},
          "output_type": "execute_result"
        }
      ],
      "source": [
        "str(3)"
      ]
    },
    {
      "cell_type": "code",
      "execution_count": null,
      "id": "f4021926",
      "metadata": {
        "id": "f4021926",
        "outputId": "63e8d285-b097-46d1-ae6c-179207082af5"
      },
      "outputs": [
        {
          "data": {
            "text/plain": [
              "'hi'"
            ]
          },
          "execution_count": 9,
          "metadata": {},
          "output_type": "execute_result"
        }
      ],
      "source": [
        "str('hi')"
      ]
    },
    {
      "cell_type": "code",
      "execution_count": null,
      "id": "04742ae8",
      "metadata": {
        "id": "04742ae8",
        "outputId": "ad9616b5-006e-4f32-ff88-f7d85b082cce"
      },
      "outputs": [
        {
          "data": {
            "text/plain": [
              "'HI'"
            ]
          },
          "execution_count": 10,
          "metadata": {},
          "output_type": "execute_result"
        }
      ],
      "source": [
        "str('hi'.upper())"
      ]
    },
    {
      "cell_type": "markdown",
      "id": "57054380",
      "metadata": {
        "id": "57054380"
      },
      "source": [
        "sum(iterable)\n",
        "- 입력받은 리스트나 튜플의 모든 요소의 합"
      ]
    },
    {
      "cell_type": "code",
      "execution_count": null,
      "id": "681249b2",
      "metadata": {
        "id": "681249b2",
        "outputId": "a41539b4-6d28-4750-9737-057d7b6dc7a9"
      },
      "outputs": [
        {
          "data": {
            "text/plain": [
              "6"
            ]
          },
          "execution_count": 11,
          "metadata": {},
          "output_type": "execute_result"
        }
      ],
      "source": [
        "sum([1,2,3])"
      ]
    },
    {
      "cell_type": "code",
      "execution_count": null,
      "id": "3bdd54da",
      "metadata": {
        "id": "3bdd54da",
        "outputId": "2c790c56-1f2e-4c87-96a8-4ee04751fdf2"
      },
      "outputs": [
        {
          "data": {
            "text/plain": [
              "15"
            ]
          },
          "execution_count": 12,
          "metadata": {},
          "output_type": "execute_result"
        }
      ],
      "source": [
        "sum((4,5,6))"
      ]
    },
    {
      "cell_type": "markdown",
      "id": "42b21455",
      "metadata": {
        "id": "42b21455"
      },
      "source": [
        "zip\n",
        "- zip(*iterable)은  동일한  개수로  이루어진  자료형을  묶어  주는  역할을  하는  함수\n",
        "- *iterable은  반복  가능(iterable)한  자료형  여러  개를  입력할  수  있다"
      ]
    },
    {
      "cell_type": "code",
      "execution_count": null,
      "id": "233b1956",
      "metadata": {
        "id": "233b1956",
        "outputId": "1b73ef36-ee29-42f3-dbff-42ba6283f903"
      },
      "outputs": [
        {
          "data": {
            "text/plain": [
              "<zip at 0x232e7264080>"
            ]
          },
          "execution_count": 16,
          "metadata": {},
          "output_type": "execute_result"
        }
      ],
      "source": [
        "zip([1,2,3],[4,5,6])"
      ]
    },
    {
      "cell_type": "code",
      "execution_count": null,
      "id": "e7827b6c",
      "metadata": {
        "id": "e7827b6c",
        "outputId": "27586b0b-72e1-4c00-c1b3-d8f00846d959"
      },
      "outputs": [
        {
          "data": {
            "text/plain": [
              "[(1, 4), (2, 5), (3, 6)]"
            ]
          },
          "execution_count": 13,
          "metadata": {},
          "output_type": "execute_result"
        }
      ],
      "source": [
        "list(zip([1,2,3],[4,5,6]))"
      ]
    },
    {
      "cell_type": "code",
      "execution_count": null,
      "id": "7ef8fc24",
      "metadata": {
        "id": "7ef8fc24",
        "outputId": "9b3ea134-6bfb-4985-bdf1-3ea7eaf63bda"
      },
      "outputs": [
        {
          "data": {
            "text/plain": [
              "[(1, 4, 7), (2, 5, 8), (3, 6, 9)]"
            ]
          },
          "execution_count": 14,
          "metadata": {},
          "output_type": "execute_result"
        }
      ],
      "source": [
        "list(zip([1,2,3],[4,5,6],[7,8,9]))"
      ]
    },
    {
      "cell_type": "code",
      "execution_count": null,
      "id": "7c946471",
      "metadata": {
        "id": "7c946471",
        "outputId": "eca9c26d-4ba0-4d02-8326-806a4c711bb7"
      },
      "outputs": [
        {
          "data": {
            "text/plain": [
              "[('a', 'd'), ('b', 'e'), ('c', 'f')]"
            ]
          },
          "execution_count": 15,
          "metadata": {},
          "output_type": "execute_result"
        }
      ],
      "source": [
        "list(zip(\"abc\",\"def\"))"
      ]
    },
    {
      "cell_type": "markdown",
      "id": "24b8d348",
      "metadata": {
        "id": "24b8d348"
      },
      "source": [
        "외장함수\n",
        "- 파이썬  라이브러리는  파이썬을  설치할  때  자동으로  컴퓨터에  설치\n",
        " - sys / pickle / os / shutil / glob / random"
      ]
    },
    {
      "cell_type": "markdown",
      "id": "34337daf",
      "metadata": {
        "id": "34337daf"
      },
      "source": [
        "sys\n",
        "- 파이썬  인터프리터가  제공하는  변수와  함수를  직접  제어할  수  있게  해주는  모듈\n",
        " - 강제로  스크립트  종료하기 sys.exit\n",
        " - 자신이  만든  모듈  불러와  사용하기 sys.path\n",
        "   - sys.path는  파이썬  모듈들이  저장되어  있는  위치를  나타냄. 이  위치에  있는  파이썬  모듈은  경로에  상관없이  어디에서나  불러올  수  있음"
      ]
    },
    {
      "cell_type": "code",
      "execution_count": null,
      "id": "a0f924e4",
      "metadata": {
        "id": "a0f924e4",
        "outputId": "37cc5491-8c16-4b65-ed0e-1da8e776396a"
      },
      "outputs": [
        {
          "name": "stdout",
          "output_type": "stream",
          "text": [
            "['C:\\\\Users\\\\장연화\\\\Python', 'C:\\\\Users\\\\장연화\\\\AppData\\\\Local\\\\Programs\\\\Python\\\\Python39\\\\python39.zip', 'C:\\\\Users\\\\장연화\\\\AppData\\\\Local\\\\Programs\\\\Python\\\\Python39\\\\DLLs', 'C:\\\\Users\\\\장연화\\\\AppData\\\\Local\\\\Programs\\\\Python\\\\Python39\\\\lib', 'C:\\\\Users\\\\장연화\\\\AppData\\\\Local\\\\Programs\\\\Python\\\\Python39', '', 'C:\\\\Users\\\\장연화\\\\AppData\\\\Local\\\\Programs\\\\Python\\\\Python39\\\\lib\\\\site-packages', 'C:\\\\Users\\\\장연화\\\\AppData\\\\Local\\\\Programs\\\\Python\\\\Python39\\\\lib\\\\site-packages\\\\win32', 'C:\\\\Users\\\\장연화\\\\AppData\\\\Local\\\\Programs\\\\Python\\\\Python39\\\\lib\\\\site-packages\\\\win32\\\\lib', 'C:\\\\Users\\\\장연화\\\\AppData\\\\Local\\\\Programs\\\\Python\\\\Python39\\\\lib\\\\site-packages\\\\Pythonwin']\n"
          ]
        }
      ],
      "source": [
        "import sys\n",
        "print(sys.path)"
      ]
    },
    {
      "cell_type": "markdown",
      "id": "75969ab1",
      "metadata": {
        "id": "75969ab1"
      },
      "source": [
        "pickle\n",
        "- 객체의  형태를  그대로  유지하면서  파일에  저장하고  불러올  수  있게  하는  모듈\n",
        " - pickle.dump  함수"
      ]
    },
    {
      "cell_type": "markdown",
      "id": "9dd56e74",
      "metadata": {
        "id": "9dd56e74"
      },
      "source": [
        "pickle 모듈 예제(pickle 사용X)"
      ]
    },
    {
      "cell_type": "code",
      "execution_count": null,
      "id": "7bf6b14f",
      "metadata": {
        "id": "7bf6b14f"
      },
      "outputs": [],
      "source": [
        "with open(\"hello.txt\",\"w\") as f:\n",
        "    f.write(\"hello\")"
      ]
    },
    {
      "cell_type": "code",
      "execution_count": null,
      "id": "3823c15a",
      "metadata": {
        "id": "3823c15a",
        "outputId": "d3861ed8-96a8-45fa-fde0-6f13f28bc469"
      },
      "outputs": [
        {
          "ename": "TypeError",
          "evalue": "write() argument must be str, not list",
          "output_type": "error",
          "traceback": [
            "\u001b[1;31m---------------------------------------------------------------------------\u001b[0m",
            "\u001b[1;31mTypeError\u001b[0m                                 Traceback (most recent call last)",
            "Input \u001b[1;32mIn [21]\u001b[0m, in \u001b[0;36m<module>\u001b[1;34m\u001b[0m\n\u001b[0;32m      1\u001b[0m \u001b[38;5;28;01mwith\u001b[39;00m \u001b[38;5;28mopen\u001b[39m(\u001b[38;5;124m\"\u001b[39m\u001b[38;5;124mlist.txt\u001b[39m\u001b[38;5;124m\"\u001b[39m,\u001b[38;5;124m\"\u001b[39m\u001b[38;5;124mw\u001b[39m\u001b[38;5;124m\"\u001b[39m) \u001b[38;5;28;01mas\u001b[39;00m f:\n\u001b[1;32m----> 2\u001b[0m     \u001b[43mf\u001b[49m\u001b[38;5;241;43m.\u001b[39;49m\u001b[43mwrite\u001b[49m\u001b[43m(\u001b[49m\u001b[43m[\u001b[49m\u001b[38;5;124;43m\"\u001b[39;49m\u001b[38;5;124;43ma\u001b[39;49m\u001b[38;5;124;43m\"\u001b[39;49m\u001b[43m,\u001b[49m\u001b[38;5;124;43m\"\u001b[39;49m\u001b[38;5;124;43mb\u001b[39;49m\u001b[38;5;124;43m\"\u001b[39;49m\u001b[43m,\u001b[49m\u001b[38;5;124;43m\"\u001b[39;49m\u001b[38;5;124;43mc\u001b[39;49m\u001b[38;5;124;43m\"\u001b[39;49m\u001b[43m]\u001b[49m\u001b[43m)\u001b[49m\n",
            "\u001b[1;31mTypeError\u001b[0m: write() argument must be str, not list"
          ]
        }
      ],
      "source": [
        "with open(\"list.txt\",\"w\") as f:\n",
        "    f.write([\"a\",\"b\",\"c\"]) #list형태 안 됨"
      ]
    },
    {
      "cell_type": "markdown",
      "id": "07ab3020",
      "metadata": {
        "id": "07ab3020"
      },
      "source": [
        "pickle 모듈 예제(pickle 사용)"
      ]
    },
    {
      "cell_type": "code",
      "execution_count": null,
      "id": "306a06d6",
      "metadata": {
        "id": "306a06d6"
      },
      "outputs": [],
      "source": [
        "import pickle\n",
        "with open(\"list.txt\",'wb') as f: #pickle의 경우 w가 아닌 wb\n",
        "    pickle.dump([\"a\",\"b\",\"c\"],f)"
      ]
    },
    {
      "cell_type": "markdown",
      "id": "ae095b47",
      "metadata": {
        "id": "ae095b47"
      },
      "source": [
        "- 파일 모드 종류\n",
        "- r : 읽기 모드\n",
        "- w : 쓰기 모드\n",
        "- x : 쓰기 모드(파일 있으면 오류 발생)\n",
        "- a : 쓰기 모드(파일이 있으면 뒤에 내용 추가)\n",
        "- \\+ : 읽기, 쓰기 모드\n",
        "- t : 텍스트 모드\n",
        "- b : 바이너리 모드(바이트 단위 데이터 기록에 사용)\n",
        " - 바이너리 파일은 사용자가 읽을 수 없음"
      ]
    },
    {
      "cell_type": "code",
      "execution_count": null,
      "id": "80297bd1",
      "metadata": {
        "id": "80297bd1",
        "outputId": "d4c2b1ca-e806-4448-c8ef-37723e2a9f94"
      },
      "outputs": [
        {
          "name": "stdout",
          "output_type": "stream",
          "text": [
            "['a', 'b', 'c']\n"
          ]
        }
      ],
      "source": [
        "with open(\"list.txt\",'rb') as f:\n",
        "    data=pickle.load(f)\n",
        "print(data)"
      ]
    },
    {
      "cell_type": "markdown",
      "id": "b91069b7",
      "metadata": {
        "id": "b91069b7"
      },
      "source": [
        " - pickle을 이용하여 데이터를 불러올 경우 변수 지정을 해줘야 함"
      ]
    },
    {
      "cell_type": "code",
      "execution_count": null,
      "id": "44c0c7c7",
      "metadata": {
        "id": "44c0c7c7"
      },
      "outputs": [],
      "source": [
        "import  pickle\n",
        "f=open(\"dic.txt\",  'wb')\n",
        "data={1:'python',2:'you  need'}\n",
        "pickle.dump(data,  f )\n",
        "f.close()"
      ]
    },
    {
      "cell_type": "code",
      "execution_count": null,
      "id": "589a1811",
      "metadata": {
        "id": "589a1811",
        "outputId": "6a8375e7-6657-4fbe-bc45-62e1db823be2"
      },
      "outputs": [
        {
          "name": "stdout",
          "output_type": "stream",
          "text": [
            "{1: 'python', 2: 'you  need'}\n"
          ]
        }
      ],
      "source": [
        "import  pickle\n",
        "f=open(\"dic.txt\",  'rb')\n",
        "data=pickle.load(f)\n",
        "print(data)\n",
        "f.close()"
      ]
    },
    {
      "cell_type": "markdown",
      "id": "fa257d59",
      "metadata": {
        "id": "fa257d59"
      },
      "source": [
        "os\n",
        "- OS  모듈은  환경  변수나  디렉터리,  파일  등의  OS  자원을  제어할  수  있게  해주는  모듈\n",
        "- 디렉터리  위치  변경하기  -  os.chdir\n",
        "- 디렉터리  위치  돌려받기  -  os.getcwd\n",
        "- 시스템  명령어  호출하기  -  os.system"
      ]
    },
    {
      "cell_type": "code",
      "execution_count": null,
      "id": "5990ff17",
      "metadata": {
        "id": "5990ff17",
        "outputId": "9a94416d-2a2f-4ff2-8fb4-b7f45b44a1b3"
      },
      "outputs": [
        {
          "data": {
            "text/plain": [
              "'C:\\\\Users\\\\장연화\\\\Python'"
            ]
          },
          "execution_count": 27,
          "metadata": {},
          "output_type": "execute_result"
        }
      ],
      "source": [
        "import os\n",
        "os.getcwd()"
      ]
    },
    {
      "cell_type": "code",
      "execution_count": null,
      "id": "33939235",
      "metadata": {
        "id": "33939235"
      },
      "outputs": [],
      "source": [
        "os.chdir('C:\\\\Users\\\\장연화')"
      ]
    },
    {
      "cell_type": "code",
      "execution_count": null,
      "id": "a161f0d8",
      "metadata": {
        "id": "a161f0d8",
        "outputId": "33a72d0b-e4ad-4636-8259-745a5b1b8f1c"
      },
      "outputs": [
        {
          "data": {
            "text/plain": [
              "'C:\\\\Users\\\\장연화'"
            ]
          },
          "execution_count": 31,
          "metadata": {},
          "output_type": "execute_result"
        }
      ],
      "source": [
        "os.getcwd()"
      ]
    },
    {
      "cell_type": "code",
      "execution_count": null,
      "id": "ed6258aa",
      "metadata": {
        "id": "ed6258aa"
      },
      "outputs": [],
      "source": [
        "os.chdir('C:\\\\Users\\\\장연화\\\\Python')"
      ]
    },
    {
      "cell_type": "code",
      "execution_count": null,
      "id": "fdd1a4e3",
      "metadata": {
        "id": "fdd1a4e3",
        "outputId": "03759a14-8ddd-44d3-aa85-6df5e59cf7e9"
      },
      "outputs": [
        {
          "data": {
            "text/plain": [
              "'C:\\\\Users\\\\장연화\\\\Python'"
            ]
          },
          "execution_count": 33,
          "metadata": {},
          "output_type": "execute_result"
        }
      ],
      "source": [
        "os.getcwd()"
      ]
    },
    {
      "cell_type": "code",
      "execution_count": null,
      "id": "db8e2d56",
      "metadata": {
        "id": "db8e2d56",
        "outputId": "5db88a8b-1c30-428c-96f2-a88122cfa860"
      },
      "outputs": [
        {
          "data": {
            "text/plain": [
              "0"
            ]
          },
          "execution_count": 35,
          "metadata": {},
          "output_type": "execute_result"
        }
      ],
      "source": [
        "os.system(\"dir\") #jupyter notebook 상이라 실행 안 되는 듯. cmd 창으로 확인하기"
      ]
    },
    {
      "cell_type": "code",
      "execution_count": null,
      "id": "ccb3d087",
      "metadata": {
        "id": "ccb3d087"
      },
      "outputs": [],
      "source": [
        "os.mkdir(\"test_folder\")"
      ]
    },
    {
      "cell_type": "code",
      "execution_count": null,
      "id": "c6321a13",
      "metadata": {
        "id": "c6321a13"
      },
      "outputs": [],
      "source": [
        "os.rmdir(\"test_folder\")"
      ]
    },
    {
      "cell_type": "code",
      "execution_count": null,
      "id": "1716c480",
      "metadata": {
        "id": "1716c480"
      },
      "outputs": [],
      "source": [
        "os.unlink(\"dic.txt\")"
      ]
    },
    {
      "cell_type": "code",
      "execution_count": null,
      "id": "7883835e",
      "metadata": {
        "id": "7883835e"
      },
      "outputs": [],
      "source": [
        "os.rename(\"list.txt\",\"list2.txt\")"
      ]
    },
    {
      "cell_type": "markdown",
      "id": "703e1420",
      "metadata": {
        "id": "703e1420"
      },
      "source": [
        "shutil은  파일을  복사해  주는  파이썬  모듈\n",
        "- shutil.copy\n",
        "- src라는이름의파일을dst로복사"
      ]
    },
    {
      "cell_type": "code",
      "execution_count": null,
      "id": "cc101571",
      "metadata": {
        "id": "cc101571",
        "outputId": "a7da633f-bdd0-4747-c665-891785593268"
      },
      "outputs": [
        {
          "data": {
            "text/plain": [
              "'list.txt'"
            ]
          },
          "execution_count": 43,
          "metadata": {},
          "output_type": "execute_result"
        }
      ],
      "source": [
        "import shutil\n",
        "shutil.copy(\"list2.txt\",\"list.txt\")"
      ]
    },
    {
      "cell_type": "markdown",
      "id": "192698ea",
      "metadata": {
        "id": "192698ea"
      },
      "source": [
        "glob 특정  디렉터리에  있는  파일  이름  모두를  알아야할때사용하는모듈\n",
        "- 디렉터리에  있는  파일들을  리스트로  만들기  -  glob(pathname)\n",
        "- glob  모듈은  디렉터리  안의  파일들을  읽어서  돌려줌"
      ]
    },
    {
      "cell_type": "code",
      "execution_count": null,
      "id": "d3e8ff51",
      "metadata": {
        "id": "d3e8ff51",
        "outputId": "4dc4785d-197a-494f-cdbb-f05eb264afe2"
      },
      "outputs": [
        {
          "data": {
            "text/plain": [
              "['C:\\\\Users\\\\장연화\\\\Python\\\\list.txt', 'C:\\\\Users\\\\장연화\\\\Python\\\\list2.txt']"
            ]
          },
          "execution_count": 44,
          "metadata": {},
          "output_type": "execute_result"
        }
      ],
      "source": [
        "import glob\n",
        "glob.glob(\"C:\\\\Users\\\\장연화\\\\Python\\\\list*\")"
      ]
    },
    {
      "cell_type": "markdown",
      "id": "219adfd8",
      "metadata": {
        "id": "219adfd8"
      },
      "source": [
        "random 난수(규칙이  없는  임의의  수)를  발생시키는  모듈\n",
        "- 실수중에서난수값돌려주기-random.random\n",
        "- 정수중에서난수값돌려주기-random.randint() 시작값과 끝값을 지정해야 함"
      ]
    },
    {
      "cell_type": "code",
      "execution_count": null,
      "id": "c222a55b",
      "metadata": {
        "id": "c222a55b",
        "outputId": "419faa8c-1d4a-4652-ea4c-2c98bb24e97a"
      },
      "outputs": [
        {
          "data": {
            "text/plain": [
              "0.8566256090902541"
            ]
          },
          "execution_count": 48,
          "metadata": {},
          "output_type": "execute_result"
        }
      ],
      "source": [
        "import random\n",
        "random.random()"
      ]
    },
    {
      "cell_type": "markdown",
      "id": "f1fab717",
      "metadata": {
        "id": "f1fab717"
      },
      "source": [
        "- 0~10 사이의 실수(float)를 반환 (10.0은 포함하지 않는다)"
      ]
    },
    {
      "cell_type": "code",
      "execution_count": null,
      "id": "a0fb85b9",
      "metadata": {
        "scrolled": true,
        "id": "a0fb85b9",
        "outputId": "61763e24-f5d6-4dec-85c4-47824c99bdd5"
      },
      "outputs": [
        {
          "data": {
            "text/plain": [
              "7"
            ]
          },
          "execution_count": 52,
          "metadata": {},
          "output_type": "execute_result"
        }
      ],
      "source": [
        "random.randint(1,10)"
      ]
    },
    {
      "cell_type": "markdown",
      "id": "ac024be9",
      "metadata": {
        "id": "ac024be9"
      },
      "source": [
        ""
      ]
    },
    {
      "cell_type": "code",
      "execution_count": null,
      "id": "81e678ed",
      "metadata": {
        "id": "81e678ed",
        "outputId": "cb2f2aea-148a-4674-c4a1-3b1f6d410c3d"
      },
      "outputs": [
        {
          "data": {
            "text/plain": [
              "18.844953533944846"
            ]
          },
          "execution_count": 59,
          "metadata": {},
          "output_type": "execute_result"
        }
      ],
      "source": [
        "random.uniform(10,20)"
      ]
    },
    {
      "cell_type": "markdown",
      "id": "7e61ad70",
      "metadata": {
        "id": "7e61ad70"
      },
      "source": [
        "random.choice 예제(choice 함수 사용X)<br>\n",
        "data=[1,2,3,4,5] <- 갯수 5개 <br>\n",
        "0~4<br>\n",
        "data.pop(위치)"
      ]
    },
    {
      "cell_type": "code",
      "execution_count": null,
      "id": "8ca9eba4",
      "metadata": {
        "id": "8ca9eba4",
        "outputId": "426ff4a6-5a35-444c-cd11-23866b14766a"
      },
      "outputs": [
        {
          "name": "stdout",
          "output_type": "stream",
          "text": [
            "1\n",
            "3\n",
            "2\n"
          ]
        }
      ],
      "source": [
        "import random\n",
        "def random_pop(data):\n",
        "    number=random.randint(0,len(data)-1)\n",
        "    return data.pop(number)\n",
        "\n",
        "if __name__=='__main__':\n",
        "    data=[1,2,3]\n",
        "    while data:\n",
        "        print(random_pop(data))"
      ]
    },
    {
      "cell_type": "markdown",
      "id": "e2a50fb8",
      "metadata": {
        "id": "e2a50fb8"
      },
      "source": [
        "random.choice 예제(choice 함수 사용)"
      ]
    },
    {
      "cell_type": "code",
      "execution_count": null,
      "id": "90e67c9a",
      "metadata": {
        "id": "90e67c9a",
        "outputId": "0a575356-ef4e-45ad-fe9c-b91cf2c5cd60"
      },
      "outputs": [
        {
          "name": "stdout",
          "output_type": "stream",
          "text": [
            "2\n",
            "3\n",
            "1\n"
          ]
        }
      ],
      "source": [
        "def random_pop(data):\n",
        "    number=random.choice(data)\n",
        "    data.remove(number)\n",
        "    return number\n",
        "\n",
        "if __name__=='__main__':\n",
        "    data=[1,2,3]\n",
        "    while data:\n",
        "        print(random_pop(data))"
      ]
    },
    {
      "cell_type": "markdown",
      "id": "b2a2038c",
      "metadata": {
        "id": "b2a2038c"
      },
      "source": [
        "random.shuffle 예제"
      ]
    },
    {
      "cell_type": "code",
      "execution_count": null,
      "id": "365d3891",
      "metadata": {
        "id": "365d3891",
        "outputId": "bba2dfd1-7551-4089-a3f8-2891b8fdaba0"
      },
      "outputs": [
        {
          "name": "stdout",
          "output_type": "stream",
          "text": [
            "[1, 3, 2, 4, 5]\n"
          ]
        }
      ],
      "source": [
        "import random\n",
        "data=[1,2,3,4,5]\n",
        "random.shuffle(data)\n",
        "print(data)"
      ]
    },
    {
      "cell_type": "markdown",
      "id": "0c3baaf3",
      "metadata": {
        "id": "0c3baaf3"
      },
      "source": [
        "번외) 확률 지정하여 뽑기 예제"
      ]
    },
    {
      "cell_type": "code",
      "execution_count": null,
      "id": "8e07169c",
      "metadata": {
        "id": "8e07169c",
        "outputId": "1e3d223b-4499-4b6e-f089-c66014fae3e8"
      },
      "outputs": [
        {
          "data": {
            "text/plain": [
              "[5]"
            ]
          },
          "execution_count": 62,
          "metadata": {},
          "output_type": "execute_result"
        }
      ],
      "source": [
        "random.choices(range(1,6), weights=[10,10,10,10,60])"
      ]
    },
    {
      "cell_type": "code",
      "execution_count": null,
      "id": "f6c4b39d",
      "metadata": {
        "id": "f6c4b39d",
        "outputId": "00a0d8e1-5e51-499f-c4d9-3b44b55bdd66"
      },
      "outputs": [
        {
          "name": "stdout",
          "output_type": "stream",
          "text": [
            "abcd\n",
            "abc\n",
            "ac\n",
            "a\n"
          ]
        }
      ],
      "source": [
        "def random_pop(data):\n",
        "    number = random.choice(data)\n",
        "    data = data.replace(number,'')\n",
        "    return data\n",
        "\n",
        "if __name__ == \"__main__\":\n",
        "    data = 'abcd' \n",
        "    while data:\n",
        "        print(data)\n",
        "        data = random_pop(data)"
      ]
    },
    {
      "cell_type": "markdown",
      "id": "581a4537",
      "metadata": {
        "id": "581a4537"
      },
      "source": [
        "**238page 9번째 줄 글자 깨짐 -> 새 창으로**\n",
        "\n",
        "webbrowser 모듈"
      ]
    },
    {
      "cell_type": "code",
      "execution_count": null,
      "id": "4ded7630",
      "metadata": {
        "id": "4ded7630",
        "outputId": "b03b93c1-94e4-4e42-95cb-60c5f411d147"
      },
      "outputs": [
        {
          "data": {
            "text/plain": [
              "True"
            ]
          },
          "execution_count": 58,
          "metadata": {},
          "output_type": "execute_result"
        }
      ],
      "source": [
        "import webbrowser\n",
        "webbrowser.open(\"http://google.com\")"
      ]
    },
    {
      "cell_type": "markdown",
      "id": "c0bdad8d",
      "metadata": {
        "id": "c0bdad8d"
      },
      "source": [
        "# Socket 소켓\n",
        "\n",
        "**163page 3번째 줄 글자 깨짐 -> 컴퓨터 간에**<br>\n",
        "**163page 4번째 줄 글자 깨짐 -> 클라이언트**\n",
        "\n",
        "소켓 번호 확인하기 예제"
      ]
    },
    {
      "cell_type": "code",
      "execution_count": null,
      "id": "04797ce7",
      "metadata": {
        "id": "04797ce7",
        "outputId": "a2e07dc6-8823-4d9a-de92-fb22638bdfab"
      },
      "outputs": [
        {
          "data": {
            "text/plain": [
              "80"
            ]
          },
          "execution_count": 67,
          "metadata": {},
          "output_type": "execute_result"
        }
      ],
      "source": [
        "import socket\n",
        "socket.getservbyname('http','tcp')"
      ]
    },
    {
      "cell_type": "code",
      "execution_count": null,
      "id": "b368a075",
      "metadata": {
        "id": "b368a075",
        "outputId": "692f4b16-bf6e-427f-b6dd-3bbc72e757fa"
      },
      "outputs": [
        {
          "data": {
            "text/plain": [
              "21"
            ]
          },
          "execution_count": 68,
          "metadata": {},
          "output_type": "execute_result"
        }
      ],
      "source": [
        "socket.getservbyname('ftp','tcp')"
      ]
    },
    {
      "cell_type": "markdown",
      "id": "a8ea1758",
      "metadata": {
        "id": "a8ea1758"
      },
      "source": [
        "소켓을 만드는 형식<br>\n",
        "s=socket.socket(family,type,protocols)<br>\n",
        "**167page 3번째 줄 글자 깨짐 -> 소켓은 도메인**<br>\n",
        "**168page 3번째 줄 글자 깨짐 -> 소켓**"
      ]
    },
    {
      "cell_type": "markdown",
      "id": "003e09e9",
      "metadata": {
        "id": "003e09e9"
      },
      "source": [
        "UDP bind() 이해하기<br>\n",
        "터미널에 대기중인 버스(server)가 있다고 가정<br>\n",
        "버스(server)에서는 승객(cilent)들이 알 수 있도록 버스에 번호표 부착<br>\n",
        "-> **bind()**<br><br>\n",
        "버스가 승객을 알아야 할 필요가 없음"
      ]
    },
    {
      "cell_type": "markdown",
      "id": "c38cce31",
      "metadata": {
        "id": "c38cce31"
      },
      "source": [
        "1. 서버와 클라이언트 둘다 소켓 생성\n",
        "- 소켓 통신을 한다는 것은 IP 주소와 포트 번호를 가지고 하는 것\n",
        " - TCP : IP + 포트번호\n",
        " - UDP : 포트번호(형식상 ip 주소를 입력)\n",
        "2. 서버 측에서 소켓을 가지고 포트와 바인딩\n",
        "- 목적지를 알려주는 것과 같은 것\n",
        "- 클라이언트 측에서는 목적지를 알려줄 필요가 없음\n",
        "3. 서버 측에서는 해당 포트를 열고 기다림"
      ]
    },
    {
      "cell_type": "markdown",
      "id": "e9f0231a",
      "metadata": {
        "id": "e9f0231a"
      },
      "source": [
        "UDP 소켓 만들기 예제"
      ]
    },
    {
      "cell_type": "code",
      "execution_count": null,
      "id": "8b72ebdd",
      "metadata": {
        "id": "8b72ebdd",
        "outputId": "32eacda2-4da5-4e21-ba65-f786c090ed73"
      },
      "outputs": [
        {
          "name": "stdout",
          "output_type": "stream",
          "text": [
            "<socket.socket fd=1452, family=AddressFamily.AF_INET, type=SocketKind.SOCK_DGRAM, proto=0>\n"
          ]
        }
      ],
      "source": [
        "socket_udp=socket.socket(socket.AF_INET, socket.SOCK_DGRAM)\n",
        "print(socket_udp)"
      ]
    },
    {
      "cell_type": "markdown",
      "id": "a7081ab7",
      "metadata": {
        "id": "a7081ab7"
      },
      "source": [
        "TCP 소켓 만들기 예제"
      ]
    },
    {
      "cell_type": "code",
      "execution_count": null,
      "id": "bbac0c57",
      "metadata": {
        "id": "bbac0c57",
        "outputId": "18b7b6d1-32a8-44ff-bc05-0417f6e17c31"
      },
      "outputs": [
        {
          "name": "stdout",
          "output_type": "stream",
          "text": [
            "<socket.socket fd=1944, family=AddressFamily.AF_INET, type=SocketKind.SOCK_STREAM, proto=0>\n"
          ]
        }
      ],
      "source": [
        "socket_tcp=socket.socket(socket.AF_INET, socket.SOCK_STREAM)\n",
        "print(socket_tcp)"
      ]
    },
    {
      "cell_type": "markdown",
      "id": "699f5f5f",
      "metadata": {
        "id": "699f5f5f"
      },
      "source": [
        "소켓을 이용한 간단한 HTTP 요청"
      ]
    },
    {
      "cell_type": "code",
      "execution_count": null,
      "id": "91f9b9a8",
      "metadata": {
        "id": "91f9b9a8"
      },
      "outputs": [],
      "source": [
        "host=\"www.google.com\"\n",
        "port=80\n",
        "\n",
        "sock=socket.socket(socket.AF_INET, socket.SOCK_STREAM)"
      ]
    },
    {
      "cell_type": "code",
      "execution_count": null,
      "id": "02ff97f8",
      "metadata": {
        "id": "02ff97f8"
      },
      "outputs": [],
      "source": [
        "address=socket.gethostbyname(host)"
      ]
    },
    {
      "cell_type": "code",
      "execution_count": null,
      "id": "5fdc1ac4",
      "metadata": {
        "id": "5fdc1ac4"
      },
      "outputs": [],
      "source": [
        "sock.connect((address,port))"
      ]
    },
    {
      "cell_type": "code",
      "execution_count": null,
      "id": "73577b04",
      "metadata": {
        "id": "73577b04",
        "outputId": "5f045f77-edd9-43d2-803c-59fff0dd3e85"
      },
      "outputs": [
        {
          "data": {
            "text/plain": [
              "<socket.socket fd=1448, family=AddressFamily.AF_INET, type=SocketKind.SOCK_STREAM, proto=0, laddr=('192.168.0.3', 61334), raddr=('142.250.196.100', 80)>"
            ]
          },
          "execution_count": 80,
          "metadata": {},
          "output_type": "execute_result"
        }
      ],
      "source": [
        "sock"
      ]
    },
    {
      "cell_type": "code",
      "execution_count": null,
      "id": "a9ffe387",
      "metadata": {
        "id": "a9ffe387"
      },
      "outputs": [],
      "source": [
        "sock.close()"
      ]
    },
    {
      "cell_type": "markdown",
      "id": "96bd030e",
      "metadata": {
        "id": "96bd030e"
      },
      "source": [
        "서버 페이지에 요청하여 저장한 자원 가져오기"
      ]
    },
    {
      "cell_type": "code",
      "execution_count": null,
      "id": "62c5d2f3",
      "metadata": {
        "id": "62c5d2f3",
        "outputId": "895b187d-70cb-4ded-b429-9bde56c59db9"
      },
      "outputs": [
        {
          "data": {
            "text/plain": [
              "18"
            ]
          },
          "execution_count": 83,
          "metadata": {},
          "output_type": "execute_result"
        }
      ],
      "source": [
        "host=\"www.google.com\"\n",
        "port=80\n",
        "\n",
        "sock=socket.socket(socket.AF_INET, socket.SOCK_STREAM)\n",
        "address=socket.gethostbyname(host)\n",
        "sock.connect((address,port))\n",
        "\n",
        "message=\"GET / HTTP/1.1\\r\\n\\r\\n\"\n",
        "sock.send(message.encode('utf-8'))"
      ]
    },
    {
      "cell_type": "code",
      "execution_count": null,
      "id": "22b776ca",
      "metadata": {
        "id": "22b776ca",
        "outputId": "08930859-7522-4db7-f5d3-97f7ad4c7e9a"
      },
      "outputs": [
        {
          "data": {
            "text/plain": [
              "b'HTTP/1.1 200 OK\\r\\nDate: Thu, 10 Feb 2022 07:16:00 GMT\\r\\nExpires: -1\\r\\nCache-Control: private, max-age=0\\r\\nContent-Type: text/html; charset=ISO-8859-1\\r\\nP3P: CP=\"This is not a P3P policy! See g.co/p3phelp for more info.\"\\r\\nServer: gws\\r\\nX-XSS-Protection: 0\\r\\nX-Frame-Options: SAMEORIGIN\\r\\nSet-Cookie: 1P_JAR=2022-02-10-07; expires=Sat, 12-Mar-2022 07:16:00 GMT; path=/; domain=.google.com; Secure\\r\\nSet-Cookie: NID=511=mOoV8loCjiaxeOa4Hp7r8dAX5ZrwD9Q4gXkw7K-p_xjVx8TMeZjBMwdlR11iD0vIh_YJL_jeowAJaCIV04bniKQOun5I9PNR1QyT16zME7jpvLzcb9LcwurPvjTZNH4y_6stbE2LPrs6C0XGRK-rDuwkjpWdDSQUhQrbKwZWcLk; expires=Fri, 12-Aug-2022 07:16:00 GMT; path=/; domain=.google.com; HttpOnly\\r\\nAccept-Ranges: none\\r\\nVary: Accept-Encoding\\r\\nTransfer-Encoding: chunked\\r\\n\\r\\n4c1a\\r\\n<!doctype html><html itemscope=\"\" itemtype=\"http://schema.org/WebPage\" lang=\"ko\"><head><meta content=\"text/html; charset=UTF-8\" http-equiv=\"Content-Type\"><meta content=\"/images/branding/googleg/1x/googleg_standard_color_128dp.png\" itemprop=\"image\"><title>Google</title><script nonce=\"TM/+hhBg3VWrW0pno30nqg==\">(function(){window.google={kEI:\\'sLsEYuCgNcaiwAOY8bOwCQ\\',kEXPI:\\'0,1302536,56873,6059,206,1698,3106,2316,383,246,5,1354,4013,1238,1122515,1197706,724,380061,16114,17444,1953,9287,17572,4858,1362,284,9007,3022,17586,4020,978,13228,3847,4192,2692,3738,12724,10017,2372,2709,889,704,1279,2742,149,1103,842,6295,4120,2023,1733,43,522,14669,3227,2845,7,5599,11851,15767,553,908,2,941,2614,3784,9358,3,346,230,6459,149,12289,1686,4,1528,2304,7039,4683,15626,4764,2658,4163,2538,655,31,11412,2216,2307,2130,16786,5818,2539,4094,17,4035,3,3541,1,16807,38,6866,15336,2,3105,2,14022,1931,5589,743,5853,10463,1160,5679,1021,2380,2718,18234,63,2,6,7718,4569,6252,6729,10722,1183,4790,1252,776,5059,6086,8882,2849,1483,19,4225,433,1413,1394,445,2,2,1,11726,4,768,588,3746,803,2,1,3760,2385,843,1559,10,1,436,245,802,534,420,6006,85,63,113,2453,2903,96,68,949,316,482,1,129,58,2,2571,3810,23,242,1150,2559,348,3035,752,256,1308,71,741,829,30,2339,147,30,1591,12,2,323,28,88,946,816,1002,2970,652,483,654,6,3,790,57,799,1641,631,5479020,3904,5997526,2800485,882,444,1,2,80,1,1796,1,9,2553,1,748,141,795,563,1,4265,1,1,2,1331,4142,2609,155,17,13,72,139,4,2,20,2,169,13,19,46,5,39,96,548,29,2,2,1,2,1,2,2,7,4,1,2,2,2,2,2,2,353,513,186,1,1,158,3,2,2,2,2,2,4,2,3,3,269,1601,141,349,42,3,51,4,4,10,4,74,4,4,8,4,11,10,1,42,9,6,4,23952337,4038574,3,3112,3,450,1964,1491,9,1435,159,1358,4726,3,923,326,17,903,3340,682,75,122\\',kBL:\\'icwE\\'};google.sn=\\'webhp\\';google.kHL=\\'ko\\';})();(function(){\\nvar f=this||self;var h,k=[];function l(a){for(var b;a&&(!a.getAttribute||!(b=a.getAttribute(\"eid\")));)a=a.parentNode;return b||h}function m(a){for(var b=null;a&&(!a.getAttribute||!(b=a.getAttribute(\"leid\")));)a=a.parentNode;return b}\\nfunction n(a,b,c,d,g){var e=\"\";c||-1!==b.search(\"&ei=\")||(e=\"&ei=\"+l(d),-1===b.search(\"&lei=\")&&(d=m(d))&&(e+=\"&lei=\"+d));d=\"\";!c&&f._cshid&&-1===b.search(\"&cshid=\")&&\"slh\"!==a&&(d=\"&cshid=\"+f._cshid);c=c||\"/\"+(g||\"gen_204\")+\"?atyp=i&ct=\"+a+\"&cad=\"+b+e+\"&zx=\"+Date.now()+d;/^http:/i.test(c)&&\"https:\"===window.location.protocol&&(google.ml&&google.ml(Error(\"a\"),!1,{src:c,glmm:1}),c=\"\");return c};h=google.kEI;google.getEI=l;google.getLEI=m;google.ml=function(){return null};google.log=function(a,b,c,d,g){if(c=n(a,b,c,d,g)){a=new Image;var e=k.length;k[e]=a;a.onerror=a.onload=a.onabort=function(){delete k[e]};a.src=c}};google.logUrl=n;}).call(this);(function(){\\ngoogle.y={};google.sy=[];google.x=function(a,b){if(a)var c=a.id;else{do c=Math.random();while(google.y[c])}google.y[c]=[a,b];return!1};google.sx=function(a){google.sy.push(a)};google.lm=[];google.plm=function(a){google.lm.push.apply(google.lm,a)};google.lq=[];google.load=function(a,b,c){google.lq.push([[a],b,c])};google.loadAll=function(a,b){google.lq.push([a,b])};google.bx=!1;google.lx=function(){};}).call(this);google.f={};(function(){\\ndocument.documentElement.addEventListener(\"submit\",function(b){var a;if(a=b.target){var c=a.getAttribute(\"data-submitfalse\");a=\"1\"===c||\"q\"===c&&!a.elements.q.value?!0:!1}else a=!1;a&&(b.preventDefault(),b.stopPropagation())},!0);document.documentElement.addEventListener(\"click\",function(b){var a;a:{for(a=b.target;a&&a!==document.documentElement;a=a.parentElement)if(\"A\"===a.tagName){a=\"1\"===a.getAttribute(\"data-nohref\");break a}a=!1}a&&b.preventDefault()},!0);}).call(this);</script><style>#gb{font:13px/27px Arial,sans-serif;height:30px}#gbz,#gbg{position:absolute;white-space:nowrap;top:0;height:30px;z-index:1000}#gbz{left:0;padding-left:4px}#gbg{right:0;padding-right:5px}#gbs{background:transparent;position:absolute;top:-999px;visibility:hidden;z-index:998;right:0}.gbto #gbs{background:#fff}#gbx3,#gbx4{background-color:#2d2d2d;background-image:none;_background-image:none;background-position:0 -138px;background-repeat:repeat-x;border-bottom:1px solid #000;font-size:24px;height:29px;_height:30px;opacity:1;filter:alpha(opacity=100);position:absolute;top:0;width:100%;z-index:990}#gbx3{left:0}#gbx4{right:0}#gbb{position:relative}#gbbw{left:0;position:absolute;top:30px;width:100%}.gbtcb{position:absolute;visibility:hidden}#gbz .gbtcb{right:0}#gbg .gbtcb{left:0}.gbxx{display:none !important}.gbxo{opacity:0 !important;filter:alpha(opacity=0) !important}.gbm{position:absolute;z-index:999;top:-999px;visibility:hidden;text-align:left;border:1px solid #bebebe;background:#fff;-moz-box-shadow:-1px 1px 1px rgba(0,0,0,.2);-webkit-box-shadow:0 2px 4px rgba(0,0,0,.2);box-shadow:0 2px 4px rgba(0,0,0,.2)}.gbrtl .gbm{-moz-box-shadow:1px 1px 1px rgba(0,0,0,.2)}.gbto .gbm,.gbto #gbs{top:29px;visibility:visible}#gbz .gbm{left:0}#gbg .gbm{right:0}.gbxms{background-color:#ccc;display:block;position:absolute;z-index:1;top:-1px;left:-2px;right:-2px;bottom:-2px;opacity:.4;-moz-border-radius:3px;filter:progid:DXImageTransform.Microsoft.Blur(pixelradius=5);*opacity:1;*top:-2px;*left:-5px;*right:5px;*bottom:4px;-ms-filter:\"progid:DXImageTransform.Microsoft.Blur(pixelradius=5)\";opacity:1\\\\0/;top:-4px\\\\0/;left:-6px\\\\0/;right:5px\\\\0/;bottom:4px\\\\0/}.gbma{position:relative;top:-1px;border-style:solid dashed dashed;border-color:transparent;border-top-color:#c0c0c0;display:-moz-inline-box;display:inline-block;font-size:0;height:0;line-height:0;width:0;border-width:3px 3px 0;padding-top:1px;left:4px}#gbztms1,#gbi4m1,#gbi4s,#gbi4t{zoom:1}.gbtc,.gbmc,.gbmcc{display:block;list-style:none;margin:0;padding:0}.gbmc{background:#fff;padding:10px 0;position:relative;z-index:2;zoom:1}.gbt{position:relative;display:-moz-inline-box;display:inline-block;line-height:27px;padding:0;vertical-align:top}.gbt{*display:inline}.gbto{box-shadow:0 2px 4px rgba(0,0,0,.2);-moz-box-shadow:0 2px 4px rgba(0,0,0,.2);-webkit-box-shadow:0 2px 4px rgba(0,0,0,.2)}.gbzt,.gbgt{cursor:pointer;display:block;text-decoration:none !important}span#gbg6,span#gbg4{cursor:default}.gbts{border-left:1px solid transparent;border-right:1px solid transparent;display:block;*display:inline-block;padding:0 5px;position:relative;z-index:1000}.gbts{*display:inline}.gbzt .gbts{display:inline;zoom:1}.gbto .gbts{background:#fff;border-color:#bebebe;color:#36c;padding-bottom:1px;padding-top:2px}.gbz0l .gbts{color:#fff;font-weight:bold}.gbtsa{padding-right:9px}#gbz .gbzt,#gbz .gbgt,#gbg .gbgt{color:#ccc!important}.gbtb2{display:block;border-top:2px solid transparent}.gbto .gbzt .gbtb2,.gbto .gbgt .gbtb2{border-top-width:0}.gbtb .gbts{background:url(https://ssl.gstatic.com/gb/images/b_8d5afc09.png);_background:url(https://ssl.gstatic.com/gb/images/b8_3615d64d.png);background-position:-27px -22px;border:0;font-size:0;padding:29px 0 0;*padding:27px 0 0;width:1px}.gbzt:hover,.gbzt:focus,.gbgt-hvr,.gbgt:focus{background-color:#4c4c4c;background-image:none;_background-image:none;background-position:0 -102px;background-repeat:repeat-x;outline:none;text-decoration:none !important}.gbpdjs .gbto .gbm{min-width:99%}.gbz0l .gbtb2{border-top-color:#dd4b39!important}#gbi4s,#gbi4s1{font-weight:bold}#gbg6.gbgt-hvr,#gbg6.gbgt:focus{background-color:transparent;background-image:none}.gbg4a{font-size:0;line-height:0}.gbg4a .gbts{padding:27px 5px 0;*padding:25px 5px 0}.gbto .gbg4a .gbts{padding:29px 5px 1px;*padding:27px 5px 1px}#gbi4i,#gbi4id{left:5px;border:0;height:24px;position:absolute;top:1px;width:24px}.gbto #gbi4i,.gbto #gbi4id{top:3px}.gbi4p{display:block;width:24px}#gbi4id{background-position:-44px -101px}#gbmpid{background-position:0 0}#gbmpi,#gbmpid{border:none;display:inline-block;height:48px;width:48px}#gbmpiw{display:inline-block;line-height:9px;padding-left:20px;margin-top:10px;position:relative}#gbmpi,#gbmpid,#gbmpiw{*display:inline}#gbg5{font-size:0}#gbgs5{padding:5px !important}.gbto #gbgs5{padding:7px 5px 6px !important}#gbi5{background:url(https://ssl.gstatic.com/gb/images/b_8d5afc09.png);_background:url(https://ssl.gstatic.com/gb/images/b8_3615d64d.png);background-position:0 0;display:block;font-size:0;height:17px;width:16px}.gbto #gbi5{background-position:-6px -22px}.gbn .gbmt,.gbn .gbmt:visited,.gbnd .gbmt,.gbnd .gbmt:visited{color:#dd8e27 !important}.gbf .gbmt,.gbf .gbmt:visited{color:#900 !important}.gbmt,.gbml1,.gbmlb,.gbmt:visited,.gbml1:visited,.gbmlb:visited{color:#36c !important;text-decoration:none !important}.gbmt,.gbmt:visited{display:block}.gbml1,.gbmlb,.gbml1:visited,.gbmlb:visited{display:inline-block;margin:0 10px}.gbml1,.gbmlb,.gbml1:visited,.gbmlb:visited{*display:inline}.gbml1,.gbml1:visited{padding:0 10px}.gbml1-hvr,.gbml1:focus{outline:none;text-decoration:underline !important}#gbpm .gbml1{display:inline;margin:0;padding:0;white-space:nowrap}.gbmlb,.gbmlb:visited{line-height:27px}.gbmlb-hvr,.gbmlb:focus{outline:none;text-decoration:underline !important}.gbmlbw{color:#ccc;margin:0 10px}.gbmt{padding:0 20px}.gbmt:hover,.gbmt:focus{background:#eee;cursor:pointer;outline:0 solid black;text-decoration:none !important}.gbm0l,.gbm0l:visited{color:#000 !important;font-weight:bold}.gbmh{border-top:1px solid #bebebe;font-size:0;margin:10px 0}#gbd4 .gbmc{background:#f5f5f5;padding-top:0}#gbd4 .gbsbic::-webkit-scrollbar-track:vertical{background-color:#f5f5f5;margin-top:2px}#gbmpdv{background:#fff;border-bottom:1px solid #bebebe;-moz-box-shadow:0 2px 4px rgba(0,0,0,.12);-o-box-shadow:0 2px 4px rgba(0,0,0,.12);-webkit-box-shadow:0 2px 4px rgba(0,0,0,.12);box-shadow:0 2px 4px rgba(0,0,0,.12);position:relative;z-index:1}#gbd4 .gbmh{margin:0}.gbmtc{padding:0;margin:0;line-height:27px}.GBMCC:last-child:after,#GBMPAL:last-child:after{content:\\'\\\\0A\\\\0A\\';white-space:pre;position:absolute}#gbmps{*zoom:1}#gbd4 .gbpc,#gbmpas .gbmt{line-height:17px}#gbd4 .gbpgs .gbmtc{line-height:27px}#gbd4 .gbmtc{border-bottom:1px solid #bebebe}#gbd4 .gbpc{display:inline-block;margin:16px 0 10px;padding-right:50px;vertical-align:top}#gbd4 .gbpc{*display:inline}.gbpc .gbps,.gbpc .gbps2{display:block;margin:0 20px}#gbmplp.gbps{margin:0 10px}.gbpc .gbps{color:#000;font-weight:bold}.gbpc .gbpd{margin-bottom:5px}.gbpd .gbmt,.gbpd .gbps{color:#666 !important}.gbpd .gbmt{opacity:.4;filter:alpha(opacity=40)}.gbps2{color:#666;display:block}.gbp0{display:none}.gbp0 .gbps2{font-weight:bold}#gbd4 .gbmcc{margin-top:5px}.gbpmc{background:#fef9db}.gbpmc .gbpmtc{padding:10px 20px}#gbpm{border:0;*border-collapse:collapse;border-spacing:0;margin:0;white-space:normal}#gbpm .gbpmtc{border-top:none;color:#000 !important;font:11px Arial,sans-serif}#gbpms{*white-space:nowrap}.gbpms2{font-weight:bold;white-space:nowrap}#gbmpal{*border-collapse:collapse;border-spacing:0;border:0;margin:0;white-space:nowrap;width:100%}.gbmpala,.gbmpalb{font:13px Arial,sans-serif;line-height:27px;padding:10px 20px 0;white-space:nowrap}.gbmpala{padding-left:0;text-align:left}.gbmpalb{padding-right:0;text-align:right}#gbmpasb .gbps{color:#000}#gbmpal .gbqfbb{margin:0 20px}.gbp0 .gbps{*display:inline}a.gbiba{margin:8px 20px 10px}.gbmpiaw{display:inline-block;padding-right:10px;margin-bottom:6px;margin-top:10px}.gbxv{visibility:hidden}.gbmpiaa{display:block;margin-top:10px}.gbmpia{border:none;display:block;height:48px;width:48px}.gbmpnw{display:inline-block;height:auto;margin:10px 0;vertical-align:top}\\n.gbqfb,.gbqfba,.gbqfbb{-moz-border-radius:2px;-webkit-border-radius:2px;border-radius:2px;cursor:default !important;display:inline-block;font-weight:bold;height:29px;line-height:29px;min-width:54px;*min-width:70px;padding:0 8px;text-align:center;text-decoration:none !important;-moz-user-select:none;-webkit-user-select:none}.gbqfb:focus,.gbqfba:focus,.gbqfbb:focus{border:1px solid #4d90fe;-moz-box-shadow:inset 0 0 0 1px rgba(255, 255, 255, 0.5);-webkit-box-shadow:inset 0 0 0 1px rgba(255, 255, 255, 0.5);box-shadow:inset 0 0 0 1px rgba(255, 255, 255, 0.5);outline:none}.gbqfb-hvr:focus,.gbqfba-hvr:focus,.gbqfbb-hvr:focus{-webkit-box-shadow:inset 0 0 0 1px #fff,0 1px 1px rgba(0,0,0,.1);-moz-box-shadow:inset 0 0 0 1px #fff,0 1px 1px rgba(0,0,0,.1);box-shadow:inset 0 0 0 1px #fff,0 1px 1px rgba(0,0,0,.1)}.gbqfb-no-focus:focus{border:1px solid #3079ed;-moz-box-shadow:none;-webkit-box-shadow:none;box-shadow:none}.gbqfb-hvr,.gbqfba-hvr,.gbqfbb-hvr{-webkit-box-shadow:0 1px 1px rgba(0,0,0,.1);-moz-box-shadow:0 1px 1px rgba(0,0,0,.1);box-shadow:0 1px 1px rgba(0,0,0,.1)}.gbqfb::-moz-focus-inner,.gbqfba::-moz-focus-inner,.gbqfbb::-moz-focus-inner{border:0}.gbqfba,.gbqfbb{border:1px solid #dcdcdc;border-color:rgba(0,0,0,.1);color:#444 !important;font-size:11px}.gbqfb{background-color:#4d90fe;background-image:-webkit-gradient(linear,left top,left bottom,from(#4d90fe),to(#4787ed));background-image:-webkit-linear-gradient(top,#4d90fe,#4787ed);background-image:-moz-linear-gradient(top,#4d90fe,#4787ed);background-image:-ms-linear-gradient(top,#4d90fe,#4787ed);background-image:-o-linear-gradient(top,#4d90fe,#4787ed);background-image:linear-gradient(top,#4d90fe,#4787ed);filter:progid:DXImageTransform.Microsoft.gradient(startColorStr=\\'#4d90fe\\',EndColorStr=\\'#4787ed\\');border:1px solid #3079ed;color:#fff!important;margin:0 0}.gbqfb-hvr{border-color:#2f5bb7}.gbqfb-hvr:focus{border-color:#2f5bb7}.gbqfb-hvr,.gbqfb-hvr:focus{background-color:#357ae8;background-image:-webkit-gradient(linear,left top,left bottom,from(#4d90fe),to(#357ae8));background-image:-webkit-linear-gradient(top,#4d90fe,#357ae8);background-image:-moz-linear-gradient(top,#4d90fe,#357ae8);background-image:-ms-linear-gradient(top,#4d90fe,#357ae8);background-image:-o-linear-gradient(top,#4d90fe,#357ae8);background-image:linear-gradient(top,#4d90fe,#357ae8)}.gbqfb:active{background-color:inherit;-webkit-box-shadow:inset 0 1px 2px rgba(0, 0, 0, 0.3);-moz-box-shadow:inset 0 1px 2px rgba(0, 0, 0, 0.3);box-shadow:inset 0 1px 2px rgba(0, 0, 0, 0.3)}.gbqfba{background-color:#f5f5f5;background-image:-webkit-gradient(linear,left top,left bottom,from(#f5f5f5),to(#f1f1f1));background-image:-webkit-linear-gradient(top,#f5f5f5,#f1f1f1);background-image:-moz-linear-gradient(top,#f5f5f5,#f1f1f1);background-image:-ms-linear-gradient(top,#f5f5f5,#f1f1f1);background-image:-o-linear-gradient(top,#f5f5f5,#f1f1f1);background-image:linear-gradient(top,#f5f5f5,#f1f1f1);filter:progid:DXImageTransform.Microsoft.gradient(startColorStr=\\'#f5f5f5\\',EndColorStr=\\'#f1f1f1\\')}.gbqfba-hvr,.gbqfba-hvr:active{background-color:#f8f8f8;background-image:-webkit-gradient(linear,left top,left bottom,from(#f8f8f8),to(#f1f1f1));background-image:-webkit-linear-gradient(top,#f8f8f8,#f1f1f1);background-image:-moz-linear-gradient(top,#f8f8f8,#f1f1f1);background-image:-ms-linear-gradient(top,#f8f8f8,#f1f1f1);background-image:-o-linear-gradient(top,#f8f8f8,#f1f1f1);background-image:linear-gradient(top,#f8f8f8,#f1f1f1);filter:progid:DXImageTransform.Microsoft.gradient(startColorStr=\\'#f8f8f8\\',EndColorStr=\\'#f1f1f1\\')}.gbqfbb{background-color:#fff;background-image:-webkit-gradient(linear,left top,left bottom,from(#fff),to(#fbfbfb));background-image:-webkit-linear-gradient(top,#fff,#fbfbfb);background-image:-moz-linear-gradient(top,#fff,#fbfbfb);background-image:-ms-linear-gradient(top,#fff,#fbfbfb);background-image:-o-linear-gradient(top,#fff,#fbfbfb);background-image:linear-gradient(top,#fff,#fbfbfb);filter:progid:DXImageTransform.Microsoft.gradient(startColorStr=\\'#ffffff\\',EndColorStr=\\'#fbfbfb\\')}.gbqfbb-hvr,.gbqfbb-hvr:active{background-color:#fff;background-image:-webkit-gradient(linear,left top,left bottom,from(#fff),to(#f8f8f8));background-image:-webkit-linear-gradient(top,#fff,#f8f8f8);background-image:-moz-linear-gradient(top,#fff,#f8f8f8);background-image:-ms-linear-gradient(top,#fff,#f8f8f8);background-image:-o-linear-gradient(top,#fff,#f8f8f8);background-image:linear-gradient(top,#fff,#f8f8f8);filter:progid:DXImageTransform.Microsoft.gradient(startColorStr=\\'#ffffff\\',EndColorStr=\\'#f8f8f8\\')}.gbqfba-hvr,.gbqfba-hvr:active,.gbqfbb-hvr,.gbqfbb-hvr:active{border-color:#c6c6c6;-webkit-box-shadow:0 1px 1px rgba(0,0,0,.1);-moz-box-shadow:0 1px 1px rgba(0,0,0,.1);box-shadow:0 1px 1px rgba(0,0,0,.1);color:#222 !important}.gbqfba:active,.gbqfbb:active{-webkit-box-shadow:inset 0 1px 2px rgba(0,0,0,.1);-moz-box-shadow:inset 0 1px 2px rgba(0,0,0,.1);box-shadow:inset 0 1px 2px rgba(0,0,0,.1)}\\n#gbmpas{max-height:220px}#gbmm{max-height:530px}.gbsb{-webkit-box-sizing:border-box;display:block;position:relative;*zoom:1}.gbsbic{overflow:auto}.gbsbis .gbsbt,.gbsbis .gbsbb{-webkit-mask-box-image:-webkit-gradient(linear,left top,right top,color-stop(0,rgba(0,0,0,.1)),color-stop(.5,rgba(0,0,0,.8)),color-stop(1,rgba(0,0,0,.1)));left:0;margin-right:0;opacity:0;position:absolute;width:100%}.gbsb .gbsbt:after,.gbsb .gbsbb:after{content:\"\";display:block;height:0;left:0;position:absolute;width:100%}.gbsbis .gbsbt{background:-webkit-gradient(linear,left top,left bottom,from(rgba(0,0,0,.2)),to(rgba(0,0,0,0)));background-image:-webkit-linear-gradient(top,rgba(0,0,0,.2),rgba(0,0,0,0));background-image:-moz-linear-gradient(top,rgba(0,0,0,.2),rgba(0,0,0,0));background-image:-ms-linear-gradient(top,rgba(0,0,0,.2),rgba(0,0,0,0));background-image:-o-linear-gradient(top,rgba(0,0,0,.2),rgba(0,0,0,0));background-image:linear-gradient(top,rgba(0,0,0,.2),rgba(0,0,0,0));height:6px;top:0}.gbsb .gbsbt:after{border-top:1px solid #ebebeb;border-color:rgba(0,0,0,.3);top:0}.gbsb .gbsbb{-webkit-mask-box-image:-webkit-gradient(linear,left top,right top,color-stop(0,rgba(0,0,0,.1)),color-stop(.5,rgba(0,0,0,.8)),color-stop(1,rgba(0,0,0,.1)));background:-webkit-gradient(linear,left bottom,left top,from(rgba(0,0,0,.2)),to(rgba(0,0,0,0)));background-image:-webkit-linear-gradient(bottom,rgba(0,0,0,.2),rgba(0,0,0,0));background-image:-moz-linear-gradient(bottom,rgba(0,0,0,.2),rgba(0,0,0,0));background-image:-ms-linear-gradient(bottom,rgba(0,0,0,.2),rgba(0,0,0,0));background-image:-o-linear-gradient(bottom,rgba(0,0,0,.2),rgba(0,0,0,0));background-image:linear-gradient(bottom,rgba(0,0,0,.2),rgba(0,0,0,0));bottom:0;height:4px}.gbsb .gbsbb:after{border-bottom:1px solid #ebebeb;border-color:rgba(0,0,0,.3);bottom:0}\\n</style><style>body,td,a,p,.h{font-family:&#44404;&#47548;,&#46027;&#50880;,arial,sans-serif}.ko{font-size:9pt}body{margin:0;overflow-y:scroll}#gog{padding:3px 8px 0}td{line-height:.8em}.gac_m td{line-height:17px}form{margin-bottom:20px}.h{color:#1558d6}em{font-weight:bold;font-style:normal}.lst{height:25px;width:496px}.gsfi,.lst{font:18px arial,sans-serif}.gsfs{font:17px arial,sans-serif}.ds{display:inline-box;display:inline-block;margin:3px 0 4px;margin-left:4px}input{font-family:inherit}body{background:#fff;color:#000}a{color:#4b11a8;text-decoration:none}a:hover,a:active{text-decoration:underline}.fl a{color:#1558d6}a:visited{color:#4b11a8}.sblc{padding-top:5px}.sblc a{display:block;margin:2px 0;margin-left:13px;font-size:11px}.lsbb{background:#f8f9fa;border:solid 1px;border-color:#dadce0 #70757a #70757a #dadce0;height:30px}.lsbb{display:block}#WqQANb a{display:inline-block;margin:0 12px}.lsb{background:url(/images/nav_logo229.png) 0 -261px repeat-x;border:none;color:#000;cursor:pointer;height:30px;margin:0;outline:0;font:15px arial,sans-serif;vertical-align:top}.lsb:active{background:#dadce0}.lst:focus{outline:none}.tiah{width:458px}</style><script nonce=\"TM/+hhBg3VWrW0pno30nqg==\">(function(){window.google.erd={jsr:1,bv:1526,de:true};\\nvar f=this||self;var g,h=null!=(g=f.mei)?g:1,m,n=null!=(m=f.sdo)?m:!0,p=0,q,r=google.erd,u=r.jsr;google.ml=function(a,b,d,k,c){c=void 0===c?2:c;b&&(\\r\\nc9\\r\\nq=a&&a.message);if(google.dl)return google.dl(a,c,d),null;if(0>u){window.console&&console.error(a,d);if(-2===u)throw a;b=!1}else b=!a||!a.message||\"Error loading script\"===a.message||p>=h&&!k?!1:!0;if(\\r\\n798e\\r\\n!b)return null;p++;d=d||{};var e=c;c=encodeURIComponent;b=\"/gen_204?atyp=i&ei=\"+c(google.kEI);google.kEXPI&&(b+=\"&jexpid=\"+c(google.kEXPI));b+=\"&srcpg=\"+c(google.sn)+\"&jsr=\"+c(r.jsr)+\"&bver=\"+c(r.bv)+(\"&jsel=\"+e);e=a.lineNumber;void 0!==e&&(b+=\"&line=\"+\\ne);var l=a.fileName;l&&(b+=\"&script=\"+c(l),e&&l===window.location.href&&(e=document.documentElement.outerHTML.split(\"\\\\n\")[e],b+=\"&cad=\"+c(e?e.substring(0,300):\"No script found.\")));for(var t in d)b+=\"&\",b+=c(t),b+=\"=\",b+=c(d[t]);b=b+\"&emsg=\"+c(a.name+\": \"+a.message);b=b+\"&jsst=\"+c(a.stack||\"N/A\");12288<=b.length&&(b=b.substr(0,12288));a=b;k||google.log(0,\"\",a);return a};window.onerror=function(a,b,d,k,c){q!==a&&(a=c instanceof Error?c:Error(a),void 0===d||\"lineNumber\"in a||(a.lineNumber=d),void 0===b||\"fileName\"in a||(a.fileName=b),google.ml(a,!1,void 0,!1,\"SyntaxError\"===a.name||\"SyntaxError\"===a.message.substring(0,11)?2:0));q=null;n&&p>=h&&(window.onerror=null)};})();(function(){try{/*\\n\\n Copyright The Closure Library Authors.\\n SPDX-License-Identifier: Apache-2.0\\n*/\\nvar e=this||self;var aa=function(a,b,c,d){d=d||{};d._sn=[\"cfg\",b,c].join(\".\");window.gbar.logger.ml(a,d)};var g=window.gbar=window.gbar||{},h=window.gbar.i=window.gbar.i||{},ba;function _tvn(a,b){a=parseInt(a,10);return isNaN(a)?b:a}function _tvf(a,b){a=parseFloat(a);return isNaN(a)?b:a}function _tvv(a){return!!a}function p(a,b,c){(c||g)[a]=b}g.bv={n:_tvn(\"2\",0),r:\"\",f:\".66.\",e:\"\",m:_tvn(\"1\",1)};\\nfunction ca(a,b,c){var d=\"on\"+b;if(a.addEventListener)a.addEventListener(b,c,!1);else if(a.attachEvent)a.attachEvent(d,c);else{var f=a[d];a[d]=function(){var k=f.apply(this,arguments),m=c.apply(this,arguments);return void 0==k?m:void 0==m?k:m&&k}}}var da=function(a){return function(){return g.bv.m==a}},ea=da(1),fa=da(2);p(\"sb\",ea);p(\"kn\",fa);h.a=_tvv;h.b=_tvf;h.c=_tvn;h.i=aa;var r=window.gbar.i.i;var t=function(){},ha=function(){},ka=function(a){var b=new Image,c=ia;b.onerror=b.onload=b.onabort=function(){try{delete ja[c]}catch(d){}};ja[c]=b;b.src=a;ia=c+1},ja=[],ia=0;p(\"logger\",{il:ha,ml:t,log:ka});var u=window.gbar.logger;var v={},la={},w=[],ma=h.b(\"0.1\",.1),na=h.a(\"1\",!0),oa=function(a,b){w.push([a,b])},pa=function(a,b){v[a]=b},qa=function(a){return a in v},x={},A=function(a,b){x[a]||(x[a]=[]);x[a].push(b)},B=function(a){A(\"m\",a)},ra=function(a,b){var c=document.createElement(\"script\");c.src=a;c.async=na;Math.random()<ma&&(c.onerror=function(){c.onerror=null;t(Error(\"Bundle load failed: name=\"+(b||\"UNK\")+\" url=\"+a))});(document.getElementById(\"xjsc\")||document.getElementsByTagName(\"body\")[0]||\\ndocument.getElementsByTagName(\"head\")[0]).appendChild(c)},D=function(a){for(var b=0,c;(c=w[b])&&c[0]!=a;++b);!c||c[1].l||c[1].s||(c[1].s=!0,sa(2,a),c[1].url&&ra(c[1].url,a),c[1].libs&&C&&C(c[1].libs))},ta=function(a){A(\"gc\",a)},ua=null,va=function(a){ua=a},sa=function(a,b,c){if(ua){a={t:a,b:b};if(c)for(var d in c)a[d]=c[d];try{ua(a)}catch(f){}}};p(\"mdc\",v);p(\"mdi\",la);p(\"bnc\",w);p(\"qGC\",ta);p(\"qm\",B);p(\"qd\",x);p(\"lb\",D);p(\"mcf\",pa);p(\"bcf\",oa);p(\"aq\",A);p(\"mdd\",\"\");\\np(\"has\",qa);p(\"trh\",va);p(\"tev\",sa);if(h.a(\"m;/_/scs/abc-static/_/js/k=gapi.gapi.en.fQLVS3SAB_U.O/d=1/rs=AHpOoo9-gtqpJORJvBFDdao_eAhWe8xjHw/m=__features__\")){var F=function(a,b){return wa?a||b:b},xa=h.a(\"1\"),ya=h.a(\"\"),za=h.a(\"\"),wa=h.a(\"\"),Aa=window.gapi=F(window.gapi,{}),Ba=function(a,b){var c=function(){g.dgl(a,b)};xa?B(c):(A(\"gl\",c),D(\"gl\"))},Ca={},Da=function(a){a=a.split(\":\");for(var b;(b=a.pop())&&Ca[b];);return!b},C=function(a){function b(){for(var c=a.split(\":\"),d=0,f;f=c[d];++d)Ca[f]=1;for(c=0;d=w[c];++c)d=d[1],(f=d.libs)&&!d.l&&d.i&&\\nDa(f)&&d.i()}g.dgl(a,b)},G=window.___jsl=F(window.___jsl,{});G.h=F(G.h,\"m;/_/scs/abc-static/_/js/k=gapi.gapi.en.fQLVS3SAB_U.O/d=1/rs=AHpOoo9-gtqpJORJvBFDdao_eAhWe8xjHw/m=__features__\");G.ms=F(G.ms,\"https://apis.google.com\");G.m=F(G.m,\"\");G.l=F(G.l,[]);G.dpo=F(G.dpo,\"\");xa||w.push([\"gl\",{url:\"//ssl.gstatic.com/gb/js/abc/glm_e7bb39a7e1a24581ff4f8d199678b1b9.js\"}]);var Ea={pu:ya,sh:\"\",si:za,hl:\"ko\"};v.gl=Ea;wa?Aa.load||p(\"load\",Ba,Aa):p(\"load\",Ba,Aa);p(\"dgl\",Ba);p(\"agl\",Da);h.o=xa};var Fa=h.b(\"0.1\",.001),Ga=0;\\nfunction _mlToken(a,b){try{if(1>Ga){Ga++;var c=a;b=b||{};var d=encodeURIComponent,f=[\"//www.google.com/gen_204?atyp=i&zx=\",(new Date).getTime(),\"&jexpid=\",d(\"28834\"),\"&srcpg=\",d(\"prop=1\"),\"&jsr=\",Math.round(1/Fa),\"&ogev=\",d(\"sLsEYtO1NtDN-Qa_uJSoCg\"),\"&ogf=\",g.bv.f,\"&ogrp=\",d(\"\"),\"&ogv=\",d(\"426801930.0\"),\"&oggv=\"+d(\"es_plusone_gc_20220110.0_p0\"),\"&ogd=\",d(\"com\"),\"&ogc=\",d(\"KOR\"),\"&ogl=\",d(\"ko\")];b._sn&&(b._sn=\\n\"og.\"+b._sn);for(var k in b)f.push(\"&\"),f.push(d(k)),f.push(\"=\"),f.push(d(b[k]));f.push(\"&emsg=\");f.push(d(c.name+\":\"+c.message));var m=f.join(\"\");Ha(m)&&(m=m.substr(0,2E3));var n=m;var l=window.gbar.logger._aem(a,n);ka(l)}}catch(q){}}var Ha=function(a){return 2E3<=a.length},Ia=function(a,b){return b};function Ja(a){t=a;p(\"_itl\",Ha,u);p(\"_aem\",Ia,u);p(\"ml\",t,u);a={};v.er=a}h.a(\"\")?Ja(function(a){throw a;}):h.a(\"1\")&&Math.random()<Fa&&Ja(_mlToken);var _E=\"left\",Ka=h.a(\"\"),J=function(a,b){var c=a.className;H(a,b)||(a.className+=(\"\"!=c?\" \":\"\")+b)},K=function(a,b){var c=a.className;b=new RegExp(\"\\\\\\\\s?\\\\\\\\b\"+b+\"\\\\\\\\b\");c&&c.match(b)&&(a.className=c.replace(b,\"\"))},H=function(a,b){b=new RegExp(\"\\\\\\\\b\"+b+\"\\\\\\\\b\");a=a.className;return!(!a||!a.match(b))},La=function(a,b){H(a,b)?K(a,b):J(a,b)},Ma=function(a,b){a[b]=function(c){var d=arguments;g.qm(function(){a[b].apply(this,d)})}},Na=function(a){a=[\"//www.gstatic.com\",\"/og/_/js/d=1/k=\",\\n\"og.og2.en_US.RqLJ38JSs7o.O\",\"/rt=j/m=\",a,\"/rs=\",\"AA2YrTuF2Gt7VIZPH5i_uLShY5yWzv7wIw\"];Ka&&a.push(\"?host=www.gstatic.com&bust=og.og2.en_US.NQt_kprrebU.DU\");a=a.join(\"\");ra(a)};p(\"ca\",J);p(\"cr\",K);p(\"cc\",H);h.k=J;h.l=K;h.m=H;h.n=La;h.p=Na;h.q=Ma;var Oa=[\"gb_71\",\"gb_155\"],Pa;function Qa(a){Pa=a}function Ra(a){var b=Pa&&!a.href.match(/.*\\\\/accounts\\\\/ClearSID[?]/)&&encodeURIComponent(Pa());b&&(a.href=a.href.replace(/([?&]continue=)[^&]*/,\"$1\"+b))}function Sa(a){window.gApplication&&(a.href=window.gApplication.getTabUrl(a.href))}function Ta(a){try{var b=(document.forms[0].q||\"\").value;b&&(a.href=a.href.replace(/([?&])q=[^&]*|$/,function(c,d){return(d||\"&\")+\"q=\"+encodeURIComponent(b)}))}catch(c){r(c,\"sb\",\"pq\")}}\\nvar Ua=function(){for(var a=[],b=0,c;c=Oa[b];++b)(c=document.getElementById(c))&&a.push(c);return a},Va=function(){var a=Ua();return 0<a.length?a[0]:null},Wa=function(){return document.getElementById(\"gb_70\")},L={},M={},Xa={},N={},O=void 0,bb=function(a,b){try{var c=document.getElementById(\"gb\");J(c,\"gbpdjs\");P();Ya(document.getElementById(\"gb\"))&&J(c,\"gbrtl\");if(b&&b.getAttribute){var d=b.getAttribute(\"aria-owns\");if(d.length){var f=document.getElementById(d);if(f){var k=b.parentNode;if(O==d)O=void 0,\\nK(k,\"gbto\");else{if(O){var m=document.getElementById(O);if(m&&m.getAttribute){var n=m.getAttribute(\"aria-owner\");if(n.length){var l=document.getElementById(n);l&&l.parentNode&&K(l.parentNode,\"gbto\")}}}Za(f)&&$a(f);O=d;J(k,\"gbto\")}}}}B(function(){g.tg(a,b,!0)});ab(a)}catch(q){r(q,\"sb\",\"tg\")}},cb=function(a){B(function(){g.close(a)})},db=function(a){B(function(){g.rdd(a)})},Ya=function(a){var b,c=document.defaultView;c&&c.getComputedStyle?(a=c.getComputedStyle(a,\"\"))&&(b=a.direction):b=a.currentStyle?\\na.currentStyle.direction:a.style.direction;return\"rtl\"==b},fb=function(a,b,c){if(a)try{var d=document.getElementById(\"gbd5\");if(d){var f=d.firstChild,k=f.firstChild,m=document.createElement(\"li\");m.className=b+\" gbmtc\";m.id=c;a.className=\"gbmt\";m.appendChild(a);if(k.hasChildNodes()){c=[[\"gbkc\"],[\"gbf\",\"gbe\",\"gbn\"],[\"gbkp\"],[\"gbnd\"]];d=0;var n=k.childNodes.length;f=!1;for(var l=-1,q=0,E;E=c[q];q++){for(var U=0,I;I=E[U];U++){for(;d<n&&H(k.childNodes[d],I);)d++;if(I==b){k.insertBefore(m,k.childNodes[d]||\\nnull);f=!0;break}}if(f){if(d+1<k.childNodes.length){var V=k.childNodes[d+1];H(V.firstChild,\"gbmh\")||eb(V,E)||(l=d+1)}else if(0<=d-1){var W=k.childNodes[d-1];H(W.firstChild,\"gbmh\")||eb(W,E)||(l=d)}break}0<d&&d+1<n&&d++}if(0<=l){var y=document.createElement(\"li\"),z=document.createElement(\"div\");y.className=\"gbmtc\";z.className=\"gbmt gbmh\";y.appendChild(z);k.insertBefore(y,k.childNodes[l])}g.addHover&&g.addHover(a)}else k.appendChild(m)}}catch(Db){r(Db,\"sb\",\"al\")}},eb=function(a,b){for(var c=b.length,\\nd=0;d<c;d++)if(H(a,b[d]))return!0;return!1},gb=function(a,b,c){fb(a,b,c)},hb=function(a,b){fb(a,\"gbe\",b)},ib=function(){B(function(){g.pcm&&g.pcm()})},jb=function(){B(function(){g.pca&&g.pca()})},kb=function(a,b,c,d,f,k,m,n,l,q){B(function(){g.paa&&g.paa(a,b,c,d,f,k,m,n,l,q)})},lb=function(a,b){L[a]||(L[a]=[]);L[a].push(b)},mb=function(a,b){M[a]||(M[a]=[]);M[a].push(b)},nb=function(a,b){Xa[a]=b},ob=function(a,b){N[a]||(N[a]=[]);N[a].push(b)},ab=function(a){a.preventDefault&&a.preventDefault();a.returnValue=\\n!1;a.cancelBubble=!0},pb=null,$a=function(a,b){P();if(a){qb(a,\"&#50668;&#45716; &#51473;&hellip;\");Q(a,!0);b=\"undefined\"!=typeof b?b:1E4;var c=function(){rb(a)};pb=window.setTimeout(c,b)}},sb=function(a){P();a&&(Q(a,!1),qb(a,\"\"))},rb=function(a){try{P();var b=a||document.getElementById(O);b&&(qb(b,\"&#51060; &#49436;&#48708;&#49828;&#45716; &#54788;&#51116; &#49324;&#50857;&#54624; &#49688; &#50630;&#49845;&#45768;&#45796;.%1$s&#45208;&#51473;&#50640; &#45796;&#49884; &#49884;&#46020;&#54644; &#51452;&#49464;&#50836;.\",\"%1$s\"),Q(b,!0))}catch(c){r(c,\"sb\",\"sdhe\")}},qb=function(a,b,c){if(a&&b){var d=Za(a);if(d){if(c){d.textContent=\"\";b=b.split(c);c=0;for(var f;f=b[c];c++){var k=document.createElement(\"div\");\\nk.innerHTML=f;d.appendChild(k)}}else d.innerHTML=b;Q(a,!0)}}},Q=function(a,b){(b=void 0!==b?b:!0)?J(a,\"gbmsgo\"):K(a,\"gbmsgo\")},Za=function(a){for(var b=0,c;c=a.childNodes[b];b++)if(H(c,\"gbmsg\"))return c},P=function(){pb&&window.clearTimeout(pb)},tb=function(a){var b=\"inner\"+a;a=\"offset\"+a;return window[b]?window[b]:document.documentElement&&document.documentElement[a]?document.documentElement[a]:0},ub=function(){return!1},vb=function(){return!!O};p(\"so\",Va);p(\"sos\",Ua);p(\"si\",Wa);p(\"tg\",bb);\\np(\"close\",cb);p(\"rdd\",db);p(\"addLink\",gb);p(\"addExtraLink\",hb);p(\"pcm\",ib);p(\"pca\",jb);p(\"paa\",kb);p(\"ddld\",$a);p(\"ddrd\",sb);p(\"dderr\",rb);p(\"rtl\",Ya);p(\"op\",vb);p(\"bh\",L);p(\"abh\",lb);p(\"dh\",M);p(\"adh\",mb);p(\"ch\",N);p(\"ach\",ob);p(\"eh\",Xa);p(\"aeh\",nb);ba=h.a(\"\")?Sa:Ta;p(\"qs\",ba);p(\"setContinueCb\",Qa);p(\"pc\",Ra);p(\"bsy\",ub);h.d=ab;h.j=tb;var wb={};v.base=wb;w.push([\"m\",{url:\"//ssl.gstatic.com/gb/js/sem_ce4048cb3720ff2f699817bf3eafbe68.js\"}]);g.sg={c:\"1\"};p(\"wg\",{rg:{}});var xb={tiw:h.c(\"15000\",0),tie:h.c(\"30000\",0)};v.wg=xb;var yb={thi:h.c(\"10000\",0),thp:h.c(\"180000\",0),tho:h.c(\"5000\",0),tet:h.b(\"0.5\",0)};v.wm=yb;if(h.a(\"1\")){var zb=h.a(\"\");w.push([\"gc\",{auto:zb,url:\"//ssl.gstatic.com/gb/js/abc/gci_91f30755d6a6b787dcc2a4062e6e9824.js\",libs:\"googleapis.client:gapi.iframes\"}]);var Ab={version:\"gci_91f30755d6a6b787dcc2a4062e6e9824.js\",index:\"\",lang:\"ko\"};v.gc=Ab;var Bb=function(a){window.googleapis&&window.iframes?a&&a():(a&&ta(a),D(\"gc\"))};p(\"lGC\",Bb);h.a(\"1\")&&p(\"lPWF\",Bb)};window.__PVT=\"\";if(h.a(\"1\")&&h.a(\"1\")){var Cb=function(a){Bb(function(){A(\"pw\",a);D(\"pw\")})};p(\"lPW\",Cb);w.push([\"pw\",{url:\"//ssl.gstatic.com/gb/js/abc/pwm_45f73e4df07a0e388b0fa1f3d30e7280.js\"}]);var Eb=[],Fb=function(a){Eb[0]=a},Gb=function(a,b){b=b||{};b._sn=\"pw\";t(a,b)},Hb={signed:Eb,elog:Gb,base:\"https://plusone.google.com/u/0\",loadTime:(new Date).getTime()};v.pw=Hb;var Ib=function(a,b){var c=b.split(\".\");b=function(){var m=arguments;a(function(){for(var n=g,l=0,q=c.length-1;l<q;++l)n=n[c[l]];n[c[l]].apply(n,m)})};for(var d=g,f=0,k=c.length-1;f<\\nk;++f)d=d[c[f]]=d[c[f]]||{};return d[c[f]]=b};Ib(Cb,\"pw.clk\");Ib(Cb,\"pw.hvr\");p(\"su\",Fb,g.pw)};var Jb=[1,2,3,4,5,6,9,10,11,13,14,28,29,30,34,35,37,38,39,40,41,42,43,48,49,500];var Kb=h.b(\"0.001\",1E-4),Lb=h.b(\"1\",1),Mb=!1,Nb=!1;if(h.a(\"1\")){var Ob=Math.random();Ob<Kb&&(Mb=!0);Ob<Lb&&(Nb=!0)}var R=null;\\nfunction Pb(a,b){var c=Kb,d=Mb;var f=a;if(!R){R={};for(var k=0;k<Jb.length;k++){var m=Jb[k];R[m]=!0}}if(f=!!R[f])c=Lb,d=Nb;if(d){d=encodeURIComponent;if(g.rp){var n=g.rp();n=\"-1\"!=n?n:\"\"}else n=\"\";f=(new Date).getTime();k=d(\"28834\");m=d(\"sLsEYtO1NtDN-Qa_uJSoCg\");var l=g.bv.f,q=d(\"1\");n=d(n);c=Math.round(1/c);var E=d(\"426801930.0\"),U=\"&oggv=\"+d(\"es_plusone_gc_20220110.0_p0\"),I=d(\"com\"),V=d(\"ko\"),W=\\nd(\"KOR\");var y=0;h.a(\"\")&&(y|=1);h.a(\"\")&&(y|=2);h.a(\"\")&&(y|=4);a=[\"//www.google.com/gen_204?atyp=i&zx=\",f,\"&oge=\",a,\"&ogex=\",k,\"&ogev=\",m,\"&ogf=\",l,\"&ogp=\",q,\"&ogrp=\",n,\"&ogsr=\",c,\"&ogv=\",E,U,\"&ogd=\",I,\"&ogl=\",V,\"&ogc=\",W,\"&ogus=\",y];if(b){\"ogw\"in b&&(a.push(\"&ogw=\"+b.ogw),delete b.ogw);f=[];for(z in b)0!=f.length&&f.push(\",\"),f.push(Qb(z)),f.push(\".\"),f.push(Qb(b[z]));var z=f.join(\"\");\"\"!=z&&(a.push(\"&ogad=\"),a.push(d(z)))}ka(a.join(\"\"))}}\\nfunction Qb(a){\"number\"==typeof a&&(a+=\"\");return\"string\"==typeof a?a.replace(\".\",\"%2E\").replace(\",\",\"%2C\"):a}ha=Pb;p(\"il\",ha,u);var Rb={};v.il=Rb;var Sb=function(a,b,c,d,f,k,m,n,l,q){B(function(){g.paa(a,b,c,d,f,k,m,n,l,q)})},Tb=function(){B(function(){g.prm()})},Ub=function(a){B(function(){g.spn(a)})},Vb=function(a){B(function(){g.sps(a)})},Wb=function(a){B(function(){g.spp(a)})},Xb={\"27\":\"https://lh3.googleusercontent.com/ogw/default-user=s24\",\"27\":\"https://lh3.googleusercontent.com/ogw/default-user=s24\",\"27\":\"https://lh3.googleusercontent.com/ogw/default-user=s24\"},Yb=function(a){return(a=Xb[a])||\"https://lh3.googleusercontent.com/ogw/default-user=s24\"},\\nZb=function(){B(function(){g.spd()})};p(\"spn\",Ub);p(\"spp\",Wb);p(\"sps\",Vb);p(\"spd\",Zb);p(\"paa\",Sb);p(\"prm\",Tb);lb(\"gbd4\",Tb);\\nif(h.a(\"\")){var $b={d:h.a(\"\"),e:\"\",sanw:h.a(\"\"),p:\"https://lh3.googleusercontent.com/ogw/default-user=s96\",cp:\"1\",xp:h.a(\"1\"),mg:\"%1$s(&#50948;&#51076;)\",md:\"%1$s(&#44592;&#48376;&#44050;)\",mh:\"220\",s:\"1\",pp:Yb,ppl:h.a(\"\"),ppa:h.a(\"\"),\\nppm:\"Google+ &#54168;&#51060;&#51648;\"};v.prf=$b};var S,ac,T,bc,X=0,cc=function(a,b,c){if(a.indexOf)return a.indexOf(b,c);if(Array.indexOf)return Array.indexOf(a,b,c);for(c=null==c?0:0>c?Math.max(0,a.length+c):c;c<a.length;c++)if(c in a&&a[c]===b)return c;return-1},Y=function(a,b){return-1==cc(a,X)?(r(Error(X+\"_\"+b),\"up\",\"caa\"),!1):!0},ec=function(a,b){Y([1,2],\"r\")&&(S[a]=S[a]||[],S[a].push(b),2==X&&window.setTimeout(function(){b(dc(a))},0))},fc=function(a,b,c){if(Y([1],\"nap\")&&c){for(var d=0;d<c.length;d++)ac[c[d]]=!0;g.up.spl(a,b,\"nap\",c)}},gc=\\nfunction(a,b,c){if(Y([1],\"aop\")&&c){if(T)for(var d in T)T[d]=T[d]&&-1!=cc(c,d);else for(T={},d=0;d<c.length;d++)T[c[d]]=!0;g.up.spl(a,b,\"aop\",c)}},hc=function(){try{if(X=2,!bc){bc=!0;for(var a in S)for(var b=S[a],c=0;c<b.length;c++)try{b[c](dc(a))}catch(d){r(d,\"up\",\"tp\")}}}catch(d){r(d,\"up\",\"mtp\")}},dc=function(a){if(Y([2],\"ssp\")){var b=!ac[a];T&&(b=b&&!!T[a]);return b}};bc=!1;S={};ac={};T=null;X=1;\\nvar ic=function(a){var b=!1;try{b=a.cookie&&a.cookie.match(\"PREF\")}catch(c){}return!b},jc=function(){try{return!!e.localStorage&&\"object\"==typeof e.localStorage}catch(a){return!1}},kc=function(a){return a&&a.style&&a.style.behavior&&\"undefined\"!=typeof a.load},lc=function(a,b,c,d){try{ic(document)||(d||(b=\"og-up-\"+b),jc()?e.localStorage.setItem(b,c):kc(a)&&(a.setAttribute(b,c),a.save(a.id)))}catch(f){f.code!=DOMException.QUOTA_EXCEEDED_ERR&&r(f,\"up\",\"spd\")}},mc=function(a,b,c){try{if(ic(document))return\"\";\\nc||(b=\"og-up-\"+b);if(jc())return e.localStorage.getItem(b);if(kc(a))return a.load(a.id),a.getAttribute(b)}catch(d){d.code!=DOMException.QUOTA_EXCEEDED_ERR&&r(d,\"up\",\"gpd\")}return\"\"},nc=function(a,b,c){a.addEventListener?a.addEventListener(b,c,!1):a.attachEvent&&a.attachEvent(\"on\"+b,c)},oc=function(a){for(var b=0,c;c=a[b];b++){var d=g.up;c=c in d&&d[c];if(!c)return!1}return!0},pc=function(a,b){try{if(ic(a))return-1;var c=a.cookie.match(/OGPC=([^;]*)/);if(c&&c[1]){var d=c[1].match(new RegExp(\"\\\\\\\\b\"+\\nb+\"-([0-9]+):\"));if(d&&d[1])return parseInt(d[1],10)}}catch(f){f.code!=DOMException.QUOTA_EXCEEDED_ERR&&r(f,\"up\",\"gcc\")}return-1};p(\"up\",{r:ec,nap:fc,aop:gc,tp:hc,ssp:dc,spd:lc,gpd:mc,aeh:nc,aal:oc,gcc:pc});var Z=function(a,b){a[b]=function(c){var d=arguments;g.qm(function(){a[b].apply(this,d)})}};Z(g.up,\"sl\");Z(g.up,\"si\");Z(g.up,\"spl\");Z(g.up,\"dpc\");Z(g.up,\"iic\");g.mcf(\"up\",{sp:h.b(\"0.01\",1),tld:\"co.kr\",prid:\"1\"});function qc(){function a(){for(var l;(l=k[m++])&&\"m\"!=l[0]&&!l[1].auto;);l&&(sa(2,l[0]),l[1].url&&ra(l[1].url,l[0]),l[1].libs&&C&&C(l[1].libs));m<k.length&&setTimeout(a,0)}function b(){0<f--?setTimeout(b,0):a()}var c=h.a(\"1\"),d=h.a(\"\"),f=3,k=w,m=0,n=window.gbarOnReady;if(n)try{n()}catch(l){r(l,\"ml\",\"or\")}d?p(\"ldb\",a):c?ca(window,\"load\",b):b()}p(\"rdl\",qc);}catch(e){window.gbar&&gbar.logger&&gbar.logger.ml(e,{\"_sn\":\"cfg.init\"});}})();\\n(function(){try{/*\\n\\n Copyright The Closure Library Authors.\\n SPDX-License-Identifier: Apache-2.0\\n*/\\nvar b=window.gbar.i.i;var c=window.gbar;var f=function(d){try{var a=document.getElementById(\"gbom\");a&&d.appendChild(a.cloneNode(!0))}catch(e){b(e,\"omas\",\"aomc\")}};c.aomc=f;}catch(e){window.gbar&&gbar.logger&&gbar.logger.ml(e,{\"_sn\":\"cfg.init\"});}})();\\n(function(){try{/*\\n\\n Copyright The Closure Library Authors.\\n SPDX-License-Identifier: Apache-2.0\\n*/\\nvar a=window.gbar;a.mcf(\"pm\",{p:\"\"});}catch(e){window.gbar&&gbar.logger&&gbar.logger.ml(e,{\"_sn\":\"cfg.init\"});}})();\\n(function(){try{/*\\n\\n Copyright The Closure Library Authors.\\n SPDX-License-Identifier: Apache-2.0\\n*/\\nvar a=window.gbar;a.mcf(\"mm\",{s:\"1\"});}catch(e){window.gbar&&gbar.logger&&gbar.logger.ml(e,{\"_sn\":\"cfg.init\"});}})();\\n(function(){try{/*\\n\\n Copyright The Closure Library Authors.\\n SPDX-License-Identifier: Apache-2.0\\n*/\\nvar d=window.gbar.i.i;var e=window.gbar;var f=e.i;var g=f.c(\"1\",0),h=/\\\\bgbmt\\\\b/,k=function(a){try{var b=document.getElementById(\"gb_\"+g),c=document.getElementById(\"gb_\"+a);b&&f.l(b,h.test(b.className)?\"gbm0l\":\"gbz0l\");c&&f.k(c,h.test(c.className)?\"gbm0l\":\"gbz0l\")}catch(l){d(l,\"sj\",\"ssp\")}g=a},m=e.qs,n=function(a){var b=a.href;var c=window.location.href.match(/.*?:\\\\/\\\\/[^\\\\/]*/)[0];c=new RegExp(\"^\"+c+\"/search\\\\\\\\?\");(b=c.test(b))&&!/(^|\\\\\\\\?|&)ei=/.test(a.href)&&(b=window.google)&&b.kEXPI&&(a.href+=\"&ei=\"+b.kEI)},p=function(a){m(a);\\nn(a)},q=function(){if(window.google&&window.google.sn){var a=/.*hp$/;return a.test(window.google.sn)?\"\":\"1\"}return\"-1\"};e.rp=q;e.slp=k;e.qs=p;e.qsi=n;}catch(e){window.gbar&&gbar.logger&&gbar.logger.ml(e,{\"_sn\":\"cfg.init\"});}})();\\n(function(){try{/*\\n\\n Copyright The Closure Library Authors.\\n SPDX-License-Identifier: Apache-2.0\\n*/\\nvar a=this||self;var b=window.gbar;var c=b.i;var d=c.a,e=c.c,f={cty:\"KOR\",cv:\"426801930\",dbg:d(\"\"),ecv:\"0\",ei:e(\"sLsEYtO1NtDN-Qa_uJSoCg\"),ele:d(\"1\"),esr:e(\"0.1\"),evts:[\"mousedown\",\"touchstart\",\"touchmove\",\"wheel\",\"keydown\"],gbl:\"es_plusone_gc_20220110.0_p0\",hd:\"com\",hl:\"ko\",irp:d(\"\"),pid:e(\"1\"),\\nsnid:e(\"28834\"),to:e(\"300000\"),u:e(\"\"),vf:\".66.\"},g=f,h=[\"bndcfg\"],k=a;h[0]in k||\"undefined\"==typeof k.execScript||k.execScript(\"var \"+h[0]);for(var l;h.length&&(l=h.shift());)h.length||void 0===g?k=k[l]&&k[l]!==Object.prototype[l]?k[l]:k[l]={}:k[l]=g;}catch(e){window.gbar&&gbar.logger&&gbar.logger.ml(e,{\"_sn\":\"cfg.init\"});}})();\\n(function(){try{/*\\n\\n Copyright The Closure Library Authors.\\n SPDX-License-Identifier: Apache-2.0\\n*/\\nwindow.gbar.rdl();}catch(e){window.gbar&&gbar.logger&&gbar.logger.ml(e,{\"_sn\":\"cfg.init\"});}})();\\n</script></head><body bgcolor=\"#fff\"><script nonce=\"TM/+hhBg3VWrW0pno30nqg==\">(function(){var src=\\'/images/nav_logo229.png\\';var iesg=false;document.body.onload = function(){window.n && window.n();if (document.images){new Image().src=src;}\\nif (!iesg){document.f&&document.f.q.focus();document.gbqf&&document.gbqf.q.focus();}\\n}\\n})();</script><div id=\"mngb\"><div id=gb><script nonce=\\'TM/+hhBg3VWrW0pno30nqg==\\'>window.gbar&&gbar.eli&&gbar.eli()</script><div id=gbw><div id=gbz><span class=gbtcb></span><ol id=gbzc class=gbtc><li class=gbt><a class=\"gbzt gbz0l gbp1\" id=gb_1 href=\"https://www.google.co.kr/webhp?tab=ww\"><span class=gbtb2></span><span class=gbts>&#44160;&#49353;</span></a></li><li class=gbt><a class=gbzt id=gb_2 href=\"http://www.google.co.kr/imghp?hl=ko&tab=wi\"><span class=gbtb2></span><span class=gbts>&#51060;&#48120;&#51648;</span></a></li><li class=gbt><a class=gbzt id=gb_8 href=\"http://maps.google.co.kr/maps?hl=ko&tab=wl\"><span class=gbtb2></span><span class=gbts>&#51648;&#46020;</span></a></li><li class=gbt><a class=gbzt id=gb_78 href=\"https://play.google.com/?hl=ko&tab=w8\"><span class=gbtb2></span><span class=gbts>Play</span></a></li><li class=gbt><a class=gbzt id=gb_36 href=\"http://www.youtube.com/?gl=KR&tab=w1\"><span class=gbtb2></span><span class=gbts>YouTube</span></a></li><li class=gbt><a class=gbzt id=gb_426 href=\"https://news.google.com/?tab=wn\"><span class=gbtb2></span><span class=gbts>&#45684;&#49828;</span></a></li><li class=gbt><a class=gbzt id=gb_23 href=\"https://mail.google.com/mail/?tab=wm\"><span class=gbtb2></span><span class=gbts>Gmail</span></a></li><li class=gbt><a class=gbzt id=gb_49 href=\"https://drive.google.com/?tab=wo\"><span class=gbtb2></span><span class=gbts>&#46300;&#46972;&#51060;&#48652;</span></a></li><li class=gbt><a class=gbgt id=gbztm href=\"https://www.google.co.kr/intl/ko/about/products?tab=wh\"  aria-haspopup=true aria-owns=gbd><span class=gbtb2></span><span id=gbztms class=\"gbts gbtsa\"><span id=gbztms1>&#45908;&#48372;&#44592;</span><span class=gbma></span></span></a><script nonce=\\'TM/+hhBg3VWrW0pno30nqg==\\'>document.getElementById(\\'gbztm\\').addEventListener(\\'click\\', function clickHandler() { gbar.tg(event,this); });</script><div class=gbm id=gbd aria-owner=gbztm><div id=gbmmb class=\"gbmc gbsb gbsbis\"><ol id=gbmm class=\"gbmcc gbsbic\"><li class=gbmtc><a class=gbmt id=gb_24 href=\"https://calendar.google.com/calendar?tab=wc\">&#52888;&#47536;&#45908;</a></li><li class=gbmtc><a class=gbmt id=gb_51 href=\"https://translate.google.co.kr/?hl=ko&tab=wT\">&#48264;&#50669;</a></li><li class=gbmtc><a class=gbmt id=gb_10 href=\"https://books.google.co.kr/?hl=ko&tab=wp\">&#46020;&#49436;</a></li><li class=gbmtc><a class=gbmt id=gb_6 href=\"https://www.google.co.kr/shopping?hl=ko&source=og&tab=wf\">&#49660;&#54609;</a></li><li class=gbmtc><a class=gbmt id=gb_30 href=\"http://www.blogger.com/?tab=wj\">Blogger</a></li><li class=gbmtc><a class=gbmt id=gb_27 href=\"https://www.google.com/finance?tab=we\">&#44552;&#50997;</a></li><li class=gbmtc><a class=gbmt id=gb_31 href=\"https://photos.google.com/?tab=wq&pageId=none\">&#49324;&#51652;</a></li><li class=gbmtc><a class=gbmt id=gb_12 href=\"http://video.google.co.kr/?hl=ko&tab=wv\">&#46041;&#50689;&#49345;</a></li><li class=gbmtc><a class=gbmt id=gb_25 href=\"https://docs.google.com/document/?usp=docs_alc\">&#47928;&#49436;</a></li><li class=gbmtc><div class=\"gbmt gbmh\"></div></li><li class=gbmtc><a  href=\"https://www.google.co.kr/intl/ko/about/products?tab=wh\" class=gbmt>&#47784;&#46160; &#48372;&#44592;</a><script nonce=\\'TM/+hhBg3VWrW0pno30nqg==\\'>document.querySelector(\\'li > a.gbmt\\').addEventListener(\\'click\\', function clickHandler() { gbar.logger.il(1,{t:66});; });</script></li></ol><div class=gbsbt></div><div class=gbsbb></div></div></div></li></ol></div><div id=gbg><h2 class=gbxx>Account Options</h2><span class=gbtcb></span><ol class=gbtc><li class=gbt><a target=_top href=\"https://accounts.google.com/ServiceLogin?hl=ko&passive=true&continue=http://www.google.com/&ec=GAZAAQ\" onclick=\"gbar.logger.il(9,{l:\\'i\\'})\" id=gb_70 class=gbgt><span class=gbtb2></span><span id=gbgs4 class=gbts><span id=gbi4s1>&#47196;&#44536;&#51064;</span></span></a></li><li class=\"gbt gbtb\"><span class=gbts></span></li><li class=gbt><a class=gbgt id=gbg5 href=\"http://www.google.co.kr/preferences?hl=ko\" title=\"&#50741;&#49496;\" aria-haspopup=true aria-owns=gbd5><span class=gbtb2></span><span id=gbgs5 class=gbts><span id=gbi5></span></span></a><script nonce=\\'TM/+hhBg3VWrW0pno30nqg==\\'>document.getElementById(\\'gbg5\\').addEventListener(\\'click\\', function clickHandler() { gbar.tg(event,this); });</script><div class=gbm id=gbd5 aria-owner=gbg5><div class=gbmc><ol id=gbom class=gbmcc><li class=\"gbkc gbmtc\"><a  class=gbmt href=\"/preferences?hl=ko\">&#44160;&#49353; &#54872;&#44221;&#49444;&#51221;</a></li><li class=gbmtc><div class=\"gbmt gbmh\"></div></li><li class=\"gbkp gbmtc\"><a class=gbmt href=\"http://www.google.co.kr/history/optout?hl=ko\">&#50937; &#44592;&#47197;</a></li></ol></div></div></li></ol></div></div><div id=gbx3></div><div id=gbx4></div><script nonce=\\'TM/+hhBg3VWrW0pno30nqg==\\'>window.gbar&&gbar.elp&&gbar.elp()</script></div></div><center><br clear=\"all\" id=\"lgpd\"><div id=\"lga\"><img alt=\"Google\" height=\"92\" src=\"/images/branding/googlelogo/1x/googlelogo_white_background_color_272x92dp.png\" style=\"padding:28px 0 14px\" width=\"272\" id=\"hplogo\"><br><br></div><form action=\"/search\" name=\"f\"><table cellpadding=\"0\" cellspacing=\"0\"><tr valign=\"top\"><td width=\"25%\">&nbsp;</td><td align=\"center\" nowrap=\"\"><input name=\"ie\" value=\"ISO-8859-1\" type=\"hidden\"><input value=\"ko\" name=\"hl\" type=\"hidden\"><input name=\"source\" type=\"hidden\" value=\"hp\"><input name=\"biw\" type=\"hidden\"><input name=\"bih\" type=\"hidden\"><div class=\"ds\" style=\"height:32px;margin:4px 0\"><div style=\"position:relative;zoom:1\"><input class=\"lst tiah\" style=\"margin:0;padding:5px 8px 0 6px;vertical-align:top;color:#000;padding-right:38px\" autocomplete=\"off\" value=\"\" title=\"Google &#44160;&#49353;\" maxlength=\"2048\" name=\"q\" size=\"57\"><img src=\"/textinputassistant/tia.png\" style=\"position:absolute;cursor:pointer;right:5px;top:4px;z-index:300\" data-script-url=\"/textinputassistant/11/ko_tia.js\" id=\"tsuid1\" alt=\"\" height=\"23\" width=\"27\"><script nonce=\"TM/+hhBg3VWrW0pno30nqg==\">(function(){var id=\\'tsuid1\\';document.getElementById(id).onclick = function(){var s = document.createElement(\\'script\\');s.src = this.getAttribute(\\'data-script-url\\');(document.getElementById(\\'xjsc\\')||document.body).appendChild(s);};})();</script></div></div><br style=\"line-height:0\"><span class=\"ds\"><span class=\"lsbb\"><input class=\"lsb\" value=\"Google &#44160;&#49353;\" name=\"btnG\" type=\"submit\"></span></span><span class=\"ds\"><span class=\"lsbb\"><input class=\"lsb\" id=\"tsuid2\" value=\"I&#8217;m Feeling Lucky\" name=\"btnI\" type=\"submit\"><script nonce=\"TM/+hhBg3VWrW0pno30nqg==\">(function(){var id=\\'tsuid2\\';document.getElementById(id).onclick = function(){if (this.form.q.value){this.checked = 1;if (this.form.iflsig)this.form.iflsig.disabled = false;}\\nelse top.location=\\'/doodles/\\';};})();</script><input value=\"AHkkrS4AAAAAYgTJwBdwIuFzycDhsOILyyfmwf5-bGvK\" name=\"iflsig\" type=\"hidden\"></span></span></td><td class=\"fl sblc\" align=\"left\" nowrap=\"\" width=\"25%\"><a href=\"/advanced_search?hl=ko&amp;authuser=0\">&#44256;&#44553;&#44160;&#49353;</a></td></tr></table><input id=\"gbv\" name=\"gbv\" type=\"hidden\" value=\"1\"><script nonce=\"TM/+hhBg3VWrW0pno30nqg==\">(function(){\\nvar a,b=\"1\";if(document&&document.getElementById)if(\"undefined\"!=typeof XMLHttpRequest)b=\"2\";else if(\"undefined\"!=typeof ActiveXObject){var c,d,e=[\"MSXML2.XMLHTTP.6.0\",\"MSXML2.XMLHTTP.3.0\",\"MSXML2.XMLHTTP\",\"Microsoft.XMLHTTP\"];for(c=0;d=e[c++];)try{new ActiveXObject(d),b=\"2\"}catch(h){}}a=b;if(\"2\"==a&&-1==location.search.indexOf(\"&gbv=2\")){var f=google.gbvu,g=document.getElementById(\"gbv\");g&&(g.value=a);f&&window.setTimeout(function(){location.href=f},0)};}).call(this);</script></form><div id=\"gac_scont\"></div><div style=\"font-size:83%;min-height:3.5em\"><br></div><span id=\"footer\"><div style=\"font-size:10pt\"><div style=\"margin:19px auto;text-align:center\" id=\"WqQANb\"><a href=\"/intl/ko/ads/\">&#44305;&#44256; &#54532;&#47196;&#44536;&#47016;</a><a href=\"http://www.google.co.kr/intl/ko/services/\">&#48708;&#51592;&#45768;&#49828; &#49556;&#47336;&#49496;</a><a href=\"/intl/ko/about.html\">Google &#51221;&#48372;</a><a href=\"http://www.google.com/setprefdomain?prefdom=KR&amp;prev=http://www.google.co.kr/&amp;sig=K_slS8QkCc12tBv5BV7H0iT9FCIGo%3D\">Google.co.kr</a></div></div><p style=\"font-size:8pt;color:#70757a\">&copy; 2022 - <a href=\"/intl/ko/policies/privacy/\">&#44060;&#51064;&#51221;&#48372;&#52376;&#47532;&#48169;&#52840;</a> - <a href=\"/intl/ko/policies/terms/\">&#50557;&#44288;</a></p></span></center><script nonce=\"TM/+hhBg3VWrW0pno30nqg==\">(function(){window.google.cdo={height:757,width:1440};(function(){\\nvar a=window.innerWidth,b=window.innerHeight;if(!a||!b){var c=window.document,d=\"CSS1Compat\"==c.compatMode?c.documentElement:c.body;a=d.clientWidth;b=d.clientHeight}a&&b&&(a!=google.cdo.width||b!=google.cdo.height)&&google.log(\"\",\"\",\"/client_204?&atyp=i&biw=\"+a+\"&bih=\"+b+\"&ei=\"+google.kEI);}).call(this);})();</script> <script nonce=\"TM/+hhBg3VWrW0pno30nqg==\">(function(){google.xjs={ck:\\'\\',cs:\\'\\',excm:[]};})();</script>  <script nonce=\"TM/+hhBg3VWrW0pno30nqg==\">(function(){var u=\\'/xjs/_/js/k\\\\x3dxjs.hp.en.Ql8apIcj-7g.O/am\\\\x3dAPAEAEACkA/d\\\\x3d1/ed\\\\x3d1/esmo\\\\x3d1/rs\\\\x3dACT90oFIlHc7PDchOtdpIoQJT81aRS8qBQ/m\\\\x3dsb_he,d\\';\\nvar d=this||self,e=function(a){return a};var g;var l=function(a,b){this.g=b===h?a:\"\"};l.prototype.toString=function(){return this.g+\"\"};var h={};\\nfunction n(){var a=u;google.lx=function(){p(a);google.lx=function(){}};google.bx||google.lx()}\\nfunction p(a){google.timers&&google.timers.load&&google.tick&&google.tick(\"load\",\"xjsls\");var b=document;var c=\"SCRIPT\";\"application/xhtml+xml\"===b.contentType&&(c=c.toLowerCase());c=b.createElement(c);if(void 0===g){b=null;var k=d.trustedTypes;if(k&&k.createPolicy){try{b=k.createPolicy(\"goog#html\",{createHTML:e,createScript:e,createScriptURL:e})}catch(q){d.console&&d.console.error(q.message)}g=b}else g=b}a=(b=g)?b.createScriptURL(a):a;a=new l(a,h);c.src=a instanceof l&&a.constructor===l?a.g:\"type_error:TrustedResourceUrl\";var f,m;(f=(a=null==(m=(f=(c.ownerDocument&&c.ownerDocument.defaultView||window).document).querySelector)?void 0:m.call(f,\"script[nonce]\"))?a.nonce||a.getAttribute(\"nonce\")||\"\":\"\")&&c.setAttribute(\"nonce\",f);document.body.appendChild(c);google.psa=!0};google.xjsu=u;setTimeout(function(){n()},0);})();function _DumpException(e){throw e;}\\nfunction _F_installCss(c){}\\n(function(){google.jl={attn:false,blt:\\'none\\',chnk:0,dw:false,dwu:true,emtn:0,end:0,ine:false,lls:\\'default\\',pdt:0,rep:0,snet:true,strt:0,ubm:false,uwp:true};})();(function(){var pmc=\\'{\\\\x22d\\\\x22:{},\\\\x22sb_he\\\\x22:{\\\\x22agen\\\\x22:true,\\\\x22cgen\\\\x22:true,\\\\x22client\\\\x22:\\\\x22heirloom-hp\\\\x22,\\\\x22dh\\\\x22:true,\\\\x22dhqt\\\\x22:true,\\\\x22ds\\\\x22:\\\\x22\\\\x22,\\\\x22ffql\\\\x22:\\\\x22ko\\\\x22,\\\\x22fl\\\\x22:true,\\\\x22host\\\\x22:\\\\x22google.com\\\\x22,\\\\x22isbh\\\\x22:28,\\\\x22jsonp\\\\x22:true,\\\\x22msgs\\\\x22:{\\\\x22cibl\\\\x22:\\\\x22&#44160;&#49353;&#50612; &#51648;&#50864;&#44592;\\\\x22,\\\\x22dym\\\\x22:\\\\x22&#51060;&#44163;&#51012; &#52286;&#51004;&#49512;&#45208;&#50836;?\\\\x22,\\\\x22lcky\\\\x22:\\\\x22I&#8217;m Feeling Lucky\\\\x22,\\\\x22lml\\\\x22:\\\\x22&#51088;&#49464;&#55176; &#50508;&#50500;&#48372;&#44592;\\\\x22,\\\\x22oskt\\\\x22:\\\\x22&#51077;&#47141; &#46020;&#44396;\\\\x22,\\\\x22psrc\\\\x22:\\\\x22&#44160;&#49353;&#50612;&#44032; \\\\\\\\u003Ca href\\\\x3d\\\\\\\\\\\\x22/history\\\\\\\\\\\\x22\\\\\\\\u003E&#50937; &#44592;&#47197;\\\\\\\\u003C/a\\\\\\\\u003E&#50640;&#49436; &#49325;&#51228;&#46104;&#50632;&#49845;&#45768;&#45796;.\\\\x22,\\\\x22psrl\\\\x22:\\\\x22&#49325;&#51228;\\\\x22,\\\\x22sbit\\\\x22:\\\\x22&#51060;&#48120;&#51648;&#47196; &#44160;&#49353;\\\\x22,\\\\x22srch\\\\x22:\\\\x22Google &#44160;&#49353;\\\\x22},\\\\x22ovr\\\\x22:{},\\\\x22pq\\\\x22:\\\\x22\\\\x22,\\\\x22refpd\\\\x22:true,\\\\x22rfs\\\\x22:[],\\\\x22sbas\\\\x22:\\\\x220 3px 8px 0 rgba(0,0,0,0.2),0 0 0 1px rgba(0,0,0,0.08)\\\\x22,\\\\x22sbpl\\\\x22:16,\\\\x22sbpr\\\\x22:16,\\\\x22scd\\\\x22:10,\\\\x22stok\\\\x22:\\\\x22RyPHrQvvwst7asXmfS5KWuCI668\\\\x22,\\\\x22uhde\\\\x22:false}}\\';google.pmc=JSON.parse(pmc);})();</script>        </body></html>\\r\\n0\\r\\n\\r\\n'"
            ]
          },
          "execution_count": 85,
          "metadata": {},
          "output_type": "execute_result"
        }
      ],
      "source": [
        "data=sock.recv(65565)\n",
        "data"
      ]
    },
    {
      "cell_type": "code",
      "execution_count": null,
      "id": "f3cf7e4b",
      "metadata": {
        "id": "f3cf7e4b"
      },
      "outputs": [],
      "source": [
        "sock.close()"
      ]
    },
    {
      "cell_type": "markdown",
      "id": "a90e5f79",
      "metadata": {
        "id": "a90e5f79"
      },
      "source": [
        "소켓을 이용한 간단한 포트스캐너 만들기"
      ]
    },
    {
      "cell_type": "code",
      "execution_count": null,
      "id": "7e9e51c4",
      "metadata": {
        "id": "7e9e51c4",
        "outputId": "4273170c-7e25-436a-e661-72c1584eb481"
      },
      "outputs": [
        {
          "ename": "ConnectionRefusedError",
          "evalue": "[WinError 10061] 대상 컴퓨터에서 연결을 거부했으므로 연결하지 못했습니다",
          "output_type": "error",
          "traceback": [
            "\u001b[1;31m---------------------------------------------------------------------------\u001b[0m",
            "\u001b[1;31mConnectionRefusedError\u001b[0m                    Traceback (most recent call last)",
            "Input \u001b[1;32mIn [88]\u001b[0m, in \u001b[0;36m<module>\u001b[1;34m\u001b[0m\n\u001b[0;32m      5\u001b[0m sock\u001b[38;5;241m=\u001b[39msocket\u001b[38;5;241m.\u001b[39msocket(socket\u001b[38;5;241m.\u001b[39mAF_INET, socket\u001b[38;5;241m.\u001b[39mSOCK_STREAM)\n\u001b[0;32m      6\u001b[0m sock\u001b[38;5;241m.\u001b[39msetsockopt(socket\u001b[38;5;241m.\u001b[39mSOL_SOCKET, socket\u001b[38;5;241m.\u001b[39mSO_REUSEADDR,\u001b[38;5;241m1\u001b[39m)\n\u001b[1;32m----> 7\u001b[0m result\u001b[38;5;241m=\u001b[39m\u001b[43msock\u001b[49m\u001b[38;5;241;43m.\u001b[39;49m\u001b[43mconnect\u001b[49m\u001b[43m(\u001b[49m\u001b[43m(\u001b[49m\u001b[43mhost\u001b[49m\u001b[43m,\u001b[49m\u001b[43mport\u001b[49m\u001b[43m)\u001b[49m\u001b[43m)\u001b[49m\n\u001b[0;32m      8\u001b[0m \u001b[38;5;28;01mif\u001b[39;00m result\u001b[38;5;241m==\u001b[39m\u001b[38;5;241m0\u001b[39m:\n\u001b[0;32m      9\u001b[0m     \u001b[38;5;28mprint\u001b[39m(\u001b[38;5;124m\"\u001b[39m\u001b[38;5;124mport\u001b[39m\u001b[38;5;124m\"\u001b[39m\u001b[38;5;241m+\u001b[39m\u001b[38;5;28mstr\u001b[39m(port)\u001b[38;5;241m+\u001b[39m\u001b[38;5;124m\"\u001b[39m\u001b[38;5;124mopen\u001b[39m\u001b[38;5;124m\"\u001b[39m)\n",
            "\u001b[1;31mConnectionRefusedError\u001b[0m: [WinError 10061] 대상 컴퓨터에서 연결을 거부했으므로 연결하지 못했습니다"
          ]
        }
      ],
      "source": [
        "import socket\n",
        "hosts=['127.0.0.1']\n",
        "for host in hosts:\n",
        "    for port in range(1,1025):\n",
        "        sock=socket.socket(socket.AF_INET, socket.SOCK_STREAM)\n",
        "        sock.setsockopt(socket.SOL_SOCKET, socket.SO_REUSEADDR,1)\n",
        "        result=sock.connect((host,port))\n",
        "        if result==0:\n",
        "            print(\"port\"+str(port)+\"open\")\n",
        "            sock.close()"
      ]
    },
    {
      "cell_type": "markdown",
      "id": "7edaa620",
      "metadata": {
        "id": "7edaa620"
      },
      "source": [
        "setsockopt(5가지 옵션)\n",
        "1. 소켓의 번호(생략 가능)\n",
        "2. 옵션 종류\n",
        "- SOL_SOCKET\n",
        "- IPPROTO_TOP\n",
        "3. 설정을 위한 소켓 옵션의 번호(생략 가능)\n",
        "4. 설정 값이 저장된 주소값\n",
        "5. 버퍼의 크기"
      ]
    },
    {
      "cell_type": "code",
      "execution_count": null,
      "id": "b328f877",
      "metadata": {
        "id": "b328f877",
        "outputId": "08b00a68-bd3f-45ee-c648-68c27d4a4d2a"
      },
      "outputs": [
        {
          "name": "stdout",
          "output_type": "stream",
          "text": [
            "port8887close\n",
            "port8888open\n"
          ]
        }
      ],
      "source": [
        "for host in hosts:\n",
        "    for port in range(8887,8889):\n",
        "        sock=socket.socket(socket.AF_INET, socket.SOCK_STREAM)\n",
        "        sock.setsockopt(socket.SOL_SOCKET, socket.SO_REUSEADDR,1)\n",
        "        try:\n",
        "            result=sock.connect((host,port))\n",
        "            if result==None:\n",
        "                print(\"port\"+str(port)+\"open\")\n",
        "        except:\n",
        "            print(\"port\"+str(port)+\"close\")\n",
        "                   \n",
        "    sock.close()"
      ]
    },
    {
      "cell_type": "code",
      "execution_count": null,
      "id": "fcf7b47c",
      "metadata": {
        "id": "fcf7b47c"
      },
      "outputs": [],
      "source": [
        ""
      ]
    },
    {
      "cell_type": "code",
      "execution_count": null,
      "id": "f3d0ffed",
      "metadata": {
        "id": "f3d0ffed"
      },
      "outputs": [],
      "source": [
        ""
      ]
    },
    {
      "cell_type": "code",
      "execution_count": null,
      "id": "e8ab3d9d",
      "metadata": {
        "id": "e8ab3d9d"
      },
      "outputs": [],
      "source": [
        ""
      ]
    },
    {
      "cell_type": "code",
      "execution_count": null,
      "id": "2cdbfa62",
      "metadata": {
        "id": "2cdbfa62"
      },
      "outputs": [],
      "source": [
        ""
      ]
    },
    {
      "cell_type": "code",
      "execution_count": null,
      "id": "9c70861a",
      "metadata": {
        "id": "9c70861a"
      },
      "outputs": [],
      "source": [
        ""
      ]
    }
  ],
  "metadata": {
    "kernelspec": {
      "display_name": "Python 3 (ipykernel)",
      "language": "python",
      "name": "python3"
    },
    "language_info": {
      "codemirror_mode": {
        "name": "ipython",
        "version": 3
      },
      "file_extension": ".py",
      "mimetype": "text/x-python",
      "name": "python",
      "nbconvert_exporter": "python",
      "pygments_lexer": "ipython3",
      "version": "3.9.7"
    },
    "colab": {
      "name": "7일차.ipynb",
      "provenance": [],
      "include_colab_link": true
    }
  },
  "nbformat": 4,
  "nbformat_minor": 5
}