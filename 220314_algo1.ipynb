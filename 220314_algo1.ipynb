{
 "cells": [
  {
   "cell_type": "markdown",
   "id": "2c211b90",
   "metadata": {},
   "source": [
    "# 리스트[] 문법\n",
    "\n",
    "1. 리스트 삽입 & 삭제\n",
    "- `.append(원소)` 리스트 맨 끝에 새로운 원소를 추가\n",
    "- `.pop(인덱스)` 특정 인덱스의 값을 삭제하면서 동시에 반환\n",
    "\n",
    "2. 리스트 관련 내장 함수\n",
    "- `len()` 입력 값의 `길이`(원소의 개수)를 반환하는 함수\n",
    "- `sum()` 입력 받은 iterable의 모든 원소의 `합`을 반환하는 함수\n",
    "- `max()` 입력 받은 iterable의 원소 중 `최댓값`을 반환하는 함수\n",
    "- `min()` 입력 받은 iterable의 원소 중 `최솟값`을 반환하는 함수\n",
    "- `sorted()` 입력 받은 iterable을 `오름차순으로 정렬`한 후 그 결과를 리스트로 반환하는 함수<br>\n",
    "        - `key` : 어떤 기준으로 정렬할 것인지 정하는 옵션. (`함수`를 지정하여 기준을 정함)<br>\n",
    "        - `reverse` : 내림차순으로 정렬할 것인지 정하는 옵션. (기본값: `False`)<br>\n",
    "- `reversed()` 입력 받은 iterable의 `순서를 거꾸로 바꿔서 반환`하는 함수<br>\n",
    "        - `a[::-1]`과 비슷한 기능을 수행, 반환 값이 리스트X -> 타입 변환 필요<br>\n",
    "- `zip()` 여러 iterable을 대상으로 `같은 인덱스 원소끼리 묶어서 튜플로 반환`하는 함수<br>\n",
    "        - 반환 값이 리스트X -> 타입 변환 필요        <br>\n",
    "        - 2차원 리스트에 zip 함수와 Unpacking을 이용하면 `행과 열을 스위칭` 할 수 있음<br>\n",
    "\n",
    "3. List Comprehension 한 줄로 작성해 유용, 속도 면에서 우월<br>\n",
    "ex) numbers = []<br>\n",
    "    for i in range(5):            =     numbers = [i for i in range(5)]<br>\n",
    "\t\tnumbers.append(i)<br>\n",
    "map 함수 대신 사용 : numbers = [int(i) for i in input().split()]<br>\n",
    "filter 함수 대신 사용 : odd_numbers = [i for i in range(10) if i % 2 == 1]<br>\n",
    "\n",
    "4. 2차원 리스트\n",
    "-  List Comprehension을 이용\n",
    "ex) n = int(input())<br>\n",
    "    board = [list(map(int, input())) for _ in range(n)]"
   ]
  },
  {
   "cell_type": "markdown",
   "id": "6a1b20a9",
   "metadata": {},
   "source": [
    "## Max 구현"
   ]
  },
  {
   "cell_type": "code",
   "execution_count": 13,
   "id": "346d5454",
   "metadata": {},
   "outputs": [
    {
     "name": "stdout",
     "output_type": "stream",
     "text": [
      "77\n"
     ]
    }
   ],
   "source": [
    "#강사님\n",
    "#가능한 숫자는 1~999까지의 숫자이다.\n",
    "nums=[1,5,77,26,33,2,6,16,55]\n",
    "\n",
    "#가능한 숫자 보다 있을리 없는 작은 숫자를 택함\n",
    "max_num=-1\n",
    "\n",
    "for num in nums:\n",
    "    if max_num<num:\n",
    "        max_num=num\n",
    "\n",
    "print(max_num)"
   ]
  },
  {
   "cell_type": "code",
   "execution_count": 14,
   "id": "d0e1183a",
   "metadata": {},
   "outputs": [
    {
     "name": "stdout",
     "output_type": "stream",
     "text": [
      "77\n"
     ]
    }
   ],
   "source": [
    "#가능한 숫자는 1~999까지의 숫자이다.\n",
    "nums=[1,5,77,26,33,2,6,16,55]\n",
    "\n",
    "#가능한 숫자 중 가장 작은 수를 선택한다.\n",
    "max_num=1\n",
    "\n",
    "for num in nums:\n",
    "    if max_num<num:\n",
    "        max_num=num\n",
    "\n",
    "print(max_num)"
   ]
  },
  {
   "cell_type": "markdown",
   "id": "5dfdddf6",
   "metadata": {},
   "source": [
    "## Min 구현"
   ]
  },
  {
   "cell_type": "code",
   "execution_count": 15,
   "id": "d0c70b78",
   "metadata": {},
   "outputs": [
    {
     "name": "stdout",
     "output_type": "stream",
     "text": [
      "1\n"
     ]
    }
   ],
   "source": [
    "#강사님\n",
    "#가능한 숫자는 1~999까지의 숫자이다.\n",
    "nums = [1, 5 ,77, 26, 33, 2, 6, 16, 55]\n",
    "\n",
    "min_num = 9999  # 이번에는 원래부터 될 수 없을만큼 큰 수를 초기화 숫자로 결정해야 합니다.\n",
    "\n",
    "for num in nums:\n",
    "    if min_num > num:  # 돌면서 최솟값이 나온다면? \n",
    "        min_num = num  # 갈아끼워줍니다.\n",
    "\n",
    "print(min_num)"
   ]
  },
  {
   "cell_type": "code",
   "execution_count": 16,
   "id": "9ca42094",
   "metadata": {},
   "outputs": [
    {
     "name": "stdout",
     "output_type": "stream",
     "text": [
      "1\n"
     ]
    }
   ],
   "source": [
    "#가능한 숫자는 1~999까지의 숫자이다.\n",
    "nums = [1, 5 ,77, 26, 33, 2, 6, 16, 55]\n",
    "\n",
    "min_num = 9999  # 가능한 숫자 중 가장 큰 수를 선택한다.\n",
    "for num in nums: #nums 안의 숫자를 num으로 두고 반복\n",
    "    if min_num > num: #num이 min_num보다 작으면\n",
    "        min_num = num  #min_num은 num으로 대체된다\n",
    "\n",
    "print(min_num)"
   ]
  },
  {
   "cell_type": "markdown",
   "id": "3d87892d",
   "metadata": {},
   "source": [
    "백준 10818번 - 최소, 최대\n",
    "- Q) N개의 정수가 주어진다. 이때, 최솟값과 최댓값을 구하는 프로그램을 작성하시오.<br>\n",
    "- 입력 : 첫째 줄에 정수의 개수 N(1<=N<=1,000,000)이 주어진다. 둘째 줄에는 N개의 정수를 공백으로 구분해서 주어진다. 모든 정수는 -1,000,000보다 크거나 같고, 1,000,000보다 작거나 같은 정수이다.<br>\n",
    "- 출력 : 첫째 줄에 주어진 정수 N개의 최솟값과 최댓값을 공백으로 구분해 출력한다.<br>\n",
    "5<br>\n",
    "20 10 35 30 7<br>\n",
    "일 경우<br>\n",
    "출력<br>\n",
    "7 35"
   ]
  },
  {
   "cell_type": "code",
   "execution_count": 37,
   "id": "90d9b75f",
   "metadata": {},
   "outputs": [
    {
     "name": "stdout",
     "output_type": "stream",
     "text": [
      "7 35\n"
     ]
    }
   ],
   "source": [
    "n = input() # [1, 5, 77, 33, 55]\n",
    "numbers = list(map(int, input().split()))\n",
    "print(min(numbers), max(numbers))"
   ]
  },
  {
   "cell_type": "markdown",
   "id": "43307c0c",
   "metadata": {},
   "source": [
    "# 문자열 문법\n",
    "- 문자열 슬라이싱 `string[start:end:step]` \n",
    "\n",
    "```python\n",
    "s = \"abcdefghi\"\n",
    "\n",
    "# start ~ end-1 까지 자르기 (양수, 음수 인덱스 혼합 가능)\n",
    "s[2:5] -> \"cde\"\n",
    "s[-6:-2] -> \"defg\"\n",
    "s[2:-4] -> \"cde\"\n",
    "\n",
    "# step을 이용해서 자르기 (음수는 반대 방향을 의미)\n",
    "s[2:5:2] -> \"ce\"\n",
    "s[-6:-1:3] -> \"dg\"\n",
    "s[2:5:-1] -> \"\"\n",
    "s[5:2:-1] -> \"fed\"\n",
    "\n",
    "# start, end, step을 지정하지 않으면 기본값으로 자르기\n",
    "s[:3] -> \"abc\"\n",
    "s[5:] -> \"fghi\"\n",
    "s[:] -> \"abcdefghi\"\n",
    "s[::-1] -> \"ihgfedcba\"\n",
    "```"
   ]
  },
  {
   "cell_type": "markdown",
   "id": "c93f7ecf",
   "metadata": {},
   "source": [
    "## 1| .split(\"기준 문자\")\n",
    " - 문자열을 일정 기준으로 나누어 리스트로 반환합니다.\n",
    " - 기준 문자의 기본 값은 `공백(스페이스, 탭, 엔터)`입니다.\n",
    " - 기준 문자를 별도로 넘기면 해당 값을 기준으로 설정합니다."
   ]
  },
  {
   "cell_type": "code",
   "execution_count": 18,
   "id": "33dec2b1",
   "metadata": {},
   "outputs": [
    {
     "data": {
      "text/plain": [
       "['I', 'play', 'the', 'piano']"
      ]
     },
     "execution_count": 18,
     "metadata": {},
     "output_type": "execute_result"
    }
   ],
   "source": [
    "word = \"I play the piano\"\n",
    "\n",
    "word.split()\n",
    "# [\"I\", \"play\", \"the\", \"piano\"]"
   ]
  },
  {
   "cell_type": "code",
   "execution_count": 19,
   "id": "243b63e0",
   "metadata": {},
   "outputs": [
    {
     "data": {
      "text/plain": [
       "['apple', 'banana', 'orange', 'grape']"
      ]
     },
     "execution_count": 19,
     "metadata": {},
     "output_type": "execute_result"
    }
   ],
   "source": [
    "word = \"apple,banana,orange,grape\"\n",
    "\n",
    "word.split(\",\")\n",
    "# [\"apple\", \"banana\", \"orange\", \"grape\"]"
   ]
  },
  {
   "cell_type": "markdown",
   "id": "58082c5c",
   "metadata": {},
   "source": [
    "# 기본 입출력\n",
    "## input\n",
    "모두 문자열로 취급, 여러 개의 타입 변환은 map함수를 통해서"
   ]
  },
  {
   "cell_type": "code",
   "execution_count": null,
   "id": "d198b067",
   "metadata": {},
   "outputs": [],
   "source": [
    "a = int(input())                       #정수형 변수 1개 입력 받기\n",
    "b, c = map(int, input().split())       #정수형 변수 2개 입력 받기\n",
    "\n",
    "d = float(input())                     #실수형 변수 1개 입력 받기\n",
    "e, f, g = map(float, input().split())  #실수형 변수 3개 입력 받기\n",
    "\n",
    "h = input()                            #문자열 변수 1개 입력 받기 "
   ]
  },
  {
   "cell_type": "markdown",
   "id": "cf29af8d",
   "metadata": {},
   "source": [
    "## print\n",
    "- end 마지막 출력 문자, \"\" 줄바꿈X, \\n 줄바꿈\n",
    "- sep 여러 데이터 출력 시, 각 출력 값들 사이에 넣는 구분 문자"
   ]
  },
  {
   "cell_type": "code",
   "execution_count": null,
   "id": "6a3dac2f",
   "metadata": {},
   "outputs": [
    {
     "name": "stdout",
     "output_type": "stream",
     "text": [
      "6\n",
      "3 1.0 2.5 3.4\n",
      "1.0\n",
      "2.5\n",
      "3.4\n",
      "ABC\n"
     ]
    }
   ],
   "source": [
    "a, b = 6, 3\n",
    "c, d, e = 1.0, 2.5, 3.4\n",
    "f = \"ABC\"\n",
    "\n",
    "print(a)                                #정수형 변수 1개 출력하기\n",
    "print(b, end = \" \")                     #줄바꿈 하지 않고 정수형 변수와 공백을 출력하기\n",
    "print(c, d, e)                          #실수형 변수 3개 출력하기 (구분자: 띄어쓰기)\n",
    "print(c, d, e, sep=\"\\n\")                #실수형 변수 3개 출력하기 (구분자: 줄바꿈)\n",
    "print(f)                                #문자열 1개 출력하기"
   ]
  },
  {
   "cell_type": "code",
   "execution_count": 38,
   "id": "fdbf653a",
   "metadata": {},
   "outputs": [
    {
     "name": "stdout",
     "output_type": "stream",
     "text": [
      "4 8\n"
     ]
    }
   ],
   "source": [
    "my_str=input()\n",
    "my_num=int(input())\n",
    "\n",
    "print(my_str,my_num)"
   ]
  },
  {
   "cell_type": "code",
   "execution_count": 20,
   "id": "fea23059",
   "metadata": {},
   "outputs": [
    {
     "name": "stdout",
     "output_type": "stream",
     "text": [
      "2\n"
     ]
    }
   ],
   "source": [
    "original=input()\n",
    "print(original)"
   ]
  },
  {
   "cell_type": "code",
   "execution_count": null,
   "id": "665f9142",
   "metadata": {},
   "outputs": [
    {
     "name": "stdout",
     "output_type": "stream",
     "text": [
      "['20', '10', '35', '30', '7']\n",
      "[20, 10, 35, 30, 7]\n"
     ]
    }
   ],
   "source": [
    "list_original=input().split() #['20', '10', '35', '30', '7']\n",
    "print(list_original)\n",
    "\n",
    "final_result=[]\n",
    "for i in list_original:\n",
    "    final_result.append(int(i))\n",
    "print(final_result)"
   ]
  },
  {
   "cell_type": "code",
   "execution_count": null,
   "id": "cac83ddc",
   "metadata": {},
   "outputs": [
    {
     "name": "stdout",
     "output_type": "stream",
     "text": [
      "['20', '10', '35', '30', '7']\n",
      "[20, 10, 35, 30, 7]\n"
     ]
    }
   ],
   "source": [
    "list_original=input().split()\n",
    "print(list_original)\n",
    "\n",
    "nums=list(map(int,input().split()))\n",
    "print(nums)"
   ]
  },
  {
   "cell_type": "code",
   "execution_count": null,
   "id": "aa029d04",
   "metadata": {},
   "outputs": [
    {
     "name": "stdout",
     "output_type": "stream",
     "text": [
      "처음: 20 10 35 30 7\n",
      "요소가 str: ['20', '10', '35', '30', '7']\n",
      "처음보는데?: <map object at 0x000002873D5E89D0>\n",
      "이걸 원했어!: [20, 10, 35, 30, 7]\n"
     ]
    }
   ],
   "source": [
    "original=input()\n",
    "print('처음:',original)\n",
    "str_list=original.split()\n",
    "print('요소가 str:', str_list)\n",
    "map_object=map(int,str_list)\n",
    "print('처음보는데?:',map_object)\n",
    "final_result=list(map_object)\n",
    "print('이걸 원했어!:', final_result)\n",
    "\n",
    "# nums=list(map(int,input().split()))"
   ]
  },
  {
   "cell_type": "code",
   "execution_count": null,
   "id": "38dda2b4",
   "metadata": {},
   "outputs": [
    {
     "name": "stdout",
     "output_type": "stream",
     "text": [
      "역삼멀캠이\n",
      "안녕 나는 name야\n",
      "안녕 나는 역삼멀캠이야\n",
      "안녕 나는 역삼멀캠이야\n"
     ]
    }
   ],
   "source": [
    "name = '역삼멀캠이'\n",
    "print(name)\n",
    "print('안녕 나는 name야')\n",
    "print(f'안녕 나는 {name}야')\n",
    "print('안녕 나는 {}야'.format(name))"
   ]
  },
  {
   "cell_type": "markdown",
   "id": "2f4b9cdb",
   "metadata": {},
   "source": [
    "# 표준 입출력 실습"
   ]
  },
  {
   "cell_type": "markdown",
   "id": "4ea78447",
   "metadata": {},
   "source": [
    "백준 1000번 - A+B\n",
    "1. 공백으로 구분된 두 정수 입력받기"
   ]
  },
  {
   "cell_type": "code",
   "execution_count": null,
   "id": "ded621cf",
   "metadata": {},
   "outputs": [
    {
     "name": "stdout",
     "output_type": "stream",
     "text": [
      "12\n"
     ]
    }
   ],
   "source": [
    "a,b=map(int,input().split())\n",
    "#0 < A, B < 10으로 입력받기\n",
    "print(a+b)"
   ]
  },
  {
   "cell_type": "markdown",
   "id": "33023c65",
   "metadata": {},
   "source": [
    "백준 2558번 - A+B (2)<br>\n",
    "2. 개행으로 구분된 두 정수 입력받기"
   ]
  },
  {
   "cell_type": "code",
   "execution_count": 23,
   "id": "b4ee9be7",
   "metadata": {},
   "outputs": [
    {
     "name": "stdout",
     "output_type": "stream",
     "text": [
      "12\n"
     ]
    }
   ],
   "source": [
    "a=int(input())\n",
    "b=int(input())\n",
    "#0 < A, B < 10으로 입력받기\n",
    "print(a+b)"
   ]
  },
  {
   "cell_type": "code",
   "execution_count": null,
   "id": "82529e7b",
   "metadata": {},
   "outputs": [],
   "source": [
    "a, b = int(input()), int(input())\n",
    "print(a + b)"
   ]
  },
  {
   "cell_type": "code",
   "execution_count": null,
   "id": "9dde4579",
   "metadata": {},
   "outputs": [],
   "source": [
    "a, b = [int(input()) for _ in range(2)]\n",
    "print(a + b)"
   ]
  },
  {
   "cell_type": "code",
   "execution_count": 30,
   "id": "b347e3e1",
   "metadata": {},
   "outputs": [
    {
     "name": "stdout",
     "output_type": "stream",
     "text": [
      "7\n"
     ]
    }
   ],
   "source": [
    "a,b=list(map(int,input().split())) #a,b=[3,4]\n",
    "print(a+b)"
   ]
  },
  {
   "cell_type": "markdown",
   "id": "55be5caa",
   "metadata": {},
   "source": [
    "백준 10950번 - A+B (3) <br>\n",
    "3. 테스트 케이스 갯수에 따라 유동적으로 입력받기<br>\n",
    "두 정수 A와 B를 N개 입력받은 다음, A+B를 출력하는 프로그램을 작성하시오."
   ]
  },
  {
   "cell_type": "code",
   "execution_count": 31,
   "id": "2cdf3c97",
   "metadata": {},
   "outputs": [
    {
     "name": "stdout",
     "output_type": "stream",
     "text": [
      "2\n",
      "5\n",
      "7\n",
      "17\n",
      "7\n"
     ]
    }
   ],
   "source": [
    "for _ in range(int(input())): #테스트 케이스 번호는 사용하지 않으므로 언더바(_)로 처리\n",
    "    a, b = map(int, input().split())\n",
    "    print(a + b)"
   ]
  },
  {
   "cell_type": "markdown",
   "id": "71e6334b",
   "metadata": {},
   "source": [
    "백준 10952번 - A+B (5) <br>\n",
    "4. 특정 종료 조건에서 탈출하기"
   ]
  },
  {
   "cell_type": "code",
   "execution_count": 34,
   "id": "5367f901",
   "metadata": {},
   "outputs": [
    {
     "name": "stdout",
     "output_type": "stream",
     "text": [
      "2\n",
      "5\n",
      "7\n",
      "17\n",
      "7\n"
     ]
    }
   ],
   "source": [
    "while True:\n",
    "    a, b = map(int, input().split())\n",
    "    if a == 0 and b == 0:\n",
    "        break\n",
    "    print(a + b)"
   ]
  },
  {
   "cell_type": "markdown",
   "id": "dc17dee2",
   "metadata": {},
   "source": [
    "백준 11021번 - A+B (7) <br>\n",
    "5. 특정 형식으로 출력하기1<br>\n",
    "각 테스트 케이스마다 \"Case #x: \"를 출력한 다음, A+B를 출력한다. 테스트 케이스 번호는 1부터 시작한다."
   ]
  },
  {
   "cell_type": "code",
   "execution_count": 35,
   "id": "02cfbe0a",
   "metadata": {},
   "outputs": [
    {
     "name": "stdout",
     "output_type": "stream",
     "text": [
      "Case #1: 2\n",
      "Case #2: 5\n",
      "Case #3: 7\n",
      "Case #4: 17\n",
      "Case #5: 7\n"
     ]
    }
   ],
   "source": [
    "for t in range(int(input())):\n",
    "    a, b = map(int, input().split())\n",
    "    print(f\"Case #{t + 1}: {a + b}\")"
   ]
  },
  {
   "cell_type": "markdown",
   "id": "9bcf8128",
   "metadata": {},
   "source": [
    "백준 11022번 - A+B (8) <br>\n",
    "6. 특정 형식으로 출력하기 2<br>\n",
    "각 테스트 케이스마다 \"Case #x: A + B = C\" 형식으로 출력한다. x는 테스트 케이스 번호이고 1부터 시작하며, C는 A+B이다."
   ]
  },
  {
   "cell_type": "code",
   "execution_count": null,
   "id": "9a3665fb",
   "metadata": {},
   "outputs": [],
   "source": [
    "for T in range(int(input())):\n",
    "    a,b=map(int,input().split())\n",
    "    print(f\"Case #{T+1}: {a} + {b} = {a+b}\")"
   ]
  },
  {
   "cell_type": "code",
   "execution_count": 36,
   "id": "8cf86b68",
   "metadata": {},
   "outputs": [
    {
     "name": "stdout",
     "output_type": "stream",
     "text": [
      "Case #1: 1 + 1 = 2\n",
      "Case #2: 2 + 3 = 5\n",
      "Case #3: 3 + 4 = 7\n",
      "Case #4: 9 + 8 = 17\n",
      "Case #5: 5 + 2 = 7\n"
     ]
    }
   ],
   "source": [
    "for t in range(int(input())):\n",
    "    a, b = map(int, input().split())\n",
    "    print(f\"Case #{t + 1}: {a} + {b} = {a + b}\")"
   ]
  },
  {
   "cell_type": "markdown",
   "id": "2b40a214",
   "metadata": {},
   "source": [
    "# 문자열 문법2\n",
    "\n",
    "2| `.find(\"찾는 문자\")`\n",
    "    - 특정 문자가 처음으로 나타나는 위치(인덱스)를 반환합니다.\n",
    "    - 찾는 문자가 없다면 `-1`을 반환합니다.\n",
    "    \n",
    "    ```python\n",
    "    word = \"apple\"    \n",
    "    word.find(\"p\")    # 1\n",
    "    word.find(\"k\")    # -1\n",
    "    ```\n",
    "    \n",
    "3| `.index(\"찾는 문자\")`\n",
    "    - 특정 문자가 처음으로 나타나는 위치(인덱스)를 반환합니다.\n",
    "    - 찾는 문자가 없다면 `오류`를 발생시킵니다.\n",
    "    \n",
    "    ```python\n",
    "    word = \"apple\"\n",
    "    word.index(\"p\") # 1\n",
    "    word.index(\"k\")\n",
    "    # ValueError Traceback (most recent call last)\n",
    "    # ValueError: substring not found\n",
    "    ```\n",
    "    \n",
    "4| `.count(\"개수를 셀 문자\")`\n",
    "    - 문자열에서 `특정 문자의 개수`가 몇 개인지 반환합니다.\n",
    "    - 문자 뿐만 아니라 문자열의 개수도 확인 가능합니다.\n",
    "    \n",
    "    ```python\n",
    "    word = \"banana\"\n",
    "    word.count(\"a\")    # 3\n",
    "    word.count(\"na\")    # 2\n",
    "    ```\n",
    "    \n",
    "5| `.replace(\"기존 문자\", \"새로운 문자\")`\n",
    "    - 문자열에서 특정한 값을 다른 값으로 `치환하고 수정 된 문자열을 반환`합니다.\n",
    "    - 특정 문자를 빈 문자열(””)로 치환하여 마치 해당 문자를 삭제한 효과도 가능합니다.\n",
    "    \n",
    "    ```python\n",
    "    word = \"I play the piano\"\n",
    "    word.replace(\"piano\", \"violin\")    # \"I play the violin\"\n",
    "    ```\n",
    "    \n",
    "    ```python\n",
    "    word = \"I play the piano\"\n",
    "    word.replace(\" \", \"$\")    # \"I$play$the$piano\"\n",
    "    ```\n",
    "    \n",
    "    ```python\n",
    "    word = \"abcdefg\"\n",
    "    word.replace(\"b\", \"\")     # \"acdefg\"\n",
    "    ```\n",
    "    \n",
    "\n",
    "6| `\"삽입할 문자\".join(\"삽입 대상 문자열\")`\n",
    "    - 삽입 대상 문자열의 `각각 문자 사이에 특정 문자를 삽입하여 반환`합니다.\n",
    "    - join의 인자는 문자열 뿐만 아니라 리스트나 튜플도 가능합니다.\n",
    "    - 원하는 `출력` 모양을 위해 자주 사용됩니다.\n",
    "    ```python\n",
    "    word = \"abcdefg\"\n",
    "    \n",
    "    \" \".join(word) # \"a b c d e f g\"\n",
    "    \",\".join(word) # \"a,b,c,d,e,f,g\"\n",
    "    \"&\".join(word) # \"a&b&c&d&e&f&g\""
   ]
  },
  {
   "cell_type": "markdown",
   "id": "2d8d129d",
   "metadata": {},
   "source": [
    "# 딕셔너리{} 문법\n",
    "1. 해시테이블<br>\n",
    "key : (index) - value<br>\n",
    "해시테이블 : value가 저장되는 곳<br>\n",
    "해시 함수 : key에 value를 1대1 매칭위해 필요\n",
    "\n",
    "2. 기본\n",
    "- 선언 `변수 = {key1: value1, key2: value2} `\n",
    "- 삽입 및 수정 `딕셔너리[key] = value`\n",
    "- 삭제 `del 딕셔너리[key]`\n",
    "- 조회\n",
    "    `딕셔너리[key]` 해당 key가 없는 경우 오류 발생\n",
    "    `딕셔너리.get(key)` 해당 key가 딕셔너리에 없으면 None을 반환\n",
    "\n",
    "3. 딕셔너리 메서드\n",
    "- `.keys()` 딕셔너리의 Key 목록 가져옴\n",
    "- `.values()` 딕셔너리의 Value 목록 가져옴\n",
    "- `.items()` 딕셔너리의 Key:Value 쌍 가져옴"
   ]
  }
 ],
 "metadata": {
  "kernelspec": {
   "display_name": "Python 3 (ipykernel)",
   "language": "python",
   "name": "python3"
  },
  "language_info": {
   "codemirror_mode": {
    "name": "ipython",
    "version": 3
   },
   "file_extension": ".py",
   "mimetype": "text/x-python",
   "name": "python",
   "nbconvert_exporter": "python",
   "pygments_lexer": "ipython3",
   "version": "3.9.7"
  }
 },
 "nbformat": 4,
 "nbformat_minor": 5
}
