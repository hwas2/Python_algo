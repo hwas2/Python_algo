{
 "cells": [
  {
   "cell_type": "markdown",
   "id": "6ca0edc2",
   "metadata": {},
   "source": [
    "Baby-Gin 게임\n",
    "1. 우선, 카드는 0~9 밖에 없으니까 → 길이가 10개짜리 리스트를 만들어 줍니다. \n",
    "카운트 리스트  생성: [0, 0, ... , 0] ⇒ (길이 = 10)\n",
    "2. 10개짜리 리스트의 각각의 인덱스가 카드 번호를 대표한다고 생각합니다.\n",
    "3. for 문을 돌면서 주어진 cards 에서 카드 숫자가 하나씩 뽑아져 나올때마다 각각의 인덱스에 바를 정자를 표시해 봅니다 ⇒ 인덱스의 숫자를 1씩 증가시키기.\n",
    "    1. ex) 3 이 처음으로 나왔다면 [0, 0, 0, + `1` ,0 .... ,0]\n",
    "4. 해당 작업이 끝났다면 이제는 카운트 리스트를 돌면서 바를 정자가 3개 이상 표시되었는지 확인!\n",
    "5. 이 과정에서 flag (어떤 문제에서는 answer) 를 활용할 수 있습니다."
   ]
  },
  {
   "cell_type": "code",
   "execution_count": 20,
   "id": "5de82671",
   "metadata": {},
   "outputs": [
    {
     "name": "stdout",
     "output_type": "stream",
     "text": [
      "True\n"
     ]
    }
   ],
   "source": [
    "cards = [8, 3, 2, 8, 1, 8] # 내가 받은 카드 목록\n",
    "card_counts = [0] * 10  #max(cards)\n",
    "\n",
    "for num in cards:  # 뽑아져 나올 때마다 \n",
    "    card_counts[num] += 1\n",
    "\n",
    "# print(card_counts) => [0, 1, 1, 1, 0, 0, 0, 0, 3, 0]\n",
    "\n",
    "answer = False #일단은 없다고 생각하고\n",
    "\n",
    "for card_num in card_counts:\n",
    "    if card_num >= 3:\n",
    "        answer = True\n",
    "        break\n",
    "\n",
    "print(answer)"
   ]
  },
  {
   "cell_type": "code",
   "execution_count": 21,
   "id": "30fc99f0",
   "metadata": {},
   "outputs": [
    {
     "name": "stdout",
     "output_type": "stream",
     "text": [
      "True\n"
     ]
    }
   ],
   "source": [
    "#카드 숫자는 0~9까지 있다.\n",
    "cards = [8, 3, 2, 8, 1, 8]\n",
    "#바를 정자를 그릴 수 있는 틀을 만들어 둔다.\n",
    "card_counts = [0,0,0,0,0,0,0,0,0,0]\n",
    "\n",
    "#for i in cards로 생각하면 쉽다\n",
    "for card_num in cards:\n",
    "    card_counts[card_num] += 1\n",
    "    #crad_counts 틀, card_num 실제 : count\n",
    "\n",
    "for card_num in card_counts:\n",
    "    if card_num>=3:\n",
    "        answer=True\n",
    "        break\n",
    "    else:\n",
    "        answer=False\n",
    "print(answer)"
   ]
  },
  {
   "cell_type": "markdown",
   "id": "c2de62c3",
   "metadata": {},
   "source": [
    "Run 여부(3개가 연속으로 있는가) 판단하기"
   ]
  },
  {
   "cell_type": "code",
   "execution_count": 22,
   "id": "df0fc23c",
   "metadata": {},
   "outputs": [
    {
     "name": "stdout",
     "output_type": "stream",
     "text": [
      "True\n"
     ]
    }
   ],
   "source": [
    "cards = [4, 8, 7, 3, 1, 5, 5, 6]\n",
    "\n",
    "card_counts = [0] * 10  # 10개짜리 카운트용 리스트 생성\n",
    "\n",
    "for num in cards:  # 발견하면 count 올라감\n",
    "    card_counts[num] += 1\n",
    "    #print(card_counts)=[0,1,0,1,1,2,1,1,1,0]\n",
    "\n",
    "is_run = False  # 일단 없다고 생각\n",
    "\n",
    "for i in range(len(card_counts)-2): # 3개씩 동시에 검증해야하니까 8묶음 \n",
    "    if card_counts[i] >= 1 and card_counts[i+1] >= 1 and card_counts[i+2] >= 1:\n",
    "        is_run = True  # 3개 동시에 봤을때 조건을 만족하면 run\n",
    "        \n",
    "print(is_run)"
   ]
  },
  {
   "cell_type": "markdown",
   "id": "1f5e6550",
   "metadata": {},
   "source": [
    "---"
   ]
  },
  {
   "cell_type": "markdown",
   "id": "b887f12c",
   "metadata": {},
   "source": [
    "문자열(String)"
   ]
  },
  {
   "cell_type": "code",
   "execution_count": 23,
   "id": "5b0223ac",
   "metadata": {},
   "outputs": [
    {
     "name": "stdout",
     "output_type": "stream",
     "text": [
      "['alex', 'hphk.kr']\n"
     ]
    }
   ],
   "source": [
    "email = 'alex@hphk.kr'\n",
    "splitted_list = email.split('@')\n",
    "print(splitted_list) # ['alex', 'hphk.kr']"
   ]
  },
  {
   "cell_type": "markdown",
   "id": "db5f52ce",
   "metadata": {},
   "source": [
    "이메일에서 아이디 찾기"
   ]
  },
  {
   "cell_type": "code",
   "execution_count": 24,
   "id": "a8b35e8a",
   "metadata": {},
   "outputs": [
    {
     "name": "stdout",
     "output_type": "stream",
     "text": [
      "alex\n"
     ]
    }
   ],
   "source": [
    "email = 'alex@hphk.kr'\n",
    "\n",
    "real_id = ''  # 일단 id 를 모아줄 변수를 하나 설정하고\n",
    "\n",
    "for letter in email:  # 문자열을 하나씩 돌아볼건데,\n",
    "    if letter != '@':  # 골뱅이가 아닌 경우에만\n",
    "        real_id += letter  # 아까 변수에 모아주고\n",
    "    else:  # 골뱅이를 발견하는 순간 \n",
    "        break  # 포문을 파괴하자!\n",
    "\n",
    "print(real_id)"
   ]
  },
  {
   "cell_type": "markdown",
   "id": "016f2e18",
   "metadata": {},
   "source": [
    "### 문자열 최종실습"
   ]
  },
  {
   "cell_type": "markdown",
   "id": "b50dae1c",
   "metadata": {},
   "source": [
    "팰린드롬인지 확인하기\n",
    "- 회문(Palindrome) : 거꾸로 읽어도 원래 단어와 같은 단어"
   ]
  },
  {
   "cell_type": "code",
   "execution_count": 25,
   "id": "e8274151",
   "metadata": {},
   "outputs": [
    {
     "data": {
      "text/plain": [
       "False"
      ]
     },
     "execution_count": 25,
     "metadata": {},
     "output_type": "execute_result"
    }
   ],
   "source": [
    "a='banana'\n",
    "a[::-1] #anananb\n",
    "a==a[::-1]"
   ]
  },
  {
   "cell_type": "markdown",
   "id": "7b53b582",
   "metadata": {},
   "source": [
    "백준 10988번\n",
    "- Q) 알파벳 소문자로만 이루어진 단어가 팰린드롬인지 아닌지 확인하는 프로그램을 작성하시오.\n",
    "- A) 첫째 줄에 팰린드롬이면 1, 아니면 0을 출력한다."
   ]
  },
  {
   "cell_type": "code",
   "execution_count": 26,
   "id": "d5bebdd0",
   "metadata": {},
   "outputs": [
    {
     "name": "stdout",
     "output_type": "stream",
     "text": [
      "0\n"
     ]
    }
   ],
   "source": [
    "a=input() #단어를 입력 받는다\n",
    "\n",
    "if a==a[::-1]: #뒤집은 단어와 일치하면 1을 출력\n",
    "    answer=1\n",
    "else:\n",
    "    answer=0\n",
    "\n",
    "print(answer)"
   ]
  },
  {
   "cell_type": "markdown",
   "id": "d0d05eed",
   "metadata": {},
   "source": [
    "백준 2789번 - 유학 금지\n",
    "- Q)  이메일의 각 단어 중에서 CAMBRIDGE에 포함된 알파벳은 모두 지우기로 했다. 즉, 어떤 이메일에 LOVA란 단어가 있다면, A는 CAMBRIDGE에 포함된 알파벳이기 때문에, 받아보는 사람은 LOV로 받는다.\n",
    "- input : 첫째 줄에 알파벳 대문자로 이루어진 단어가 주어진다. 이 단어는 적어도 3글자이며, 많아야 100글자이다.\n",
    "- output : 입력으로 주어진 단어를 정부가 검열을 하면 어떻게 변하는지를 출력한다. 즉, 단어에서 CAMBRIDGE에 포함된 알파벳을 모두 지운 뒤 출력한다. 항상 정답의 길이는 0보다 크다."
   ]
  },
  {
   "cell_type": "code",
   "execution_count": 27,
   "id": "394b2ec2",
   "metadata": {},
   "outputs": [
    {
     "name": "stdout",
     "output_type": "stream",
     "text": [
      "AA\n"
     ]
    }
   ],
   "source": [
    "#오류난 처음 풀이\n",
    "email=input()\n",
    "\n",
    "for letter in email:  # 문자열을 하나씩 돌아볼건데,\n",
    "    if letter == 'CAMBRIDGE':  #['A','B','C','D','E','G','I','M','R']\n",
    "        letter += \"\"   #pass : 더하지 않는다\n",
    "    else:\n",
    "        letter += letter\n",
    "\n",
    "print(letter)"
   ]
  },
  {
   "cell_type": "code",
   "execution_count": 34,
   "id": "916b11fb",
   "metadata": {},
   "outputs": [
    {
     "name": "stdout",
     "output_type": "stream",
     "text": [
      "LOV\n"
     ]
    }
   ],
   "source": [
    "cd='CAMBRIDGE'\n",
    "email=input()\n",
    "\n",
    "for letter in cd:\n",
    "    email=email.replace(letter,\"\") #\"\"삭제와 같은 기능을 한다\n",
    "\n",
    "print(email)"
   ]
  },
  {
   "cell_type": "markdown",
   "id": "16b819a1",
   "metadata": {},
   "source": [
    "백준 2941번 - 크로아티아 알파벳<br>\n",
    "크로아티아 알파벳   변경<br>\n",
    "        č\tc=<br>\n",
    "        ć\tc-<br>\n",
    "        dž\tdz=<br>\n",
    "        đ\td-<br>\n",
    "        lj\tlj<br>\n",
    "        nj\tnj<br>\n",
    "        š\ts=<br>\n",
    "        ž\tz=<br>\n",
    "- Q) 예를 들어, ljes=njak은 크로아티아 알파벳 6개(lj, e, š, nj, a, k)로 이루어져 있다. 단어가 주어졌을 때, 몇 개의 크로아티아 알파벳으로 이루어져 있는지 출력한다. dž는 무조건 하나의 알파벳으로 쓰이고, d와 ž가 분리된 것으로 보지 않는다. lj와 nj도 마찬가지이다. 위 목록에 없는 알파벳은 한 글자씩 센다.\n",
    "- input : 첫째 줄에 최대 100글자의 단어가 주어진다. 알파벳 소문자와 '-', '='로만 이루어져 있다. 단어는 크로아티아 알파벳으로 이루어져 있다.\n",
    "- output : 입력으로 주어진 단어가 몇 개의 크로아티아 알파벳으로 이루어져 있는지 출력한다."
   ]
  },
  {
   "cell_type": "code",
   "execution_count": 40,
   "id": "3110c7b0",
   "metadata": {},
   "outputs": [
    {
     "name": "stdout",
     "output_type": "stream",
     "text": [
      "3\n"
     ]
    }
   ],
   "source": [
    "word=input()\n",
    "cro=['c=','c-','dz=','d-','lj','nj','s=','z=']\n",
    "for letter in cro:\n",
    "    word=word.replace(letter,\" \") #크로아티아 알파벳을 공백으로 바꿔주고\n",
    "\n",
    "print(len(word)) #공백을 글자수로 인식해 계산\n",
    "#lj|e|s=|nj|a|k 이면 6출력, ddz=z= 이면 3출력, nljj 이면 3출력\n",
    "#c=c= 이면 2출력, dz=ak 이면 3출력"
   ]
  },
  {
   "cell_type": "markdown",
   "id": "c6dc8d6c",
   "metadata": {},
   "source": [
    "---"
   ]
  },
  {
   "cell_type": "markdown",
   "id": "767ed82e",
   "metadata": {},
   "source": [
    "[1] Swea Intermediate → List 1\n",
    "- Learn → Course → Programming Intermediate → 파이썬 SW 문제해결 기본 List 1"
   ]
  },
  {
   "cell_type": "markdown",
   "id": "a0a0058d",
   "metadata": {},
   "source": [
    " 4828. [파이썬 S/W 문제해결 기본] 1일차 - min max"
   ]
  },
  {
   "cell_type": "code",
   "execution_count": null,
   "id": "5b518a43",
   "metadata": {},
   "outputs": [],
   "source": []
  },
  {
   "cell_type": "code",
   "execution_count": null,
   "id": "2beffc3c",
   "metadata": {},
   "outputs": [],
   "source": [
    "initial_input = int(input())\n",
    "k = 0\n",
    "\n",
    "for each_tc in range(initial_input):\n",
    "    nums = int(input())\n",
    "    nums_list = list(map(int, input().split()))\n",
    "\n",
    "    # 버블 정렬을 해보자\n",
    "    for i in range(len(nums_list)-1,0,-1):\n",
    "        for j in range(i):\n",
    "            if nums_list[j] > nums_list[j+1]:\n",
    "                nums_list[j], nums_list[j+1] = nums_list[j+1], nums_list[j]\n",
    "\n",
    "    answer = nums_list[-1] - nums_list[0]\n",
    "    k += 1\n",
    "\n",
    "    print('#{} {}'.format(k, answer))"
   ]
  },
  {
   "cell_type": "markdown",
   "id": "8353c85a",
   "metadata": {},
   "source": [
    "4835. [파이썬 S/W 문제해결 기본] 1일차 - 구간합"
   ]
  },
  {
   "cell_type": "code",
   "execution_count": null,
   "id": "153703ae",
   "metadata": {},
   "outputs": [],
   "source": []
  },
  {
   "cell_type": "code",
   "execution_count": null,
   "id": "d9a82176",
   "metadata": {},
   "outputs": [],
   "source": [
    "# 1일차 - 4835 구간합 문제 솔루션 코드를 작성합니다.\n",
    "\n",
    "# 풀이 1\n",
    "T = int(input())\n",
    "m = 0\n",
    "\n",
    "for tc in range(T):\n",
    "    integer_info = list(map(int, (input().split())))\n",
    "    received_nums = list(map(int, (input().split())))\n",
    "    integer_num = integer_info[0]\n",
    "    interval = integer_info[1]\n",
    "\n",
    "    all_sums_list = [] # 구간합들을 받아줄 빈 리스트 생성.\n",
    "\n",
    "    # 예를들면 숫자들이 5개인데 3개짜리 구간을 설정했다고 하면 (5-3)  2 + 1 번만큼 연속한 다른구간이 나온다.\n",
    "    for i in range(integer_num - interval + 1):\n",
    "        interval_list = received_nums[i:i+interval] # 슬라이싱 할때 이렇게.\n",
    "        count = 0\n",
    "        for j in interval_list:\n",
    "            count += j\n",
    "\n",
    "        all_sums_list.append(count)\n",
    "\n",
    "    # 여기까지 하면 all_sums_list 에는 구간합들이 요소로서 들어가 있을 것이므로 이걸 버블정렬 하고\n",
    "    # -1 인덱스인 최댓값 - 0인덱스인 최솟값을 빼주면 완성!\n",
    "\n",
    "    for x in range(len(all_sums_list)-1, 0, -1):\n",
    "        for y in range(x):\n",
    "            if all_sums_list[y] > all_sums_list[y+1]:\n",
    "                all_sums_list[y], all_sums_list[y+1] = all_sums_list[y+1], all_sums_list[y]\n",
    "\n",
    "    answer = all_sums_list[-1] - all_sums_list[0]\n",
    "\n",
    "    m += 1\n",
    "\n",
    "    print('#{} {}'.format(m, answer))"
   ]
  },
  {
   "cell_type": "code",
   "execution_count": null,
   "id": "da4a8a54",
   "metadata": {},
   "outputs": [],
   "source": [
    "# 풀이 2\n",
    "T = int(input())\n",
    "\n",
    "for tc in range(1, T+1):\n",
    "    N, M = map(int, input().split())  # N개 정수, M개 구간\n",
    "    numbers = list(map(int, input().split()))  # 숫자들 리스트\n",
    "\n",
    "    pendency = 0  # 일단 첫 구간에 대한 합을 임시로 저장해두는 변수입니다.\n",
    "    for _ in range(M):  # 첫 구간의 합을 저장\n",
    "        numbers[_] += pendency\n",
    "    \n",
    "    max_result = pendency  # 일단 최솟값과 최댓값 모두 첫번째 구간의 합으로 초기화\n",
    "    min_result = pendency\n",
    "\n",
    "    # 슬라이딩 윈도우라면 ->\n",
    "    for i in range(M, N):  # 위의 range 에서 M은 오른쪽이라 미만을 나타낸 것이고 그다음부터 봐야할땐 지금은 range 왼쪽에 M이 맞습니다.\n",
    "        pendency = pendency - numbers[i-M] + numbers[i]  # 이 pendency 변수는 포문이 돌면서 재할당됩니다.\n",
    "\n",
    "        if max_result < pendency:  # 그 임시 변수가 현재 있는 최대값보다 크다면?\n",
    "            max_result = pendency   # 최대값을 임시변수로 재할당\n",
    "        if min_result > pendency:  # 마찬가지로 최솟값도 처리해 줍니다.\n",
    "            min_result = pendency\n",
    "\n",
    "    answer = max_result - min_result  # 차를 구하는 것이므로\n",
    "\n",
    "    print('#{} {}'.format(tc, answer))"
   ]
  },
  {
   "cell_type": "code",
   "execution_count": null,
   "id": "2052082e",
   "metadata": {},
   "outputs": [],
   "source": [
    "T = int(input())\n",
    "for tc in range(1, T+1) :\n",
    "    N = int(input())\n",
    "    aj = list(map(int,input().split()))\n",
    "    num_max = -1\n",
    "    for i in range(N):\n",
    "        if num_max < aj[i]:\n",
    "            num_max = aj[i]\n",
    "    num_min =  1000001      \n",
    "    for j in range(N):\n",
    "        if num_min > aj[j]:\n",
    "            num_min = aj[j]\n",
    "    result = num_max - num_min\n",
    "    print(f\"#{tc} {result}\")\n"
   ]
  },
  {
   "cell_type": "markdown",
   "id": "7aced40f",
   "metadata": {},
   "source": [
    " 4834. [파이썬 S/W 문제해결 기본] 1일차 - 숫자 카드"
   ]
  },
  {
   "cell_type": "code",
   "execution_count": null,
   "id": "1a3806fb",
   "metadata": {},
   "outputs": [],
   "source": []
  },
  {
   "cell_type": "code",
   "execution_count": null,
   "id": "80a7b0bb",
   "metadata": {},
   "outputs": [],
   "source": [
    "T = int(input())\n",
    "m = 0\n",
    "for tc in range(T):\n",
    "    card_num = int(input())\n",
    "    card_deck = list(map(int,input()))\n",
    "\n",
    "    count_list = [0]*(9+1)\n",
    "\n",
    "    for i in card_deck:\n",
    "        count_list[i] += 1\n",
    "\n",
    "    print(count_list)\n",
    "    # 여기까지 하면 count_list 가 숫자카드의 숫자에 해당하는 인덱스에 차곡차곡 들어간 카운팅 리스트로 바뀜.\n",
    "    # 그러면 이 count list 에서 하나씩 뽑으면서 최대값 찾아 볼거.\n",
    "\n",
    "    max_num = 0\n",
    "    for num in count_list:\n",
    "        if max_num < num:\n",
    "            max_num = num\n",
    "\n",
    "    # 최대값이 찾아졌으면 다시 count_list 에서 하나씩 뽑으면서 그게 최댓값이면 check\n",
    "    answer_list = []\n",
    "    for idx, count_num in enumerate(count_list):\n",
    "        if count_num == max_num:\n",
    "            answer_list = [idx, count_num]\n",
    "    m += 1\n",
    "\n",
    "    print('#{} {} {}'.format(m, answer_list[0], answer_list[1]))"
   ]
  },
  {
   "cell_type": "markdown",
   "id": "16a1f7b1",
   "metadata": {},
   "source": [
    " 4831. [파이썬 S/W 문제해결 기본] 1일차 - 전기버스"
   ]
  },
  {
   "cell_type": "code",
   "execution_count": null,
   "id": "cc7f671a",
   "metadata": {},
   "outputs": [],
   "source": []
  },
  {
   "cell_type": "code",
   "execution_count": null,
   "id": "15153f8e",
   "metadata": {},
   "outputs": [],
   "source": [
    "# 풀이 1\n",
    "T = int(input())\n",
    "m = 0\n",
    "\n",
    "for each_tc in range(T):\n",
    "    track_info = list(map(int, input().split()))\n",
    "    charging_station_index = list(map(int, input().split()))\n",
    "    # 일단 충전기가 있는 배열을 만듦. 그 배열의 길이는 0~N\n",
    "\n",
    "    K = track_info[0]  # 최대이동거리\n",
    "    N = track_info[1]  # 종점의 길이\n",
    "    M = track_info[2]  # 충전기가 몇개 설치되었는가?\n",
    "\n",
    "    # (K, N, M) = track_info 라고해도됨.\n",
    "\n",
    "    # 구간합 구하는것처럼 최대이동거리를 자르고 잘린 오른쪽 끝과\n",
    "    # 가장 가까이 있는 충전기를 선택해 count 를 1 증가시킴.\n",
    "    # 만약 구간 자른거안에 충전기가 없으면 0 반환 후 종료\n",
    "    # 있으면 충전기 다음부터 다시 K 범위로 자름 -> 반복\n",
    "\n",
    "    # 그냥 메인 배열을 0101화 시킨 charging_station_index 로 하자.\n",
    "    charging_station_list = [0]*(N+1)\n",
    "    for i in charging_station_index:\n",
    "        charging_station_list[i] = 1\n",
    "    # check_list = [0]*K # 3이 최대이동거리라면 대조할 [0, 0, 0] 리스트만듦. 이방식은 zip 쓸때나 가능할듯.\n",
    "    count = 0\n",
    "\n",
    "    start_index = 1\n",
    "    end_index = 1+K\n",
    "    # 여기 미니리스트 쓰면 조짐. 요기 위에서 start,end 인덱스를 선언하고 이게 while 안으로 갔는데? 여기서 미니리스트까지 선언해버리면 그 미니리스트는 업뎃이 안됨. 왜냐면 와일문이 돌돌 돌기\n",
    "    # 시작하면 걔들끼리 도는데, 밖의 변수값에 직접적으로 영향 미치는건 ok라 인덱스들 값은 변화해도 (함수가 있어야 스코프니 뭐니고 여긴 그거 아님), 선언해둔 리스트의 요소를 바꾸는게 아닌 바뀐\n",
    "    # index 들로 재슬라이싱된 새로운 리스트를 mini_list 가 재참조 하게 하게끔 하는 식으로는 동작하지 않기 때문임.\n",
    "\n",
    "    while start_index < N - K + 1:\n",
    "        mini_list = charging_station_list[start_index:end_index]\n",
    "        for j in range(-1, -1-K, -1):  # 뒤쪽 인덱스 부터 확인하는 절차.\n",
    "            if mini_list[j] == 1:\n",
    "                count += 1\n",
    "                start_index, end_index = end_index + j + 1 , end_index + j + 1 + K\n",
    "                break  # 하나라도 만나면 브레이크! 이건 while 문을 break 하게됨(?????)\n",
    "                # 여기서 브레이크 걸리면 for문 종료하는게 맞음. 근데 종료하고나니까 다른게 없어서 와일로 점프뛰는것처럼 보인것!!\n",
    "        else:\n",
    "            count = 0  # 그안에 충전소 없으면 0으로 초기화 후 종료.\n",
    "            break\n",
    "\n",
    "    m += 1\n",
    "\n",
    "    print('#{} {}'.format(m, count))"
   ]
  },
  {
   "cell_type": "code",
   "execution_count": null,
   "id": "a3d47c5c",
   "metadata": {},
   "outputs": [],
   "source": [
    "# 풀이 2\n",
    "T = int(input())\n",
    "\n",
    "for tc in range(1, T+1):\n",
    "    # K = 한번 충전으로 최대 이동 정류장 수, N = 몇번 정류장까지 있는가? (인덱스 기준)\n",
    "    # M = '몇개의 정류장에 충전기가 있는가?'\n",
    "    K, N, M = map(int, input().split())\n",
    "    chargers = list(map(int, input().split()))  # 충전기에 대한 정보를 받습니다.\n",
    "\n",
    "    bus = K  # 버스의 현재 위치 초기화 (일단 최대한 뻗어보면 시작부터 여기)\n",
    "    stations = [0]*(N+1)  # 정류장들을 리스트로 형상화 함, 아직 충전기가 들어가기 전 기초공사\n",
    "\n",
    "    for charger in chargers:  # 충전기에 대한 정보를 넣어줍니다 (빈 정류장에 충전기 설치)\n",
    "        stations[charger] = 1\n",
    "\n",
    "    # print(stations)  이쯤까지 끊고 잘 들어갔나 확인해 보아요\n",
    "\n",
    "    # 버스는 0에서부터 시작하고 기본 아이디어는 -> 최대한 일단 가볼수있는 만큼 가봅니다.\n",
    "    # 그 장소에 charger 가 있으면 땡큐고, 아니면 charger 가 있을때까지 뒤로 봅니다.\n",
    "    # 다만 그 뒤로가는 정도는 한계가 있는데, 종점에 닿기 전에 방금 점프했던 곳까지 뒤로\n",
    "    # 왔는데도 charger 가 없다면 이 버스는 종점으로 갈 수 없다는 뜻이 됩니다.\n",
    "    \n",
    "    answer = 0\n",
    "    previous_location = 0  # 버스가 어디서부터 출발했는지 초기화해주는 변수\n",
    "\n",
    "    while bus < N:  # 버스가 종점에 닿기 전까지 계속 루프를 돌립니다!\n",
    "        if stations[bus] == 1:  # 만약 충전소를 찾은 경우라면\n",
    "            previous_location = bus  # 그 충전소를 찾은 버스의 위치로 출발점 reset\n",
    "            bus += K  # 버스는 또 최대거리만큼 가고\n",
    "            answer += 1  # 하나의 충전 횟수를 늘려줍니다.\n",
    "        else:\n",
    "            bus -= 1  # 충전소를 못찾았다면 바로 직전 정류장을 봐야겠죠?\n",
    "            if previous_location == bus:  # 그렇게 1단계씩 백 하다가 출발지점으로 되돌아온 경우라면?\n",
    "                answer = 0  # 이전까지 몇번 충전을 했든간에 0으로 만들어 줘야해요!! (중요!!)\n",
    "                break  # 이런 경우라면 루프를 끝내 줍니다!\n",
    "\n",
    "    print('#{} {}'.format(tc, answer))\n",
    "\n",
    "# 주의!! 만약 if 절에서 이 둘의 순서가 이렇게 바뀌어있다면 절대 안됩니다!\n",
    "# (1) bus += K\n",
    "# (2) previous_location = bus\n",
    "# 왜냐하면 버스를 더하기 전에 '있던 장소' 로 초기화해야 하기 때문이죠!"
   ]
  },
  {
   "cell_type": "markdown",
   "id": "42420ff0",
   "metadata": {},
   "source": [
    " 4861. [파이썬 S/W 문제해결 기본] 3일차 - 회문"
   ]
  },
  {
   "cell_type": "code",
   "execution_count": null,
   "id": "4c103d7c",
   "metadata": {},
   "outputs": [],
   "source": []
  },
  {
   "cell_type": "code",
   "execution_count": null,
   "id": "bfe04dbe",
   "metadata": {},
   "outputs": [],
   "source": [
    "T = int(input())\n",
    "\n",
    "def is_palindrome(iterables):  # 따로 회문 검사 로직을 함수안에 모듈화 합니다.\n",
    "    original = ''  # 일단 기초 변수 설정\n",
    "    for letter in iterables:  # 슬라이싱 된 보따리에서 하나씩 뽑아서\n",
    "        original += letter  # 오리지널까지 완성하고\n",
    "\n",
    "    if original == original[::-1]:  # 오리지널이랑 오리지널 돌린게 같다면 회문\n",
    "        return original  # 회문인 경우 회문 자체를 리턴하고 -> 근데 이건 True 판정\n",
    "    else:\n",
    "        return False  # 아닌 경우 Boolean 값 리턴\n",
    "\n",
    "for tc in range(1, T+1):\n",
    "    N, M = map(int, input().split())  # N 행, M 회문길이\n",
    "    words = [list(input()) for _ in range(N)]  # 리스트 내포로 인풋 받기\n",
    "    transposed = list(zip(*words))  # 전치를 더 파이써닉하게 하는데, 튜플 결과값 주의\n",
    "    answer = ''  # 최종 정답\n",
    "    double_break = False  # flag -> 더블 브레이크 활성화 여부를 표시\n",
    "\n",
    "    for r in range(N):  # 각 행을 우선으로 보되,\n",
    "        if double_break:  # 특정 행에서 찾았는데도 계속 그다음행 보는거 방지 위함\n",
    "            break  # 여기의 브레이크는 for r in range(N) 을 파괴합니다.\n",
    "\n",
    "        each_line = words[r]  # 행 1개씩 시작!\n",
    "        transposed_line = transposed[r]  # 전치된 행렬 역시 행 1개씩 보기 시작!\n",
    "        for idx in range(N-M+1):  # M 구간 생각해서 인덱스 에러 안나도록\n",
    "            candidate1 = is_palindrome(each_line[idx:idx+M]) # 1번 회문 후보\n",
    "            candidate2 = is_palindrome(transposed_line[idx:idx + M])  # 튜플도 슬라이싱 됩니다!\n",
    "            if candidate1:  # 문제는 회문이 딱 1개 존재한다 했으므로\n",
    "                answer = candidate1\n",
    "                double_break = True  # 찾은 경우 그다음행 부터 보지 못하게 더블 브레이크 활성화\n",
    "                break  # 조금이라도 더 효율적이게 첫번째 하고 검증하고 브레이크\n",
    "            elif candidate2:\n",
    "                answer = candidate2\n",
    "                double_break = True\n",
    "                break  # 그냥 브레이크는 바로 상위의 포문만 파괴하기 때문입니다!\n",
    "\n",
    "    print('#{} {}'.format(tc, answer))  # 표준 출력"
   ]
  },
  {
   "cell_type": "code",
   "execution_count": null,
   "id": "fb254860",
   "metadata": {},
   "outputs": [],
   "source": [
    "T = int(input())\n",
    "\n",
    "for tc in range(1, T+1):\n",
    "    N, M = list(map(int, input().split())) # N은 행열 수, M = 타깃의 글자길이\n",
    "    word_map = [list(input().split()) for _ in range(N)]\n",
    "\n",
    "    def palindrome_detector(string): # 일단 디텍팅 유닛 뽑고\n",
    "        check = ''\n",
    "        for i in string:\n",
    "            check = i + check\n",
    "\n",
    "        if check == string:\n",
    "            return True\n",
    "        else:\n",
    "            return False\n",
    "\n",
    "    # 세로로 확인하지말고 인덱스 슬라이싱 할거면 다 가로로 만들어 버리자. -> 전치행렬 쓰면됨.\n",
    "    # 문제는 첫번째 인덱스가 ['GOFFAKWFSM'] 이렇게 돼있다는건데, 이걸 아래처럼\n",
    "    # ['G', 'O', 'F', 'F', 'A', 'K', 'W', 'F', 'S', 'M']\n",
    "    # 이렇게 만들어서 전치시키고 다시 붙이면 완성!\n",
    "\n",
    "    def transpose(input_list): # 전치행렬 생성기 + 쪼갰던거 스트링으로 붙이는거까지 해주자\n",
    "        pendency_list = []  # 일단 찢긴 버전으로 만들고\n",
    "        for each_list in input_list:\n",
    "            pendency_list.append(list(each_list[0]))  # --> 그럼 일단 행렬 됨 + 그다음 전치\n",
    "\n",
    "        for a in range(N):  # 요기까지 하면 pendency list는 전치되었을것.\n",
    "            for b in range(N):\n",
    "                if a < b:\n",
    "                    pendency_list[a][b], pendency_list[b][a] = pendency_list[b][a], pendency_list[a][b]\n",
    "\n",
    "        final_list = []\n",
    "        for c in pendency_list: # 찢긴거 다시 붙여\n",
    "             final_list.append([''.join(c)])\n",
    "\n",
    "        return final_list\n",
    "\n",
    "    answer = 0\n",
    "\n",
    "    for each_horizontal_line in word_map:  # 하나씩 뽑을건데\n",
    "        for j in range(N-M+1):\n",
    "            if palindrome_detector(each_horizontal_line[0][j:j+M]):\n",
    "                answer = each_horizontal_line[0][j:j + M]\n",
    "\n",
    "    for each_vertical_line in transpose(word_map): # 전치쪽에서 세로애들 나올수도 있음.\n",
    "        for k in range(N - M + 1):\n",
    "            if palindrome_detector(each_vertical_line[0][k:k+M]):\n",
    "                answer = each_vertical_line[0][k:k + M]\n",
    "\n",
    "    print('#{} {}'.format(tc, answer))"
   ]
  }
 ],
 "metadata": {
  "kernelspec": {
   "display_name": "Python 3 (ipykernel)",
   "language": "python",
   "name": "python3"
  },
  "language_info": {
   "codemirror_mode": {
    "name": "ipython",
    "version": 3
   },
   "file_extension": ".py",
   "mimetype": "text/x-python",
   "name": "python",
   "nbconvert_exporter": "python",
   "pygments_lexer": "ipython3",
   "version": "3.9.7"
  }
 },
 "nbformat": 4,
 "nbformat_minor": 5
}
