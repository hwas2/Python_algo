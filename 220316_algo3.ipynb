{
 "cells": [
  {
   "cell_type": "markdown",
   "metadata": {},
   "source": [
    "# 2차원 리스트 & 2중 For 문"
   ]
  },
  {
   "cell_type": "markdown",
   "metadata": {},
   "source": [
    "1-(1) 행 우선 순회"
   ]
  },
  {
   "cell_type": "code",
   "execution_count": 1,
   "metadata": {},
   "outputs": [
    {
     "name": "stdout",
     "output_type": "stream",
     "text": [
      "[1, 8, 4, 7, 3, 9, 5, 2, 6]\n"
     ]
    }
   ],
   "source": [
    "matrix = [[1, 8, 4], \n",
    "          [7, 3, 9], \n",
    "\t\t  [5, 2, 6]]\n",
    "\n",
    "trails = []  # 순회 궤적 담아줄 리스트\n",
    "\n",
    "for r in range(3):\n",
    "    for c in range(3):  # r 이 하나 고정된 상태에서 각각 \n",
    "        trails.append(matrix[r][c])  \n",
    "\n",
    "print(trails)  # [1, 8, 4, 7, 3, 9, 5, 2, 6]"
   ]
  },
  {
   "cell_type": "markdown",
   "metadata": {},
   "source": [
    "1-(2) 행 순회하면서 열은 역순으로"
   ]
  },
  {
   "cell_type": "code",
   "execution_count": 2,
   "metadata": {},
   "outputs": [
    {
     "name": "stdout",
     "output_type": "stream",
     "text": [
      "[4, 8, 1, 9, 3, 7, 6, 2, 5]\n"
     ]
    }
   ],
   "source": [
    "# 행으로 순회 하긴 하는데 열은 역순으로?\n",
    "matrix = [[1, 8, 4], \n",
    "          [7, 3, 9], \n",
    "\t\t  [5, 2, 6]]\n",
    "\n",
    "trails = []  # 순회 궤적 담아줄 리스트\n",
    "\n",
    "for r in range(len(matrix)):  # 사실 range(3) 해도 되겠지만 엄밀히 길이를 잴 수도 있습니다.\n",
    "    for c in range(len(matrix[0])-1, -1, -1):  # 역순인데, 새끼 리스트의 길이 - 1 시작!\n",
    "        trails.append(matrix[r][c])\n",
    "\n",
    "print(trails) # [4, 8, 1, 9, 3, 7, 6, 2, 5]"
   ]
  },
  {
   "cell_type": "markdown",
   "metadata": {},
   "source": [
    "1-(3) 행 우선순회긴 한데, 지그재그로"
   ]
  },
  {
   "cell_type": "code",
   "execution_count": 3,
   "metadata": {},
   "outputs": [
    {
     "name": "stdout",
     "output_type": "stream",
     "text": [
      "[1, 8, 4, 9, 3, 7, 5, 2, 6]\n"
     ]
    }
   ],
   "source": [
    "matrix = [[1, 8, 4], \n",
    "\t\t\t[7, 3, 9], \n",
    "\t\t\t[5, 2, 6]]\n",
    "\n",
    "trails = []  # 순회 궤적 담아줄 리스트\n",
    "\n",
    "for r in range(3):\n",
    "    if r % 2 == 0:\n",
    "        for c in range(3):\n",
    "            trails.append(matrix[r][c])\n",
    "    elif r % 2 == 1:\n",
    "        for c in range(2, -1, -1):\n",
    "            trails.append(matrix[r][c])\n",
    "\n",
    "print(trails) # [1, 8, 4, 9, 3, 7, 5, 2, 6]"
   ]
  },
  {
   "cell_type": "markdown",
   "metadata": {},
   "source": [
    "(+) matrix 최대값 구하기"
   ]
  },
  {
   "cell_type": "code",
   "execution_count": 6,
   "metadata": {},
   "outputs": [
    {
     "name": "stdout",
     "output_type": "stream",
     "text": [
      "9\n"
     ]
    }
   ],
   "source": [
    "matrix = [[1, 8, 4], \n",
    "\t\t  [7, 3, 9], \n",
    "\t\t  [5, 2, 6]]\n",
    "matrix_max=-1 #최대값을 matrix 숫자 범위 외의 최소값으로 설정\n",
    "\n",
    "for r in range(3): # 행을 기준으로 순환\n",
    "    for c in range(3): \n",
    "        if matrix_max < matrix[r][c]: # matrix 내 값과 비교\n",
    "            matrix_max = matrix[r][c] # matrix값이가 더 클 경우,비교값으로 설정\n",
    "print(matrix_max)"
   ]
  },
  {
   "cell_type": "markdown",
   "metadata": {},
   "source": [
    "2. 열 우선 순회"
   ]
  },
  {
   "cell_type": "code",
   "execution_count": 4,
   "metadata": {},
   "outputs": [
    {
     "name": "stdout",
     "output_type": "stream",
     "text": [
      "[1, 7, 5, 8, 3, 2, 4, 9, 6]\n"
     ]
    }
   ],
   "source": [
    "matrix = [[1, 8, 4], \n",
    "\t\t\t[7, 3, 9], \n",
    "\t\t\t[5, 2, 6]]\n",
    "\n",
    "trails = []\n",
    "\n",
    "for r in range(3):\n",
    "    for c in range(3):\n",
    "        trails.append(matrix[c][r])  # 여기가 바뀝니다.\n",
    "\n",
    "print(trails)  # [1, 7, 5, 8, 3, 2, 4, 9, 6]"
   ]
  },
  {
   "cell_type": "markdown",
   "metadata": {},
   "source": [
    "3. 전치하기"
   ]
  },
  {
   "cell_type": "code",
   "execution_count": 5,
   "metadata": {},
   "outputs": [
    {
     "name": "stdout",
     "output_type": "stream",
     "text": [
      "[1, 7, 5]\n",
      "[8, 3, 2]\n",
      "[4, 9, 6]\n"
     ]
    }
   ],
   "source": [
    "matrix = [[1, 8, 4], \n",
    "\t\t\t[7, 3, 9], \n",
    "\t\t\t[5, 2, 6]]\n",
    "\n",
    "for r in range(3):\n",
    "    for c in range(3):\n",
    "        if r > c:   #c > r 도 괜찮음\n",
    "            matrix[r][c], matrix[c][r] = matrix[c][r], matrix[r][c]\n",
    "            #3번 적용됨\n",
    "\n",
    "for i in range(3): # 매트릭스 형태로 출력 형식 조정\n",
    "    print(matrix[i])\n",
    "\n",
    "# [1, 7, 5]\n",
    "# [8, 3, 2]\n",
    "# [4, 9, 6]"
   ]
  },
  {
   "cell_type": "markdown",
   "metadata": {},
   "source": [
    "전치 시, 행과 열 크기가 다를 때"
   ]
  },
  {
   "cell_type": "code",
   "execution_count": 7,
   "metadata": {},
   "outputs": [
    {
     "name": "stdout",
     "output_type": "stream",
     "text": [
      "[(1, 7, 5), (8, 3, 2), (4, 9, 6)]\n"
     ]
    }
   ],
   "source": [
    "matrix = [[1, 8, 4], \n",
    "\t\t\t[7, 3, 9], \n",
    "\t\t\t[5, 2, 6]]\n",
    "t=list(zip(*matrix)) #'*'는 바깥 대괄호 없애줌\n",
    "print(t)"
   ]
  },
  {
   "cell_type": "code",
   "execution_count": 8,
   "metadata": {},
   "outputs": [
    {
     "name": "stdout",
     "output_type": "stream",
     "text": [
      "[(1, 7, 5, 6), (8, 3, 2, 5), (4, 9, 6, 7)]\n"
     ]
    }
   ],
   "source": [
    "# 4*3 matrix를 3*4 matrix로 전치\n",
    "matrix = [[1, 8, 4], \n",
    "\t\t\t[7, 3, 9], \n",
    "\t\t\t[5, 2, 6],\n",
    "            [6, 5, 7]]\n",
    "t=list(zip(*matrix))\n",
    "print(t)"
   ]
  },
  {
   "cell_type": "code",
   "execution_count": 10,
   "metadata": {},
   "outputs": [
    {
     "name": "stdout",
     "output_type": "stream",
     "text": [
      "[[1, 7, 5, 6], [8, 3, 2, 5], [4, 9, 6, 7]]\n"
     ]
    }
   ],
   "source": [
    "matrix = [[1, 8, 4], \n",
    "\t\t\t[7, 3, 9], \n",
    "\t\t\t[5, 2, 6],\n",
    "            [6, 5, 7]]\n",
    "t=list(map(list,zip(*matrix)))\n",
    "print(t)"
   ]
  },
  {
   "cell_type": "markdown",
   "metadata": {},
   "source": [
    "Q) 항공 노선 현황\n",
    "- 런던 <-> 로마 <-> 파리 <-> 런던<br>\n",
    "ways = [{'name':'London', 'to':['Paris']},<br>\n",
    "\t\t\t\t{'name':'Rome', 'to':['London']},\t<br>\n",
    "\t\t\t\t{'name':'Paris', 'to':['Rome']}]    <br>\n",
    "을 인접 행렬(Adjacent matrix)을 통해 표현"
   ]
  },
  {
   "cell_type": "code",
   "execution_count": null,
   "metadata": {},
   "outputs": [],
   "source": [
    "adjacent_matrix =  [[0, 0, 1],\n",
    "\t\t\t\t\t[1, 0, 0]\n",
    "\t\t\t\t    [0, 1, 0]]\n",
    "                    \n",
    "\n",
    "# 방문 체크용 행렬 초기화! 다만 id 가 꼬이지 않게 [0]*3*3 식으로 설정하지 않고\n",
    "# [[0]*3 for _ in range(3)] 으로 리스트 내포를 통해 생성합니다.\n",
    "visited =  [[0, 0, 0],\n",
    "\t\t\t[0, 0, 0]\n",
    "\t\t\t[0, 0, 0]]            "
   ]
  },
  {
   "cell_type": "markdown",
   "metadata": {},
   "source": [
    "백준 10789번 - 세로읽기<br>\n",
    "Q) 이 장난감에 있는 글자들은 영어 대문자 ‘A’부터 ‘Z’, 영어 소문자 ‘a’부터 ‘z’, 숫자 ‘0’부터 ‘9’이다. 영석이는 칠판에 글자들을 수평으로 일렬로 붙여서 단어를 만든다. 다시 그 아래쪽에 글자들을 붙여서 또 다른 단어를 만든다. 이런 식으로 다섯 개의 단어를 만든다.<br>\n",
    "A A B C D D<br>\n",
    "a f z z <br>\n",
    "0 9 1 2 1<br>\n",
    "a 8 E W g 6<br>\n",
    "P 5 h 3 k x<br>\n",
    "영석이가 세로로 읽은 순서대로 글자들을 공백 없이 출력하면 다음과 같다:<br>\n",
    "Aa0aPAf985Bz1EhCz2W3D1gkD6x<br>\n",
    "- 입력 : 총 다섯줄의 입력이 주어진다. 각 줄에는 최소 1개, 최대 15개의 글자들이 빈칸 없이 연속으로 주어진다. 주어지는 글자는 영어 대문자 ‘A’부터 ‘Z’, 영어 소문자 ‘a’부터 ‘z’, 숫자 ‘0’부터 ‘9’ 중 하나이다. 각 줄의 시작과 마지막에 빈칸은 없다.\n",
    "- 출력 : 영석이가 세로로 읽은 순서대로 글자들을 출력한다. 이때, 글자들을 공백 없이 연속해서 출력한다."
   ]
  },
  {
   "cell_type": "markdown",
   "metadata": {},
   "source": [
    "입력1) <br>\n",
    "ABCDE <br>\n",
    "abcde <br>\n",
    "01234 <br>\n",
    "FGHIJ <br>\n",
    "fghij <br>\n",
    "=> Aa0FfBb1GgCc2HhDd3IiEe4Jj <br>\n",
    "\n",
    "입력2) <br>\n",
    "AABCDD <br>\n",
    "afzz  <br>\n",
    "09121 <br>\n",
    "a8EWg6 <br>\n",
    "P5h3kx <br>\n",
    "=> Aa0aPAf985Bz1EhCz2W3D1gkD6x <br>"
   ]
  },
  {
   "cell_type": "code",
   "execution_count": 38,
   "metadata": {},
   "outputs": [
    {
     "name": "stdout",
     "output_type": "stream",
     "text": [
      "('A', 'A', 'B', 'C') ('a', 'f', 'z', 'z') ('0', '9', '1', '2') ('a', '8', 'E', 'W') ('P', '5', 'h', '3')"
     ]
    }
   ],
   "source": [
    "words=[input() for _ in range(5)]\n",
    "max_length=(max([len(word) for word in words])) #'가장 긴 단어'의 수\n",
    "\n",
    "for i in range(max_length):\n",
    "    words=list(zip(*words)) #전치하고 읽는다?\n",
    "    \n",
    "print(*words,end=\"\")"
   ]
  },
  {
   "cell_type": "code",
   "execution_count": 39,
   "metadata": {},
   "outputs": [
    {
     "name": "stdout",
     "output_type": "stream",
     "text": [
      "AABCDafzz"
     ]
    },
    {
     "ename": "IndexError",
     "evalue": "string index out of range",
     "output_type": "error",
     "traceback": [
      "\u001b[1;31m---------------------------------------------------------------------------\u001b[0m",
      "\u001b[1;31mIndexError\u001b[0m                                Traceback (most recent call last)",
      "\u001b[1;32mc:\\Users\\장연화\\ALGO\\220316_algo3.ipynb Cell 23'\u001b[0m in \u001b[0;36m<module>\u001b[1;34m\u001b[0m\n\u001b[0;32m      <a href='vscode-notebook-cell:/c%3A/Users/%EC%9E%A5%EC%97%B0%ED%99%94/ALGO/220316_algo3.ipynb#ch0000057?line=3'>4</a>\u001b[0m \u001b[39mfor\u001b[39;00m j \u001b[39min\u001b[39;00m \u001b[39mrange\u001b[39m(max_length):\n\u001b[0;32m      <a href='vscode-notebook-cell:/c%3A/Users/%EC%9E%A5%EC%97%B0%ED%99%94/ALGO/220316_algo3.ipynb#ch0000057?line=4'>5</a>\u001b[0m     \u001b[39mfor\u001b[39;00m i \u001b[39min\u001b[39;00m \u001b[39mrange\u001b[39m(\u001b[39m5\u001b[39m):\n\u001b[1;32m----> <a href='vscode-notebook-cell:/c%3A/Users/%EC%9E%A5%EC%97%B0%ED%99%94/ALGO/220316_algo3.ipynb#ch0000057?line=5'>6</a>\u001b[0m         \u001b[39mprint\u001b[39m(words[j][i],end\u001b[39m=\u001b[39m\u001b[39m\"\u001b[39m\u001b[39m\"\u001b[39m)\n",
      "\u001b[1;31mIndexError\u001b[0m: string index out of range"
     ]
    }
   ],
   "source": [
    "words=[input() for _ in range(5)]\n",
    "max_length=(max([len(word) for word in words]))\n",
    "#'가장 긴 단어'의 수 만큼 반복\n",
    "for j in range(max_length):\n",
    "    for i in range(5):\n",
    "        print(words[j][i],end=\"\")"
   ]
  },
  {
   "cell_type": "code",
   "execution_count": null,
   "metadata": {},
   "outputs": [],
   "source": [
    "#참고 : https://pacific-ocean.tistory.com/165\n",
    "c = [[0] * 15 for i in range(5)] #5줄을 입력받고, 최대 길이 15의 문자열을 입력받는다.\n",
    "for i in range(5):\n",
    "    d = list(input()) #2차원 리스트를 만들어 입력을 받아준다.\n",
    "    d_len = len(d)\n",
    "    for j in range(d_len):\n",
    "        c[i][j] = d[j]\n",
    "for i in range(15):\n",
    "    for j in range(5):\n",
    "        if c[j][i] == 0:\n",
    "            continue; #그대로 세로로 출력을 해주는데 0을 만나면 건너뛰어 준다.\n",
    "        else:\n",
    "            print(c[j][i], end='')"
   ]
  },
  {
   "cell_type": "code",
   "execution_count": null,
   "metadata": {},
   "outputs": [],
   "source": [
    "#참고 : https://home-body.tistory.com/241\n",
    "text=[]\n",
    "for i in range(5):\n",
    "    text.append(input())\n",
    "\n",
    "for i in range(max([len(e) for e in text])):\n",
    "    for j in range(5):\n",
    "        if i<len(text[j]):\n",
    "            print(text[j][i], end=\"\")"
   ]
  },
  {
   "cell_type": "code",
   "execution_count": 34,
   "metadata": {},
   "outputs": [
    {
     "name": "stdout",
     "output_type": "stream",
     "text": [
      "Aa1FfBb2GgCc3HhDd4IiEe5Jj"
     ]
    }
   ],
   "source": [
    "# 풀이 1\n",
    "words = [input() for _ in range(5)]\n",
    "max_len = max(len(word) for word in words) # 가장 긴 문자열을 기준으로 설정\n",
    "\n",
    "for i in range(max_len):\n",
    "    for word in words:\n",
    "        if i < len(word): # 길이가 짧은 문자열에 대해 에러 방지\n",
    "            print(word[i], end=\"\")"
   ]
  },
  {
   "cell_type": "code",
   "execution_count": null,
   "metadata": {},
   "outputs": [],
   "source": [
    "# 풀이 2\n",
    "words = [list(input()) for _ in range(5)]\n",
    "\n",
    "longest_word= 0  # 일단 제일 긴게 뭔지부터 확인합니다.\n",
    "for word in words:\n",
    "    if len(word) > longest_word:\n",
    "        longest_word = len(word)\n",
    "\n",
    "for idx, word in enumerate(words):  # 짧은 애들 있으면 뒤에 안쓸만한 - 이런거 하나 붙여서 길이 맞춰 줍니다.\n",
    "    if len(word) < longest_word:\n",
    "        word.extend(['-']*(longest_word-len(word)))\n",
    "        words[idx] = word\n",
    "\n",
    "transposed_words = list(zip(*words))  # 세로로 찝으면 전치 효과를 줄 수 있어요\n",
    "\n",
    "answer = ''\n",
    "for vertical_line in transposed_words:  # 각각 하나씩 가로로 뽑아서 볼때 (원리스트 기준으론 세로로 보는것과 같습니다)\n",
    "    for letter in vertical_line:  # 그 문자 자체가\n",
    "        if letter != '-':  # 공간 채우기용으로 넣어뒀던 문자가 아니라면\n",
    "            answer += letter  # 읽어줍니다!\n",
    "                \n",
    "print(answer)"
   ]
  },
  {
   "cell_type": "markdown",
   "metadata": {},
   "source": [
    "프로그래머스 - 문자 숫자열과 영단어"
   ]
  },
  {
   "cell_type": "markdown",
   "metadata": {},
   "source": [
    "문제) 네오와 프로도가 숫자놀이를 하고 있습니다. 네오가 프로도에게 숫자를 건넬 때 일부 자릿수를 영단어로 바꾼 카드를 건네주면 프로도는 원래 숫자를 찾는 게임입니다.<br>\n",
    "\"one4seveneight\"\t1478 <br>\n",
    "\"23four5six7\"\t234567  <br>\n",
    "\"2three45sixseven\"\t234567 <br>\n",
    "\"123\"\t123 <br>"
   ]
  },
  {
   "cell_type": "code",
   "execution_count": 25,
   "metadata": {},
   "outputs": [],
   "source": [
    "def solution(s):\n",
    "    word = s\n",
    "    num = {\n",
    "        'zero':'0',\n",
    "        'one':'1',\n",
    "        'two':'2',\n",
    "        'three':'3',\n",
    "        'four':'4',\n",
    "        'five':'5',\n",
    "        'six':'6',\n",
    "        'seven':'7',\n",
    "        'eight':'8',\n",
    "        'nine':'9'\n",
    "    } #key값에 대응되는 value로 설정\n",
    "    for key,value in num.items():\n",
    "        #.items() 딕셔너리에서 대응되는 (key,value) 쌍을 튜플로 묶은 값을 돌려준다\n",
    "        word = word.replace(key, value)\n",
    "    \n",
    "    return int(word)"
   ]
  },
  {
   "cell_type": "code",
   "execution_count": null,
   "metadata": {},
   "outputs": [],
   "source": [
    "#친구 코드\n",
    "def solution(s):\n",
    "    word = s\n",
    "    answer = 0\n",
    "    dict = {0:'zero', 1:'one', 2:'two', 3:'three', 4:'four', 5:'five', 6:'six', 7:'seven', 8:'eight', 9:'nine'}\n",
    "        \n",
    "    for i in range(10):\n",
    "        if dict[i] in word:\n",
    "            word = word.replace(dict[i], str(i))\n",
    "    \n",
    "    answer = int(word)\n",
    "    return answer\n"
   ]
  },
  {
   "cell_type": "markdown",
   "metadata": {},
   "source": [
    "---\n",
    "# Stack & Queue & Deque"
   ]
  },
  {
   "cell_type": "markdown",
   "metadata": {},
   "source": [
    "#### 스택 (Stack)\n",
    "- `데이터를 한쪽에서만 넣고 빼는 자료구조`\n",
    "- 가장 마지막에 들어온 데이터가 가장 먼저 나가는 `LIFO(Last-in First-out, 후입선출) 방식\n",
    "- ex) 브라우저의 뒤로 가기, 함수의 호출 순서 등\n",
    "- 기본 동작\n",
    "    - `push` : 스택에 새로운 데이터를 삽입하는 행위\n",
    "    - `pop` : 스택의 가장 마지막(최신) 데이터를 가져오는 행위\n",
    "    - 파이썬은 스택을 따로 구현할 필요 없이 리스트(List)를 통해 사용 가능"
   ]
  },
  {
   "cell_type": "markdown",
   "metadata": {},
   "source": [
    "백준 10773번 - 제로\n",
    "- Q) 나코더 기장 재민이는 동아리 회식을 준비하기 위해서 장부를 관리하는 중이다. 재현이는 재민이를 도와서 돈을 관리하는 중인데, 애석하게도 항상 정신없는 재현이는 돈을 실수로 잘못 부르는 사고를 치기 일쑤였다. 재현이는 잘못된 수를 부를 때마다 0을 외쳐서, 가장 최근에 재민이가 쓴 수를 지우게 시킨다. 재민이는 이렇게 모든 수를 받아 적은 후 그 수의 합을 알고 싶어 한다. 재민이를 도와주자!\n",
    "- 입력) 첫 번째 줄에 정수 K가 주어진다. (1 ≤ K ≤ 100,000) 이후 K개의 줄에 정수가 1개씩 주어진다. 정수는 0에서 1,000,000 사이의 값을 가지며, 정수가 \"0\" 일 경우에는 가장 최근에 쓴 수를 지우고, 아닐 경우 해당 수를 쓴다. 정수가 \"0\"일 경우에 지울 수 있는 수가 있음을 보장할 수 있다.\n",
    "- 출력) 재민이가 최종적으로 적어 낸 수의 합을 출력한다. 최종적으로 적어낸 수의 합은 231-1보다 작거나 같은 정수이다.\n",
    "- ex1) 4 / 3 0 4 0 / 0\n",
    "- ex2) 10 / 1 3 5 4 0 0 7 0 0 6 / 7"
   ]
  },
  {
   "cell_type": "code",
   "execution_count": null,
   "metadata": {},
   "outputs": [],
   "source": []
  },
  {
   "cell_type": "code",
   "execution_count": null,
   "metadata": {},
   "outputs": [],
   "source": [
    "stack = []\n",
    "\n",
    "for _ in range(int(input())):\n",
    "    number = int(input())\n",
    "\n",
    "    if number == 0:\n",
    "        stack.pop()\n",
    "    else:\n",
    "        stack.append(number)\n",
    "\n",
    "print(sum(stack)) "
   ]
  },
  {
   "cell_type": "markdown",
   "metadata": {},
   "source": [
    "#### 큐(Queue)\n",
    "- `한 쪽 끝에서 데이터를 넣고, 다른 한 쪽에서만 데이터를 뺄 수 있는 자료구조`\n",
    "- 가장 먼저 들어온 데이터가 가장 먼저 나가는 `FIFO(First-in First-out, 선입선출)` 방식\n",
    "- ex) 음식점의 대기 줄, 한 차선의 자동차들 등\n",
    "- 기본 동작\n",
    "    - `enqueue` : 큐의 맨 뒤에 데이터를 삽입하는 행위\n",
    "    - `dequeue` : 큐의 맨 앞 데이터를 가져오는 행위\n",
    "    - 큐 자료구조도 역시나 파이썬의 리스트(List)를 이용해 쉽게 사용할 수 있다."
   ]
  },
  {
   "cell_type": "markdown",
   "metadata": {},
   "source": [
    "백준 2161번 - 카드1\n",
    "- 문제) N장의 카드가 있다. 각각의 카드는 차례로 1부터 N까지의 번호가 붙어 있으며, 1번 카드가 제일 위에, N번 카드가 제일 아래인 상태로 순서대로 카드가 놓여 있다. 이제 다음과 같은 동작을 카드가 한 장 남을 때까지 반복하게 된다. 우선, 제일 위에 있는 카드를 바닥에 버린다. 그 다음, 제일 위에 있는 카드를 제일 아래에 있는 카드 밑으로 옮긴다. 예를 들어 N=4인 경우를 생각해 보자. 카드는 제일 위에서부터 1234 의 순서로 놓여있다. 1을 버리면 234가 남는다. 여기서 2를 제일 아래로 옮기면 342가 된다. 3을 버리면 42가 되고, 4를 밑으로 옮기면 24가 된다. 마지막으로 2를 버리고 나면, 버린 카드들은 순서대로 1 3 2가 되고, 남는 카드는 4가 된다. N이 주어졌을 때, 버린 카드들을 순서대로 출력하고, 마지막에 남게 되는 카드를 출력하는 프로그램을 작성하시오.\n",
    "- 입력) 첫째 줄에 정수 N(1 ≤ N ≤ 1,000)이 주어진다. [7]\n",
    "- 출력) 첫째 줄에 버리는 카드들을 순서대로 출력한다. 제일 마지막에는 남게 되는 카드의 번호를 출력한다. [1 3 5 7 4 2 6]"
   ]
  },
  {
   "cell_type": "code",
   "execution_count": null,
   "metadata": {},
   "outputs": [],
   "source": []
  },
  {
   "cell_type": "code",
   "execution_count": null,
   "metadata": {},
   "outputs": [],
   "source": [
    "n = int(input())\n",
    "queue = list(range(1, n+1))\n",
    "\n",
    "while len(queue) > 1:\n",
    "    print(queue.pop(0), end=\" \")\n",
    "    queue.append(queue.pop(0))\n",
    "\n",
    "print(queue[0]) #1 3 5 7 4 2 6"
   ]
  },
  {
   "cell_type": "markdown",
   "metadata": {},
   "source": [
    "#### 덱 (deque)\n",
    "- Double-Ended Queue의 줄임말\n",
    "- `양 방향으로 삽입과 삭제가 자유로운 큐` 자료구조\n",
    "- 기존에 리스트를 사용해서 구현한 큐는 `pop(0) 동작 시 O(n)의 시간 복잡도`를 가지는 단점 존재\n",
    "    **→ 맨 앞 데이터를 뺄 때마다, 전체 리스트의 데이터가 하나씩 당겨지기 때문 !**\n",
    "- 덱을 사용하면 양 방향 삽입 추출을 빠르게 할 수 있습니다."
   ]
  },
  {
   "cell_type": "markdown",
   "metadata": {},
   "source": [
    "백준 2161번 - 카드1\n",
    "- 큐로 풀었던 문제를 덱으로 풀어보기"
   ]
  },
  {
   "cell_type": "code",
   "execution_count": null,
   "metadata": {},
   "outputs": [],
   "source": []
  },
  {
   "cell_type": "code",
   "execution_count": null,
   "metadata": {},
   "outputs": [],
   "source": [
    "from collections import deque\n",
    "\n",
    "\n",
    "n = int(input())\n",
    "queue = deque(range(1, n + 1))\n",
    "\n",
    "while len(queue) > 1:\n",
    "    print(queue.popleft(), end=\" \")\n",
    "    queue.append(queue.popleft())\n",
    "\n",
    "print(queue[0])"
   ]
  },
  {
   "cell_type": "markdown",
   "metadata": {},
   "source": [
    "---"
   ]
  },
  {
   "cell_type": "code",
   "execution_count": 12,
   "metadata": {},
   "outputs": [
    {
     "data": {
      "text/plain": [
       "[[0, 0, 0], [0, 0, 0], [0, 0, 0]]"
      ]
     },
     "execution_count": 12,
     "metadata": {},
     "output_type": "execute_result"
    }
   ],
   "source": [
    "a=[[0]*3 for _ in range(3)]\n",
    "a"
   ]
  },
  {
   "cell_type": "markdown",
   "metadata": {},
   "source": [
    "7 8 # V = 포도알 개수, E = 선 개수<br> \n",
    "1 2 <br>\n",
    "1 3 <br>\n",
    "2 4 <br>\n",
    "2 5 <br>\n",
    "4 6 <br>\n",
    "5 6 <br>\n",
    "6 7 <br>\n",
    "3 7 <br>\n",
    "\n",
    "무방향그래프 <br>\n",
    "0 [0, 0, 0, 0, 0, 0, 0, 0] <br>\n",
    "1 [0, 0. 1, 1, 0, 0, 0, 0] <br>\n",
    "2 [0, 1, 0, 0, 1, 1, 0, 0] <br>\n",
    "3 [0, 1, 0, 0, 0, 0, 0, 1] <br>\n",
    "4 [0, 0, 1, 0, 0, 0, 1, 0] <br>\n",
    "5 [0, 0, 1, 0, 0, 0, 1, 0] <br>\n",
    "6 [0, 0, 0, 0, 1, 1, 0, 1] <br>\n",
    "7 [0, 0, 0, 1, 0, 0, 1, 0] <br>\n",
    "\n"
   ]
  },
  {
   "cell_type": "markdown",
   "metadata": {},
   "source": [
    "DFS(Stack), BFS(Que) 사용\n",
    "1. DFS"
   ]
  },
  {
   "cell_type": "code",
   "execution_count": 18,
   "metadata": {},
   "outputs": [
    {
     "name": "stdout",
     "output_type": "stream",
     "text": [
      "[0, 0, 0, 0, 0, 0, 0, 0]\n",
      "[0, 0, 1, 1, 0, 0, 0, 0]\n",
      "[0, 1, 0, 0, 1, 1, 0, 0]\n",
      "[0, 1, 0, 0, 0, 0, 0, 1]\n",
      "[0, 0, 1, 0, 0, 0, 1, 0]\n",
      "[0, 0, 1, 0, 0, 0, 1, 0]\n",
      "[0, 0, 0, 0, 1, 1, 0, 1]\n",
      "[0, 0, 0, 1, 0, 0, 1, 0]\n"
     ]
    }
   ],
   "source": [
    "V, E = map(int, input().split()) # V = 포도알 개수, E = 선 개수\n",
    "# 틀 만들기! 0으로 채워진 8 * 8 행렬\n",
    "adj_mat = [[0]*(V+1) for _ in range(V+1)]\n",
    "\n",
    "# 실제로 채워넣는 로직\n",
    "for i in range(E):\n",
    "    start, end = map(int, input().split()) # 만약 1 2 를 input 받았다면\n",
    "    adj_mat[start][end] = 1 # 일단은 adj_mat[1][2] = 1\n",
    "    adj_mat[end][start] = 1 # 무향 그래프이기 때문에 파트너도 넣어줌\n",
    "    \n",
    "for _ in range(V+1):\n",
    "    print(adj_mat[_])"
   ]
  },
  {
   "cell_type": "code",
   "execution_count": 21,
   "metadata": {},
   "outputs": [
    {
     "name": "stdout",
     "output_type": "stream",
     "text": [
      "[1, 3, 7, 6, 5, 2, 4]\n"
     ]
    }
   ],
   "source": [
    "V, E = map(int, input().split()) # V = 포도알 개수, E = 선 개수\n",
    "# 틀 만들기! 0으로 채워진 8 * 8 행렬\n",
    "adj_mat = [[0]*(V+1) for _ in range(V+1)]\n",
    "\n",
    "# 실제로 채워넣는 로직\n",
    "for i in range(E):\n",
    "    start, end = map(int, input().split()) # 만약 1 2 를 input 받았다면\n",
    "    adj_mat[start][end] = 1 # 일단은 adj_mat[1][2] = 1\n",
    "    adj_mat[end][start] = 1 # 무향 그래프이기 때문에 파트너도 넣어줌\n",
    "    \n",
    "visited =[] #방문했던 포도알을 기록해주는 곳\n",
    "stack=[1] #맨 처음에는 1을 가지고 시작합니다.\n",
    "\n",
    "while stack: #스택이 빌 때까지 돌아라!\n",
    "    current=stack.pop() #일단 스택에서 뽑고\n",
    "    if current not in visited: #그 점을 방문하지 않았으면 visited 안에 추가해줘\n",
    "        visited.append(current)\n",
    "\n",
    "    for destination in range(V+1):\n",
    "        if adj_mat[current][destination] == 1 and destination not in visited:\n",
    "            #이어져 있고, 방문하지 않았을 때\n",
    "            stack.append(destination)\n",
    "            #스택에 갈 수 있는 점들을 넣어라\n",
    "    # 1 cycle\n",
    "\n",
    "print(visited)"
   ]
  },
  {
   "cell_type": "markdown",
   "metadata": {},
   "source": [
    "2. BFS"
   ]
  },
  {
   "cell_type": "code",
   "execution_count": 24,
   "metadata": {},
   "outputs": [
    {
     "name": "stdout",
     "output_type": "stream",
     "text": [
      "[1, 2, 3, 4, 5, 7, 6]\n"
     ]
    }
   ],
   "source": [
    "V, E = map(int, input().split()) # V = 포도알 개수, E = 선 개수\n",
    "# 틀 만들기! 0으로 채워진 8 * 8 행렬\n",
    "adj_arr = [[0]*(V+1) for _ in range(V+1)]\n",
    "\n",
    "# 실제로 채워넣는 로직\n",
    "for i in range(E):\n",
    "    start, end = map(int, input().split()) # 만약 1 2 를 input 받았다면\n",
    "    adj_arr[start][end] = 1 # 일단은 adj_mat[1][2] = 1\n",
    "    adj_arr[end][start] = 1 # 무향 그래프이기 때문에 파트너도 넣어줌\n",
    "    \n",
    "visited =[] #방문했던 포도알을 기록해주는 곳\n",
    "Queue=[1] #맨 처음에는 1을 가지고 시작합니다.\n",
    "\n",
    "while Queue: #스택이 빌 때까지 돌아라!\n",
    "    current=Queue.pop(0) #일단 스택에서 뽑고\n",
    "    if current not in visited: #그 점을 방문하지 않았으면 visited 안에 추가해줘\n",
    "        visited.append(current)\n",
    "\n",
    "    for destination in range(V+1):\n",
    "        if adj_arr[current][destination] and destination not in visited:\n",
    "            #이어져 있고, 방문하지 않았을 때\n",
    "            Queue.append(destination)\n",
    "            #스택에 갈 수 있는 점들을 넣어라\n",
    "    # 1 cycle\n",
    "\n",
    "print(visited)"
   ]
  }
 ],
 "metadata": {
  "interpreter": {
   "hash": "30f490ceba7b64f50ece45a52763351a71f118a978650287a9ef4af4d0ebfb90"
  },
  "kernelspec": {
   "display_name": "Python 3.9.7 64-bit (system)",
   "language": "python",
   "name": "python3"
  },
  "language_info": {
   "codemirror_mode": {
    "name": "ipython",
    "version": 3
   },
   "file_extension": ".py",
   "mimetype": "text/x-python",
   "name": "python",
   "nbconvert_exporter": "python",
   "pygments_lexer": "ipython3",
   "version": "3.9.7"
  },
  "orig_nbformat": 4
 },
 "nbformat": 4,
 "nbformat_minor": 2
}
